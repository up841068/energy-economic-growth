{
 "cells": [
  {
   "cell_type": "code",
   "execution_count": 2,
   "id": "cdd95b40-9fc6-43fb-ba68-7ba26d88709b",
   "metadata": {},
   "outputs": [],
   "source": [
    "import requests"
   ]
  },
  {
   "cell_type": "code",
   "execution_count": 6,
   "id": "82867b47-de31-4136-9714-22c4eb9fe04b",
   "metadata": {},
   "outputs": [
    {
     "data": {
      "text/plain": [
       "<Response [200]>"
      ]
     },
     "execution_count": 6,
     "metadata": {},
     "output_type": "execute_result"
    }
   ],
   "source": [
    "url = \"http://localhost:8000/predict\"\n",
    "\n",
    "params = {\"day_of_week\": 5\n",
    "            }\n",
    "\n",
    "response = requests.get(url, params)\n",
    "response"
   ]
  },
  {
   "cell_type": "code",
   "execution_count": 7,
   "id": "ac80a26e-b8ff-42c5-828c-e61f4a3e72ae",
   "metadata": {},
   "outputs": [
    {
     "data": {
      "text/plain": [
       "{'wait': 3.4}"
      ]
     },
     "execution_count": 7,
     "metadata": {},
     "output_type": "execute_result"
    }
   ],
   "source": [
    "response.json()"
   ]
  },
  {
   "cell_type": "markdown",
   "id": "b56e7086-6f70-4cd5-a2f0-505f5a52e4a0",
   "metadata": {},
   "source": [
    "The above means that the api is working!"
   ]
  },
  {
   "cell_type": "code",
   "execution_count": null,
   "id": "457d8a68-0205-49c2-9dcf-4bf2d335e266",
   "metadata": {},
   "outputs": [],
   "source": []
  }
 ],
 "metadata": {
  "kernelspec": {
   "display_name": "Python 3 (ipykernel)",
   "language": "python",
   "name": "python3"
  },
  "language_info": {
   "codemirror_mode": {
    "name": "ipython",
    "version": 3
   },
   "file_extension": ".py",
   "mimetype": "text/x-python",
   "name": "python",
   "nbconvert_exporter": "python",
   "pygments_lexer": "ipython3",
   "version": "3.10.6"
  }
 },
 "nbformat": 4,
 "nbformat_minor": 5
}
