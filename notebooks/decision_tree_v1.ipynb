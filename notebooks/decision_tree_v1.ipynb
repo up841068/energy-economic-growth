{
 "cells": [
  {
   "cell_type": "code",
   "execution_count": 1,
   "id": "25990550",
   "metadata": {},
   "outputs": [],
   "source": [
    "import pandas as pd\n",
    "import numpy as np\n",
    "import matplotlib.pyplot as plt\n",
    "import seaborn as sns\n",
    "\n",
    "from sklearn.preprocessing import RobustScaler, PolynomialFeatures\n",
    "from sklearn.model_selection import cross_validate, cross_val_predict\n",
    "from sklearn.metrics import precision_recall_curve, r2_score, mean_absolute_error, mean_squared_error\n",
    "from sklearn.linear_model import LinearRegression, Ridge\n",
    "from sklearn.model_selection import GridSearchCV\n",
    "import statsmodels.formula.api as smf\n",
    "import statsmodels.api as sm\n",
    "from sklearn.pipeline import make_pipeline\n",
    "from sklearn.ensemble import RandomForestRegressor\n",
    "\n",
    "\n",
    "import time"
   ]
  },
  {
   "cell_type": "markdown",
   "id": "0847db76",
   "metadata": {},
   "source": [
    "## Loading the final preprocessed trained dataset\n"
   ]
  },
  {
   "cell_type": "code",
   "execution_count": 2,
   "id": "1dcde75d-2080-4e5a-a8d1-35f49b03db78",
   "metadata": {},
   "outputs": [
    {
     "data": {
      "text/plain": [
       "(4092, 9)"
      ]
     },
     "execution_count": 2,
     "metadata": {},
     "output_type": "execute_result"
    }
   ],
   "source": [
    "full_cleaned_final= pd.read_csv('full_cleaned_final.csv').drop(columns=['Unnamed: 0'])\n",
    "full_cleaned_final.shape"
   ]
  },
  {
   "cell_type": "code",
   "execution_count": 3,
   "id": "10942f81",
   "metadata": {},
   "outputs": [
    {
     "data": {
      "text/plain": [
       "(2864, 9)"
      ]
     },
     "execution_count": 3,
     "metadata": {},
     "output_type": "execute_result"
    }
   ],
   "source": [
    "#loading the train set\n",
    "\n",
    "full_cleaned_final_train= pd.read_csv('full_cleaned_final_train.csv').drop(columns=['Unnamed: 0'])\n",
    "full_cleaned_final_train.shape"
   ]
  },
  {
   "cell_type": "markdown",
   "id": "36627ce3",
   "metadata": {},
   "source": [
    "## Loading the test set"
   ]
  },
  {
   "cell_type": "code",
   "execution_count": 4,
   "id": "c059dc83",
   "metadata": {},
   "outputs": [
    {
     "data": {
      "text/plain": [
       "(1228, 9)"
      ]
     },
     "execution_count": 4,
     "metadata": {},
     "output_type": "execute_result"
    }
   ],
   "source": [
    "#Loading the test set\n",
    "full_cleaned_final_test = pd.read_csv('full_cleaned_final_test.csv').drop(columns=['Unnamed: 0'])\n",
    "full_cleaned_final_test.shape"
   ]
  },
  {
   "cell_type": "code",
   "execution_count": 5,
   "id": "09c696ba",
   "metadata": {},
   "outputs": [
    {
     "data": {
      "text/plain": [
       "9"
      ]
     },
     "execution_count": 5,
     "metadata": {},
     "output_type": "execute_result"
    }
   ],
   "source": [
    "len(full_cleaned_final_test.columns)"
   ]
  },
  {
   "cell_type": "markdown",
   "id": "ec0f57f7-d986-4fd1-a0e5-6c660846d671",
   "metadata": {},
   "source": [
    "## Feature Engineering"
   ]
  },
  {
   "cell_type": "code",
   "execution_count": 6,
   "id": "7f8b2ad6-d5db-43bd-b15a-47af74dab683",
   "metadata": {},
   "outputs": [
    {
     "data": {
      "text/plain": [
       "Index(['scale__net_elec_imports', 'scale__per_capita_electricity',\n",
       "       'scale__biofuel_elec_per_capita', 'scale__hydro_elec_per_capita',\n",
       "       'scale__solar_elec_per_capita', 'scale__wind_elec_per_capita',\n",
       "       'remainder__country', 'remainder__year', 'remainder__GDP_per_capita'],\n",
       "      dtype='object')"
      ]
     },
     "execution_count": 6,
     "metadata": {},
     "output_type": "execute_result"
    }
   ],
   "source": [
    "full_cleaned_final_train.columns"
   ]
  },
  {
   "cell_type": "code",
   "execution_count": 7,
   "id": "adbf902b-195c-413a-85c4-b6cc0fcb674b",
   "metadata": {},
   "outputs": [],
   "source": [
    "full_cleaned_final_train['new_elec_per_capita'] = full_cleaned_final_train['scale__per_capita_electricity'] - full_cleaned_final_train['scale__hydro_elec_per_capita']\n",
    "full_cleaned_final_test['new_elec_per_capita'] = full_cleaned_final_test['scale__per_capita_electricity'] - full_cleaned_final_test['scale__hydro_elec_per_capita']\n",
    "full_cleaned_final['new_elec_per_capita'] = full_cleaned_final['scale__per_capita_electricity'] - full_cleaned_final['scale__hydro_elec_per_capita']\n"
   ]
  },
  {
   "cell_type": "code",
   "execution_count": 8,
   "id": "b9d24fe4-b421-46e7-adb7-23f9810b1fdf",
   "metadata": {},
   "outputs": [
    {
     "data": {
      "text/html": [
       "<div>\n",
       "<style scoped>\n",
       "    .dataframe tbody tr th:only-of-type {\n",
       "        vertical-align: middle;\n",
       "    }\n",
       "\n",
       "    .dataframe tbody tr th {\n",
       "        vertical-align: top;\n",
       "    }\n",
       "\n",
       "    .dataframe thead th {\n",
       "        text-align: right;\n",
       "    }\n",
       "</style>\n",
       "<table border=\"1\" class=\"dataframe\">\n",
       "  <thead>\n",
       "    <tr style=\"text-align: right;\">\n",
       "      <th></th>\n",
       "      <th>scale__net_elec_imports</th>\n",
       "      <th>scale__per_capita_electricity</th>\n",
       "      <th>scale__biofuel_elec_per_capita</th>\n",
       "      <th>scale__hydro_elec_per_capita</th>\n",
       "      <th>scale__solar_elec_per_capita</th>\n",
       "      <th>scale__wind_elec_per_capita</th>\n",
       "      <th>remainder__country</th>\n",
       "      <th>remainder__year</th>\n",
       "      <th>remainder__GDP_per_capita</th>\n",
       "      <th>new_elec_per_capita</th>\n",
       "    </tr>\n",
       "  </thead>\n",
       "  <tbody>\n",
       "    <tr>\n",
       "      <th>0</th>\n",
       "      <td>0.536682</td>\n",
       "      <td>0.001896</td>\n",
       "      <td>0.000000</td>\n",
       "      <td>0.000000</td>\n",
       "      <td>0.000000</td>\n",
       "      <td>0.000000</td>\n",
       "      <td>Comoros</td>\n",
       "      <td>2018</td>\n",
       "      <td>1383.377789</td>\n",
       "      <td>0.001896</td>\n",
       "    </tr>\n",
       "    <tr>\n",
       "      <th>1</th>\n",
       "      <td>0.536682</td>\n",
       "      <td>0.011690</td>\n",
       "      <td>0.004495</td>\n",
       "      <td>0.003792</td>\n",
       "      <td>0.000000</td>\n",
       "      <td>0.000000</td>\n",
       "      <td>Congo</td>\n",
       "      <td>2020</td>\n",
       "      <td>1586.318297</td>\n",
       "      <td>0.007898</td>\n",
       "    </tr>\n",
       "    <tr>\n",
       "      <th>2</th>\n",
       "      <td>0.536682</td>\n",
       "      <td>0.147047</td>\n",
       "      <td>0.003190</td>\n",
       "      <td>0.001794</td>\n",
       "      <td>0.001342</td>\n",
       "      <td>0.002828</td>\n",
       "      <td>South Korea</td>\n",
       "      <td>2007</td>\n",
       "      <td>23360.905735</td>\n",
       "      <td>0.145253</td>\n",
       "    </tr>\n",
       "    <tr>\n",
       "      <th>3</th>\n",
       "      <td>0.537588</td>\n",
       "      <td>0.002427</td>\n",
       "      <td>0.000000</td>\n",
       "      <td>0.000390</td>\n",
       "      <td>0.000000</td>\n",
       "      <td>0.000000</td>\n",
       "      <td>Mauritania</td>\n",
       "      <td>2006</td>\n",
       "      <td>1601.141206</td>\n",
       "      <td>0.002037</td>\n",
       "    </tr>\n",
       "    <tr>\n",
       "      <th>4</th>\n",
       "      <td>0.538703</td>\n",
       "      <td>0.004056</td>\n",
       "      <td>0.000000</td>\n",
       "      <td>0.005729</td>\n",
       "      <td>0.000000</td>\n",
       "      <td>0.000000</td>\n",
       "      <td>Lesotho</td>\n",
       "      <td>2012</td>\n",
       "      <td>1075.620196</td>\n",
       "      <td>-0.001674</td>\n",
       "    </tr>\n",
       "    <tr>\n",
       "      <th>...</th>\n",
       "      <td>...</td>\n",
       "      <td>...</td>\n",
       "      <td>...</td>\n",
       "      <td>...</td>\n",
       "      <td>...</td>\n",
       "      <td>...</td>\n",
       "      <td>...</td>\n",
       "      <td>...</td>\n",
       "      <td>...</td>\n",
       "      <td>...</td>\n",
       "    </tr>\n",
       "    <tr>\n",
       "      <th>2859</th>\n",
       "      <td>0.536682</td>\n",
       "      <td>0.002856</td>\n",
       "      <td>0.000000</td>\n",
       "      <td>0.000000</td>\n",
       "      <td>0.000000</td>\n",
       "      <td>0.000000</td>\n",
       "      <td>Comoros</td>\n",
       "      <td>2021</td>\n",
       "      <td>1355.538730</td>\n",
       "      <td>0.002856</td>\n",
       "    </tr>\n",
       "    <tr>\n",
       "      <th>2860</th>\n",
       "      <td>0.537170</td>\n",
       "      <td>0.083870</td>\n",
       "      <td>0.000000</td>\n",
       "      <td>0.029741</td>\n",
       "      <td>0.000000</td>\n",
       "      <td>0.000000</td>\n",
       "      <td>Serbia</td>\n",
       "      <td>2008</td>\n",
       "      <td>5270.959534</td>\n",
       "      <td>0.054129</td>\n",
       "    </tr>\n",
       "    <tr>\n",
       "      <th>2861</th>\n",
       "      <td>0.588170</td>\n",
       "      <td>0.085270</td>\n",
       "      <td>0.000000</td>\n",
       "      <td>0.000000</td>\n",
       "      <td>0.000000</td>\n",
       "      <td>0.000000</td>\n",
       "      <td>Hong Kong</td>\n",
       "      <td>2003</td>\n",
       "      <td>28096.898252</td>\n",
       "      <td>0.085270</td>\n",
       "    </tr>\n",
       "    <tr>\n",
       "      <th>2862</th>\n",
       "      <td>0.541838</td>\n",
       "      <td>0.002090</td>\n",
       "      <td>0.000000</td>\n",
       "      <td>0.003040</td>\n",
       "      <td>0.000339</td>\n",
       "      <td>0.000000</td>\n",
       "      <td>Nepal</td>\n",
       "      <td>2011</td>\n",
       "      <td>748.012453</td>\n",
       "      <td>-0.000950</td>\n",
       "    </tr>\n",
       "    <tr>\n",
       "      <th>2863</th>\n",
       "      <td>0.544904</td>\n",
       "      <td>0.056390</td>\n",
       "      <td>0.000000</td>\n",
       "      <td>0.017129</td>\n",
       "      <td>0.000000</td>\n",
       "      <td>0.000000</td>\n",
       "      <td>North Macedonia</td>\n",
       "      <td>2004</td>\n",
       "      <td>3445.806886</td>\n",
       "      <td>0.039261</td>\n",
       "    </tr>\n",
       "  </tbody>\n",
       "</table>\n",
       "<p>2864 rows × 10 columns</p>\n",
       "</div>"
      ],
      "text/plain": [
       "      scale__net_elec_imports  scale__per_capita_electricity  \\\n",
       "0                    0.536682                       0.001896   \n",
       "1                    0.536682                       0.011690   \n",
       "2                    0.536682                       0.147047   \n",
       "3                    0.537588                       0.002427   \n",
       "4                    0.538703                       0.004056   \n",
       "...                       ...                            ...   \n",
       "2859                 0.536682                       0.002856   \n",
       "2860                 0.537170                       0.083870   \n",
       "2861                 0.588170                       0.085270   \n",
       "2862                 0.541838                       0.002090   \n",
       "2863                 0.544904                       0.056390   \n",
       "\n",
       "      scale__biofuel_elec_per_capita  scale__hydro_elec_per_capita  \\\n",
       "0                           0.000000                      0.000000   \n",
       "1                           0.004495                      0.003792   \n",
       "2                           0.003190                      0.001794   \n",
       "3                           0.000000                      0.000390   \n",
       "4                           0.000000                      0.005729   \n",
       "...                              ...                           ...   \n",
       "2859                        0.000000                      0.000000   \n",
       "2860                        0.000000                      0.029741   \n",
       "2861                        0.000000                      0.000000   \n",
       "2862                        0.000000                      0.003040   \n",
       "2863                        0.000000                      0.017129   \n",
       "\n",
       "      scale__solar_elec_per_capita  scale__wind_elec_per_capita  \\\n",
       "0                         0.000000                     0.000000   \n",
       "1                         0.000000                     0.000000   \n",
       "2                         0.001342                     0.002828   \n",
       "3                         0.000000                     0.000000   \n",
       "4                         0.000000                     0.000000   \n",
       "...                            ...                          ...   \n",
       "2859                      0.000000                     0.000000   \n",
       "2860                      0.000000                     0.000000   \n",
       "2861                      0.000000                     0.000000   \n",
       "2862                      0.000339                     0.000000   \n",
       "2863                      0.000000                     0.000000   \n",
       "\n",
       "     remainder__country  remainder__year  remainder__GDP_per_capita  \\\n",
       "0               Comoros             2018                1383.377789   \n",
       "1                 Congo             2020                1586.318297   \n",
       "2           South Korea             2007               23360.905735   \n",
       "3            Mauritania             2006                1601.141206   \n",
       "4               Lesotho             2012                1075.620196   \n",
       "...                 ...              ...                        ...   \n",
       "2859            Comoros             2021                1355.538730   \n",
       "2860             Serbia             2008                5270.959534   \n",
       "2861          Hong Kong             2003               28096.898252   \n",
       "2862              Nepal             2011                 748.012453   \n",
       "2863    North Macedonia             2004                3445.806886   \n",
       "\n",
       "      new_elec_per_capita  \n",
       "0                0.001896  \n",
       "1                0.007898  \n",
       "2                0.145253  \n",
       "3                0.002037  \n",
       "4               -0.001674  \n",
       "...                   ...  \n",
       "2859             0.002856  \n",
       "2860             0.054129  \n",
       "2861             0.085270  \n",
       "2862            -0.000950  \n",
       "2863             0.039261  \n",
       "\n",
       "[2864 rows x 10 columns]"
      ]
     },
     "execution_count": 8,
     "metadata": {},
     "output_type": "execute_result"
    }
   ],
   "source": [
    "full_cleaned_final_train"
   ]
  },
  {
   "cell_type": "code",
   "execution_count": null,
   "id": "1934bcea-d847-4409-82db-47c042542eb9",
   "metadata": {},
   "outputs": [],
   "source": []
  },
  {
   "cell_type": "code",
   "execution_count": null,
   "id": "d7501fde-ebf5-4a6d-8f1a-c14084fa23f8",
   "metadata": {},
   "outputs": [],
   "source": []
  },
  {
   "cell_type": "markdown",
   "id": "199ac47d",
   "metadata": {},
   "source": [
    "## Best features\n"
   ]
  },
  {
   "cell_type": "code",
   "execution_count": 9,
   "id": "6a18d6b2",
   "metadata": {},
   "outputs": [],
   "source": [
    "from sklearn.feature_selection import SelectKBest\n",
    "from sklearn.feature_selection import chi2\n",
    "from sklearn.ensemble import ExtraTreesClassifier"
   ]
  },
  {
   "cell_type": "code",
   "execution_count": 10,
   "id": "d0f114f4",
   "metadata": {},
   "outputs": [],
   "source": [
    "X = full_cleaned_final[['scale__net_elec_imports',\n",
    "                        'new_elec_per_capita',\n",
    "                        'scale__per_capita_electricity', \n",
    "                        'scale__biofuel_elec_per_capita',\n",
    "                        'scale__hydro_elec_per_capita', \n",
    "                        'scale__solar_elec_per_capita',\n",
    "                        'scale__wind_elec_per_capita'\n",
    "                       ]]\n",
    "\n",
    "\n",
    "y = full_cleaned_final.iloc[:,-1]\n"
   ]
  },
  {
   "cell_type": "code",
   "execution_count": 11,
   "id": "c209a7ac",
   "metadata": {},
   "outputs": [
    {
     "data": {
      "image/png": "[encoded data removed]",
      "text/plain": [
       "<Figure size 2000x2000 with 2 Axes>"
      ]
     },
     "metadata": {},
     "output_type": "display_data"
    }
   ],
   "source": [
    "corrmat = full_cleaned_final[[  'scale__net_elec_imports',\n",
    "                                'new_elec_per_capita',\n",
    "                                'scale__per_capita_electricity', \n",
    "                                'scale__biofuel_elec_per_capita',\n",
    "                                'scale__hydro_elec_per_capita', \n",
    "                                'scale__solar_elec_per_capita',\n",
    "                                'scale__wind_elec_per_capita', \n",
    "                                'remainder__GDP_per_capita'\n",
    "                       ]].corr()\n",
    "top_corr_features = corrmat.index\n",
    "plt.figure(figsize=(20,20))\n",
    "#plot heat map\n",
    "g=sns.heatmap(full_cleaned_final[top_corr_features].corr(),annot=True,cmap=\"RdYlGn\")"
   ]
  },
  {
   "cell_type": "code",
   "execution_count": 12,
   "id": "7f2f070c",
   "metadata": {},
   "outputs": [],
   "source": [
    "#full_cleaned_final['scale__all_renewable'] = np.array(full_cleaned_final['scale__biofuel_electricity'])-np.array(full_cleaned_final['scale__wind_electricity'])+2*np.array(full_cleaned_final['scale__gas_production'])\n",
    "\n",
    "#full_cleaned_final_test['scale__all_renewable'] = np.array(full_cleaned_final_test['scale__biofuel_electricity'])-np.array(full_cleaned_final_test['scale__wind_electricity'])+2*np.array(full_cleaned_final_test['scale__gas_production'])"
   ]
  },
  {
   "cell_type": "code",
   "execution_count": 13,
   "id": "0c9b6fbc",
   "metadata": {},
   "outputs": [
    {
     "data": {
      "text/plain": [
       "Index(['scale__net_elec_imports', 'scale__per_capita_electricity',\n",
       "       'scale__biofuel_elec_per_capita', 'scale__hydro_elec_per_capita',\n",
       "       'scale__solar_elec_per_capita', 'scale__wind_elec_per_capita',\n",
       "       'remainder__country', 'remainder__year', 'remainder__GDP_per_capita',\n",
       "       'new_elec_per_capita'],\n",
       "      dtype='object')"
      ]
     },
     "execution_count": 13,
     "metadata": {},
     "output_type": "execute_result"
    }
   ],
   "source": [
    "full_cleaned_final.columns"
   ]
  },
  {
   "cell_type": "code",
   "execution_count": 14,
   "id": "c030d7c7",
   "metadata": {},
   "outputs": [],
   "source": [
    "full_cleaned_final1 = full_cleaned_final.drop(columns=['remainder__year','remainder__country'])"
   ]
  },
  {
   "cell_type": "code",
   "execution_count": 15,
   "id": "2e5be243",
   "metadata": {},
   "outputs": [
    {
     "name": "stdout",
     "output_type": "stream",
     "text": [
      "<class 'pandas.core.frame.DataFrame'>\n",
      "RangeIndex: 4092 entries, 0 to 4091\n",
      "Data columns (total 8 columns):\n",
      " #   Column                          Non-Null Count  Dtype  \n",
      "---  ------                          --------------  -----  \n",
      " 0   scale__net_elec_imports         4092 non-null   float64\n",
      " 1   scale__per_capita_electricity   4092 non-null   float64\n",
      " 2   scale__biofuel_elec_per_capita  4092 non-null   float64\n",
      " 3   scale__hydro_elec_per_capita    4092 non-null   float64\n",
      " 4   scale__solar_elec_per_capita    4092 non-null   float64\n",
      " 5   scale__wind_elec_per_capita     4092 non-null   float64\n",
      " 6   remainder__GDP_per_capita       4092 non-null   float64\n",
      " 7   new_elec_per_capita             4092 non-null   float64\n",
      "dtypes: float64(8)\n",
      "memory usage: 255.9 KB\n"
     ]
    }
   ],
   "source": [
    "full_cleaned_final1.info()"
   ]
  },
  {
   "cell_type": "code",
   "execution_count": 16,
   "id": "51572153",
   "metadata": {},
   "outputs": [
    {
     "data": {
      "text/plain": [
       "0    368.187174\n",
       "1    378.391401\n",
       "2    359.766343\n",
       "Name: remainder__GDP_per_capita, dtype: float64"
      ]
     },
     "execution_count": 16,
     "metadata": {},
     "output_type": "execute_result"
    }
   ],
   "source": [
    "full_cleaned_final1['remainder__GDP_per_capita'].head(3)"
   ]
  },
  {
   "cell_type": "markdown",
   "id": "784c2f17",
   "metadata": {},
   "source": [
    "## Statistical inference"
   ]
  },
  {
   "cell_type": "markdown",
   "id": "75e0f51b",
   "metadata": {},
   "source": [
    "### Impact of Biofuel in GDP_Per_capita"
   ]
  },
  {
   "cell_type": "code",
   "execution_count": 17,
   "id": "93b8529d",
   "metadata": {},
   "outputs": [],
   "source": [
    "# Checking the R-sqaured\n",
    "#model1.rsquared"
   ]
  },
  {
   "cell_type": "code",
   "execution_count": 18,
   "id": "f4d7fb32",
   "metadata": {},
   "outputs": [],
   "source": [
    "#model1.summary()"
   ]
  },
  {
   "cell_type": "markdown",
   "id": "55344575",
   "metadata": {},
   "source": [
    "### Impact of biofuel_elec_per_capita on GDP"
   ]
  },
  {
   "cell_type": "code",
   "execution_count": 19,
   "id": "0d199407",
   "metadata": {},
   "outputs": [
    {
     "name": "stdout",
     "output_type": "stream",
     "text": [
      "Intercept                         11762.474761\n",
      "scale__biofuel_elec_per_capita    70669.534988\n",
      "dtype: float64\n"
     ]
    },
    {
     "data": {
      "text/plain": [
       "0.10481605916571501"
      ]
     },
     "execution_count": 19,
     "metadata": {},
     "output_type": "execute_result"
    }
   ],
   "source": [
    "model_bio = smf.ols(formula = 'remainder__GDP_per_capita ~ scale__biofuel_elec_per_capita', data=full_cleaned_final1).fit()\n",
    "\n",
    "print(model_bio.params)\n",
    "model_bio.rsquared"
   ]
  },
  {
   "cell_type": "markdown",
   "id": "0595472e",
   "metadata": {},
   "source": []
  },
  {
   "cell_type": "markdown",
   "id": "4c330c3a",
   "metadata": {},
   "source": [
    "### Impact of Oil_production in GDP_Per_capita"
   ]
  },
  {
   "cell_type": "markdown",
   "id": "03cdd20a",
   "metadata": {},
   "source": [
    "###  Net imports"
   ]
  },
  {
   "cell_type": "code",
   "execution_count": 20,
   "id": "0e51dda7",
   "metadata": {},
   "outputs": [
    {
     "name": "stdout",
     "output_type": "stream",
     "text": [
      "Intercept                   8048.242502\n",
      "scale__net_elec_imports    10529.477702\n",
      "dtype: float64\n"
     ]
    },
    {
     "data": {
      "text/plain": [
       "0.0012672993574179836"
      ]
     },
     "execution_count": 20,
     "metadata": {},
     "output_type": "execute_result"
    }
   ],
   "source": [
    "model_elec_imports = smf.ols(formula = 'remainder__GDP_per_capita ~ scale__net_elec_imports', data=full_cleaned_final1).fit()\n",
    "\n",
    "print(model_elec_imports.params)\n",
    "model_elec_imports.rsquared\n"
   ]
  },
  {
   "cell_type": "markdown",
   "id": "a5855cc2",
   "metadata": {},
   "source": [
    "### Fossil"
   ]
  },
  {
   "cell_type": "markdown",
   "id": "4c3a3feb",
   "metadata": {},
   "source": [
    "### Gas production"
   ]
  },
  {
   "cell_type": "markdown",
   "id": "904ae149",
   "metadata": {},
   "source": [
    "### Impact of hydro_electricity on GDP"
   ]
  },
  {
   "cell_type": "markdown",
   "id": "b3366540",
   "metadata": {},
   "source": [
    "### Impact of hydro_elec_per_capita on GDP"
   ]
  },
  {
   "cell_type": "code",
   "execution_count": 21,
   "id": "7329fbd9",
   "metadata": {},
   "outputs": [
    {
     "name": "stdout",
     "output_type": "stream",
     "text": [
      "Intercept                       12116.529944\n",
      "scale__hydro_elec_per_capita    71494.513490\n",
      "dtype: float64\n"
     ]
    },
    {
     "data": {
      "text/plain": [
       "0.10104620533490061"
      ]
     },
     "execution_count": 21,
     "metadata": {},
     "output_type": "execute_result"
    }
   ],
   "source": [
    "model__hydro_elec_per_capita = smf.ols(formula = 'remainder__GDP_per_capita ~ scale__hydro_elec_per_capita', data=full_cleaned_final1).fit()\n",
    "\n",
    "print(model__hydro_elec_per_capita.params)\n",
    "model__hydro_elec_per_capita.rsquared"
   ]
  },
  {
   "cell_type": "markdown",
   "id": "46c45ca0",
   "metadata": {},
   "source": [
    "### Impact of Solar_electricity on GDP"
   ]
  },
  {
   "cell_type": "markdown",
   "id": "4441bec9",
   "metadata": {},
   "source": [
    "### Impact of solar_elec_per_capita on GDP"
   ]
  },
  {
   "cell_type": "code",
   "execution_count": 22,
   "id": "4140b7a5",
   "metadata": {},
   "outputs": [
    {
     "name": "stdout",
     "output_type": "stream",
     "text": [
      "Intercept                       12061.722287\n",
      "scale__solar_elec_per_capita    79681.499636\n",
      "dtype: float64\n"
     ]
    },
    {
     "data": {
      "text/html": [
       "<table class=\"simpletable\">\n",
       "<caption>OLS Regression Results</caption>\n",
       "<tr>\n",
       "  <th>Dep. Variable:</th>    <td>remainder__GDP_per_capita</td> <th>  R-squared:         </th> <td>   0.088</td> \n",
       "</tr>\n",
       "<tr>\n",
       "  <th>Model:</th>                       <td>OLS</td>            <th>  Adj. R-squared:    </th> <td>   0.088</td> \n",
       "</tr>\n",
       "<tr>\n",
       "  <th>Method:</th>                 <td>Least Squares</td>       <th>  F-statistic:       </th> <td>   396.3</td> \n",
       "</tr>\n",
       "<tr>\n",
       "  <th>Date:</th>                 <td>Mon, 12 Jun 2023</td>      <th>  Prob (F-statistic):</th> <td>3.05e-84</td> \n",
       "</tr>\n",
       "<tr>\n",
       "  <th>Time:</th>                     <td>12:44:26</td>          <th>  Log-Likelihood:    </th> <td> -45868.</td> \n",
       "</tr>\n",
       "<tr>\n",
       "  <th>No. Observations:</th>          <td>  4092</td>           <th>  AIC:               </th> <td>9.174e+04</td>\n",
       "</tr>\n",
       "<tr>\n",
       "  <th>Df Residuals:</th>              <td>  4090</td>           <th>  BIC:               </th> <td>9.175e+04</td>\n",
       "</tr>\n",
       "<tr>\n",
       "  <th>Df Model:</th>                  <td>     1</td>           <th>                     </th>     <td> </td>    \n",
       "</tr>\n",
       "<tr>\n",
       "  <th>Covariance Type:</th>          <td>nonrobust</td>         <th>                     </th>     <td> </td>    \n",
       "</tr>\n",
       "</table>\n",
       "<table class=\"simpletable\">\n",
       "<tr>\n",
       "                <td></td>                  <th>coef</th>     <th>std err</th>      <th>t</th>      <th>P>|t|</th>  <th>[0.025</th>    <th>0.975]</th>  \n",
       "</tr>\n",
       "<tr>\n",
       "  <th>Intercept</th>                    <td> 1.206e+04</td> <td>  291.140</td> <td>   41.429</td> <td> 0.000</td> <td> 1.15e+04</td> <td> 1.26e+04</td>\n",
       "</tr>\n",
       "<tr>\n",
       "  <th>scale__solar_elec_per_capita</th> <td> 7.968e+04</td> <td> 4002.619</td> <td>   19.907</td> <td> 0.000</td> <td> 7.18e+04</td> <td> 8.75e+04</td>\n",
       "</tr>\n",
       "</table>\n",
       "<table class=\"simpletable\">\n",
       "<tr>\n",
       "  <th>Omnibus:</th>       <td>1833.714</td> <th>  Durbin-Watson:     </th> <td>   0.090</td>\n",
       "</tr>\n",
       "<tr>\n",
       "  <th>Prob(Omnibus):</th>  <td> 0.000</td>  <th>  Jarque-Bera (JB):  </th> <td>8172.274</td>\n",
       "</tr>\n",
       "<tr>\n",
       "  <th>Skew:</th>           <td> 2.210</td>  <th>  Prob(JB):          </th> <td>    0.00</td>\n",
       "</tr>\n",
       "<tr>\n",
       "  <th>Kurtosis:</th>       <td> 8.329</td>  <th>  Cond. No.          </th> <td>    14.3</td>\n",
       "</tr>\n",
       "</table><br/><br/>Notes:<br/>[1] Standard Errors assume that the covariance matrix of the errors is correctly specified."
      ],
      "text/latex": [
       "\\begin{center}\n",
       "\\begin{tabular}{lclc}\n",
       "\\toprule\n",
       "\\textbf{Dep. Variable:}                    & remainder\\_\\_GDP\\_per\\_capita & \\textbf{  R-squared:         } &     0.088   \\\\\n",
       "\\textbf{Model:}                            &              OLS              & \\textbf{  Adj. R-squared:    } &     0.088   \\\\\n",
       "\\textbf{Method:}                           &         Least Squares         & \\textbf{  F-statistic:       } &     396.3   \\\\\n",
       "\\textbf{Date:}                             &        Mon, 12 Jun 2023       & \\textbf{  Prob (F-statistic):} &  3.05e-84   \\\\\n",
       "\\textbf{Time:}                             &            12:44:26           & \\textbf{  Log-Likelihood:    } &   -45868.   \\\\\n",
       "\\textbf{No. Observations:}                 &               4092            & \\textbf{  AIC:               } & 9.174e+04   \\\\\n",
       "\\textbf{Df Residuals:}                     &               4090            & \\textbf{  BIC:               } & 9.175e+04   \\\\\n",
       "\\textbf{Df Model:}                         &                  1            & \\textbf{                     } &             \\\\\n",
       "\\textbf{Covariance Type:}                  &           nonrobust           & \\textbf{                     } &             \\\\\n",
       "\\bottomrule\n",
       "\\end{tabular}\n",
       "\\begin{tabular}{lcccccc}\n",
       "                                           & \\textbf{coef} & \\textbf{std err} & \\textbf{t} & \\textbf{P$> |$t$|$} & \\textbf{[0.025} & \\textbf{0.975]}  \\\\\n",
       "\\midrule\n",
       "\\textbf{Intercept}                         &    1.206e+04  &      291.140     &    41.429  &         0.000        &     1.15e+04    &     1.26e+04     \\\\\n",
       "\\textbf{scale\\_\\_solar\\_elec\\_per\\_capita} &    7.968e+04  &     4002.619     &    19.907  &         0.000        &     7.18e+04    &     8.75e+04     \\\\\n",
       "\\bottomrule\n",
       "\\end{tabular}\n",
       "\\begin{tabular}{lclc}\n",
       "\\textbf{Omnibus:}       & 1833.714 & \\textbf{  Durbin-Watson:     } &    0.090  \\\\\n",
       "\\textbf{Prob(Omnibus):} &   0.000  & \\textbf{  Jarque-Bera (JB):  } & 8172.274  \\\\\n",
       "\\textbf{Skew:}          &   2.210  & \\textbf{  Prob(JB):          } &     0.00  \\\\\n",
       "\\textbf{Kurtosis:}      &   8.329  & \\textbf{  Cond. No.          } &     14.3  \\\\\n",
       "\\bottomrule\n",
       "\\end{tabular}\n",
       "%\\caption{OLS Regression Results}\n",
       "\\end{center}\n",
       "\n",
       "Notes: \\newline\n",
       " [1] Standard Errors assume that the covariance matrix of the errors is correctly specified."
      ],
      "text/plain": [
       "<class 'statsmodels.iolib.summary.Summary'>\n",
       "\"\"\"\n",
       "                                OLS Regression Results                               \n",
       "=====================================================================================\n",
       "Dep. Variable:     remainder__GDP_per_capita   R-squared:                       0.088\n",
       "Model:                                   OLS   Adj. R-squared:                  0.088\n",
       "Method:                        Least Squares   F-statistic:                     396.3\n",
       "Date:                       Mon, 12 Jun 2023   Prob (F-statistic):           3.05e-84\n",
       "Time:                               12:44:26   Log-Likelihood:                -45868.\n",
       "No. Observations:                       4092   AIC:                         9.174e+04\n",
       "Df Residuals:                           4090   BIC:                         9.175e+04\n",
       "Df Model:                                  1                                         \n",
       "Covariance Type:                   nonrobust                                         \n",
       "================================================================================================\n",
       "                                   coef    std err          t      P>|t|      [0.025      0.975]\n",
       "------------------------------------------------------------------------------------------------\n",
       "Intercept                     1.206e+04    291.140     41.429      0.000    1.15e+04    1.26e+04\n",
       "scale__solar_elec_per_capita  7.968e+04   4002.619     19.907      0.000    7.18e+04    8.75e+04\n",
       "==============================================================================\n",
       "Omnibus:                     1833.714   Durbin-Watson:                   0.090\n",
       "Prob(Omnibus):                  0.000   Jarque-Bera (JB):             8172.274\n",
       "Skew:                           2.210   Prob(JB):                         0.00\n",
       "Kurtosis:                       8.329   Cond. No.                         14.3\n",
       "==============================================================================\n",
       "\n",
       "Notes:\n",
       "[1] Standard Errors assume that the covariance matrix of the errors is correctly specified.\n",
       "\"\"\""
      ]
     },
     "execution_count": 22,
     "metadata": {},
     "output_type": "execute_result"
    }
   ],
   "source": [
    "model_solar_per_capita = smf.ols(formula = 'remainder__GDP_per_capita ~ scale__solar_elec_per_capita', data=full_cleaned_final).fit()\n",
    "\n",
    "print(model_solar_per_capita.params)\n",
    "model_solar_per_capita.rsquared\n",
    "model_solar_per_capita.summary()"
   ]
  },
  {
   "cell_type": "markdown",
   "id": "4eb9a844",
   "metadata": {},
   "source": [
    "### Impact of Wind_electricity on GDP"
   ]
  },
  {
   "cell_type": "markdown",
   "id": "24bbc708",
   "metadata": {},
   "source": [
    "### Impact of wind_elec_per_capita on GDP"
   ]
  },
  {
   "cell_type": "code",
   "execution_count": 23,
   "id": "e9896320",
   "metadata": {},
   "outputs": [
    {
     "name": "stdout",
     "output_type": "stream",
     "text": [
      "Intercept                      11604.917379\n",
      "scale__wind_elec_per_capita    78288.470109\n",
      "dtype: float64\n"
     ]
    },
    {
     "data": {
      "text/plain": [
       "0.15028746760131473"
      ]
     },
     "execution_count": 23,
     "metadata": {},
     "output_type": "execute_result"
    }
   ],
   "source": [
    "model_wind_per_capita = smf.ols(formula = 'remainder__GDP_per_capita ~ scale__wind_elec_per_capita', data=full_cleaned_final).fit()\n",
    "print(model_wind_per_capita.params)\n",
    "model_wind_per_capita.rsquared"
   ]
  },
  {
   "cell_type": "markdown",
   "id": "f0cce9c6",
   "metadata": {},
   "source": [
    "### Impact of biofuel and wind_electricity on GDP"
   ]
  },
  {
   "cell_type": "code",
   "execution_count": 24,
   "id": "d6e4f7bd",
   "metadata": {},
   "outputs": [
    {
     "name": "stdout",
     "output_type": "stream",
     "text": [
      "Intercept                          5315.070544\n",
      "scale__per_capita_electricity    129800.633422\n",
      "dtype: float64\n"
     ]
    },
    {
     "data": {
      "text/plain": [
       "0.424118481364239"
      ]
     },
     "execution_count": 24,
     "metadata": {},
     "output_type": "execute_result"
    }
   ],
   "source": [
    "model_perCapita = smf.ols(formula = 'remainder__GDP_per_capita ~ scale__per_capita_electricity', data=full_cleaned_final).fit()\n",
    "\n",
    "print(model_perCapita.params)\n",
    "model_perCapita.rsquared"
   ]
  },
  {
   "cell_type": "markdown",
   "id": "177360e8",
   "metadata": {},
   "source": [
    "## Training an OLS model"
   ]
  },
  {
   "cell_type": "code",
   "execution_count": null,
   "id": "f41ec678-e16d-4f7d-b95b-51e3ce253ea6",
   "metadata": {},
   "outputs": [],
   "source": []
  },
  {
   "cell_type": "code",
   "execution_count": 25,
   "id": "1f2ce16f",
   "metadata": {},
   "outputs": [],
   "source": [
    "X_train = full_cleaned_final_train[['scale__net_elec_imports',\n",
    "                                    'new_elec_per_capita',\n",
    "                                    'scale__hydro_elec_per_capita',\n",
    "                                    'scale__biofuel_elec_per_capita',\n",
    "                                    'scale__solar_elec_per_capita',\n",
    "                                    'scale__wind_elec_per_capita']]\n",
    "\n",
    "X_test = full_cleaned_final_test[['scale__net_elec_imports',\n",
    "                                  'new_elec_per_capita',                                  \n",
    "                                  'scale__hydro_elec_per_capita',\n",
    "                                  'scale__biofuel_elec_per_capita',\n",
    "                                  'scale__solar_elec_per_capita',\n",
    "                                  'scale__wind_elec_per_capita']]\n",
    "\n",
    "\n",
    "y_train = full_cleaned_final_train[['remainder__GDP_per_capita']]\n",
    "y_test = full_cleaned_final_test[['remainder__GDP_per_capita']]"
   ]
  },
  {
   "cell_type": "code",
   "execution_count": 26,
   "id": "45ea902b",
   "metadata": {},
   "outputs": [
    {
     "name": "stdout",
     "output_type": "stream",
     "text": [
      "(2864, 6)\n"
     ]
    },
    {
     "data": {
      "text/plain": [
       "6"
      ]
     },
     "execution_count": 26,
     "metadata": {},
     "output_type": "execute_result"
    }
   ],
   "source": [
    "print(X_train.shape)\n",
    "np.linalg.matrix_rank(X_train)"
   ]
  },
  {
   "cell_type": "markdown",
   "id": "01ec4050",
   "metadata": {},
   "source": [
    "### Train on OLS model"
   ]
  },
  {
   "cell_type": "code",
   "execution_count": 27,
   "id": "76065a3d-8e78-4625-92b1-3c803a405054",
   "metadata": {},
   "outputs": [],
   "source": [
    "model = sm.OLS(y_train,X_train).fit()\n",
    "\n",
    "# Your predictions\n",
    "y_pred = model.predict(X_test)"
   ]
  },
  {
   "cell_type": "code",
   "execution_count": 28,
   "id": "79b5d8bd-2914-4fd1-84e9-3862c9acf4e1",
   "metadata": {},
   "outputs": [
    {
     "data": {
      "text/plain": [
       "0        5777.889529\n",
       "1       17457.850095\n",
       "2       11438.845240\n",
       "3        4402.071489\n",
       "4        8189.760910\n",
       "            ...     \n",
       "1223    24463.691362\n",
       "1224     4712.594447\n",
       "1225     6647.795524\n",
       "1226     5960.828007\n",
       "1227    20379.470484\n",
       "Length: 1228, dtype: float64"
      ]
     },
     "execution_count": 28,
     "metadata": {},
     "output_type": "execute_result"
    }
   ],
   "source": [
    "y_pred"
   ]
  },
  {
   "cell_type": "code",
   "execution_count": 29,
   "id": "aeae9a6e",
   "metadata": {},
   "outputs": [
    {
     "data": {
      "text/plain": [
       "<matplotlib.legend.Legend at 0x7fd5b8d75d20>"
      ]
     },
     "execution_count": 29,
     "metadata": {},
     "output_type": "execute_result"
    },
    {
     "data": {
      "image/png": "[encoded data removed]",
      "text/plain": [
       "<Figure size 1000x500 with 1 Axes>"
      ]
     },
     "metadata": {},
     "output_type": "display_data"
    }
   ],
   "source": [
    "plt.figure(figsize = (10,5))\n",
    "sns.kdeplot(y_test['remainder__GDP_per_capita'], label = 'true')\n",
    "sns.kdeplot(y_pred, label = 'pred')\n",
    "plt.xlim(xmax=10e4)\n",
    "plt.legend()"
   ]
  },
  {
   "cell_type": "markdown",
   "id": "6410bccc",
   "metadata": {},
   "source": [
    "## Train with a linear regression model"
   ]
  },
  {
   "cell_type": "code",
   "execution_count": 30,
   "id": "055d550a",
   "metadata": {},
   "outputs": [
    {
     "data": {
      "text/html": [
       "<style>#sk-container-id-1 {color: black;background-color: white;}#sk-container-id-1 pre{padding: 0;}#sk-container-id-1 div.sk-toggleable {background-color: white;}#sk-container-id-1 label.sk-toggleable__label {cursor: pointer;display: block;width: 100%;margin-bottom: 0;padding: 0.3em;box-sizing: border-box;text-align: center;}#sk-container-id-1 label.sk-toggleable__label-arrow:before {content: \"▸\";float: left;margin-right: 0.25em;color: #696969;}#sk-container-id-1 label.sk-toggleable__label-arrow:hover:before {color: black;}#sk-container-id-1 div.sk-estimator:hover label.sk-toggleable__label-arrow:before {color: black;}#sk-container-id-1 div.sk-toggleable__content {max-height: 0;max-width: 0;overflow: hidden;text-align: left;background-color: #f0f8ff;}#sk-container-id-1 div.sk-toggleable__content pre {margin: 0.2em;color: black;border-radius: 0.25em;background-color: #f0f8ff;}#sk-container-id-1 input.sk-toggleable__control:checked~div.sk-toggleable__content {max-height: 200px;max-width: 100%;overflow: auto;}#sk-container-id-1 input.sk-toggleable__control:checked~label.sk-toggleable__label-arrow:before {content: \"▾\";}#sk-container-id-1 div.sk-estimator input.sk-toggleable__control:checked~label.sk-toggleable__label {background-color: #d4ebff;}#sk-container-id-1 div.sk-label input.sk-toggleable__control:checked~label.sk-toggleable__label {background-color: #d4ebff;}#sk-container-id-1 input.sk-hidden--visually {border: 0;clip: rect(1px 1px 1px 1px);clip: rect(1px, 1px, 1px, 1px);height: 1px;margin: -1px;overflow: hidden;padding: 0;position: absolute;width: 1px;}#sk-container-id-1 div.sk-estimator {font-family: monospace;background-color: #f0f8ff;border: 1px dotted black;border-radius: 0.25em;box-sizing: border-box;margin-bottom: 0.5em;}#sk-container-id-1 div.sk-estimator:hover {background-color: #d4ebff;}#sk-container-id-1 div.sk-parallel-item::after {content: \"\";width: 100%;border-bottom: 1px solid gray;flex-grow: 1;}#sk-container-id-1 div.sk-label:hover label.sk-toggleable__label {background-color: #d4ebff;}#sk-container-id-1 div.sk-serial::before {content: \"\";position: absolute;border-left: 1px solid gray;box-sizing: border-box;top: 0;bottom: 0;left: 50%;z-index: 0;}#sk-container-id-1 div.sk-serial {display: flex;flex-direction: column;align-items: center;background-color: white;padding-right: 0.2em;padding-left: 0.2em;position: relative;}#sk-container-id-1 div.sk-item {position: relative;z-index: 1;}#sk-container-id-1 div.sk-parallel {display: flex;align-items: stretch;justify-content: center;background-color: white;position: relative;}#sk-container-id-1 div.sk-item::before, #sk-container-id-1 div.sk-parallel-item::before {content: \"\";position: absolute;border-left: 1px solid gray;box-sizing: border-box;top: 0;bottom: 0;left: 50%;z-index: -1;}#sk-container-id-1 div.sk-parallel-item {display: flex;flex-direction: column;z-index: 1;position: relative;background-color: white;}#sk-container-id-1 div.sk-parallel-item:first-child::after {align-self: flex-end;width: 50%;}#sk-container-id-1 div.sk-parallel-item:last-child::after {align-self: flex-start;width: 50%;}#sk-container-id-1 div.sk-parallel-item:only-child::after {width: 0;}#sk-container-id-1 div.sk-dashed-wrapped {border: 1px dashed gray;margin: 0 0.4em 0.5em 0.4em;box-sizing: border-box;padding-bottom: 0.4em;background-color: white;}#sk-container-id-1 div.sk-label label {font-family: monospace;font-weight: bold;display: inline-block;line-height: 1.2em;}#sk-container-id-1 div.sk-label-container {text-align: center;}#sk-container-id-1 div.sk-container {/* jupyter's `normalize.less` sets `[hidden] { display: none; }` but bootstrap.min.css set `[hidden] { display: none !important; }` so we also need the `!important` here to be able to override the default hidden behavior on the sphinx rendered scikit-learn.org. See: https://github.com/scikit-learn/scikit-learn/issues/21755 */display: inline-block !important;position: relative;}#sk-container-id-1 div.sk-text-repr-fallback {display: none;}</style><div id=\"sk-container-id-1\" class=\"sk-top-container\"><div class=\"sk-text-repr-fallback\"><pre>LinearRegression()</pre><b>In a Jupyter environment, please rerun this cell to show the HTML representation or trust the notebook. <br />On GitHub, the HTML representation is unable to render, please try loading this page with nbviewer.org.</b></div><div class=\"sk-container\" hidden><div class=\"sk-item\"><div class=\"sk-estimator sk-toggleable\"><input class=\"sk-toggleable__control sk-hidden--visually\" id=\"sk-estimator-id-1\" type=\"checkbox\" checked><label for=\"sk-estimator-id-1\" class=\"sk-toggleable__label sk-toggleable__label-arrow\">LinearRegression</label><div class=\"sk-toggleable__content\"><pre>LinearRegression()</pre></div></div></div></div></div>"
      ],
      "text/plain": [
       "LinearRegression()"
      ]
     },
     "execution_count": 30,
     "metadata": {},
     "output_type": "execute_result"
    }
   ],
   "source": [
    "model = LinearRegression()\n",
    "\n",
    "# Train the model on the data\n",
    "model.fit(X_train, y_train)"
   ]
  },
  {
   "cell_type": "code",
   "execution_count": 31,
   "id": "5143485f",
   "metadata": {},
   "outputs": [
    {
     "data": {
      "text/plain": [
       "0.5386021744518901"
      ]
     },
     "execution_count": 31,
     "metadata": {},
     "output_type": "execute_result"
    }
   ],
   "source": [
    "model.score(X_test,y_test)"
   ]
  },
  {
   "cell_type": "markdown",
   "id": "cc4392bf-ecca-44d7-9eef-d27bbdca0fab",
   "metadata": {},
   "source": [
    "# Trying Ridge"
   ]
  },
  {
   "cell_type": "code",
   "execution_count": 32,
   "id": "28f839ad-f3a4-4774-a7ed-a26166476970",
   "metadata": {},
   "outputs": [
    {
     "name": "stdout",
     "output_type": "stream",
     "text": [
      "0.5953353390414113 test_score\n",
      "0.6402114363746835 train score\n"
     ]
    }
   ],
   "source": [
    "Poly_model = PolynomialFeatures(degree=3)\n",
    "ridge_model = Ridge(alpha=0.1)  # alpha controls the strength of the regularization\n",
    "\n",
    "# Create a pipeline to combine the polynomial features and the Ridge model\n",
    "pipeline = make_pipeline(Poly_model, ridge_model)\n",
    "\n",
    "# Fit the pipeline to the training data\n",
    "pipeline.fit(X_train, y_train)\n",
    "\n",
    "\n",
    "# Evaluate the pipeline on the test data\n",
    "score = pipeline.score(X_test, y_test)\n",
    "print(score, 'test_score')\n",
    "\n",
    "y_pred = pipeline.predict(X_train)\n",
    "\n",
    "r2_score_train=r2_score(y_train,y_pred)\n",
    "print(r2_score_train, 'train score')"
   ]
  },
  {
   "cell_type": "code",
   "execution_count": 33,
   "id": "abb06804-b3e9-4941-aea3-efc92d2d5851",
   "metadata": {},
   "outputs": [
    {
     "name": "stdout",
     "output_type": "stream",
     "text": [
      "Cross-validation scores: [0.99971584 0.99592722 0.99937774 0.99823157 0.99760144]\n",
      "Mean cross-validation score: 0.9981707640307269\n",
      "Standard deviation of cross-validation scores: 0.0013568600998123883\n"
     ]
    }
   ],
   "source": [
    "from sklearn.model_selection import cross_val_score\n",
    "\n",
    "# Perform 5-fold cross-validation on the pipeline\n",
    "cv_scores = cross_val_score(pipeline, X, y, cv=5)\n",
    "\n",
    "# Print the mean and standard deviation of the cross-validation scores\n",
    "print(\"Cross-validation scores:\", cv_scores)\n",
    "print(\"Mean cross-validation score:\", cv_scores.mean())\n",
    "print(\"Standard deviation of cross-validation scores:\", cv_scores.std())"
   ]
  },
  {
   "cell_type": "code",
   "execution_count": 34,
   "id": "187ea9f9-c1bf-48bc-8374-c985d7806e8a",
   "metadata": {},
   "outputs": [
    {
     "data": {
      "image/png": "[encoded data removed]",
      "text/plain": [
       "<Figure size 640x480 with 1 Axes>"
      ]
     },
     "metadata": {},
     "output_type": "display_data"
    }
   ],
   "source": [
    "from sklearn.model_selection import learning_curve\n",
    "import matplotlib.pyplot as plt\n",
    "import numpy as np\n",
    "\n",
    "# Define the training sizes\n",
    "train_sizes = np.linspace(0.1, 1.0, 50)\n",
    "\n",
    "# Compute the learning curve\n",
    "train_sizes, train_scores, test_scores = learning_curve(pipeline, X_train, y_train, train_sizes=train_sizes, cv=5)\n",
    "\n",
    "# Compute the mean and standard deviation of the training scores and test scores\n",
    "train_mean = np.mean(train_scores, axis=1)\n",
    "train_std = np.std(train_scores, axis=1)\n",
    "test_mean = np.mean(test_scores, axis=1)\n",
    "test_std = np.std(test_scores, axis=1)\n",
    "\n",
    "# Plot the learning curve\n",
    "plt.plot(train_sizes, train_mean, label=\"Training score\")\n",
    "plt.fill_between(train_sizes, train_mean - train_std, train_mean + train_std, alpha=0.2)\n",
    "plt.plot(train_sizes, test_mean, label=\"Cross-validation score\")\n",
    "plt.fill_between(train_sizes, test_mean - test_std, test_mean + test_std, alpha=0.2)\n",
    "plt.xlabel(\"Number of training examples\")\n",
    "plt.ylabel(\"Score\")\n",
    "plt.legend(loc=\"best\")\n",
    "plt.show()"
   ]
  },
  {
   "cell_type": "markdown",
   "id": "06886c02-90b4-4776-ba25-f74fc24efa5b",
   "metadata": {},
   "source": [
    "# Elastic Net"
   ]
  },
  {
   "cell_type": "code",
   "execution_count": 34,
   "id": "5728ebce-47e0-4cbe-874d-cd79673f3323",
   "metadata": {},
   "outputs": [
    {
     "data": {
      "text/plain": [
       "0.1450796916914946"
      ]
     },
     "execution_count": 34,
     "metadata": {},
     "output_type": "execute_result"
    }
   ],
   "source": [
    "from sklearn.linear_model import ElasticNet\n",
    "\n",
    "Poly_model = PolynomialFeatures(degree=4)\n",
    "elasticnet_model = ElasticNet(alpha=0.1, l1_ratio=0.4)  # alpha controls the strength of the regularization, l1_ratio controls the balance between L1 and L2 regularization\n",
    "\n",
    "# Create a pipeline to combine the polynomial features and the ElasticNet model\n",
    "pipeline = make_pipeline(Poly_model, elasticnet_model)\n",
    "\n",
    "# Fit the pipeline to the training data\n",
    "pipeline.fit(X_train, y_train)\n",
    "\n",
    "# Evaluate the pipeline on the test data\n",
    "score = pipeline.score(X_test, y_test)\n",
    "score"
   ]
  },
  {
   "cell_type": "markdown",
   "id": "8ab5af4c-9501-446c-9ebd-b6861448cf77",
   "metadata": {},
   "source": [
    "# Decision Tree"
   ]
  },
  {
   "cell_type": "code",
   "execution_count": 35,
   "id": "73559e8b-9f22-4ad5-a740-be8ae7038acd",
   "metadata": {},
   "outputs": [
    {
     "data": {
      "text/plain": [
       "53.51635264103861"
      ]
     },
     "execution_count": 35,
     "metadata": {},
     "output_type": "execute_result"
    }
   ],
   "source": [
    "np.sqrt(X_train.shape[0])"
   ]
  },
  {
   "cell_type": "code",
   "execution_count": 63,
   "id": "6dca9cb5-63f2-45ec-bdce-edff0e28b487",
   "metadata": {
    "editable": true,
    "slideshow": {
     "slide_type": ""
    },
    "tags": []
   },
   "outputs": [
    {
     "name": "stdout",
     "output_type": "stream",
     "text": [
      "Starting\n",
      "3 2 3\n",
      "Training set R^2 score: 0.6307785609154288\n",
      "Test set R^2 score: 0.6276243180496893\n",
      "found the model  found the model  found the model  found the model  found the model  found the model  \n",
      "Test set mean absolute error: 6769.58774364665\n",
      "Test set mean squared error: 149786813.16779962\n",
      "--------------------------------------------------\n",
      "3 2 4\n",
      "Training set R^2 score: 0.6307785609154288\n",
      "Test set R^2 score: 0.6276243180496893\n",
      "found the model  found the model  found the model  found the model  found the model  found the model  \n",
      "Test set mean absolute error: 6769.58774364665\n",
      "Test set mean squared error: 149786813.16779962\n",
      "--------------------------------------------------\n",
      "3 2 5\n",
      "Training set R^2 score: 0.6307785609154288\n",
      "Test set R^2 score: 0.6276243180496893\n",
      "found the model  found the model  found the model  found the model  found the model  found the model  \n",
      "Test set mean absolute error: 6769.58774364665\n",
      "Test set mean squared error: 149786813.16779962\n",
      "--------------------------------------------------\n",
      "3 2 6\n",
      "Training set R^2 score: 0.6307785609154288\n",
      "Test set R^2 score: 0.6276243180496893\n",
      "found the model  found the model  found the model  found the model  found the model  found the model  \n",
      "Test set mean absolute error: 6769.58774364665\n",
      "Test set mean squared error: 149786813.16779962\n",
      "--------------------------------------------------\n",
      "3 2 7\n",
      "Training set R^2 score: 0.6307785609154288\n",
      "Test set R^2 score: 0.6276243180496893\n",
      "found the model  found the model  found the model  found the model  found the model  found the model  \n",
      "Test set mean absolute error: 6769.58774364665\n",
      "Test set mean squared error: 149786813.16779962\n",
      "--------------------------------------------------\n",
      "3 2 8\n",
      "Training set R^2 score: 0.6307785609154288\n",
      "Test set R^2 score: 0.6276243180496893\n",
      "found the model  found the model  found the model  found the model  found the model  found the model  \n",
      "Test set mean absolute error: 6769.58774364665\n",
      "Test set mean squared error: 149786813.16779962\n",
      "--------------------------------------------------\n",
      "3 2 9\n",
      "Training set R^2 score: 0.6307785609154288\n",
      "Test set R^2 score: 0.6276243180496893\n",
      "found the model  found the model  found the model  found the model  found the model  found the model  \n",
      "Test set mean absolute error: 6769.58774364665\n",
      "Test set mean squared error: 149786813.16779962\n",
      "--------------------------------------------------\n",
      "3 3 3\n",
      "Training set R^2 score: 0.6307785609154288\n",
      "Test set R^2 score: 0.6276243180496893\n",
      "found the model  found the model  found the model  found the model  found the model  found the model  \n",
      "Test set mean absolute error: 6769.58774364665\n",
      "Test set mean squared error: 149786813.16779962\n",
      "--------------------------------------------------\n",
      "3 3 4\n",
      "Training set R^2 score: 0.6307785609154288\n",
      "Test set R^2 score: 0.6276243180496893\n",
      "found the model  found the model  found the model  found the model  found the model  found the model  \n",
      "Test set mean absolute error: 6769.58774364665\n",
      "Test set mean squared error: 149786813.16779962\n",
      "--------------------------------------------------\n",
      "3 3 5\n",
      "Training set R^2 score: 0.6307785609154288\n",
      "Test set R^2 score: 0.6276243180496893\n",
      "found the model  found the model  found the model  found the model  found the model  found the model  \n",
      "Test set mean absolute error: 6769.58774364665\n",
      "Test set mean squared error: 149786813.16779962\n",
      "--------------------------------------------------\n",
      "3 3 6\n",
      "Training set R^2 score: 0.6307785609154288\n",
      "Test set R^2 score: 0.6276243180496893\n",
      "found the model  found the model  found the model  found the model  found the model  found the model  \n",
      "Test set mean absolute error: 6769.58774364665\n",
      "Test set mean squared error: 149786813.16779962\n",
      "--------------------------------------------------\n",
      "3 3 7\n",
      "Training set R^2 score: 0.6307785609154288\n",
      "Test set R^2 score: 0.6276243180496893\n",
      "found the model  found the model  found the model  found the model  found the model  found the model  \n",
      "Test set mean absolute error: 6769.58774364665\n",
      "Test set mean squared error: 149786813.16779962\n",
      "--------------------------------------------------\n",
      "3 3 8\n",
      "Training set R^2 score: 0.6307785609154288\n",
      "Test set R^2 score: 0.6276243180496893\n",
      "found the model  found the model  found the model  found the model  found the model  found the model  \n",
      "Test set mean absolute error: 6769.58774364665\n",
      "Test set mean squared error: 149786813.16779962\n",
      "--------------------------------------------------\n",
      "3 3 9\n",
      "Training set R^2 score: 0.6307785609154288\n",
      "Test set R^2 score: 0.6276243180496893\n",
      "found the model  found the model  found the model  found the model  found the model  found the model  \n",
      "Test set mean absolute error: 6769.58774364665\n",
      "Test set mean squared error: 149786813.16779962\n",
      "--------------------------------------------------\n",
      "3 4 3\n",
      "Training set R^2 score: 0.6307785609154288\n",
      "Test set R^2 score: 0.6276243180496893\n",
      "found the model  found the model  found the model  found the model  found the model  found the model  \n",
      "Test set mean absolute error: 6769.58774364665\n",
      "Test set mean squared error: 149786813.16779962\n",
      "--------------------------------------------------\n",
      "3 4 4\n",
      "Training set R^2 score: 0.6307785609154288\n",
      "Test set R^2 score: 0.6276243180496893\n",
      "found the model  found the model  found the model  found the model  found the model  found the model  \n",
      "Test set mean absolute error: 6769.58774364665\n",
      "Test set mean squared error: 149786813.16779962\n",
      "--------------------------------------------------\n",
      "3 4 5\n",
      "Training set R^2 score: 0.6307785609154288\n",
      "Test set R^2 score: 0.6276243180496893\n",
      "found the model  found the model  found the model  found the model  found the model  found the model  \n",
      "Test set mean absolute error: 6769.58774364665\n",
      "Test set mean squared error: 149786813.16779962\n",
      "--------------------------------------------------\n",
      "3 4 6\n",
      "Training set R^2 score: 0.6307785609154288\n",
      "Test set R^2 score: 0.6276243180496893\n",
      "found the model  found the model  found the model  found the model  found the model  found the model  \n",
      "Test set mean absolute error: 6769.58774364665\n",
      "Test set mean squared error: 149786813.16779962\n",
      "--------------------------------------------------\n",
      "3 4 7\n",
      "Training set R^2 score: 0.6307785609154288\n",
      "Test set R^2 score: 0.6276243180496893\n",
      "found the model  found the model  found the model  found the model  found the model  found the model  \n",
      "Test set mean absolute error: 6769.58774364665\n",
      "Test set mean squared error: 149786813.16779962\n",
      "--------------------------------------------------\n",
      "3 4 8\n",
      "Training set R^2 score: 0.6307785609154288\n",
      "Test set R^2 score: 0.6276243180496893\n",
      "found the model  found the model  found the model  found the model  found the model  found the model  \n",
      "Test set mean absolute error: 6769.58774364665\n",
      "Test set mean squared error: 149786813.16779962\n",
      "--------------------------------------------------\n",
      "3 4 9\n",
      "Training set R^2 score: 0.6307785609154288\n",
      "Test set R^2 score: 0.6276243180496893\n",
      "found the model  found the model  found the model  found the model  found the model  found the model  \n",
      "Test set mean absolute error: 6769.58774364665\n",
      "Test set mean squared error: 149786813.16779962\n",
      "--------------------------------------------------\n",
      "3 5 3\n",
      "Training set R^2 score: 0.6307785609154288\n",
      "Test set R^2 score: 0.6276243180496893\n",
      "found the model  found the model  found the model  found the model  found the model  found the model  \n",
      "Test set mean absolute error: 6769.58774364665\n",
      "Test set mean squared error: 149786813.16779962\n",
      "--------------------------------------------------\n",
      "3 5 4\n",
      "Training set R^2 score: 0.6307785609154288\n",
      "Test set R^2 score: 0.6276243180496893\n",
      "found the model  found the model  found the model  found the model  found the model  found the model  \n",
      "Test set mean absolute error: 6769.58774364665\n",
      "Test set mean squared error: 149786813.16779962\n",
      "--------------------------------------------------\n",
      "3 5 5\n",
      "Training set R^2 score: 0.6307785609154288\n",
      "Test set R^2 score: 0.6276243180496893\n",
      "found the model  found the model  found the model  found the model  found the model  found the model  \n",
      "Test set mean absolute error: 6769.58774364665\n",
      "Test set mean squared error: 149786813.16779962\n",
      "--------------------------------------------------\n",
      "3 5 6\n",
      "Training set R^2 score: 0.6307785609154288\n",
      "Test set R^2 score: 0.6276243180496893\n",
      "found the model  found the model  found the model  found the model  found the model  found the model  \n",
      "Test set mean absolute error: 6769.58774364665\n",
      "Test set mean squared error: 149786813.16779962\n",
      "--------------------------------------------------\n",
      "3 5 7\n",
      "Training set R^2 score: 0.6307785609154288\n",
      "Test set R^2 score: 0.6276243180496893\n",
      "found the model  found the model  found the model  found the model  found the model  found the model  \n",
      "Test set mean absolute error: 6769.58774364665\n",
      "Test set mean squared error: 149786813.16779962\n",
      "--------------------------------------------------\n",
      "3 5 8\n",
      "Training set R^2 score: 0.6307785609154288\n",
      "Test set R^2 score: 0.6276243180496893\n",
      "found the model  found the model  found the model  found the model  found the model  found the model  \n",
      "Test set mean absolute error: 6769.58774364665\n",
      "Test set mean squared error: 149786813.16779962\n",
      "--------------------------------------------------\n",
      "3 5 9\n",
      "Training set R^2 score: 0.6307785609154288\n",
      "Test set R^2 score: 0.6276243180496893\n",
      "found the model  found the model  found the model  found the model  found the model  found the model  \n",
      "Test set mean absolute error: 6769.58774364665\n",
      "Test set mean squared error: 149786813.16779962\n",
      "--------------------------------------------------\n",
      "3 6 3\n",
      "Training set R^2 score: 0.6307785609154288\n",
      "Test set R^2 score: 0.6276243180496893\n",
      "found the model  found the model  found the model  found the model  found the model  found the model  \n",
      "Test set mean absolute error: 6769.58774364665\n",
      "Test set mean squared error: 149786813.16779962\n",
      "--------------------------------------------------\n",
      "3 6 4\n",
      "Training set R^2 score: 0.6307785609154288\n",
      "Test set R^2 score: 0.6276243180496893\n",
      "found the model  found the model  found the model  found the model  found the model  found the model  \n",
      "Test set mean absolute error: 6769.58774364665\n",
      "Test set mean squared error: 149786813.16779962\n",
      "--------------------------------------------------\n",
      "3 6 5\n",
      "Training set R^2 score: 0.6307785609154288\n",
      "Test set R^2 score: 0.6276243180496893\n",
      "found the model  found the model  found the model  found the model  found the model  found the model  \n",
      "Test set mean absolute error: 6769.58774364665\n",
      "Test set mean squared error: 149786813.16779962\n",
      "--------------------------------------------------\n",
      "3 6 6\n",
      "Training set R^2 score: 0.6307785609154288\n",
      "Test set R^2 score: 0.6276243180496893\n",
      "found the model  found the model  found the model  found the model  found the model  found the model  \n",
      "Test set mean absolute error: 6769.58774364665\n",
      "Test set mean squared error: 149786813.16779962\n",
      "--------------------------------------------------\n",
      "3 6 7\n",
      "Training set R^2 score: 0.6307785609154288\n",
      "Test set R^2 score: 0.6276243180496893\n",
      "found the model  found the model  found the model  found the model  found the model  found the model  \n",
      "Test set mean absolute error: 6769.58774364665\n",
      "Test set mean squared error: 149786813.16779962\n",
      "--------------------------------------------------\n",
      "3 6 8\n",
      "Training set R^2 score: 0.6307785609154288\n",
      "Test set R^2 score: 0.6276243180496893\n",
      "found the model  found the model  found the model  found the model  found the model  found the model  \n",
      "Test set mean absolute error: 6769.58774364665\n",
      "Test set mean squared error: 149786813.16779962\n",
      "--------------------------------------------------\n",
      "3 6 9\n",
      "Training set R^2 score: 0.6307785609154288\n",
      "Test set R^2 score: 0.6276243180496893\n",
      "found the model  found the model  found the model  found the model  found the model  found the model  \n",
      "Test set mean absolute error: 6769.58774364665\n",
      "Test set mean squared error: 149786813.16779962\n",
      "--------------------------------------------------\n",
      "3 7 3\n",
      "Training set R^2 score: 0.6307785609154288\n",
      "Test set R^2 score: 0.6276243180496893\n",
      "found the model  found the model  found the model  found the model  found the model  found the model  \n",
      "Test set mean absolute error: 6769.58774364665\n",
      "Test set mean squared error: 149786813.16779962\n",
      "--------------------------------------------------\n",
      "3 7 4\n",
      "Training set R^2 score: 0.6307785609154288\n",
      "Test set R^2 score: 0.6276243180496893\n",
      "found the model  found the model  found the model  found the model  found the model  found the model  \n",
      "Test set mean absolute error: 6769.58774364665\n",
      "Test set mean squared error: 149786813.16779962\n",
      "--------------------------------------------------\n",
      "3 7 5\n",
      "Training set R^2 score: 0.6307785609154288\n",
      "Test set R^2 score: 0.6276243180496893\n",
      "found the model  found the model  found the model  found the model  found the model  found the model  \n",
      "Test set mean absolute error: 6769.58774364665\n",
      "Test set mean squared error: 149786813.16779962\n",
      "--------------------------------------------------\n",
      "3 7 6\n",
      "Training set R^2 score: 0.6307785609154288\n",
      "Test set R^2 score: 0.6276243180496893\n",
      "found the model  found the model  found the model  found the model  found the model  found the model  \n",
      "Test set mean absolute error: 6769.58774364665\n",
      "Test set mean squared error: 149786813.16779962\n",
      "--------------------------------------------------\n",
      "3 7 7\n",
      "Training set R^2 score: 0.6307785609154288\n",
      "Test set R^2 score: 0.6276243180496893\n",
      "found the model  found the model  found the model  found the model  found the model  found the model  \n",
      "Test set mean absolute error: 6769.58774364665\n",
      "Test set mean squared error: 149786813.16779962\n",
      "--------------------------------------------------\n",
      "3 7 8\n",
      "Training set R^2 score: 0.6307785609154288\n",
      "Test set R^2 score: 0.6276243180496893\n",
      "found the model  found the model  found the model  found the model  found the model  found the model  \n",
      "Test set mean absolute error: 6769.58774364665\n",
      "Test set mean squared error: 149786813.16779962\n",
      "--------------------------------------------------\n",
      "3 7 9\n",
      "Training set R^2 score: 0.6307785609154288\n",
      "Test set R^2 score: 0.6276243180496893\n",
      "found the model  found the model  found the model  found the model  found the model  found the model  \n",
      "Test set mean absolute error: 6769.58774364665\n",
      "Test set mean squared error: 149786813.16779962\n",
      "--------------------------------------------------\n",
      "3 8 3\n",
      "Training set R^2 score: 0.6307785609154288\n",
      "Test set R^2 score: 0.6276243180496893\n",
      "found the model  found the model  found the model  found the model  found the model  found the model  \n",
      "Test set mean absolute error: 6769.58774364665\n",
      "Test set mean squared error: 149786813.16779962\n",
      "--------------------------------------------------\n",
      "3 8 4\n",
      "Training set R^2 score: 0.6307785609154288\n",
      "Test set R^2 score: 0.6276243180496893\n",
      "found the model  found the model  found the model  found the model  found the model  found the model  \n",
      "Test set mean absolute error: 6769.58774364665\n",
      "Test set mean squared error: 149786813.16779962\n",
      "--------------------------------------------------\n",
      "3 8 5\n",
      "Training set R^2 score: 0.6307785609154288\n",
      "Test set R^2 score: 0.6276243180496893\n",
      "found the model  found the model  found the model  found the model  found the model  found the model  \n",
      "Test set mean absolute error: 6769.58774364665\n",
      "Test set mean squared error: 149786813.16779962\n",
      "--------------------------------------------------\n",
      "3 8 6\n",
      "Training set R^2 score: 0.6307785609154288\n",
      "Test set R^2 score: 0.6276243180496893\n",
      "found the model  found the model  found the model  found the model  found the model  found the model  \n",
      "Test set mean absolute error: 6769.58774364665\n",
      "Test set mean squared error: 149786813.16779962\n",
      "--------------------------------------------------\n",
      "3 8 7\n",
      "Training set R^2 score: 0.6307785609154288\n",
      "Test set R^2 score: 0.6276243180496893\n",
      "found the model  found the model  found the model  found the model  found the model  found the model  \n",
      "Test set mean absolute error: 6769.58774364665\n",
      "Test set mean squared error: 149786813.16779962\n",
      "--------------------------------------------------\n",
      "3 8 8\n",
      "Training set R^2 score: 0.6307785609154288\n",
      "Test set R^2 score: 0.6276243180496893\n",
      "found the model  found the model  found the model  found the model  found the model  found the model  \n",
      "Test set mean absolute error: 6769.58774364665\n",
      "Test set mean squared error: 149786813.16779962\n",
      "--------------------------------------------------\n",
      "3 8 9\n",
      "Training set R^2 score: 0.6307785609154288\n",
      "Test set R^2 score: 0.6276243180496893\n",
      "found the model  found the model  found the model  found the model  found the model  found the model  \n",
      "Test set mean absolute error: 6769.58774364665\n",
      "Test set mean squared error: 149786813.16779962\n",
      "--------------------------------------------------\n",
      "3 9 3\n",
      "Training set R^2 score: 0.6307785609154288\n",
      "Test set R^2 score: 0.6276243180496893\n",
      "found the model  found the model  found the model  found the model  found the model  found the model  \n",
      "Test set mean absolute error: 6769.58774364665\n",
      "Test set mean squared error: 149786813.16779962\n",
      "--------------------------------------------------\n",
      "3 9 4\n",
      "Training set R^2 score: 0.6307785609154288\n",
      "Test set R^2 score: 0.6276243180496893\n",
      "found the model  found the model  found the model  found the model  found the model  found the model  \n",
      "Test set mean absolute error: 6769.58774364665\n",
      "Test set mean squared error: 149786813.16779962\n",
      "--------------------------------------------------\n",
      "3 9 5\n",
      "Training set R^2 score: 0.6307785609154288\n",
      "Test set R^2 score: 0.6276243180496893\n",
      "found the model  found the model  found the model  found the model  found the model  found the model  \n",
      "Test set mean absolute error: 6769.58774364665\n",
      "Test set mean squared error: 149786813.16779962\n",
      "--------------------------------------------------\n",
      "3 9 6\n",
      "Training set R^2 score: 0.6307785609154288\n",
      "Test set R^2 score: 0.6276243180496893\n",
      "found the model  found the model  found the model  found the model  found the model  found the model  \n",
      "Test set mean absolute error: 6769.58774364665\n",
      "Test set mean squared error: 149786813.16779962\n",
      "--------------------------------------------------\n",
      "3 9 7\n",
      "Training set R^2 score: 0.6307785609154288\n",
      "Test set R^2 score: 0.6276243180496893\n",
      "found the model  found the model  found the model  found the model  found the model  found the model  \n",
      "Test set mean absolute error: 6769.58774364665\n",
      "Test set mean squared error: 149786813.16779962\n",
      "--------------------------------------------------\n",
      "3 9 8\n",
      "Training set R^2 score: 0.6307785609154288\n",
      "Test set R^2 score: 0.6276243180496893\n",
      "found the model  found the model  found the model  found the model  found the model  found the model  \n",
      "Test set mean absolute error: 6769.58774364665\n",
      "Test set mean squared error: 149786813.16779962\n",
      "--------------------------------------------------\n",
      "3 9 9\n",
      "Training set R^2 score: 0.6307785609154288\n",
      "Test set R^2 score: 0.6276243180496893\n",
      "found the model  found the model  found the model  found the model  found the model  found the model  \n",
      "Test set mean absolute error: 6769.58774364665\n",
      "Test set mean squared error: 149786813.16779962\n",
      "--------------------------------------------------\n",
      "3 10 3\n",
      "Training set R^2 score: 0.6307785609154288\n",
      "Test set R^2 score: 0.6276243180496893\n",
      "found the model  found the model  found the model  found the model  found the model  found the model  \n",
      "Test set mean absolute error: 6769.58774364665\n",
      "Test set mean squared error: 149786813.16779962\n",
      "--------------------------------------------------\n",
      "3 10 4\n",
      "Training set R^2 score: 0.6307785609154288\n",
      "Test set R^2 score: 0.6276243180496893\n",
      "found the model  found the model  found the model  found the model  found the model  found the model  \n",
      "Test set mean absolute error: 6769.58774364665\n",
      "Test set mean squared error: 149786813.16779962\n",
      "--------------------------------------------------\n",
      "3 10 5\n",
      "Training set R^2 score: 0.6307785609154288\n",
      "Test set R^2 score: 0.6276243180496893\n",
      "found the model  found the model  found the model  found the model  found the model  found the model  \n",
      "Test set mean absolute error: 6769.58774364665\n",
      "Test set mean squared error: 149786813.16779962\n",
      "--------------------------------------------------\n",
      "3 10 6\n",
      "Training set R^2 score: 0.6307785609154288\n",
      "Test set R^2 score: 0.6276243180496893\n",
      "found the model  found the model  found the model  found the model  found the model  found the model  \n",
      "Test set mean absolute error: 6769.58774364665\n",
      "Test set mean squared error: 149786813.16779962\n",
      "--------------------------------------------------\n",
      "3 10 7\n",
      "Training set R^2 score: 0.6307785609154288\n",
      "Test set R^2 score: 0.6276243180496893\n",
      "found the model  found the model  found the model  found the model  found the model  found the model  \n",
      "Test set mean absolute error: 6769.58774364665\n",
      "Test set mean squared error: 149786813.16779962\n",
      "--------------------------------------------------\n",
      "3 10 8\n",
      "Training set R^2 score: 0.6307785609154288\n",
      "Test set R^2 score: 0.6276243180496893\n",
      "found the model  found the model  found the model  found the model  found the model  found the model  \n",
      "Test set mean absolute error: 6769.58774364665\n",
      "Test set mean squared error: 149786813.16779962\n",
      "--------------------------------------------------\n",
      "3 10 9\n",
      "Training set R^2 score: 0.6307785609154288\n",
      "Test set R^2 score: 0.6276243180496893\n",
      "found the model  found the model  found the model  found the model  found the model  found the model  \n",
      "Test set mean absolute error: 6769.58774364665\n",
      "Test set mean squared error: 149786813.16779962\n",
      "--------------------------------------------------\n",
      "3 11 3\n",
      "Training set R^2 score: 0.6307785609154288\n",
      "Test set R^2 score: 0.6276243180496893\n",
      "found the model  found the model  found the model  found the model  found the model  found the model  \n",
      "Test set mean absolute error: 6769.58774364665\n",
      "Test set mean squared error: 149786813.16779962\n",
      "--------------------------------------------------\n",
      "3 11 4\n",
      "Training set R^2 score: 0.6307785609154288\n",
      "Test set R^2 score: 0.6276243180496893\n",
      "found the model  found the model  found the model  found the model  found the model  found the model  \n",
      "Test set mean absolute error: 6769.58774364665\n",
      "Test set mean squared error: 149786813.16779962\n",
      "--------------------------------------------------\n",
      "3 11 5\n",
      "Training set R^2 score: 0.6307785609154288\n",
      "Test set R^2 score: 0.6276243180496893\n",
      "found the model  found the model  found the model  found the model  found the model  found the model  \n",
      "Test set mean absolute error: 6769.58774364665\n",
      "Test set mean squared error: 149786813.16779962\n",
      "--------------------------------------------------\n",
      "3 11 6\n",
      "Training set R^2 score: 0.6307785609154288\n",
      "Test set R^2 score: 0.6276243180496893\n",
      "found the model  found the model  found the model  found the model  found the model  found the model  \n",
      "Test set mean absolute error: 6769.58774364665\n",
      "Test set mean squared error: 149786813.16779962\n",
      "--------------------------------------------------\n",
      "3 11 7\n",
      "Training set R^2 score: 0.6307785609154288\n",
      "Test set R^2 score: 0.6276243180496893\n",
      "found the model  found the model  found the model  found the model  found the model  found the model  \n",
      "Test set mean absolute error: 6769.58774364665\n",
      "Test set mean squared error: 149786813.16779962\n",
      "--------------------------------------------------\n",
      "3 11 8\n",
      "Training set R^2 score: 0.6307785609154288\n",
      "Test set R^2 score: 0.6276243180496893\n",
      "found the model  found the model  found the model  found the model  found the model  found the model  \n",
      "Test set mean absolute error: 6769.58774364665\n",
      "Test set mean squared error: 149786813.16779962\n",
      "--------------------------------------------------\n",
      "3 11 9\n",
      "Training set R^2 score: 0.6307785609154288\n",
      "Test set R^2 score: 0.6276243180496893\n",
      "found the model  found the model  found the model  found the model  found the model  found the model  \n",
      "Test set mean absolute error: 6769.58774364665\n",
      "Test set mean squared error: 149786813.16779962\n",
      "--------------------------------------------------\n",
      "finished\n"
     ]
    }
   ],
   "source": [
    "from sklearn.tree import DecisionTreeRegressor\n",
    "from sklearn.metrics import mean_absolute_error, mean_squared_error\n",
    "\n",
    "\n",
    "# Create a decision tree regressor\n",
    "print('Starting')\n",
    "for a in range(3, 10):\n",
    "    for b in range(2, 12):\n",
    "        for c in range(1, 10):\n",
    "            tree = DecisionTreeRegressor(max_depth=a, \n",
    "                                         criterion='friedman_mse',\n",
    "                                         random_state=0,\n",
    "                                         min_samples_split=b, \n",
    "                                         min_samples_leaf=c, \n",
    "                                         min_weight_fraction_leaf=0.0, \n",
    "                                         max_features=None,\n",
    "                                         max_leaf_nodes=None, \n",
    "                                         min_impurity_decrease=0, \n",
    "                                         ccp_alpha=0.1)\n",
    "            \n",
    "            # Fit the model to the training data\n",
    "            tree.fit(X_train, y_train)\n",
    "            \n",
    "            \n",
    "            # Evaluate the model on the training data\n",
    "            y_train_pred = tree.predict(X_train)\n",
    "            r2_train = r2_score(y_train, y_train_pred)\n",
    "            \n",
    "            # Evaluate the model on the test data\n",
    "            y_test_pred = tree.predict(X_test)\n",
    "            r2_test = r2_score(y_test, y_test_pred)\n",
    "            \n",
    "            # Compute the mean absolute error\n",
    "            mae = mean_absolute_error(y_test, y_test_pred)\n",
    "            \n",
    "            # Compute the mean squared error\n",
    "            mse = mean_squared_error(y_test, y_test_pred)\n",
    "            \n",
    "            if r2_train - r2_test < 0.03 and r2_test > 0.625:\n",
    "                print(a, b, c)\n",
    "                print(\"Training set R^2 score:\", r2_train)\n",
    "                print(\"Test set R^2 score:\", r2_test)\n",
    "                if r2_train - r2_test < 0.04:\n",
    "                    print('found the model  '*6)\n",
    "                    \n",
    "                print(\"Test set mean absolute error:\", mae)\n",
    "                if mae < 3300:\n",
    "                    print('   *'*30)\n",
    "                print(\"Test set mean squared error:\", mse)\n",
    "                print(\"-\"*50)\n",
    "print('finished')"
   ]
  },
  {
   "cell_type": "code",
   "execution_count": 37,
   "id": "e1f0811f-9cdf-4bbe-a792-d39c2399aa3f",
   "metadata": {},
   "outputs": [
    {
     "name": "stderr",
     "output_type": "stream",
     "text": [
      "/home/pedroabisamara/.pyenv/versions/energy-economy/lib/python3.10/site-packages/sklearn/model_selection/_validation.py:686: DataConversionWarning: A column-vector y was passed when a 1d array was expected. Please change the shape of y to (n_samples,), for example using ravel().\n",
      "  estimator.fit(X_train, y_train, **fit_params)\n",
      "/home/pedroabisamara/.pyenv/versions/energy-economy/lib/python3.10/site-packages/sklearn/model_selection/_validation.py:686: DataConversionWarning: A column-vector y was passed when a 1d array was expected. Please change the shape of y to (n_samples,), for example using ravel().\n",
      "  estimator.fit(X_train, y_train, **fit_params)\n",
      "/home/pedroabisamara/.pyenv/versions/energy-economy/lib/python3.10/site-packages/sklearn/model_selection/_validation.py:686: DataConversionWarning: A column-vector y was passed when a 1d array was expected. Please change the shape of y to (n_samples,), for example using ravel().\n",
      "  estimator.fit(X_train, y_train, **fit_params)\n",
      "/home/pedroabisamara/.pyenv/versions/energy-economy/lib/python3.10/site-packages/sklearn/model_selection/_validation.py:686: DataConversionWarning: A column-vector y was passed when a 1d array was expected. Please change the shape of y to (n_samples,), for example using ravel().\n",
      "  estimator.fit(X_train, y_train, **fit_params)\n",
      "/home/pedroabisamara/.pyenv/versions/energy-economy/lib/python3.10/site-packages/sklearn/model_selection/_validation.py:686: DataConversionWarning: A column-vector y was passed when a 1d array was expected. Please change the shape of y to (n_samples,), for example using ravel().\n",
      "  estimator.fit(X_train, y_train, **fit_params)\n",
      "/home/pedroabisamara/.pyenv/versions/energy-economy/lib/python3.10/site-packages/sklearn/model_selection/_validation.py:686: DataConversionWarning: A column-vector y was passed when a 1d array was expected. Please change the shape of y to (n_samples,), for example using ravel().\n",
      "  estimator.fit(X_train, y_train, **fit_params)\n",
      "/home/pedroabisamara/.pyenv/versions/energy-economy/lib/python3.10/site-packages/sklearn/model_selection/_validation.py:686: DataConversionWarning: A column-vector y was passed when a 1d array was expected. Please change the shape of y to (n_samples,), for example using ravel().\n",
      "  estimator.fit(X_train, y_train, **fit_params)\n",
      "/home/pedroabisamara/.pyenv/versions/energy-economy/lib/python3.10/site-packages/sklearn/model_selection/_validation.py:686: DataConversionWarning: A column-vector y was passed when a 1d array was expected. Please change the shape of y to (n_samples,), for example using ravel().\n",
      "  estimator.fit(X_train, y_train, **fit_params)\n",
      "/home/pedroabisamara/.pyenv/versions/energy-economy/lib/python3.10/site-packages/sklearn/model_selection/_validation.py:686: DataConversionWarning: A column-vector y was passed when a 1d array was expected. Please change the shape of y to (n_samples,), for example using ravel().\n",
      "  estimator.fit(X_train, y_train, **fit_params)\n",
      "/home/pedroabisamara/.pyenv/versions/energy-economy/lib/python3.10/site-packages/sklearn/model_selection/_validation.py:686: DataConversionWarning: A column-vector y was passed when a 1d array was expected. Please change the shape of y to (n_samples,), for example using ravel().\n",
      "  estimator.fit(X_train, y_train, **fit_params)\n",
      "/home/pedroabisamara/.pyenv/versions/energy-economy/lib/python3.10/site-packages/sklearn/model_selection/_validation.py:686: DataConversionWarning: A column-vector y was passed when a 1d array was expected. Please change the shape of y to (n_samples,), for example using ravel().\n",
      "  estimator.fit(X_train, y_train, **fit_params)\n",
      "/home/pedroabisamara/.pyenv/versions/energy-economy/lib/python3.10/site-packages/sklearn/model_selection/_validation.py:686: DataConversionWarning: A column-vector y was passed when a 1d array was expected. Please change the shape of y to (n_samples,), for example using ravel().\n",
      "  estimator.fit(X_train, y_train, **fit_params)\n",
      "/home/pedroabisamara/.pyenv/versions/energy-economy/lib/python3.10/site-packages/sklearn/model_selection/_validation.py:686: DataConversionWarning: A column-vector y was passed when a 1d array was expected. Please change the shape of y to (n_samples,), for example using ravel().\n",
      "  estimator.fit(X_train, y_train, **fit_params)\n",
      "/home/pedroabisamara/.pyenv/versions/energy-economy/lib/python3.10/site-packages/sklearn/model_selection/_validation.py:686: DataConversionWarning: A column-vector y was passed when a 1d array was expected. Please change the shape of y to (n_samples,), for example using ravel().\n",
      "  estimator.fit(X_train, y_train, **fit_params)\n",
      "/home/pedroabisamara/.pyenv/versions/energy-economy/lib/python3.10/site-packages/sklearn/model_selection/_validation.py:686: DataConversionWarning: A column-vector y was passed when a 1d array was expected. Please change the shape of y to (n_samples,), for example using ravel().\n",
      "  estimator.fit(X_train, y_train, **fit_params)\n",
      "/home/pedroabisamara/.pyenv/versions/energy-economy/lib/python3.10/site-packages/sklearn/model_selection/_search.py:909: DataConversionWarning: A column-vector y was passed when a 1d array was expected. Please change the shape of y to (n_samples,), for example using ravel().\n",
      "  self.best_estimator_.fit(X, y, **fit_params)\n",
      "/tmp/ipykernel_27425/1488001344.py:17: DataConversionWarning: A column-vector y was passed when a 1d array was expected. Please change the shape of y to (n_samples,), for example using ravel().\n",
      "  rf.fit(X_train, y_train)\n"
     ]
    },
    {
     "name": "stdout",
     "output_type": "stream",
     "text": [
      "MSE on testing data: 51686763.35330168\n"
     ]
    }
   ],
   "source": [
    "# Define the range of hyperparameters to search over using grid search\n",
    "param_grid = {\n",
    "    \"n_estimators\": [50, 100, 200]\n",
    "}\n",
    "# Create a grid of hyperparameters to search over\n",
    "grid_search = GridSearchCV(\n",
    "    RandomForestRegressor(random_state=42),\n",
    "    param_grid=param_grid,\n",
    "    n_jobs=-1,\n",
    "    cv=5,\n",
    "    scoring=\"neg_mean_squared_error\",\n",
    ")\n",
    "# Use k-fold cross-validation to evaluate the performance of the model on each combination of hyperparameters in the grid\n",
    "grid_search.fit(X_train, y_train)\n",
    "# Fit the random forest model on the training data using the optimal hyperparameters found in step 4\n",
    "rf = grid_search.best_estimator_\n",
    "rf.fit(X_train, y_train)\n",
    "# Evaluate the performance of the model on the testing data\n",
    "y_pred = rf.predict(X_test)\n",
    "mse = mean_squared_error(y_test, y_pred)\n",
    "print(\"MSE on testing data:\", mse)"
   ]
  },
  {
   "cell_type": "code",
   "execution_count": null,
   "id": "796a1383-1f6e-4cdd-8931-70284c48d3cd",
   "metadata": {},
   "outputs": [],
   "source": []
  },
  {
   "cell_type": "code",
   "execution_count": 100,
   "id": "42d0d669-c5e9-4213-a539-ab152414c261",
   "metadata": {
    "editable": true,
    "scrolled": true,
    "slideshow": {
     "slide_type": ""
    },
    "tags": []
   },
   "outputs": [
    {
     "data": {
      "text/html": [
       "<div>\n",
       "<style scoped>\n",
       "    .dataframe tbody tr th:only-of-type {\n",
       "        vertical-align: middle;\n",
       "    }\n",
       "\n",
       "    .dataframe tbody tr th {\n",
       "        vertical-align: top;\n",
       "    }\n",
       "\n",
       "    .dataframe thead th {\n",
       "        text-align: right;\n",
       "    }\n",
       "</style>\n",
       "<table border=\"1\" class=\"dataframe\">\n",
       "  <thead>\n",
       "    <tr style=\"text-align: right;\">\n",
       "      <th></th>\n",
       "      <th>remainder__GDP_per_capita</th>\n",
       "    </tr>\n",
       "  </thead>\n",
       "  <tbody>\n",
       "    <tr>\n",
       "      <th>count</th>\n",
       "      <td>3273.000000</td>\n",
       "    </tr>\n",
       "    <tr>\n",
       "      <th>mean</th>\n",
       "      <td>13470.902168</td>\n",
       "    </tr>\n",
       "    <tr>\n",
       "      <th>std</th>\n",
       "      <td>18298.489875</td>\n",
       "    </tr>\n",
       "    <tr>\n",
       "      <th>min</th>\n",
       "      <td>255.100291</td>\n",
       "    </tr>\n",
       "    <tr>\n",
       "      <th>25%</th>\n",
       "      <td>1711.290666</td>\n",
       "    </tr>\n",
       "    <tr>\n",
       "      <th>50%</th>\n",
       "      <td>5262.183808</td>\n",
       "    </tr>\n",
       "    <tr>\n",
       "      <th>75%</th>\n",
       "      <td>17662.242842</td>\n",
       "    </tr>\n",
       "    <tr>\n",
       "      <th>max</th>\n",
       "      <td>112417.878458</td>\n",
       "    </tr>\n",
       "  </tbody>\n",
       "</table>\n",
       "</div>"
      ],
      "text/plain": [
       "       remainder__GDP_per_capita\n",
       "count                3273.000000\n",
       "mean                13470.902168\n",
       "std                 18298.489875\n",
       "min                   255.100291\n",
       "25%                  1711.290666\n",
       "50%                  5262.183808\n",
       "75%                 17662.242842\n",
       "max                112417.878458"
      ]
     },
     "execution_count": 100,
     "metadata": {},
     "output_type": "execute_result"
    }
   ],
   "source": [
    "pd.DataFrame(y).describe()"
   ]
  },
  {
   "cell_type": "markdown",
   "id": "53dd6011-0ee6-43f9-a82b-67211a50a0b4",
   "metadata": {},
   "source": [
    "# Random Forest"
   ]
  },
  {
   "cell_type": "code",
   "execution_count": 102,
   "id": "3c11beb4-488c-4262-972a-8564487311f0",
   "metadata": {},
   "outputs": [
    {
     "data": {
      "text/plain": [
       "array([ 1383.37778923,  1586.31829662, 23360.90573538, ...,\n",
       "       28096.89825156,   748.01245347,  3445.80688587])"
      ]
     },
     "execution_count": 102,
     "metadata": {},
     "output_type": "execute_result"
    }
   ],
   "source": [
    "y_train = np.array(y_train).reshape(2864,)\n",
    "y_train"
   ]
  },
  {
   "cell_type": "code",
   "execution_count": 122,
   "id": "f658be4a-1e10-4d2b-948e-faf30698a3b6",
   "metadata": {},
   "outputs": [
    {
     "name": "stdout",
     "output_type": "stream",
     "text": [
      "80\n",
      "Training set R^2 score: 0.9181358421912379\n",
      "Test set R^2 score: 0.864125813899076\n",
      "Test set mean absolute error: 2983.608996779507\n",
      "   *   *   *   *   *   *   *   *   *   *   *   *   *   *   *   *   *   *   *   *   *   *   *   *   *   *   *   *   *   *\n",
      "Test set mean squared error: 54654915.22226126\n",
      "--------------------------------------------------\n"
     ]
    }
   ],
   "source": [
    "\n",
    "\n",
    "rf = RandomForestRegressor(n_estimators=80, \n",
    "                            criterion='absolute_error', \n",
    "                            max_depth=9, \n",
    "                            min_samples_split=3, \n",
    "                            min_samples_leaf=2, \n",
    "                            max_features=None, \n",
    "                            max_leaf_nodes=None, \n",
    "                            min_impurity_decrease=0.5, \n",
    "                            bootstrap=True, \n",
    "                            oob_score=False, \n",
    "                            n_jobs=-1, \n",
    "                            random_state=0, \n",
    "                            verbose=0, \n",
    "                            warm_start=False, \n",
    "                            ccp_alpha=0.1, \n",
    "                            max_samples=None)\n",
    "\n",
    "# Fit the model to the training data\n",
    "rf.fit(X_train, y_train)\n",
    "\n",
    "# Evaluate the model on the training data\n",
    "y_train_pred = rf.predict(X_train)\n",
    "r2_train = r2_score(y_train, y_train_pred)\n",
    "\n",
    "# Evaluate the model on the test data\n",
    "y_test_pred = rf.predict(X_test)\n",
    "r2_test = r2_score(y_test, y_test_pred)\n",
    "\n",
    "# Compute the mean absolute error\n",
    "mae = mean_absolute_error(y_test, y_test_pred)\n",
    "\n",
    "# Compute the mean squared error\n",
    "mse = mean_squared_error(y_test, y_test_pred)\n",
    "\n",
    "# Print the results\n",
    "\n",
    "print(a)\n",
    "print(\"Training set R^2 score:\", r2_train)\n",
    "print(\"Test set R^2 score:\", r2_test)\n",
    "if r2_train-r2_test < 0.04:\n",
    "    print('found the model  '*6)\n",
    "    \n",
    "print(\"Test set mean absolute error:\", mae)\n",
    "if mae < 3300:\n",
    "    print('   *'*30)\n",
    "print(\"Test set mean squared error:\", mse)\n",
    "print(\"-\"*50)"
   ]
  },
  {
   "cell_type": "code",
   "execution_count": null,
   "id": "39cf2421-496b-487a-81f6-38dcbd5ee978",
   "metadata": {},
   "outputs": [],
   "source": []
  },
  {
   "cell_type": "code",
   "execution_count": null,
   "id": "f0a8ca98-96a8-48db-9681-c61b3f727e1b",
   "metadata": {},
   "outputs": [],
   "source": []
  },
  {
   "cell_type": "code",
   "execution_count": null,
   "id": "6c776c51-c806-4dd8-b794-94b9e6325ec6",
   "metadata": {},
   "outputs": [],
   "source": []
  },
  {
   "cell_type": "markdown",
   "id": "aff410f0",
   "metadata": {},
   "source": [
    "### Train on Polynomial linear Regression model"
   ]
  },
  {
   "cell_type": "code",
   "execution_count": 96,
   "id": "a5ee552d-4905-44e6-8e9a-1c564a5f7999",
   "metadata": {},
   "outputs": [
    {
     "name": "stdout",
     "output_type": "stream",
     "text": [
      "r2_score test: 0.7235946272294715\n",
      "r2_score test: 0.6736376726234099\n"
     ]
    }
   ],
   "source": [
    "from sklearn.preprocessing import PolynomialFeatures\n",
    "from sklearn.metrics import r2_score\n",
    "\n",
    "Poly_model = PolynomialFeatures(degree=3)\n",
    "X_poly = Poly_model.fit_transform(X_train)\n",
    "model = LinearRegression()\n",
    "model.fit(X_poly,y_train)\n",
    "\n",
    "\n",
    "y_pred = model.predict(X_poly)\n",
    "\n",
    "\n",
    "r2_score_train=r2_score(y_train,y_pred)\n",
    "print(f'r2_score test: {r2_score_train}')\n",
    "\n",
    "X_test_poly = Poly_model.transform(X_test)\n",
    "\n",
    "y_test_pred = model.predict(X_test_poly)\n",
    "r2_score_test =r2_score(y_test,y_test_pred)\n",
    "print(f'r2_score test: {r2_score_test}')"
   ]
  },
  {
   "cell_type": "code",
   "execution_count": 98,
   "id": "29fbfddd-78d4-4a40-842a-6b51384e4cb8",
   "metadata": {},
   "outputs": [
    {
     "data": {
      "image/png": "[encoded data removed]",
      "text/plain": [
       "<Figure size 640x480 with 1 Axes>"
      ]
     },
     "metadata": {},
     "output_type": "display_data"
    }
   ],
   "source": [
    "from sklearn.model_selection import learning_curve\n",
    "import matplotlib.pyplot as plt\n",
    "import numpy as np\n",
    "\n",
    "# Define the training sizes\n",
    "train_sizes = np.linspace(0.1, 1.0, 100)\n",
    "\n",
    "# Compute the learning curve\n",
    "train_sizes, train_scores, test_scores = learning_curve(model, X_poly, y_train, train_sizes=train_sizes, cv=5)\n",
    "\n",
    "# Compute the mean and standard deviation of the training scores and test scores\n",
    "train_mean = np.mean(train_scores, axis=1)\n",
    "train_std = np.std(train_scores, axis=1)\n",
    "test_mean = np.mean(test_scores, axis=1)\n",
    "test_std = np.std(test_scores, axis=1)\n",
    "\n",
    "# Plot the learning curve\n",
    "plt.plot(train_sizes, train_mean, label=\"Training score\")\n",
    "plt.fill_between(train_sizes, train_mean - train_std, train_mean + train_std, alpha=0.2)\n",
    "plt.plot(train_sizes, test_mean, label=\"Cross-validation score\")\n",
    "plt.fill_between(train_sizes, test_mean - test_std, test_mean + test_std, alpha=0.2)\n",
    "plt.xlabel(\"Number of training examples\")\n",
    "plt.ylabel(\"Score\")\n",
    "plt.legend(loc=\"best\")\n",
    "plt.show()"
   ]
  },
  {
   "cell_type": "markdown",
   "id": "65676e51",
   "metadata": {},
   "source": [
    "### Root mean square error"
   ]
  },
  {
   "cell_type": "code",
   "execution_count": 64,
   "id": "4ede94ff",
   "metadata": {},
   "outputs": [
    {
     "name": "stdout",
     "output_type": "stream",
     "text": [
      "Root Mean Square Error:\n",
      "\n",
      "12289.193306773763\n"
     ]
    },
    {
     "name": "stderr",
     "output_type": "stream",
     "text": [
      "/tmp/ipykernel_12331/603380909.py:4: FutureWarning: Calling float on a single element Series is deprecated and will raise a TypeError in the future. Use float(ser.iloc[0]) instead\n",
      "  RMSE = math.sqrt(MSE)\n"
     ]
    }
   ],
   "source": [
    "import math\n",
    "MSE = np.square(np.subtract(y_test,y_test_pred)).mean() \n",
    " \n",
    "RMSE = math.sqrt(MSE)\n",
    "print(\"Root Mean Square Error:\\n\")\n",
    "print(RMSE)"
   ]
  },
  {
   "cell_type": "markdown",
   "id": "b4f224ea",
   "metadata": {},
   "source": [
    "### Mean absolute error"
   ]
  },
  {
   "cell_type": "code",
   "execution_count": 65,
   "id": "e65f7866",
   "metadata": {},
   "outputs": [
    {
     "data": {
      "text/plain": [
       "6410.523655729831"
      ]
     },
     "execution_count": 65,
     "metadata": {},
     "output_type": "execute_result"
    }
   ],
   "source": [
    "from sklearn.metrics import mean_absolute_error\n",
    "mean_absolute_error(y_test,y_test_pred)\n"
   ]
  },
  {
   "cell_type": "markdown",
   "id": "d010c5b4",
   "metadata": {},
   "source": []
  },
  {
   "cell_type": "code",
   "execution_count": 66,
   "id": "250538c7",
   "metadata": {},
   "outputs": [],
   "source": [
    "from statsmodels.stats.outliers_influence import variance_inflation_factor\n"
   ]
  },
  {
   "cell_type": "code",
   "execution_count": 67,
   "id": "6ffb86c4",
   "metadata": {
    "scrolled": true
   },
   "outputs": [
    {
     "name": "stdout",
     "output_type": "stream",
     "text": [
      "                        variables       VIF\n",
      "0         scale__net_elec_imports  1.597067\n",
      "1    scale__hydro_elec_per_capita  2.665174\n",
      "2  scale__biofuel_elec_per_capita  1.535174\n",
      "3    scale__solar_elec_per_capita  1.332547\n",
      "4     scale__wind_elec_per_capita  1.641873\n",
      "5   scale__per_capita_electricity  3.828396\n"
     ]
    }
   ],
   "source": [
    "vif = pd.DataFrame()\n",
    "vif[\"variables\"] = X_train.columns\n",
    "vif[\"VIF\"] = [variance_inflation_factor(X_train.values, i) for i in range(X_train.shape[1])]\n",
    "\n",
    "# Print the VIF scores\n",
    "print(vif)"
   ]
  },
  {
   "cell_type": "markdown",
   "id": "24aa988e",
   "metadata": {},
   "source": [
    "## Same process with the base model"
   ]
  },
  {
   "cell_type": "code",
   "execution_count": 69,
   "id": "c9db2a28",
   "metadata": {},
   "outputs": [],
   "source": [
    "full_cleaned_base=pd.read_csv('full_cleaned_final.csv')"
   ]
  },
  {
   "cell_type": "code",
   "execution_count": 70,
   "id": "6a05fe51",
   "metadata": {},
   "outputs": [
    {
     "ename": "PatsyError",
     "evalue": "Error evaluating factor: NameError: name 'scale__biofuel_electricity' is not defined\n    remainder__GDP_per_capita ~ scale__biofuel_electricity\n                                ^^^^^^^^^^^^^^^^^^^^^^^^^^",
     "output_type": "error",
     "traceback": [
      "\u001b[0;31m---------------------------------------------------------------------------\u001b[0m",
      "\u001b[0;31mNameError\u001b[0m                                 Traceback (most recent call last)",
      "File \u001b[0;32m~/.pyenv/versions/3.10.6/envs/energy-economy/lib/python3.10/site-packages/patsy/compat.py:36\u001b[0m, in \u001b[0;36mcall_and_wrap_exc\u001b[0;34m(msg, origin, f, *args, **kwargs)\u001b[0m\n\u001b[1;32m     35\u001b[0m \u001b[38;5;28;01mtry\u001b[39;00m:\n\u001b[0;32m---> 36\u001b[0m     \u001b[38;5;28;01mreturn\u001b[39;00m \u001b[43mf\u001b[49m\u001b[43m(\u001b[49m\u001b[38;5;241;43m*\u001b[39;49m\u001b[43margs\u001b[49m\u001b[43m,\u001b[49m\u001b[43m \u001b[49m\u001b[38;5;241;43m*\u001b[39;49m\u001b[38;5;241;43m*\u001b[39;49m\u001b[43mkwargs\u001b[49m\u001b[43m)\u001b[49m\n\u001b[1;32m     37\u001b[0m \u001b[38;5;28;01mexcept\u001b[39;00m \u001b[38;5;167;01mException\u001b[39;00m \u001b[38;5;28;01mas\u001b[39;00m e:\n",
      "File \u001b[0;32m~/.pyenv/versions/3.10.6/envs/energy-economy/lib/python3.10/site-packages/patsy/eval.py:169\u001b[0m, in \u001b[0;36mEvalEnvironment.eval\u001b[0;34m(self, expr, source_name, inner_namespace)\u001b[0m\n\u001b[1;32m    168\u001b[0m code \u001b[38;5;241m=\u001b[39m \u001b[38;5;28mcompile\u001b[39m(expr, source_name, \u001b[38;5;124m\"\u001b[39m\u001b[38;5;124meval\u001b[39m\u001b[38;5;124m\"\u001b[39m, \u001b[38;5;28mself\u001b[39m\u001b[38;5;241m.\u001b[39mflags, \u001b[38;5;28;01mFalse\u001b[39;00m)\n\u001b[0;32m--> 169\u001b[0m \u001b[38;5;28;01mreturn\u001b[39;00m \u001b[38;5;28;43meval\u001b[39;49m\u001b[43m(\u001b[49m\u001b[43mcode\u001b[49m\u001b[43m,\u001b[49m\u001b[43m \u001b[49m\u001b[43m{\u001b[49m\u001b[43m}\u001b[49m\u001b[43m,\u001b[49m\u001b[43m \u001b[49m\u001b[43mVarLookupDict\u001b[49m\u001b[43m(\u001b[49m\u001b[43m[\u001b[49m\u001b[43minner_namespace\u001b[49m\u001b[43m]\u001b[49m\n\u001b[1;32m    170\u001b[0m \u001b[43m                                    \u001b[49m\u001b[38;5;241;43m+\u001b[39;49m\u001b[43m \u001b[49m\u001b[38;5;28;43mself\u001b[39;49m\u001b[38;5;241;43m.\u001b[39;49m\u001b[43m_namespaces\u001b[49m\u001b[43m)\u001b[49m\u001b[43m)\u001b[49m\n",
      "File \u001b[0;32m<string>:1\u001b[0m\n",
      "\u001b[0;31mNameError\u001b[0m: name 'scale__biofuel_electricity' is not defined",
      "\nThe above exception was the direct cause of the following exception:\n",
      "\u001b[0;31mPatsyError\u001b[0m                                Traceback (most recent call last)",
      "Cell \u001b[0;32mIn[70], line 1\u001b[0m\n\u001b[0;32m----> 1\u001b[0m modelb1 \u001b[38;5;241m=\u001b[39m \u001b[43msmf\u001b[49m\u001b[38;5;241;43m.\u001b[39;49m\u001b[43mols\u001b[49m\u001b[43m(\u001b[49m\u001b[43mformula\u001b[49m\u001b[43m \u001b[49m\u001b[38;5;241;43m=\u001b[39;49m\u001b[43m \u001b[49m\u001b[38;5;124;43m'\u001b[39;49m\u001b[38;5;124;43mremainder__GDP_per_capita ~ scale__biofuel_electricity\u001b[39;49m\u001b[38;5;124;43m'\u001b[39;49m\u001b[43m,\u001b[49m\u001b[43m \u001b[49m\u001b[43mdata\u001b[49m\u001b[38;5;241;43m=\u001b[39;49m\u001b[43mfull_cleaned_base\u001b[49m\u001b[43m)\u001b[49m\u001b[38;5;241m.\u001b[39mfit()\n\u001b[1;32m      3\u001b[0m \u001b[38;5;28mprint\u001b[39m(modelb1\u001b[38;5;241m.\u001b[39mparams)\n",
      "File \u001b[0;32m~/.pyenv/versions/3.10.6/envs/energy-economy/lib/python3.10/site-packages/statsmodels/base/model.py:203\u001b[0m, in \u001b[0;36mModel.from_formula\u001b[0;34m(cls, formula, data, subset, drop_cols, *args, **kwargs)\u001b[0m\n\u001b[1;32m    200\u001b[0m \u001b[38;5;28;01mif\u001b[39;00m missing \u001b[38;5;241m==\u001b[39m \u001b[38;5;124m'\u001b[39m\u001b[38;5;124mnone\u001b[39m\u001b[38;5;124m'\u001b[39m:  \u001b[38;5;66;03m# with patsy it's drop or raise. let's raise.\u001b[39;00m\n\u001b[1;32m    201\u001b[0m     missing \u001b[38;5;241m=\u001b[39m \u001b[38;5;124m'\u001b[39m\u001b[38;5;124mraise\u001b[39m\u001b[38;5;124m'\u001b[39m\n\u001b[0;32m--> 203\u001b[0m tmp \u001b[38;5;241m=\u001b[39m \u001b[43mhandle_formula_data\u001b[49m\u001b[43m(\u001b[49m\u001b[43mdata\u001b[49m\u001b[43m,\u001b[49m\u001b[43m \u001b[49m\u001b[38;5;28;43;01mNone\u001b[39;49;00m\u001b[43m,\u001b[49m\u001b[43m \u001b[49m\u001b[43mformula\u001b[49m\u001b[43m,\u001b[49m\u001b[43m \u001b[49m\u001b[43mdepth\u001b[49m\u001b[38;5;241;43m=\u001b[39;49m\u001b[43meval_env\u001b[49m\u001b[43m,\u001b[49m\n\u001b[1;32m    204\u001b[0m \u001b[43m                          \u001b[49m\u001b[43mmissing\u001b[49m\u001b[38;5;241;43m=\u001b[39;49m\u001b[43mmissing\u001b[49m\u001b[43m)\u001b[49m\n\u001b[1;32m    205\u001b[0m ((endog, exog), missing_idx, design_info) \u001b[38;5;241m=\u001b[39m tmp\n\u001b[1;32m    206\u001b[0m max_endog \u001b[38;5;241m=\u001b[39m \u001b[38;5;28mcls\u001b[39m\u001b[38;5;241m.\u001b[39m_formula_max_endog\n",
      "File \u001b[0;32m~/.pyenv/versions/3.10.6/envs/energy-economy/lib/python3.10/site-packages/statsmodels/formula/formulatools.py:63\u001b[0m, in \u001b[0;36mhandle_formula_data\u001b[0;34m(Y, X, formula, depth, missing)\u001b[0m\n\u001b[1;32m     61\u001b[0m \u001b[38;5;28;01melse\u001b[39;00m:\n\u001b[1;32m     62\u001b[0m     \u001b[38;5;28;01mif\u001b[39;00m data_util\u001b[38;5;241m.\u001b[39m_is_using_pandas(Y, \u001b[38;5;28;01mNone\u001b[39;00m):\n\u001b[0;32m---> 63\u001b[0m         result \u001b[38;5;241m=\u001b[39m \u001b[43mdmatrices\u001b[49m\u001b[43m(\u001b[49m\u001b[43mformula\u001b[49m\u001b[43m,\u001b[49m\u001b[43m \u001b[49m\u001b[43mY\u001b[49m\u001b[43m,\u001b[49m\u001b[43m \u001b[49m\u001b[43mdepth\u001b[49m\u001b[43m,\u001b[49m\u001b[43m \u001b[49m\u001b[43mreturn_type\u001b[49m\u001b[38;5;241;43m=\u001b[39;49m\u001b[38;5;124;43m'\u001b[39;49m\u001b[38;5;124;43mdataframe\u001b[39;49m\u001b[38;5;124;43m'\u001b[39;49m\u001b[43m,\u001b[49m\n\u001b[1;32m     64\u001b[0m \u001b[43m                           \u001b[49m\u001b[43mNA_action\u001b[49m\u001b[38;5;241;43m=\u001b[39;49m\u001b[43mna_action\u001b[49m\u001b[43m)\u001b[49m\n\u001b[1;32m     65\u001b[0m     \u001b[38;5;28;01melse\u001b[39;00m:\n\u001b[1;32m     66\u001b[0m         result \u001b[38;5;241m=\u001b[39m dmatrices(formula, Y, depth, return_type\u001b[38;5;241m=\u001b[39m\u001b[38;5;124m'\u001b[39m\u001b[38;5;124mdataframe\u001b[39m\u001b[38;5;124m'\u001b[39m,\n\u001b[1;32m     67\u001b[0m                            NA_action\u001b[38;5;241m=\u001b[39mna_action)\n",
      "File \u001b[0;32m~/.pyenv/versions/3.10.6/envs/energy-economy/lib/python3.10/site-packages/patsy/highlevel.py:309\u001b[0m, in \u001b[0;36mdmatrices\u001b[0;34m(formula_like, data, eval_env, NA_action, return_type)\u001b[0m\n\u001b[1;32m    299\u001b[0m \u001b[38;5;250m\u001b[39m\u001b[38;5;124;03m\"\"\"Construct two design matrices given a formula_like and data.\u001b[39;00m\n\u001b[1;32m    300\u001b[0m \n\u001b[1;32m    301\u001b[0m \u001b[38;5;124;03mThis function is identical to :func:`dmatrix`, except that it requires\u001b[39;00m\n\u001b[0;32m   (...)\u001b[0m\n\u001b[1;32m    306\u001b[0m \u001b[38;5;124;03mSee :func:`dmatrix` for details.\u001b[39;00m\n\u001b[1;32m    307\u001b[0m \u001b[38;5;124;03m\"\"\"\u001b[39;00m\n\u001b[1;32m    308\u001b[0m eval_env \u001b[38;5;241m=\u001b[39m EvalEnvironment\u001b[38;5;241m.\u001b[39mcapture(eval_env, reference\u001b[38;5;241m=\u001b[39m\u001b[38;5;241m1\u001b[39m)\n\u001b[0;32m--> 309\u001b[0m (lhs, rhs) \u001b[38;5;241m=\u001b[39m \u001b[43m_do_highlevel_design\u001b[49m\u001b[43m(\u001b[49m\u001b[43mformula_like\u001b[49m\u001b[43m,\u001b[49m\u001b[43m \u001b[49m\u001b[43mdata\u001b[49m\u001b[43m,\u001b[49m\u001b[43m \u001b[49m\u001b[43meval_env\u001b[49m\u001b[43m,\u001b[49m\n\u001b[1;32m    310\u001b[0m \u001b[43m                                  \u001b[49m\u001b[43mNA_action\u001b[49m\u001b[43m,\u001b[49m\u001b[43m \u001b[49m\u001b[43mreturn_type\u001b[49m\u001b[43m)\u001b[49m\n\u001b[1;32m    311\u001b[0m \u001b[38;5;28;01mif\u001b[39;00m lhs\u001b[38;5;241m.\u001b[39mshape[\u001b[38;5;241m1\u001b[39m] \u001b[38;5;241m==\u001b[39m \u001b[38;5;241m0\u001b[39m:\n\u001b[1;32m    312\u001b[0m     \u001b[38;5;28;01mraise\u001b[39;00m PatsyError(\u001b[38;5;124m\"\u001b[39m\u001b[38;5;124mmodel is missing required outcome variables\u001b[39m\u001b[38;5;124m\"\u001b[39m)\n",
      "File \u001b[0;32m~/.pyenv/versions/3.10.6/envs/energy-economy/lib/python3.10/site-packages/patsy/highlevel.py:164\u001b[0m, in \u001b[0;36m_do_highlevel_design\u001b[0;34m(formula_like, data, eval_env, NA_action, return_type)\u001b[0m\n\u001b[1;32m    162\u001b[0m \u001b[38;5;28;01mdef\u001b[39;00m \u001b[38;5;21mdata_iter_maker\u001b[39m():\n\u001b[1;32m    163\u001b[0m     \u001b[38;5;28;01mreturn\u001b[39;00m \u001b[38;5;28miter\u001b[39m([data])\n\u001b[0;32m--> 164\u001b[0m design_infos \u001b[38;5;241m=\u001b[39m \u001b[43m_try_incr_builders\u001b[49m\u001b[43m(\u001b[49m\u001b[43mformula_like\u001b[49m\u001b[43m,\u001b[49m\u001b[43m \u001b[49m\u001b[43mdata_iter_maker\u001b[49m\u001b[43m,\u001b[49m\u001b[43m \u001b[49m\u001b[43meval_env\u001b[49m\u001b[43m,\u001b[49m\n\u001b[1;32m    165\u001b[0m \u001b[43m                                  \u001b[49m\u001b[43mNA_action\u001b[49m\u001b[43m)\u001b[49m\n\u001b[1;32m    166\u001b[0m \u001b[38;5;28;01mif\u001b[39;00m design_infos \u001b[38;5;129;01mis\u001b[39;00m \u001b[38;5;129;01mnot\u001b[39;00m \u001b[38;5;28;01mNone\u001b[39;00m:\n\u001b[1;32m    167\u001b[0m     \u001b[38;5;28;01mreturn\u001b[39;00m build_design_matrices(design_infos, data,\n\u001b[1;32m    168\u001b[0m                                  NA_action\u001b[38;5;241m=\u001b[39mNA_action,\n\u001b[1;32m    169\u001b[0m                                  return_type\u001b[38;5;241m=\u001b[39mreturn_type)\n",
      "File \u001b[0;32m~/.pyenv/versions/3.10.6/envs/energy-economy/lib/python3.10/site-packages/patsy/highlevel.py:66\u001b[0m, in \u001b[0;36m_try_incr_builders\u001b[0;34m(formula_like, data_iter_maker, eval_env, NA_action)\u001b[0m\n\u001b[1;32m     64\u001b[0m \u001b[38;5;28;01mif\u001b[39;00m \u001b[38;5;28misinstance\u001b[39m(formula_like, ModelDesc):\n\u001b[1;32m     65\u001b[0m     \u001b[38;5;28;01massert\u001b[39;00m \u001b[38;5;28misinstance\u001b[39m(eval_env, EvalEnvironment)\n\u001b[0;32m---> 66\u001b[0m     \u001b[38;5;28;01mreturn\u001b[39;00m \u001b[43mdesign_matrix_builders\u001b[49m\u001b[43m(\u001b[49m\u001b[43m[\u001b[49m\u001b[43mformula_like\u001b[49m\u001b[38;5;241;43m.\u001b[39;49m\u001b[43mlhs_termlist\u001b[49m\u001b[43m,\u001b[49m\n\u001b[1;32m     67\u001b[0m \u001b[43m                                   \u001b[49m\u001b[43mformula_like\u001b[49m\u001b[38;5;241;43m.\u001b[39;49m\u001b[43mrhs_termlist\u001b[49m\u001b[43m]\u001b[49m\u001b[43m,\u001b[49m\n\u001b[1;32m     68\u001b[0m \u001b[43m                                  \u001b[49m\u001b[43mdata_iter_maker\u001b[49m\u001b[43m,\u001b[49m\n\u001b[1;32m     69\u001b[0m \u001b[43m                                  \u001b[49m\u001b[43meval_env\u001b[49m\u001b[43m,\u001b[49m\n\u001b[1;32m     70\u001b[0m \u001b[43m                                  \u001b[49m\u001b[43mNA_action\u001b[49m\u001b[43m)\u001b[49m\n\u001b[1;32m     71\u001b[0m \u001b[38;5;28;01melse\u001b[39;00m:\n\u001b[1;32m     72\u001b[0m     \u001b[38;5;28;01mreturn\u001b[39;00m \u001b[38;5;28;01mNone\u001b[39;00m\n",
      "File \u001b[0;32m~/.pyenv/versions/3.10.6/envs/energy-economy/lib/python3.10/site-packages/patsy/build.py:693\u001b[0m, in \u001b[0;36mdesign_matrix_builders\u001b[0;34m(termlists, data_iter_maker, eval_env, NA_action)\u001b[0m\n\u001b[1;32m    689\u001b[0m factor_states \u001b[38;5;241m=\u001b[39m _factors_memorize(all_factors, data_iter_maker, eval_env)\n\u001b[1;32m    690\u001b[0m \u001b[38;5;66;03m# Now all the factors have working eval methods, so we can evaluate them\u001b[39;00m\n\u001b[1;32m    691\u001b[0m \u001b[38;5;66;03m# on some data to find out what type of data they return.\u001b[39;00m\n\u001b[1;32m    692\u001b[0m (num_column_counts,\n\u001b[0;32m--> 693\u001b[0m  cat_levels_contrasts) \u001b[38;5;241m=\u001b[39m \u001b[43m_examine_factor_types\u001b[49m\u001b[43m(\u001b[49m\u001b[43mall_factors\u001b[49m\u001b[43m,\u001b[49m\n\u001b[1;32m    694\u001b[0m \u001b[43m                                               \u001b[49m\u001b[43mfactor_states\u001b[49m\u001b[43m,\u001b[49m\n\u001b[1;32m    695\u001b[0m \u001b[43m                                               \u001b[49m\u001b[43mdata_iter_maker\u001b[49m\u001b[43m,\u001b[49m\n\u001b[1;32m    696\u001b[0m \u001b[43m                                               \u001b[49m\u001b[43mNA_action\u001b[49m\u001b[43m)\u001b[49m\n\u001b[1;32m    697\u001b[0m \u001b[38;5;66;03m# Now we need the factor infos, which encapsulate the knowledge of\u001b[39;00m\n\u001b[1;32m    698\u001b[0m \u001b[38;5;66;03m# how to turn any given factor into a chunk of data:\u001b[39;00m\n\u001b[1;32m    699\u001b[0m factor_infos \u001b[38;5;241m=\u001b[39m {}\n",
      "File \u001b[0;32m~/.pyenv/versions/3.10.6/envs/energy-economy/lib/python3.10/site-packages/patsy/build.py:443\u001b[0m, in \u001b[0;36m_examine_factor_types\u001b[0;34m(factors, factor_states, data_iter_maker, NA_action)\u001b[0m\n\u001b[1;32m    441\u001b[0m \u001b[38;5;28;01mfor\u001b[39;00m data \u001b[38;5;129;01min\u001b[39;00m data_iter_maker():\n\u001b[1;32m    442\u001b[0m     \u001b[38;5;28;01mfor\u001b[39;00m factor \u001b[38;5;129;01min\u001b[39;00m \u001b[38;5;28mlist\u001b[39m(examine_needed):\n\u001b[0;32m--> 443\u001b[0m         value \u001b[38;5;241m=\u001b[39m \u001b[43mfactor\u001b[49m\u001b[38;5;241;43m.\u001b[39;49m\u001b[43meval\u001b[49m\u001b[43m(\u001b[49m\u001b[43mfactor_states\u001b[49m\u001b[43m[\u001b[49m\u001b[43mfactor\u001b[49m\u001b[43m]\u001b[49m\u001b[43m,\u001b[49m\u001b[43m \u001b[49m\u001b[43mdata\u001b[49m\u001b[43m)\u001b[49m\n\u001b[1;32m    444\u001b[0m         \u001b[38;5;28;01mif\u001b[39;00m factor \u001b[38;5;129;01min\u001b[39;00m cat_sniffers \u001b[38;5;129;01mor\u001b[39;00m guess_categorical(value):\n\u001b[1;32m    445\u001b[0m             \u001b[38;5;28;01mif\u001b[39;00m factor \u001b[38;5;129;01mnot\u001b[39;00m \u001b[38;5;129;01min\u001b[39;00m cat_sniffers:\n",
      "File \u001b[0;32m~/.pyenv/versions/3.10.6/envs/energy-economy/lib/python3.10/site-packages/patsy/eval.py:568\u001b[0m, in \u001b[0;36mEvalFactor.eval\u001b[0;34m(self, memorize_state, data)\u001b[0m\n\u001b[1;32m    567\u001b[0m \u001b[38;5;28;01mdef\u001b[39;00m \u001b[38;5;21meval\u001b[39m(\u001b[38;5;28mself\u001b[39m, memorize_state, data):\n\u001b[0;32m--> 568\u001b[0m     \u001b[38;5;28;01mreturn\u001b[39;00m \u001b[38;5;28;43mself\u001b[39;49m\u001b[38;5;241;43m.\u001b[39;49m\u001b[43m_eval\u001b[49m\u001b[43m(\u001b[49m\u001b[43mmemorize_state\u001b[49m\u001b[43m[\u001b[49m\u001b[38;5;124;43m\"\u001b[39;49m\u001b[38;5;124;43meval_code\u001b[39;49m\u001b[38;5;124;43m\"\u001b[39;49m\u001b[43m]\u001b[49m\u001b[43m,\u001b[49m\n\u001b[1;32m    569\u001b[0m \u001b[43m                      \u001b[49m\u001b[43mmemorize_state\u001b[49m\u001b[43m,\u001b[49m\n\u001b[1;32m    570\u001b[0m \u001b[43m                      \u001b[49m\u001b[43mdata\u001b[49m\u001b[43m)\u001b[49m\n",
      "File \u001b[0;32m~/.pyenv/versions/3.10.6/envs/energy-economy/lib/python3.10/site-packages/patsy/eval.py:551\u001b[0m, in \u001b[0;36mEvalFactor._eval\u001b[0;34m(self, code, memorize_state, data)\u001b[0m\n\u001b[1;32m    549\u001b[0m \u001b[38;5;28;01mdef\u001b[39;00m \u001b[38;5;21m_eval\u001b[39m(\u001b[38;5;28mself\u001b[39m, code, memorize_state, data):\n\u001b[1;32m    550\u001b[0m     inner_namespace \u001b[38;5;241m=\u001b[39m VarLookupDict([data, memorize_state[\u001b[38;5;124m\"\u001b[39m\u001b[38;5;124mtransforms\u001b[39m\u001b[38;5;124m\"\u001b[39m]])\n\u001b[0;32m--> 551\u001b[0m     \u001b[38;5;28;01mreturn\u001b[39;00m \u001b[43mcall_and_wrap_exc\u001b[49m\u001b[43m(\u001b[49m\u001b[38;5;124;43m\"\u001b[39;49m\u001b[38;5;124;43mError evaluating factor\u001b[39;49m\u001b[38;5;124;43m\"\u001b[39;49m\u001b[43m,\u001b[49m\n\u001b[1;32m    552\u001b[0m \u001b[43m                             \u001b[49m\u001b[38;5;28;43mself\u001b[39;49m\u001b[43m,\u001b[49m\n\u001b[1;32m    553\u001b[0m \u001b[43m                             \u001b[49m\u001b[43mmemorize_state\u001b[49m\u001b[43m[\u001b[49m\u001b[38;5;124;43m\"\u001b[39;49m\u001b[38;5;124;43meval_env\u001b[39;49m\u001b[38;5;124;43m\"\u001b[39;49m\u001b[43m]\u001b[49m\u001b[38;5;241;43m.\u001b[39;49m\u001b[43meval\u001b[49m\u001b[43m,\u001b[49m\n\u001b[1;32m    554\u001b[0m \u001b[43m                             \u001b[49m\u001b[43mcode\u001b[49m\u001b[43m,\u001b[49m\n\u001b[1;32m    555\u001b[0m \u001b[43m                             \u001b[49m\u001b[43minner_namespace\u001b[49m\u001b[38;5;241;43m=\u001b[39;49m\u001b[43minner_namespace\u001b[49m\u001b[43m)\u001b[49m\n",
      "File \u001b[0;32m~/.pyenv/versions/3.10.6/envs/energy-economy/lib/python3.10/site-packages/patsy/compat.py:43\u001b[0m, in \u001b[0;36mcall_and_wrap_exc\u001b[0;34m(msg, origin, f, *args, **kwargs)\u001b[0m\n\u001b[1;32m     39\u001b[0m     new_exc \u001b[38;5;241m=\u001b[39m PatsyError(\u001b[38;5;124m\"\u001b[39m\u001b[38;5;132;01m%s\u001b[39;00m\u001b[38;5;124m: \u001b[39m\u001b[38;5;132;01m%s\u001b[39;00m\u001b[38;5;124m: \u001b[39m\u001b[38;5;132;01m%s\u001b[39;00m\u001b[38;5;124m\"\u001b[39m\n\u001b[1;32m     40\u001b[0m                          \u001b[38;5;241m%\u001b[39m (msg, e\u001b[38;5;241m.\u001b[39m\u001b[38;5;18m__class__\u001b[39m\u001b[38;5;241m.\u001b[39m\u001b[38;5;18m__name__\u001b[39m, e),\n\u001b[1;32m     41\u001b[0m                          origin)\n\u001b[1;32m     42\u001b[0m     \u001b[38;5;66;03m# Use 'exec' to hide this syntax from the Python 2 parser:\u001b[39;00m\n\u001b[0;32m---> 43\u001b[0m     \u001b[43mexec\u001b[49m\u001b[43m(\u001b[49m\u001b[38;5;124;43m\"\u001b[39;49m\u001b[38;5;124;43mraise new_exc from e\u001b[39;49m\u001b[38;5;124;43m\"\u001b[39;49m\u001b[43m)\u001b[49m\n\u001b[1;32m     44\u001b[0m \u001b[38;5;28;01melse\u001b[39;00m:\n\u001b[1;32m     45\u001b[0m     \u001b[38;5;66;03m# In python 2, we just let the original exception escape -- better\u001b[39;00m\n\u001b[1;32m     46\u001b[0m     \u001b[38;5;66;03m# than destroying the traceback. But if it's a PatsyError, we can\u001b[39;00m\n\u001b[1;32m     47\u001b[0m     \u001b[38;5;66;03m# at least set the origin properly.\u001b[39;00m\n\u001b[1;32m     48\u001b[0m     \u001b[38;5;28;01mif\u001b[39;00m \u001b[38;5;28misinstance\u001b[39m(e, PatsyError):\n",
      "File \u001b[0;32m<string>:1\u001b[0m\n",
      "\u001b[0;31mPatsyError\u001b[0m: Error evaluating factor: NameError: name 'scale__biofuel_electricity' is not defined\n    remainder__GDP_per_capita ~ scale__biofuel_electricity\n                                ^^^^^^^^^^^^^^^^^^^^^^^^^^"
     ]
    }
   ],
   "source": [
    "modelb1 = smf.ols(formula = 'remainder__GDP_per_capita ~ scale__biofuel_electricity', data=full_cleaned_base).fit()\n",
    "\n",
    "print(modelb1.params)"
   ]
  },
  {
   "cell_type": "code",
   "execution_count": 71,
   "id": "69adccc8",
   "metadata": {},
   "outputs": [
    {
     "ename": "PatsyError",
     "evalue": "Error evaluating factor: NameError: name 'scale__hydro_electricity' is not defined\n    remainder__GDP_per_capita ~ scale__hydro_electricity\n                                ^^^^^^^^^^^^^^^^^^^^^^^^",
     "output_type": "error",
     "traceback": [
      "\u001b[0;31m---------------------------------------------------------------------------\u001b[0m",
      "\u001b[0;31mNameError\u001b[0m                                 Traceback (most recent call last)",
      "File \u001b[0;32m~/.pyenv/versions/3.10.6/envs/energy-economy/lib/python3.10/site-packages/patsy/compat.py:36\u001b[0m, in \u001b[0;36mcall_and_wrap_exc\u001b[0;34m(msg, origin, f, *args, **kwargs)\u001b[0m\n\u001b[1;32m     35\u001b[0m \u001b[38;5;28;01mtry\u001b[39;00m:\n\u001b[0;32m---> 36\u001b[0m     \u001b[38;5;28;01mreturn\u001b[39;00m \u001b[43mf\u001b[49m\u001b[43m(\u001b[49m\u001b[38;5;241;43m*\u001b[39;49m\u001b[43margs\u001b[49m\u001b[43m,\u001b[49m\u001b[43m \u001b[49m\u001b[38;5;241;43m*\u001b[39;49m\u001b[38;5;241;43m*\u001b[39;49m\u001b[43mkwargs\u001b[49m\u001b[43m)\u001b[49m\n\u001b[1;32m     37\u001b[0m \u001b[38;5;28;01mexcept\u001b[39;00m \u001b[38;5;167;01mException\u001b[39;00m \u001b[38;5;28;01mas\u001b[39;00m e:\n",
      "File \u001b[0;32m~/.pyenv/versions/3.10.6/envs/energy-economy/lib/python3.10/site-packages/patsy/eval.py:169\u001b[0m, in \u001b[0;36mEvalEnvironment.eval\u001b[0;34m(self, expr, source_name, inner_namespace)\u001b[0m\n\u001b[1;32m    168\u001b[0m code \u001b[38;5;241m=\u001b[39m \u001b[38;5;28mcompile\u001b[39m(expr, source_name, \u001b[38;5;124m\"\u001b[39m\u001b[38;5;124meval\u001b[39m\u001b[38;5;124m\"\u001b[39m, \u001b[38;5;28mself\u001b[39m\u001b[38;5;241m.\u001b[39mflags, \u001b[38;5;28;01mFalse\u001b[39;00m)\n\u001b[0;32m--> 169\u001b[0m \u001b[38;5;28;01mreturn\u001b[39;00m \u001b[38;5;28;43meval\u001b[39;49m\u001b[43m(\u001b[49m\u001b[43mcode\u001b[49m\u001b[43m,\u001b[49m\u001b[43m \u001b[49m\u001b[43m{\u001b[49m\u001b[43m}\u001b[49m\u001b[43m,\u001b[49m\u001b[43m \u001b[49m\u001b[43mVarLookupDict\u001b[49m\u001b[43m(\u001b[49m\u001b[43m[\u001b[49m\u001b[43minner_namespace\u001b[49m\u001b[43m]\u001b[49m\n\u001b[1;32m    170\u001b[0m \u001b[43m                                    \u001b[49m\u001b[38;5;241;43m+\u001b[39;49m\u001b[43m \u001b[49m\u001b[38;5;28;43mself\u001b[39;49m\u001b[38;5;241;43m.\u001b[39;49m\u001b[43m_namespaces\u001b[49m\u001b[43m)\u001b[49m\u001b[43m)\u001b[49m\n",
      "File \u001b[0;32m<string>:1\u001b[0m\n",
      "\u001b[0;31mNameError\u001b[0m: name 'scale__hydro_electricity' is not defined",
      "\nThe above exception was the direct cause of the following exception:\n",
      "\u001b[0;31mPatsyError\u001b[0m                                Traceback (most recent call last)",
      "Cell \u001b[0;32mIn[71], line 1\u001b[0m\n\u001b[0;32m----> 1\u001b[0m modelb2 \u001b[38;5;241m=\u001b[39m \u001b[43msmf\u001b[49m\u001b[38;5;241;43m.\u001b[39;49m\u001b[43mols\u001b[49m\u001b[43m(\u001b[49m\u001b[43mformula\u001b[49m\u001b[43m \u001b[49m\u001b[38;5;241;43m=\u001b[39;49m\u001b[43m \u001b[49m\u001b[38;5;124;43m'\u001b[39;49m\u001b[38;5;124;43mremainder__GDP_per_capita ~ scale__hydro_electricity\u001b[39;49m\u001b[38;5;124;43m'\u001b[39;49m\u001b[43m,\u001b[49m\u001b[43m \u001b[49m\u001b[43mdata\u001b[49m\u001b[38;5;241;43m=\u001b[39;49m\u001b[43mfull_cleaned_base\u001b[49m\u001b[43m)\u001b[49m\u001b[38;5;241m.\u001b[39mfit()\n\u001b[1;32m      3\u001b[0m \u001b[38;5;28mprint\u001b[39m(modelb2\u001b[38;5;241m.\u001b[39mparams)\n",
      "File \u001b[0;32m~/.pyenv/versions/3.10.6/envs/energy-economy/lib/python3.10/site-packages/statsmodels/base/model.py:203\u001b[0m, in \u001b[0;36mModel.from_formula\u001b[0;34m(cls, formula, data, subset, drop_cols, *args, **kwargs)\u001b[0m\n\u001b[1;32m    200\u001b[0m \u001b[38;5;28;01mif\u001b[39;00m missing \u001b[38;5;241m==\u001b[39m \u001b[38;5;124m'\u001b[39m\u001b[38;5;124mnone\u001b[39m\u001b[38;5;124m'\u001b[39m:  \u001b[38;5;66;03m# with patsy it's drop or raise. let's raise.\u001b[39;00m\n\u001b[1;32m    201\u001b[0m     missing \u001b[38;5;241m=\u001b[39m \u001b[38;5;124m'\u001b[39m\u001b[38;5;124mraise\u001b[39m\u001b[38;5;124m'\u001b[39m\n\u001b[0;32m--> 203\u001b[0m tmp \u001b[38;5;241m=\u001b[39m \u001b[43mhandle_formula_data\u001b[49m\u001b[43m(\u001b[49m\u001b[43mdata\u001b[49m\u001b[43m,\u001b[49m\u001b[43m \u001b[49m\u001b[38;5;28;43;01mNone\u001b[39;49;00m\u001b[43m,\u001b[49m\u001b[43m \u001b[49m\u001b[43mformula\u001b[49m\u001b[43m,\u001b[49m\u001b[43m \u001b[49m\u001b[43mdepth\u001b[49m\u001b[38;5;241;43m=\u001b[39;49m\u001b[43meval_env\u001b[49m\u001b[43m,\u001b[49m\n\u001b[1;32m    204\u001b[0m \u001b[43m                          \u001b[49m\u001b[43mmissing\u001b[49m\u001b[38;5;241;43m=\u001b[39;49m\u001b[43mmissing\u001b[49m\u001b[43m)\u001b[49m\n\u001b[1;32m    205\u001b[0m ((endog, exog), missing_idx, design_info) \u001b[38;5;241m=\u001b[39m tmp\n\u001b[1;32m    206\u001b[0m max_endog \u001b[38;5;241m=\u001b[39m \u001b[38;5;28mcls\u001b[39m\u001b[38;5;241m.\u001b[39m_formula_max_endog\n",
      "File \u001b[0;32m~/.pyenv/versions/3.10.6/envs/energy-economy/lib/python3.10/site-packages/statsmodels/formula/formulatools.py:63\u001b[0m, in \u001b[0;36mhandle_formula_data\u001b[0;34m(Y, X, formula, depth, missing)\u001b[0m\n\u001b[1;32m     61\u001b[0m \u001b[38;5;28;01melse\u001b[39;00m:\n\u001b[1;32m     62\u001b[0m     \u001b[38;5;28;01mif\u001b[39;00m data_util\u001b[38;5;241m.\u001b[39m_is_using_pandas(Y, \u001b[38;5;28;01mNone\u001b[39;00m):\n\u001b[0;32m---> 63\u001b[0m         result \u001b[38;5;241m=\u001b[39m \u001b[43mdmatrices\u001b[49m\u001b[43m(\u001b[49m\u001b[43mformula\u001b[49m\u001b[43m,\u001b[49m\u001b[43m \u001b[49m\u001b[43mY\u001b[49m\u001b[43m,\u001b[49m\u001b[43m \u001b[49m\u001b[43mdepth\u001b[49m\u001b[43m,\u001b[49m\u001b[43m \u001b[49m\u001b[43mreturn_type\u001b[49m\u001b[38;5;241;43m=\u001b[39;49m\u001b[38;5;124;43m'\u001b[39;49m\u001b[38;5;124;43mdataframe\u001b[39;49m\u001b[38;5;124;43m'\u001b[39;49m\u001b[43m,\u001b[49m\n\u001b[1;32m     64\u001b[0m \u001b[43m                           \u001b[49m\u001b[43mNA_action\u001b[49m\u001b[38;5;241;43m=\u001b[39;49m\u001b[43mna_action\u001b[49m\u001b[43m)\u001b[49m\n\u001b[1;32m     65\u001b[0m     \u001b[38;5;28;01melse\u001b[39;00m:\n\u001b[1;32m     66\u001b[0m         result \u001b[38;5;241m=\u001b[39m dmatrices(formula, Y, depth, return_type\u001b[38;5;241m=\u001b[39m\u001b[38;5;124m'\u001b[39m\u001b[38;5;124mdataframe\u001b[39m\u001b[38;5;124m'\u001b[39m,\n\u001b[1;32m     67\u001b[0m                            NA_action\u001b[38;5;241m=\u001b[39mna_action)\n",
      "File \u001b[0;32m~/.pyenv/versions/3.10.6/envs/energy-economy/lib/python3.10/site-packages/patsy/highlevel.py:309\u001b[0m, in \u001b[0;36mdmatrices\u001b[0;34m(formula_like, data, eval_env, NA_action, return_type)\u001b[0m\n\u001b[1;32m    299\u001b[0m \u001b[38;5;250m\u001b[39m\u001b[38;5;124;03m\"\"\"Construct two design matrices given a formula_like and data.\u001b[39;00m\n\u001b[1;32m    300\u001b[0m \n\u001b[1;32m    301\u001b[0m \u001b[38;5;124;03mThis function is identical to :func:`dmatrix`, except that it requires\u001b[39;00m\n\u001b[0;32m   (...)\u001b[0m\n\u001b[1;32m    306\u001b[0m \u001b[38;5;124;03mSee :func:`dmatrix` for details.\u001b[39;00m\n\u001b[1;32m    307\u001b[0m \u001b[38;5;124;03m\"\"\"\u001b[39;00m\n\u001b[1;32m    308\u001b[0m eval_env \u001b[38;5;241m=\u001b[39m EvalEnvironment\u001b[38;5;241m.\u001b[39mcapture(eval_env, reference\u001b[38;5;241m=\u001b[39m\u001b[38;5;241m1\u001b[39m)\n\u001b[0;32m--> 309\u001b[0m (lhs, rhs) \u001b[38;5;241m=\u001b[39m \u001b[43m_do_highlevel_design\u001b[49m\u001b[43m(\u001b[49m\u001b[43mformula_like\u001b[49m\u001b[43m,\u001b[49m\u001b[43m \u001b[49m\u001b[43mdata\u001b[49m\u001b[43m,\u001b[49m\u001b[43m \u001b[49m\u001b[43meval_env\u001b[49m\u001b[43m,\u001b[49m\n\u001b[1;32m    310\u001b[0m \u001b[43m                                  \u001b[49m\u001b[43mNA_action\u001b[49m\u001b[43m,\u001b[49m\u001b[43m \u001b[49m\u001b[43mreturn_type\u001b[49m\u001b[43m)\u001b[49m\n\u001b[1;32m    311\u001b[0m \u001b[38;5;28;01mif\u001b[39;00m lhs\u001b[38;5;241m.\u001b[39mshape[\u001b[38;5;241m1\u001b[39m] \u001b[38;5;241m==\u001b[39m \u001b[38;5;241m0\u001b[39m:\n\u001b[1;32m    312\u001b[0m     \u001b[38;5;28;01mraise\u001b[39;00m PatsyError(\u001b[38;5;124m\"\u001b[39m\u001b[38;5;124mmodel is missing required outcome variables\u001b[39m\u001b[38;5;124m\"\u001b[39m)\n",
      "File \u001b[0;32m~/.pyenv/versions/3.10.6/envs/energy-economy/lib/python3.10/site-packages/patsy/highlevel.py:164\u001b[0m, in \u001b[0;36m_do_highlevel_design\u001b[0;34m(formula_like, data, eval_env, NA_action, return_type)\u001b[0m\n\u001b[1;32m    162\u001b[0m \u001b[38;5;28;01mdef\u001b[39;00m \u001b[38;5;21mdata_iter_maker\u001b[39m():\n\u001b[1;32m    163\u001b[0m     \u001b[38;5;28;01mreturn\u001b[39;00m \u001b[38;5;28miter\u001b[39m([data])\n\u001b[0;32m--> 164\u001b[0m design_infos \u001b[38;5;241m=\u001b[39m \u001b[43m_try_incr_builders\u001b[49m\u001b[43m(\u001b[49m\u001b[43mformula_like\u001b[49m\u001b[43m,\u001b[49m\u001b[43m \u001b[49m\u001b[43mdata_iter_maker\u001b[49m\u001b[43m,\u001b[49m\u001b[43m \u001b[49m\u001b[43meval_env\u001b[49m\u001b[43m,\u001b[49m\n\u001b[1;32m    165\u001b[0m \u001b[43m                                  \u001b[49m\u001b[43mNA_action\u001b[49m\u001b[43m)\u001b[49m\n\u001b[1;32m    166\u001b[0m \u001b[38;5;28;01mif\u001b[39;00m design_infos \u001b[38;5;129;01mis\u001b[39;00m \u001b[38;5;129;01mnot\u001b[39;00m \u001b[38;5;28;01mNone\u001b[39;00m:\n\u001b[1;32m    167\u001b[0m     \u001b[38;5;28;01mreturn\u001b[39;00m build_design_matrices(design_infos, data,\n\u001b[1;32m    168\u001b[0m                                  NA_action\u001b[38;5;241m=\u001b[39mNA_action,\n\u001b[1;32m    169\u001b[0m                                  return_type\u001b[38;5;241m=\u001b[39mreturn_type)\n",
      "File \u001b[0;32m~/.pyenv/versions/3.10.6/envs/energy-economy/lib/python3.10/site-packages/patsy/highlevel.py:66\u001b[0m, in \u001b[0;36m_try_incr_builders\u001b[0;34m(formula_like, data_iter_maker, eval_env, NA_action)\u001b[0m\n\u001b[1;32m     64\u001b[0m \u001b[38;5;28;01mif\u001b[39;00m \u001b[38;5;28misinstance\u001b[39m(formula_like, ModelDesc):\n\u001b[1;32m     65\u001b[0m     \u001b[38;5;28;01massert\u001b[39;00m \u001b[38;5;28misinstance\u001b[39m(eval_env, EvalEnvironment)\n\u001b[0;32m---> 66\u001b[0m     \u001b[38;5;28;01mreturn\u001b[39;00m \u001b[43mdesign_matrix_builders\u001b[49m\u001b[43m(\u001b[49m\u001b[43m[\u001b[49m\u001b[43mformula_like\u001b[49m\u001b[38;5;241;43m.\u001b[39;49m\u001b[43mlhs_termlist\u001b[49m\u001b[43m,\u001b[49m\n\u001b[1;32m     67\u001b[0m \u001b[43m                                   \u001b[49m\u001b[43mformula_like\u001b[49m\u001b[38;5;241;43m.\u001b[39;49m\u001b[43mrhs_termlist\u001b[49m\u001b[43m]\u001b[49m\u001b[43m,\u001b[49m\n\u001b[1;32m     68\u001b[0m \u001b[43m                                  \u001b[49m\u001b[43mdata_iter_maker\u001b[49m\u001b[43m,\u001b[49m\n\u001b[1;32m     69\u001b[0m \u001b[43m                                  \u001b[49m\u001b[43meval_env\u001b[49m\u001b[43m,\u001b[49m\n\u001b[1;32m     70\u001b[0m \u001b[43m                                  \u001b[49m\u001b[43mNA_action\u001b[49m\u001b[43m)\u001b[49m\n\u001b[1;32m     71\u001b[0m \u001b[38;5;28;01melse\u001b[39;00m:\n\u001b[1;32m     72\u001b[0m     \u001b[38;5;28;01mreturn\u001b[39;00m \u001b[38;5;28;01mNone\u001b[39;00m\n",
      "File \u001b[0;32m~/.pyenv/versions/3.10.6/envs/energy-economy/lib/python3.10/site-packages/patsy/build.py:693\u001b[0m, in \u001b[0;36mdesign_matrix_builders\u001b[0;34m(termlists, data_iter_maker, eval_env, NA_action)\u001b[0m\n\u001b[1;32m    689\u001b[0m factor_states \u001b[38;5;241m=\u001b[39m _factors_memorize(all_factors, data_iter_maker, eval_env)\n\u001b[1;32m    690\u001b[0m \u001b[38;5;66;03m# Now all the factors have working eval methods, so we can evaluate them\u001b[39;00m\n\u001b[1;32m    691\u001b[0m \u001b[38;5;66;03m# on some data to find out what type of data they return.\u001b[39;00m\n\u001b[1;32m    692\u001b[0m (num_column_counts,\n\u001b[0;32m--> 693\u001b[0m  cat_levels_contrasts) \u001b[38;5;241m=\u001b[39m \u001b[43m_examine_factor_types\u001b[49m\u001b[43m(\u001b[49m\u001b[43mall_factors\u001b[49m\u001b[43m,\u001b[49m\n\u001b[1;32m    694\u001b[0m \u001b[43m                                               \u001b[49m\u001b[43mfactor_states\u001b[49m\u001b[43m,\u001b[49m\n\u001b[1;32m    695\u001b[0m \u001b[43m                                               \u001b[49m\u001b[43mdata_iter_maker\u001b[49m\u001b[43m,\u001b[49m\n\u001b[1;32m    696\u001b[0m \u001b[43m                                               \u001b[49m\u001b[43mNA_action\u001b[49m\u001b[43m)\u001b[49m\n\u001b[1;32m    697\u001b[0m \u001b[38;5;66;03m# Now we need the factor infos, which encapsulate the knowledge of\u001b[39;00m\n\u001b[1;32m    698\u001b[0m \u001b[38;5;66;03m# how to turn any given factor into a chunk of data:\u001b[39;00m\n\u001b[1;32m    699\u001b[0m factor_infos \u001b[38;5;241m=\u001b[39m {}\n",
      "File \u001b[0;32m~/.pyenv/versions/3.10.6/envs/energy-economy/lib/python3.10/site-packages/patsy/build.py:443\u001b[0m, in \u001b[0;36m_examine_factor_types\u001b[0;34m(factors, factor_states, data_iter_maker, NA_action)\u001b[0m\n\u001b[1;32m    441\u001b[0m \u001b[38;5;28;01mfor\u001b[39;00m data \u001b[38;5;129;01min\u001b[39;00m data_iter_maker():\n\u001b[1;32m    442\u001b[0m     \u001b[38;5;28;01mfor\u001b[39;00m factor \u001b[38;5;129;01min\u001b[39;00m \u001b[38;5;28mlist\u001b[39m(examine_needed):\n\u001b[0;32m--> 443\u001b[0m         value \u001b[38;5;241m=\u001b[39m \u001b[43mfactor\u001b[49m\u001b[38;5;241;43m.\u001b[39;49m\u001b[43meval\u001b[49m\u001b[43m(\u001b[49m\u001b[43mfactor_states\u001b[49m\u001b[43m[\u001b[49m\u001b[43mfactor\u001b[49m\u001b[43m]\u001b[49m\u001b[43m,\u001b[49m\u001b[43m \u001b[49m\u001b[43mdata\u001b[49m\u001b[43m)\u001b[49m\n\u001b[1;32m    444\u001b[0m         \u001b[38;5;28;01mif\u001b[39;00m factor \u001b[38;5;129;01min\u001b[39;00m cat_sniffers \u001b[38;5;129;01mor\u001b[39;00m guess_categorical(value):\n\u001b[1;32m    445\u001b[0m             \u001b[38;5;28;01mif\u001b[39;00m factor \u001b[38;5;129;01mnot\u001b[39;00m \u001b[38;5;129;01min\u001b[39;00m cat_sniffers:\n",
      "File \u001b[0;32m~/.pyenv/versions/3.10.6/envs/energy-economy/lib/python3.10/site-packages/patsy/eval.py:568\u001b[0m, in \u001b[0;36mEvalFactor.eval\u001b[0;34m(self, memorize_state, data)\u001b[0m\n\u001b[1;32m    567\u001b[0m \u001b[38;5;28;01mdef\u001b[39;00m \u001b[38;5;21meval\u001b[39m(\u001b[38;5;28mself\u001b[39m, memorize_state, data):\n\u001b[0;32m--> 568\u001b[0m     \u001b[38;5;28;01mreturn\u001b[39;00m \u001b[38;5;28;43mself\u001b[39;49m\u001b[38;5;241;43m.\u001b[39;49m\u001b[43m_eval\u001b[49m\u001b[43m(\u001b[49m\u001b[43mmemorize_state\u001b[49m\u001b[43m[\u001b[49m\u001b[38;5;124;43m\"\u001b[39;49m\u001b[38;5;124;43meval_code\u001b[39;49m\u001b[38;5;124;43m\"\u001b[39;49m\u001b[43m]\u001b[49m\u001b[43m,\u001b[49m\n\u001b[1;32m    569\u001b[0m \u001b[43m                      \u001b[49m\u001b[43mmemorize_state\u001b[49m\u001b[43m,\u001b[49m\n\u001b[1;32m    570\u001b[0m \u001b[43m                      \u001b[49m\u001b[43mdata\u001b[49m\u001b[43m)\u001b[49m\n",
      "File \u001b[0;32m~/.pyenv/versions/3.10.6/envs/energy-economy/lib/python3.10/site-packages/patsy/eval.py:551\u001b[0m, in \u001b[0;36mEvalFactor._eval\u001b[0;34m(self, code, memorize_state, data)\u001b[0m\n\u001b[1;32m    549\u001b[0m \u001b[38;5;28;01mdef\u001b[39;00m \u001b[38;5;21m_eval\u001b[39m(\u001b[38;5;28mself\u001b[39m, code, memorize_state, data):\n\u001b[1;32m    550\u001b[0m     inner_namespace \u001b[38;5;241m=\u001b[39m VarLookupDict([data, memorize_state[\u001b[38;5;124m\"\u001b[39m\u001b[38;5;124mtransforms\u001b[39m\u001b[38;5;124m\"\u001b[39m]])\n\u001b[0;32m--> 551\u001b[0m     \u001b[38;5;28;01mreturn\u001b[39;00m \u001b[43mcall_and_wrap_exc\u001b[49m\u001b[43m(\u001b[49m\u001b[38;5;124;43m\"\u001b[39;49m\u001b[38;5;124;43mError evaluating factor\u001b[39;49m\u001b[38;5;124;43m\"\u001b[39;49m\u001b[43m,\u001b[49m\n\u001b[1;32m    552\u001b[0m \u001b[43m                             \u001b[49m\u001b[38;5;28;43mself\u001b[39;49m\u001b[43m,\u001b[49m\n\u001b[1;32m    553\u001b[0m \u001b[43m                             \u001b[49m\u001b[43mmemorize_state\u001b[49m\u001b[43m[\u001b[49m\u001b[38;5;124;43m\"\u001b[39;49m\u001b[38;5;124;43meval_env\u001b[39;49m\u001b[38;5;124;43m\"\u001b[39;49m\u001b[43m]\u001b[49m\u001b[38;5;241;43m.\u001b[39;49m\u001b[43meval\u001b[49m\u001b[43m,\u001b[49m\n\u001b[1;32m    554\u001b[0m \u001b[43m                             \u001b[49m\u001b[43mcode\u001b[49m\u001b[43m,\u001b[49m\n\u001b[1;32m    555\u001b[0m \u001b[43m                             \u001b[49m\u001b[43minner_namespace\u001b[49m\u001b[38;5;241;43m=\u001b[39;49m\u001b[43minner_namespace\u001b[49m\u001b[43m)\u001b[49m\n",
      "File \u001b[0;32m~/.pyenv/versions/3.10.6/envs/energy-economy/lib/python3.10/site-packages/patsy/compat.py:43\u001b[0m, in \u001b[0;36mcall_and_wrap_exc\u001b[0;34m(msg, origin, f, *args, **kwargs)\u001b[0m\n\u001b[1;32m     39\u001b[0m     new_exc \u001b[38;5;241m=\u001b[39m PatsyError(\u001b[38;5;124m\"\u001b[39m\u001b[38;5;132;01m%s\u001b[39;00m\u001b[38;5;124m: \u001b[39m\u001b[38;5;132;01m%s\u001b[39;00m\u001b[38;5;124m: \u001b[39m\u001b[38;5;132;01m%s\u001b[39;00m\u001b[38;5;124m\"\u001b[39m\n\u001b[1;32m     40\u001b[0m                          \u001b[38;5;241m%\u001b[39m (msg, e\u001b[38;5;241m.\u001b[39m\u001b[38;5;18m__class__\u001b[39m\u001b[38;5;241m.\u001b[39m\u001b[38;5;18m__name__\u001b[39m, e),\n\u001b[1;32m     41\u001b[0m                          origin)\n\u001b[1;32m     42\u001b[0m     \u001b[38;5;66;03m# Use 'exec' to hide this syntax from the Python 2 parser:\u001b[39;00m\n\u001b[0;32m---> 43\u001b[0m     \u001b[43mexec\u001b[49m\u001b[43m(\u001b[49m\u001b[38;5;124;43m\"\u001b[39;49m\u001b[38;5;124;43mraise new_exc from e\u001b[39;49m\u001b[38;5;124;43m\"\u001b[39;49m\u001b[43m)\u001b[49m\n\u001b[1;32m     44\u001b[0m \u001b[38;5;28;01melse\u001b[39;00m:\n\u001b[1;32m     45\u001b[0m     \u001b[38;5;66;03m# In python 2, we just let the original exception escape -- better\u001b[39;00m\n\u001b[1;32m     46\u001b[0m     \u001b[38;5;66;03m# than destroying the traceback. But if it's a PatsyError, we can\u001b[39;00m\n\u001b[1;32m     47\u001b[0m     \u001b[38;5;66;03m# at least set the origin properly.\u001b[39;00m\n\u001b[1;32m     48\u001b[0m     \u001b[38;5;28;01mif\u001b[39;00m \u001b[38;5;28misinstance\u001b[39m(e, PatsyError):\n",
      "File \u001b[0;32m<string>:1\u001b[0m\n",
      "\u001b[0;31mPatsyError\u001b[0m: Error evaluating factor: NameError: name 'scale__hydro_electricity' is not defined\n    remainder__GDP_per_capita ~ scale__hydro_electricity\n                                ^^^^^^^^^^^^^^^^^^^^^^^^"
     ]
    }
   ],
   "source": [
    "modelb2 = smf.ols(formula = 'remainder__GDP_per_capita ~ scale__hydro_electricity', data=full_cleaned_base).fit()\n",
    "\n",
    "print(modelb2.params)"
   ]
  },
  {
   "cell_type": "code",
   "execution_count": null,
   "id": "441eeb87",
   "metadata": {},
   "outputs": [],
   "source": []
  }
 ],
 "metadata": {
  "kernelspec": {
   "display_name": "Python 3 (ipykernel)",
   "language": "python",
   "name": "python3"
  },
  "language_info": {
   "codemirror_mode": {
    "name": "ipython",
    "version": 3
   },
   "file_extension": ".py",
   "mimetype": "text/x-python",
   "name": "python",
   "nbconvert_exporter": "python",
   "pygments_lexer": "ipython3",
   "version": "3.10.6"
  },
  "toc": {
   "base_numbering": 1,
   "nav_menu": {},
   "number_sections": true,
   "sideBar": true,
   "skip_h1_title": false,
   "title_cell": "Table of Contents",
   "title_sidebar": "Contents",
   "toc_cell": false,
   "toc_position": {},
   "toc_section_display": true,
   "toc_window_display": false
  }
 },
 "nbformat": 4,
 "nbformat_minor": 5
}
