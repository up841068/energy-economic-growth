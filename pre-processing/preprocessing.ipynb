{
 "cells": [
  {
   "cell_type": "markdown",
   "id": "fab651ac-1116-4fa2-ae72-1fba3c869f28",
   "metadata": {},
   "source": [
    "# Energy Dataset"
   ]
  },
  {
   "cell_type": "markdown",
   "id": "baf3b09f-4716-4cd0-945d-1357675ef198",
   "metadata": {},
   "source": [
    "## Importing Dataset"
   ]
  },
  {
   "cell_type": "code",
   "execution_count": 25,
   "id": "1e35301a-3edf-4ce0-8e46-28067724f342",
   "metadata": {},
   "outputs": [],
   "source": [
    "import pandas as pd\n",
    "\n",
    "url = 'https://github.com/up841068/energy-economic-growth/raw/main/raw_data/renewable-energy-data-scrapping.csv'\n",
    "\n",
    "df_energy = pd.read_csv(url)"
   ]
  },
  {
   "cell_type": "code",
   "execution_count": 26,
   "id": "ae026add-5b8c-4f0a-9070-c9c66ba1f3b2",
   "metadata": {},
   "outputs": [
    {
     "data": {
      "text/plain": [
       "array([1900, 1901, 1902, 1903, 1904, 1905, 1906, 1907, 1908, 1909, 1910,\n",
       "       1911, 1912, 1913, 1914, 1915, 1916, 1917, 1918, 1919, 1920, 1921,\n",
       "       1922, 1923, 1924, 1925, 1926, 1927, 1928, 1929, 1930, 1931, 1932,\n",
       "       1933, 1934, 1935, 1936, 1937, 1938, 1939, 1940, 1941, 1942, 1943,\n",
       "       1944, 1945, 1946, 1947, 1948, 1949, 1950, 1951, 1952, 1953, 1954,\n",
       "       1955, 1956, 1957, 1958, 1959, 1960, 1961, 1962, 1963, 1964, 1965,\n",
       "       1966, 1967, 1968, 1969, 1970, 1971, 1972, 1973, 1974, 1975, 1976,\n",
       "       1977, 1978, 1979, 1980, 1981, 1982, 1983, 1984, 1985, 1986, 1987,\n",
       "       1988, 1989, 1990, 1991, 1992, 1993, 1994, 1995, 1996, 1997, 1998,\n",
       "       1999, 2000, 2001, 2002, 2003, 2004, 2005, 2006, 2007, 2008, 2009,\n",
       "       2010, 2011, 2012, 2013, 2014, 2015, 2016, 2017, 2018, 2019, 2020,\n",
       "       2021, 2022])"
      ]
     },
     "execution_count": 26,
     "metadata": {},
     "output_type": "execute_result"
    }
   ],
   "source": [
    "df_energy.year.unique()"
   ]
  },
  {
   "cell_type": "markdown",
   "id": "39952174-9d74-45ed-99c2-983b05ca1b33",
   "metadata": {},
   "source": [
    "## Filtering the rows and columns"
   ]
  },
  {
   "cell_type": "markdown",
   "id": "30e5912f-551a-47e3-9595-623417851de6",
   "metadata": {},
   "source": [
    "Selecting the columns that contain information about renewable energy sources "
   ]
  },
  {
   "cell_type": "code",
   "execution_count": 29,
   "id": "ed2ef9a0-febd-4fab-8be8-79a60eaeaa71",
   "metadata": {
    "scrolled": true
   },
   "outputs": [],
   "source": [
    "columns_to_keep = ['country', 'year', 'iso_code', 'biofuel_electricity', 'hydro_electricity', 'other_renewable_exc_biofuel_electricity', 'solar_electricity', 'wind_electricity']\n",
    "columns_to_drop = list(set(df_energy.columns) - set(columns_to_keep))\n",
    "df_energy_filtered = df_energy.drop(columns=columns_to_drop)"
   ]
  },
  {
   "cell_type": "code",
   "execution_count": 30,
   "id": "0107c2d8-3196-476b-bdbf-b952ed07ed2e",
   "metadata": {},
   "outputs": [
    {
     "data": {
      "text/html": [
       "<div>\n",
       "<style scoped>\n",
       "    .dataframe tbody tr th:only-of-type {\n",
       "        vertical-align: middle;\n",
       "    }\n",
       "\n",
       "    .dataframe tbody tr th {\n",
       "        vertical-align: top;\n",
       "    }\n",
       "\n",
       "    .dataframe thead th {\n",
       "        text-align: right;\n",
       "    }\n",
       "</style>\n",
       "<table border=\"1\" class=\"dataframe\">\n",
       "  <thead>\n",
       "    <tr style=\"text-align: right;\">\n",
       "      <th></th>\n",
       "      <th>country</th>\n",
       "      <th>year</th>\n",
       "      <th>iso_code</th>\n",
       "      <th>biofuel_electricity</th>\n",
       "      <th>hydro_electricity</th>\n",
       "      <th>other_renewable_exc_biofuel_electricity</th>\n",
       "      <th>solar_electricity</th>\n",
       "      <th>wind_electricity</th>\n",
       "    </tr>\n",
       "  </thead>\n",
       "  <tbody>\n",
       "    <tr>\n",
       "      <th>0</th>\n",
       "      <td>Afghanistan</td>\n",
       "      <td>1900</td>\n",
       "      <td>AFG</td>\n",
       "      <td>NaN</td>\n",
       "      <td>NaN</td>\n",
       "      <td>NaN</td>\n",
       "      <td>NaN</td>\n",
       "      <td>NaN</td>\n",
       "    </tr>\n",
       "    <tr>\n",
       "      <th>1</th>\n",
       "      <td>Afghanistan</td>\n",
       "      <td>1901</td>\n",
       "      <td>AFG</td>\n",
       "      <td>NaN</td>\n",
       "      <td>NaN</td>\n",
       "      <td>NaN</td>\n",
       "      <td>NaN</td>\n",
       "      <td>NaN</td>\n",
       "    </tr>\n",
       "    <tr>\n",
       "      <th>2</th>\n",
       "      <td>Afghanistan</td>\n",
       "      <td>1902</td>\n",
       "      <td>AFG</td>\n",
       "      <td>NaN</td>\n",
       "      <td>NaN</td>\n",
       "      <td>NaN</td>\n",
       "      <td>NaN</td>\n",
       "      <td>NaN</td>\n",
       "    </tr>\n",
       "  </tbody>\n",
       "</table>\n",
       "</div>"
      ],
      "text/plain": [
       "       country  year iso_code  biofuel_electricity  hydro_electricity  \\\n",
       "0  Afghanistan  1900      AFG                  NaN                NaN   \n",
       "1  Afghanistan  1901      AFG                  NaN                NaN   \n",
       "2  Afghanistan  1902      AFG                  NaN                NaN   \n",
       "\n",
       "   other_renewable_exc_biofuel_electricity  solar_electricity  \\\n",
       "0                                      NaN                NaN   \n",
       "1                                      NaN                NaN   \n",
       "2                                      NaN                NaN   \n",
       "\n",
       "   wind_electricity  \n",
       "0               NaN  \n",
       "1               NaN  \n",
       "2               NaN  "
      ]
     },
     "execution_count": 30,
     "metadata": {},
     "output_type": "execute_result"
    }
   ],
   "source": [
    "df_energy_filtered.head(3)"
   ]
  },
  {
   "cell_type": "code",
   "execution_count": 31,
   "id": "77d6d9a1-9860-42cd-8e62-53f8b15639cd",
   "metadata": {},
   "outputs": [
    {
     "data": {
      "text/html": [
       "<div>\n",
       "<style scoped>\n",
       "    .dataframe tbody tr th:only-of-type {\n",
       "        vertical-align: middle;\n",
       "    }\n",
       "\n",
       "    .dataframe tbody tr th {\n",
       "        vertical-align: top;\n",
       "    }\n",
       "\n",
       "    .dataframe thead th {\n",
       "        text-align: right;\n",
       "    }\n",
       "</style>\n",
       "<table border=\"1\" class=\"dataframe\">\n",
       "  <thead>\n",
       "    <tr style=\"text-align: right;\">\n",
       "      <th></th>\n",
       "      <th>country</th>\n",
       "      <th>year</th>\n",
       "      <th>iso_code</th>\n",
       "      <th>biofuel_electricity</th>\n",
       "      <th>hydro_electricity</th>\n",
       "      <th>other_renewable_exc_biofuel_electricity</th>\n",
       "      <th>solar_electricity</th>\n",
       "      <th>wind_electricity</th>\n",
       "    </tr>\n",
       "  </thead>\n",
       "  <tbody>\n",
       "    <tr>\n",
       "      <th>0</th>\n",
       "      <td>Afghanistan</td>\n",
       "      <td>1900</td>\n",
       "      <td>AFG</td>\n",
       "      <td>NaN</td>\n",
       "      <td>NaN</td>\n",
       "      <td>NaN</td>\n",
       "      <td>NaN</td>\n",
       "      <td>NaN</td>\n",
       "    </tr>\n",
       "    <tr>\n",
       "      <th>1</th>\n",
       "      <td>Afghanistan</td>\n",
       "      <td>1901</td>\n",
       "      <td>AFG</td>\n",
       "      <td>NaN</td>\n",
       "      <td>NaN</td>\n",
       "      <td>NaN</td>\n",
       "      <td>NaN</td>\n",
       "      <td>NaN</td>\n",
       "    </tr>\n",
       "    <tr>\n",
       "      <th>2</th>\n",
       "      <td>Afghanistan</td>\n",
       "      <td>1902</td>\n",
       "      <td>AFG</td>\n",
       "      <td>NaN</td>\n",
       "      <td>NaN</td>\n",
       "      <td>NaN</td>\n",
       "      <td>NaN</td>\n",
       "      <td>NaN</td>\n",
       "    </tr>\n",
       "  </tbody>\n",
       "</table>\n",
       "</div>"
      ],
      "text/plain": [
       "       country  year iso_code  biofuel_electricity  hydro_electricity  \\\n",
       "0  Afghanistan  1900      AFG                  NaN                NaN   \n",
       "1  Afghanistan  1901      AFG                  NaN                NaN   \n",
       "2  Afghanistan  1902      AFG                  NaN                NaN   \n",
       "\n",
       "   other_renewable_exc_biofuel_electricity  solar_electricity  \\\n",
       "0                                      NaN                NaN   \n",
       "1                                      NaN                NaN   \n",
       "2                                      NaN                NaN   \n",
       "\n",
       "   wind_electricity  \n",
       "0               NaN  \n",
       "1               NaN  \n",
       "2               NaN  "
      ]
     },
     "execution_count": 31,
     "metadata": {},
     "output_type": "execute_result"
    }
   ],
   "source": [
    "df_energy_filtered.head(3)"
   ]
  },
  {
   "cell_type": "markdown",
   "id": "b813711d-6d68-4a41-b6b9-89e27e513fd1",
   "metadata": {},
   "source": [
    "## Cleaning rows from years previous to 2000"
   ]
  },
  {
   "cell_type": "code",
   "execution_count": 32,
   "id": "907916ef-32ac-4886-8a38-d58958c08d7a",
   "metadata": {},
   "outputs": [],
   "source": [
    "df_energy_filtered = df_energy_filtered[df_energy_filtered.year > 1999].reset_index()"
   ]
  },
  {
   "cell_type": "code",
   "execution_count": 33,
   "id": "1c824ae0-850b-44a7-b4b2-149628f695da",
   "metadata": {},
   "outputs": [
    {
     "data": {
      "text/plain": [
       "(6457, 9)"
      ]
     },
     "execution_count": 33,
     "metadata": {},
     "output_type": "execute_result"
    }
   ],
   "source": [
    "df_energy_filtered.shape"
   ]
  },
  {
   "cell_type": "markdown",
   "id": "94cde6c6-5ae3-4ffb-96a6-64f679f7d8ce",
   "metadata": {},
   "source": [
    "## Cleaning rows related to regions (not countries)"
   ]
  },
  {
   "cell_type": "code",
   "execution_count": 34,
   "id": "261923e7-baaa-4334-b04c-fd797061e456",
   "metadata": {},
   "outputs": [],
   "source": [
    "df_energy_filtered_countries_only = df_energy_filtered.dropna(subset=['iso_code'])"
   ]
  },
  {
   "cell_type": "code",
   "execution_count": 35,
   "id": "a6137a03-e82c-4d22-99b5-1e998eab495d",
   "metadata": {},
   "outputs": [
    {
     "data": {
      "text/plain": [
       "(4814, 9)"
      ]
     },
     "execution_count": 35,
     "metadata": {},
     "output_type": "execute_result"
    }
   ],
   "source": [
    "df_energy_filtered_countries_only.shape"
   ]
  },
  {
   "cell_type": "markdown",
   "id": "81695eb3-d11c-4f9d-abc0-fa829df0a33b",
   "metadata": {},
   "source": [
    "## Creating column with total production of energy"
   ]
  },
  {
   "cell_type": "code",
   "execution_count": null,
   "id": "b57b1637-f2a6-4f16-967d-bd6549e4a922",
   "metadata": {},
   "outputs": [],
   "source": [
    "# df_energy_filtered_countries_only.loc[:, 'total_renewable_electricity'] = df_energy_filtered_countries_only[['biofuel_electricity', 'hydro_electricity', 'other_renewable_exc_biofuel_electricity', 'solar_electricity', 'wind_electricity']].sum(axis=1)"
   ]
  },
  {
   "cell_type": "code",
   "execution_count": 38,
   "id": "a1b7b20a-e777-4bf0-9dc4-63dbaa46a7a5",
   "metadata": {},
   "outputs": [],
   "source": [
    "# df_energy_filtered_countries_only.head()"
   ]
  },
  {
   "cell_type": "code",
   "execution_count": 39,
   "id": "a04528b3-990d-47c3-86c8-0a8aa1c2a22a",
   "metadata": {},
   "outputs": [],
   "source": [
    "# count_sum_equals_zero = (df_energy_filtered_countries_only.total_renewable_electricity == 0).sum()/len(df_energy_filtered)\n",
    "# count_sum_equals_zero"
   ]
  },
  {
   "cell_type": "markdown",
   "id": "c8a16080-3660-405f-95e5-3dcab2f5bedc",
   "metadata": {},
   "source": [
    "## Analyzing missing values"
   ]
  },
  {
   "cell_type": "code",
   "execution_count": 37,
   "id": "813bbd69-0fb0-4819-a2f9-100a26c5161d",
   "metadata": {},
   "outputs": [
    {
     "data": {
      "text/plain": [
       "index                                      0.000000\n",
       "country                                    0.000000\n",
       "year                                       0.000000\n",
       "iso_code                                   0.000000\n",
       "biofuel_electricity                        0.047570\n",
       "hydro_electricity                          0.029290\n",
       "other_renewable_exc_biofuel_electricity    0.052971\n",
       "solar_electricity                          0.027005\n",
       "wind_electricity                           0.029082\n",
       "dtype: float64"
      ]
     },
     "execution_count": 37,
     "metadata": {},
     "output_type": "execute_result"
    }
   ],
   "source": [
    "df_energy_filtered_countries_only.isnull().sum()/len(df_energy_filtered_countries_only)"
   ]
  },
  {
   "cell_type": "code",
   "execution_count": 40,
   "id": "234be535-7add-46dc-aeb3-c5ace284139e",
   "metadata": {},
   "outputs": [],
   "source": [
    "# countries = df_energy_filtered.country.unique()"
   ]
  },
  {
   "cell_type": "code",
   "execution_count": null,
   "id": "6fb41e2f-ad91-409c-8880-4184c13a5515",
   "metadata": {},
   "outputs": [],
   "source": [
    "# missing_values_dict = {}\n",
    "# for country in countries:\n",
    "#     percentage_missing_values = ((df_energy_filtered.country == country) & (df_energy_filtered.total_renewable_electricity == 0)).sum()\\\n",
    "#     /len(df_energy_filtered[df_energy_filtered.country == country])\n",
    "#     missing_values_dict[country] = percentage_missing_values"
   ]
  },
  {
   "cell_type": "code",
   "execution_count": null,
   "id": "cf5f9318-eefb-467c-a285-e39cbe535b74",
   "metadata": {},
   "outputs": [],
   "source": [
    "# missing_values_dict"
   ]
  },
  {
   "cell_type": "markdown",
   "id": "e12b56f2-a3fb-4263-999c-1db6a3716826",
   "metadata": {},
   "source": [
    "# Economic Growth Dataset"
   ]
  },
  {
   "cell_type": "markdown",
   "id": "40e757d7-b968-4d9c-bf6c-5817bb000717",
   "metadata": {},
   "source": [
    "## Importing Dataset"
   ]
  },
  {
   "cell_type": "code",
   "execution_count": 41,
   "id": "ee7981c7-fd07-4f1a-b15e-e4d26c2634a8",
   "metadata": {},
   "outputs": [],
   "source": [
    "url = 'https://github.com/up841068/energy-economic-growth/raw/main/raw_data/World_Development_Indicators.xlsx'\n",
    "\n",
    "df_gdp = pd.read_excel(url)"
   ]
  },
  {
   "cell_type": "code",
   "execution_count": 42,
   "id": "de20e054-4fbb-47e9-b713-85e30750f40c",
   "metadata": {},
   "outputs": [
    {
     "data": {
      "text/html": [
       "<div>\n",
       "<style scoped>\n",
       "    .dataframe tbody tr th:only-of-type {\n",
       "        vertical-align: middle;\n",
       "    }\n",
       "\n",
       "    .dataframe tbody tr th {\n",
       "        vertical-align: top;\n",
       "    }\n",
       "\n",
       "    .dataframe thead th {\n",
       "        text-align: right;\n",
       "    }\n",
       "</style>\n",
       "<table border=\"1\" class=\"dataframe\">\n",
       "  <thead>\n",
       "    <tr style=\"text-align: right;\">\n",
       "      <th></th>\n",
       "      <th>Series Name</th>\n",
       "      <th>Series Code</th>\n",
       "      <th>Country Name</th>\n",
       "      <th>Country Code</th>\n",
       "      <th>1990 [YR1990]</th>\n",
       "      <th>2000 [YR2000]</th>\n",
       "      <th>2013 [YR2013]</th>\n",
       "      <th>2014 [YR2014]</th>\n",
       "      <th>2015 [YR2015]</th>\n",
       "      <th>2016 [YR2016]</th>\n",
       "      <th>...</th>\n",
       "      <th>1969 [YR1969]</th>\n",
       "      <th>1968 [YR1968]</th>\n",
       "      <th>1967 [YR1967]</th>\n",
       "      <th>1966 [YR1966]</th>\n",
       "      <th>1965 [YR1965]</th>\n",
       "      <th>1964 [YR1964]</th>\n",
       "      <th>1963 [YR1963]</th>\n",
       "      <th>1962 [YR1962]</th>\n",
       "      <th>1961 [YR1961]</th>\n",
       "      <th>1960 [YR1960]</th>\n",
       "    </tr>\n",
       "  </thead>\n",
       "  <tbody>\n",
       "    <tr>\n",
       "      <th>0</th>\n",
       "      <td>GDP per capita (constant 2015 US$)</td>\n",
       "      <td>NY.GDP.PCAP.KD</td>\n",
       "      <td>Brazil</td>\n",
       "      <td>BRA</td>\n",
       "      <td>6086.08487</td>\n",
       "      <td>6745.865881</td>\n",
       "      <td>9216.14336</td>\n",
       "      <td>9183.470768</td>\n",
       "      <td>8783.225984</td>\n",
       "      <td>8426.853352</td>\n",
       "      <td>...</td>\n",
       "      <td>3304.860245</td>\n",
       "      <td>3095.225632</td>\n",
       "      <td>2892.687723</td>\n",
       "      <td>2850.904774</td>\n",
       "      <td>2746.261344</td>\n",
       "      <td>2758.866607</td>\n",
       "      <td>2746.517052</td>\n",
       "      <td>2811.630814</td>\n",
       "      <td>2717.004894</td>\n",
       "      <td>2578.432125</td>\n",
       "    </tr>\n",
       "    <tr>\n",
       "      <th>1</th>\n",
       "      <td>GDP per capita (constant 2015 US$)</td>\n",
       "      <td>NY.GDP.PCAP.KD</td>\n",
       "      <td>Afghanistan</td>\n",
       "      <td>AFG</td>\n",
       "      <td>..</td>\n",
       "      <td>..</td>\n",
       "      <td>608.386715</td>\n",
       "      <td>602.516979</td>\n",
       "      <td>592.476537</td>\n",
       "      <td>590.427739</td>\n",
       "      <td>...</td>\n",
       "      <td>..</td>\n",
       "      <td>..</td>\n",
       "      <td>..</td>\n",
       "      <td>..</td>\n",
       "      <td>..</td>\n",
       "      <td>..</td>\n",
       "      <td>..</td>\n",
       "      <td>..</td>\n",
       "      <td>..</td>\n",
       "      <td>..</td>\n",
       "    </tr>\n",
       "    <tr>\n",
       "      <th>2</th>\n",
       "      <td>GDP per capita (constant 2015 US$)</td>\n",
       "      <td>NY.GDP.PCAP.KD</td>\n",
       "      <td>Albania</td>\n",
       "      <td>ALB</td>\n",
       "      <td>1606.296047</td>\n",
       "      <td>1960.881946</td>\n",
       "      <td>3780.698202</td>\n",
       "      <td>3855.759734</td>\n",
       "      <td>3952.802538</td>\n",
       "      <td>4090.371657</td>\n",
       "      <td>...</td>\n",
       "      <td>..</td>\n",
       "      <td>..</td>\n",
       "      <td>..</td>\n",
       "      <td>..</td>\n",
       "      <td>..</td>\n",
       "      <td>..</td>\n",
       "      <td>..</td>\n",
       "      <td>..</td>\n",
       "      <td>..</td>\n",
       "      <td>..</td>\n",
       "    </tr>\n",
       "  </tbody>\n",
       "</table>\n",
       "<p>3 rows × 67 columns</p>\n",
       "</div>"
      ],
      "text/plain": [
       "                          Series Name     Series Code Country Name  \\\n",
       "0  GDP per capita (constant 2015 US$)  NY.GDP.PCAP.KD       Brazil   \n",
       "1  GDP per capita (constant 2015 US$)  NY.GDP.PCAP.KD  Afghanistan   \n",
       "2  GDP per capita (constant 2015 US$)  NY.GDP.PCAP.KD      Albania   \n",
       "\n",
       "  Country Code 1990 [YR1990] 2000 [YR2000] 2013 [YR2013] 2014 [YR2014]  \\\n",
       "0          BRA    6086.08487   6745.865881    9216.14336   9183.470768   \n",
       "1          AFG            ..            ..    608.386715    602.516979   \n",
       "2          ALB   1606.296047   1960.881946   3780.698202   3855.759734   \n",
       "\n",
       "  2015 [YR2015] 2016 [YR2016]  ... 1969 [YR1969] 1968 [YR1968] 1967 [YR1967]  \\\n",
       "0   8783.225984   8426.853352  ...   3304.860245   3095.225632   2892.687723   \n",
       "1    592.476537    590.427739  ...            ..            ..            ..   \n",
       "2   3952.802538   4090.371657  ...            ..            ..            ..   \n",
       "\n",
       "  1966 [YR1966] 1965 [YR1965] 1964 [YR1964] 1963 [YR1963] 1962 [YR1962]  \\\n",
       "0   2850.904774   2746.261344   2758.866607   2746.517052   2811.630814   \n",
       "1            ..            ..            ..            ..            ..   \n",
       "2            ..            ..            ..            ..            ..   \n",
       "\n",
       "  1961 [YR1961] 1960 [YR1960]  \n",
       "0   2717.004894   2578.432125  \n",
       "1            ..            ..  \n",
       "2            ..            ..  \n",
       "\n",
       "[3 rows x 67 columns]"
      ]
     },
     "execution_count": 42,
     "metadata": {},
     "output_type": "execute_result"
    }
   ],
   "source": [
    "df_gdp.head(3)"
   ]
  },
  {
   "cell_type": "markdown",
   "id": "bd5aaa20-f77b-4be3-a020-d19b2e3777c8",
   "metadata": {},
   "source": [
    "## Filtering the rows and columns"
   ]
  },
  {
   "cell_type": "code",
   "execution_count": 43,
   "id": "7bc4b59a-006c-40db-baf9-c103d91bfe05",
   "metadata": {},
   "outputs": [],
   "source": [
    "df_gdp_filtered = df_gdp.drop(columns=['Series Name', 'Series Code'])"
   ]
  },
  {
   "cell_type": "code",
   "execution_count": 44,
   "id": "a427c156-1dd5-466e-9ddf-f81809bad99b",
   "metadata": {},
   "outputs": [
    {
     "data": {
      "text/plain": [
       "(266, 65)"
      ]
     },
     "execution_count": 44,
     "metadata": {},
     "output_type": "execute_result"
    }
   ],
   "source": [
    "df_gdp_filtered.shape"
   ]
  },
  {
   "cell_type": "markdown",
   "id": "69e2a770-c434-45cc-ad99-8556a23de967",
   "metadata": {},
   "source": [
    "## Flattening the years to be in one column (instead of one column per year)"
   ]
  },
  {
   "cell_type": "code",
   "execution_count": 45,
   "id": "0ab5b16b-48f6-4ff0-bc1a-d6cde9c3d0cb",
   "metadata": {},
   "outputs": [],
   "source": [
    "df_gdp_filtered_flattened = pd.melt(df_gdp_filtered, id_vars=['Country Name', 'Country Code'], var_name='Year', value_name='GDP_per_capita')"
   ]
  },
  {
   "cell_type": "code",
   "execution_count": 46,
   "id": "e4c7380c-0404-40e6-be76-5c3119b0739a",
   "metadata": {},
   "outputs": [
    {
     "data": {
      "text/html": [
       "<div>\n",
       "<style scoped>\n",
       "    .dataframe tbody tr th:only-of-type {\n",
       "        vertical-align: middle;\n",
       "    }\n",
       "\n",
       "    .dataframe tbody tr th {\n",
       "        vertical-align: top;\n",
       "    }\n",
       "\n",
       "    .dataframe thead th {\n",
       "        text-align: right;\n",
       "    }\n",
       "</style>\n",
       "<table border=\"1\" class=\"dataframe\">\n",
       "  <thead>\n",
       "    <tr style=\"text-align: right;\">\n",
       "      <th></th>\n",
       "      <th>Country Name</th>\n",
       "      <th>Country Code</th>\n",
       "      <th>Year</th>\n",
       "      <th>GDP_per_capita</th>\n",
       "    </tr>\n",
       "  </thead>\n",
       "  <tbody>\n",
       "    <tr>\n",
       "      <th>0</th>\n",
       "      <td>Brazil</td>\n",
       "      <td>BRA</td>\n",
       "      <td>1990 [YR1990]</td>\n",
       "      <td>6086.08487</td>\n",
       "    </tr>\n",
       "    <tr>\n",
       "      <th>1</th>\n",
       "      <td>Afghanistan</td>\n",
       "      <td>AFG</td>\n",
       "      <td>1990 [YR1990]</td>\n",
       "      <td>..</td>\n",
       "    </tr>\n",
       "    <tr>\n",
       "      <th>2</th>\n",
       "      <td>Albania</td>\n",
       "      <td>ALB</td>\n",
       "      <td>1990 [YR1990]</td>\n",
       "      <td>1606.296047</td>\n",
       "    </tr>\n",
       "    <tr>\n",
       "      <th>3</th>\n",
       "      <td>Algeria</td>\n",
       "      <td>DZA</td>\n",
       "      <td>1990 [YR1990]</td>\n",
       "      <td>3153.476864</td>\n",
       "    </tr>\n",
       "    <tr>\n",
       "      <th>4</th>\n",
       "      <td>American Samoa</td>\n",
       "      <td>ASM</td>\n",
       "      <td>1990 [YR1990]</td>\n",
       "      <td>..</td>\n",
       "    </tr>\n",
       "    <tr>\n",
       "      <th>...</th>\n",
       "      <td>...</td>\n",
       "      <td>...</td>\n",
       "      <td>...</td>\n",
       "      <td>...</td>\n",
       "    </tr>\n",
       "    <tr>\n",
       "      <th>16753</th>\n",
       "      <td>Sub-Saharan Africa</td>\n",
       "      <td>SSF</td>\n",
       "      <td>1960 [YR1960]</td>\n",
       "      <td>1135.306164</td>\n",
       "    </tr>\n",
       "    <tr>\n",
       "      <th>16754</th>\n",
       "      <td>Sub-Saharan Africa (excluding high income)</td>\n",
       "      <td>SSA</td>\n",
       "      <td>1960 [YR1960]</td>\n",
       "      <td>1134.964321</td>\n",
       "    </tr>\n",
       "    <tr>\n",
       "      <th>16755</th>\n",
       "      <td>Sub-Saharan Africa (IDA &amp; IBRD countries)</td>\n",
       "      <td>TSS</td>\n",
       "      <td>1960 [YR1960]</td>\n",
       "      <td>1135.306164</td>\n",
       "    </tr>\n",
       "    <tr>\n",
       "      <th>16756</th>\n",
       "      <td>Upper middle income</td>\n",
       "      <td>UMC</td>\n",
       "      <td>1960 [YR1960]</td>\n",
       "      <td>1155.832773</td>\n",
       "    </tr>\n",
       "    <tr>\n",
       "      <th>16757</th>\n",
       "      <td>World</td>\n",
       "      <td>WLD</td>\n",
       "      <td>1960 [YR1960]</td>\n",
       "      <td>3596.519503</td>\n",
       "    </tr>\n",
       "  </tbody>\n",
       "</table>\n",
       "<p>16758 rows × 4 columns</p>\n",
       "</div>"
      ],
      "text/plain": [
       "                                     Country Name Country Code           Year  \\\n",
       "0                                          Brazil          BRA  1990 [YR1990]   \n",
       "1                                     Afghanistan          AFG  1990 [YR1990]   \n",
       "2                                         Albania          ALB  1990 [YR1990]   \n",
       "3                                         Algeria          DZA  1990 [YR1990]   \n",
       "4                                  American Samoa          ASM  1990 [YR1990]   \n",
       "...                                           ...          ...            ...   \n",
       "16753                          Sub-Saharan Africa          SSF  1960 [YR1960]   \n",
       "16754  Sub-Saharan Africa (excluding high income)          SSA  1960 [YR1960]   \n",
       "16755   Sub-Saharan Africa (IDA & IBRD countries)          TSS  1960 [YR1960]   \n",
       "16756                         Upper middle income          UMC  1960 [YR1960]   \n",
       "16757                                       World          WLD  1960 [YR1960]   \n",
       "\n",
       "      GDP_per_capita  \n",
       "0         6086.08487  \n",
       "1                 ..  \n",
       "2        1606.296047  \n",
       "3        3153.476864  \n",
       "4                 ..  \n",
       "...              ...  \n",
       "16753    1135.306164  \n",
       "16754    1134.964321  \n",
       "16755    1135.306164  \n",
       "16756    1155.832773  \n",
       "16757    3596.519503  \n",
       "\n",
       "[16758 rows x 4 columns]"
      ]
     },
     "execution_count": 46,
     "metadata": {},
     "output_type": "execute_result"
    }
   ],
   "source": [
    "df_gdp_filtered_flattened"
   ]
  },
  {
   "cell_type": "markdown",
   "id": "fcefe3f8-4f35-46ea-a3c6-7c7b4ef347fd",
   "metadata": {},
   "source": [
    "## Turning 'Year' column into an int"
   ]
  },
  {
   "cell_type": "code",
   "execution_count": 47,
   "id": "e3aa0fa2-ff26-4d50-84ee-f5e46c59d877",
   "metadata": {},
   "outputs": [],
   "source": [
    "df_gdp_filtered_flattened['Year'] = df_gdp_filtered_flattened['Year'].str.extract(r'(\\d{4})').astype(int)"
   ]
  },
  {
   "cell_type": "code",
   "execution_count": 48,
   "id": "480f40d8-0696-4ba5-8dc0-485864deea9e",
   "metadata": {},
   "outputs": [
    {
     "name": "stdout",
     "output_type": "stream",
     "text": [
      "<class 'pandas.core.frame.DataFrame'>\n",
      "RangeIndex: 16758 entries, 0 to 16757\n",
      "Data columns (total 4 columns):\n",
      " #   Column          Non-Null Count  Dtype \n",
      "---  ------          --------------  ----- \n",
      " 0   Country Name    16758 non-null  object\n",
      " 1   Country Code    16758 non-null  object\n",
      " 2   Year            16758 non-null  int64 \n",
      " 3   GDP_per_capita  16758 non-null  object\n",
      "dtypes: int64(1), object(3)\n",
      "memory usage: 523.8+ KB\n"
     ]
    }
   ],
   "source": [
    "df_gdp_filtered_flattened.info()"
   ]
  },
  {
   "cell_type": "code",
   "execution_count": 49,
   "id": "03220b54-48b7-4baa-9642-1cd69443f00b",
   "metadata": {},
   "outputs": [],
   "source": [
    "df_gdp_filtered_flattened.rename(columns={\"Year\": \"year\", \"Country Code\": \"iso_code\"}, inplace=True)"
   ]
  },
  {
   "cell_type": "markdown",
   "id": "d53ded00-135a-4a7a-95e9-ed58e3bda12e",
   "metadata": {},
   "source": [
    "# Merging the features and target datasets"
   ]
  },
  {
   "cell_type": "code",
   "execution_count": 73,
   "id": "adf34c1f-a3af-449a-920b-982f335f587d",
   "metadata": {},
   "outputs": [],
   "source": [
    "full_df = pd.merge(df_energy_filtered_countries_only, df_gdp_filtered_flattened, on=['year', 'iso_code'], how='left')"
   ]
  },
  {
   "cell_type": "code",
   "execution_count": 76,
   "id": "1a6c79c7-d192-4200-b76a-a5a850c4e35c",
   "metadata": {},
   "outputs": [
    {
     "ename": "KeyError",
     "evalue": "\"['index', 'Country Name'] not found in axis\"",
     "output_type": "error",
     "traceback": [
      "\u001b[0;31m---------------------------------------------------------------------------\u001b[0m",
      "\u001b[0;31mKeyError\u001b[0m                                  Traceback (most recent call last)",
      "Cell \u001b[0;32mIn[76], line 1\u001b[0m\n\u001b[0;32m----> 1\u001b[0m \u001b[43mfull_df\u001b[49m\u001b[38;5;241;43m.\u001b[39;49m\u001b[43mdrop\u001b[49m\u001b[43m(\u001b[49m\u001b[43mcolumns\u001b[49m\u001b[38;5;241;43m=\u001b[39;49m\u001b[43m[\u001b[49m\u001b[38;5;124;43m'\u001b[39;49m\u001b[38;5;124;43mindex\u001b[39;49m\u001b[38;5;124;43m'\u001b[39;49m\u001b[43m,\u001b[49m\u001b[43m \u001b[49m\u001b[38;5;124;43m'\u001b[39;49m\u001b[38;5;124;43mCountry Name\u001b[39;49m\u001b[38;5;124;43m'\u001b[39;49m\u001b[43m]\u001b[49m\u001b[43m,\u001b[49m\u001b[43m \u001b[49m\u001b[43minplace\u001b[49m\u001b[38;5;241;43m=\u001b[39;49m\u001b[38;5;28;43;01mTrue\u001b[39;49;00m\u001b[43m)\u001b[49m\n",
      "File \u001b[0;32m~/.pyenv/versions/energy-economy/lib/python3.10/site-packages/pandas/core/frame.py:5258\u001b[0m, in \u001b[0;36mDataFrame.drop\u001b[0;34m(self, labels, axis, index, columns, level, inplace, errors)\u001b[0m\n\u001b[1;32m   5110\u001b[0m \u001b[38;5;28;01mdef\u001b[39;00m \u001b[38;5;21mdrop\u001b[39m(\n\u001b[1;32m   5111\u001b[0m     \u001b[38;5;28mself\u001b[39m,\n\u001b[1;32m   5112\u001b[0m     labels: IndexLabel \u001b[38;5;241m=\u001b[39m \u001b[38;5;28;01mNone\u001b[39;00m,\n\u001b[0;32m   (...)\u001b[0m\n\u001b[1;32m   5119\u001b[0m     errors: IgnoreRaise \u001b[38;5;241m=\u001b[39m \u001b[38;5;124m\"\u001b[39m\u001b[38;5;124mraise\u001b[39m\u001b[38;5;124m\"\u001b[39m,\n\u001b[1;32m   5120\u001b[0m ) \u001b[38;5;241m-\u001b[39m\u001b[38;5;241m>\u001b[39m DataFrame \u001b[38;5;241m|\u001b[39m \u001b[38;5;28;01mNone\u001b[39;00m:\n\u001b[1;32m   5121\u001b[0m \u001b[38;5;250m    \u001b[39m\u001b[38;5;124;03m\"\"\"\u001b[39;00m\n\u001b[1;32m   5122\u001b[0m \u001b[38;5;124;03m    Drop specified labels from rows or columns.\u001b[39;00m\n\u001b[1;32m   5123\u001b[0m \n\u001b[0;32m   (...)\u001b[0m\n\u001b[1;32m   5256\u001b[0m \u001b[38;5;124;03m            weight  1.0     0.8\u001b[39;00m\n\u001b[1;32m   5257\u001b[0m \u001b[38;5;124;03m    \"\"\"\u001b[39;00m\n\u001b[0;32m-> 5258\u001b[0m     \u001b[38;5;28;01mreturn\u001b[39;00m \u001b[38;5;28;43msuper\u001b[39;49m\u001b[43m(\u001b[49m\u001b[43m)\u001b[49m\u001b[38;5;241;43m.\u001b[39;49m\u001b[43mdrop\u001b[49m\u001b[43m(\u001b[49m\n\u001b[1;32m   5259\u001b[0m \u001b[43m        \u001b[49m\u001b[43mlabels\u001b[49m\u001b[38;5;241;43m=\u001b[39;49m\u001b[43mlabels\u001b[49m\u001b[43m,\u001b[49m\n\u001b[1;32m   5260\u001b[0m \u001b[43m        \u001b[49m\u001b[43maxis\u001b[49m\u001b[38;5;241;43m=\u001b[39;49m\u001b[43maxis\u001b[49m\u001b[43m,\u001b[49m\n\u001b[1;32m   5261\u001b[0m \u001b[43m        \u001b[49m\u001b[43mindex\u001b[49m\u001b[38;5;241;43m=\u001b[39;49m\u001b[43mindex\u001b[49m\u001b[43m,\u001b[49m\n\u001b[1;32m   5262\u001b[0m \u001b[43m        \u001b[49m\u001b[43mcolumns\u001b[49m\u001b[38;5;241;43m=\u001b[39;49m\u001b[43mcolumns\u001b[49m\u001b[43m,\u001b[49m\n\u001b[1;32m   5263\u001b[0m \u001b[43m        \u001b[49m\u001b[43mlevel\u001b[49m\u001b[38;5;241;43m=\u001b[39;49m\u001b[43mlevel\u001b[49m\u001b[43m,\u001b[49m\n\u001b[1;32m   5264\u001b[0m \u001b[43m        \u001b[49m\u001b[43minplace\u001b[49m\u001b[38;5;241;43m=\u001b[39;49m\u001b[43minplace\u001b[49m\u001b[43m,\u001b[49m\n\u001b[1;32m   5265\u001b[0m \u001b[43m        \u001b[49m\u001b[43merrors\u001b[49m\u001b[38;5;241;43m=\u001b[39;49m\u001b[43merrors\u001b[49m\u001b[43m,\u001b[49m\n\u001b[1;32m   5266\u001b[0m \u001b[43m    \u001b[49m\u001b[43m)\u001b[49m\n",
      "File \u001b[0;32m~/.pyenv/versions/energy-economy/lib/python3.10/site-packages/pandas/core/generic.py:4549\u001b[0m, in \u001b[0;36mNDFrame.drop\u001b[0;34m(self, labels, axis, index, columns, level, inplace, errors)\u001b[0m\n\u001b[1;32m   4547\u001b[0m \u001b[38;5;28;01mfor\u001b[39;00m axis, labels \u001b[38;5;129;01min\u001b[39;00m axes\u001b[38;5;241m.\u001b[39mitems():\n\u001b[1;32m   4548\u001b[0m     \u001b[38;5;28;01mif\u001b[39;00m labels \u001b[38;5;129;01mis\u001b[39;00m \u001b[38;5;129;01mnot\u001b[39;00m \u001b[38;5;28;01mNone\u001b[39;00m:\n\u001b[0;32m-> 4549\u001b[0m         obj \u001b[38;5;241m=\u001b[39m \u001b[43mobj\u001b[49m\u001b[38;5;241;43m.\u001b[39;49m\u001b[43m_drop_axis\u001b[49m\u001b[43m(\u001b[49m\u001b[43mlabels\u001b[49m\u001b[43m,\u001b[49m\u001b[43m \u001b[49m\u001b[43maxis\u001b[49m\u001b[43m,\u001b[49m\u001b[43m \u001b[49m\u001b[43mlevel\u001b[49m\u001b[38;5;241;43m=\u001b[39;49m\u001b[43mlevel\u001b[49m\u001b[43m,\u001b[49m\u001b[43m \u001b[49m\u001b[43merrors\u001b[49m\u001b[38;5;241;43m=\u001b[39;49m\u001b[43merrors\u001b[49m\u001b[43m)\u001b[49m\n\u001b[1;32m   4551\u001b[0m \u001b[38;5;28;01mif\u001b[39;00m inplace:\n\u001b[1;32m   4552\u001b[0m     \u001b[38;5;28mself\u001b[39m\u001b[38;5;241m.\u001b[39m_update_inplace(obj)\n",
      "File \u001b[0;32m~/.pyenv/versions/energy-economy/lib/python3.10/site-packages/pandas/core/generic.py:4591\u001b[0m, in \u001b[0;36mNDFrame._drop_axis\u001b[0;34m(self, labels, axis, level, errors, only_slice)\u001b[0m\n\u001b[1;32m   4589\u001b[0m         new_axis \u001b[38;5;241m=\u001b[39m axis\u001b[38;5;241m.\u001b[39mdrop(labels, level\u001b[38;5;241m=\u001b[39mlevel, errors\u001b[38;5;241m=\u001b[39merrors)\n\u001b[1;32m   4590\u001b[0m     \u001b[38;5;28;01melse\u001b[39;00m:\n\u001b[0;32m-> 4591\u001b[0m         new_axis \u001b[38;5;241m=\u001b[39m \u001b[43maxis\u001b[49m\u001b[38;5;241;43m.\u001b[39;49m\u001b[43mdrop\u001b[49m\u001b[43m(\u001b[49m\u001b[43mlabels\u001b[49m\u001b[43m,\u001b[49m\u001b[43m \u001b[49m\u001b[43merrors\u001b[49m\u001b[38;5;241;43m=\u001b[39;49m\u001b[43merrors\u001b[49m\u001b[43m)\u001b[49m\n\u001b[1;32m   4592\u001b[0m     indexer \u001b[38;5;241m=\u001b[39m axis\u001b[38;5;241m.\u001b[39mget_indexer(new_axis)\n\u001b[1;32m   4594\u001b[0m \u001b[38;5;66;03m# Case for non-unique axis\u001b[39;00m\n\u001b[1;32m   4595\u001b[0m \u001b[38;5;28;01melse\u001b[39;00m:\n",
      "File \u001b[0;32m~/.pyenv/versions/energy-economy/lib/python3.10/site-packages/pandas/core/indexes/base.py:6696\u001b[0m, in \u001b[0;36mIndex.drop\u001b[0;34m(self, labels, errors)\u001b[0m\n\u001b[1;32m   6694\u001b[0m \u001b[38;5;28;01mif\u001b[39;00m mask\u001b[38;5;241m.\u001b[39many():\n\u001b[1;32m   6695\u001b[0m     \u001b[38;5;28;01mif\u001b[39;00m errors \u001b[38;5;241m!=\u001b[39m \u001b[38;5;124m\"\u001b[39m\u001b[38;5;124mignore\u001b[39m\u001b[38;5;124m\"\u001b[39m:\n\u001b[0;32m-> 6696\u001b[0m         \u001b[38;5;28;01mraise\u001b[39;00m \u001b[38;5;167;01mKeyError\u001b[39;00m(\u001b[38;5;124mf\u001b[39m\u001b[38;5;124m\"\u001b[39m\u001b[38;5;132;01m{\u001b[39;00m\u001b[38;5;28mlist\u001b[39m(labels[mask])\u001b[38;5;132;01m}\u001b[39;00m\u001b[38;5;124m not found in axis\u001b[39m\u001b[38;5;124m\"\u001b[39m)\n\u001b[1;32m   6697\u001b[0m     indexer \u001b[38;5;241m=\u001b[39m indexer[\u001b[38;5;241m~\u001b[39mmask]\n\u001b[1;32m   6698\u001b[0m \u001b[38;5;28;01mreturn\u001b[39;00m \u001b[38;5;28mself\u001b[39m\u001b[38;5;241m.\u001b[39mdelete(indexer)\n",
      "\u001b[0;31mKeyError\u001b[0m: \"['index', 'Country Name'] not found in axis\""
     ]
    }
   ],
   "source": [
    "full_df.drop(columns=['index', 'Country Name'], inplace=True)"
   ]
  },
  {
   "cell_type": "code",
   "execution_count": 60,
   "id": "00364fd0-4110-440b-9f3d-436588c8ff93",
   "metadata": {},
   "outputs": [
    {
     "data": {
      "text/html": [
       "<div>\n",
       "<style scoped>\n",
       "    .dataframe tbody tr th:only-of-type {\n",
       "        vertical-align: middle;\n",
       "    }\n",
       "\n",
       "    .dataframe tbody tr th {\n",
       "        vertical-align: top;\n",
       "    }\n",
       "\n",
       "    .dataframe thead th {\n",
       "        text-align: right;\n",
       "    }\n",
       "</style>\n",
       "<table border=\"1\" class=\"dataframe\">\n",
       "  <thead>\n",
       "    <tr style=\"text-align: right;\">\n",
       "      <th></th>\n",
       "      <th>country</th>\n",
       "      <th>year</th>\n",
       "      <th>iso_code</th>\n",
       "      <th>biofuel_electricity</th>\n",
       "      <th>hydro_electricity</th>\n",
       "      <th>other_renewable_exc_biofuel_electricity</th>\n",
       "      <th>solar_electricity</th>\n",
       "      <th>wind_electricity</th>\n",
       "      <th>GDP_per_capita</th>\n",
       "    </tr>\n",
       "  </thead>\n",
       "  <tbody>\n",
       "    <tr>\n",
       "      <th>4122</th>\n",
       "      <td>Sudan</td>\n",
       "      <td>2011</td>\n",
       "      <td>SDN</td>\n",
       "      <td>0.15</td>\n",
       "      <td>6.40</td>\n",
       "      <td>0.0</td>\n",
       "      <td>0.00</td>\n",
       "      <td>0.00</td>\n",
       "      <td>2381.370361</td>\n",
       "    </tr>\n",
       "    <tr>\n",
       "      <th>4728</th>\n",
       "      <td>Western Sahara</td>\n",
       "      <td>2002</td>\n",
       "      <td>ESH</td>\n",
       "      <td>0.00</td>\n",
       "      <td>0.00</td>\n",
       "      <td>0.0</td>\n",
       "      <td>0.00</td>\n",
       "      <td>0.00</td>\n",
       "      <td>NaN</td>\n",
       "    </tr>\n",
       "    <tr>\n",
       "      <th>369</th>\n",
       "      <td>Barbados</td>\n",
       "      <td>2019</td>\n",
       "      <td>BRB</td>\n",
       "      <td>0.00</td>\n",
       "      <td>0.00</td>\n",
       "      <td>0.0</td>\n",
       "      <td>0.04</td>\n",
       "      <td>0.00</td>\n",
       "      <td>17168.145687</td>\n",
       "    </tr>\n",
       "    <tr>\n",
       "      <th>3495</th>\n",
       "      <td>Portugal</td>\n",
       "      <td>2015</td>\n",
       "      <td>PRT</td>\n",
       "      <td>3.10</td>\n",
       "      <td>8.66</td>\n",
       "      <td>0.2</td>\n",
       "      <td>0.80</td>\n",
       "      <td>11.61</td>\n",
       "      <td>19250.106538</td>\n",
       "    </tr>\n",
       "    <tr>\n",
       "      <th>2687</th>\n",
       "      <td>Malta</td>\n",
       "      <td>2013</td>\n",
       "      <td>MLT</td>\n",
       "      <td>0.01</td>\n",
       "      <td>0.00</td>\n",
       "      <td>0.0</td>\n",
       "      <td>0.03</td>\n",
       "      <td>0.00</td>\n",
       "      <td>22071.03161</td>\n",
       "    </tr>\n",
       "    <tr>\n",
       "      <th>4666</th>\n",
       "      <td>Vanuatu</td>\n",
       "      <td>2006</td>\n",
       "      <td>VUT</td>\n",
       "      <td>0.00</td>\n",
       "      <td>0.00</td>\n",
       "      <td>0.0</td>\n",
       "      <td>0.00</td>\n",
       "      <td>0.00</td>\n",
       "      <td>2669.776623</td>\n",
       "    </tr>\n",
       "    <tr>\n",
       "      <th>2253</th>\n",
       "      <td>Kazakhstan</td>\n",
       "      <td>2000</td>\n",
       "      <td>KAZ</td>\n",
       "      <td>0.00</td>\n",
       "      <td>7.53</td>\n",
       "      <td>NaN</td>\n",
       "      <td>0.00</td>\n",
       "      <td>0.00</td>\n",
       "      <td>4446.452533</td>\n",
       "    </tr>\n",
       "    <tr>\n",
       "      <th>2113</th>\n",
       "      <td>Iraq</td>\n",
       "      <td>2016</td>\n",
       "      <td>IRQ</td>\n",
       "      <td>0.00</td>\n",
       "      <td>3.34</td>\n",
       "      <td>0.0</td>\n",
       "      <td>0.06</td>\n",
       "      <td>0.00</td>\n",
       "      <td>4903.823396</td>\n",
       "    </tr>\n",
       "  </tbody>\n",
       "</table>\n",
       "</div>"
      ],
      "text/plain": [
       "             country  year iso_code  biofuel_electricity  hydro_electricity  \\\n",
       "4122           Sudan  2011      SDN                 0.15               6.40   \n",
       "4728  Western Sahara  2002      ESH                 0.00               0.00   \n",
       "369         Barbados  2019      BRB                 0.00               0.00   \n",
       "3495        Portugal  2015      PRT                 3.10               8.66   \n",
       "2687           Malta  2013      MLT                 0.01               0.00   \n",
       "4666         Vanuatu  2006      VUT                 0.00               0.00   \n",
       "2253      Kazakhstan  2000      KAZ                 0.00               7.53   \n",
       "2113            Iraq  2016      IRQ                 0.00               3.34   \n",
       "\n",
       "      other_renewable_exc_biofuel_electricity  solar_electricity  \\\n",
       "4122                                      0.0               0.00   \n",
       "4728                                      0.0               0.00   \n",
       "369                                       0.0               0.04   \n",
       "3495                                      0.2               0.80   \n",
       "2687                                      0.0               0.03   \n",
       "4666                                      0.0               0.00   \n",
       "2253                                      NaN               0.00   \n",
       "2113                                      0.0               0.06   \n",
       "\n",
       "      wind_electricity GDP_per_capita  \n",
       "4122              0.00    2381.370361  \n",
       "4728              0.00            NaN  \n",
       "369               0.00   17168.145687  \n",
       "3495             11.61   19250.106538  \n",
       "2687              0.00    22071.03161  \n",
       "4666              0.00    2669.776623  \n",
       "2253              0.00    4446.452533  \n",
       "2113              0.00    4903.823396  "
      ]
     },
     "execution_count": 60,
     "metadata": {},
     "output_type": "execute_result"
    }
   ],
   "source": [
    "full_df.sample(8)"
   ]
  },
  {
   "cell_type": "code",
   "execution_count": 78,
   "id": "86b431c7-927d-40cc-90f5-580ebb33b501",
   "metadata": {},
   "outputs": [
    {
     "data": {
      "text/plain": [
       "array(['Antarctica', 'Cook Islands', 'Falkland Islands', 'French Guiana',\n",
       "       'Guadeloupe', 'Martinique', 'Montserrat', 'Netherlands Antilles',\n",
       "       'Niue', 'Reunion', 'Saint Helena', 'Saint Pierre and Miquelon',\n",
       "       'Taiwan', 'Western Sahara'], dtype=object)"
      ]
     },
     "execution_count": 78,
     "metadata": {},
     "output_type": "execute_result"
    }
   ],
   "source": [
    "full_df['country'][full_df.GDP_per_capita.isna()].unique()"
   ]
  },
  {
   "cell_type": "code",
   "execution_count": 62,
   "id": "8579457c-3f61-4dc9-b7dd-d175f1c2bb19",
   "metadata": {},
   "outputs": [
    {
     "data": {
      "text/plain": [
       "country                                    0.000000\n",
       "year                                       0.000000\n",
       "iso_code                                   0.000000\n",
       "biofuel_electricity                        0.047570\n",
       "hydro_electricity                          0.029290\n",
       "other_renewable_exc_biofuel_electricity    0.052971\n",
       "solar_electricity                          0.027005\n",
       "wind_electricity                           0.029082\n",
       "GDP_per_capita                             0.063149\n",
       "dtype: float64"
      ]
     },
     "execution_count": 62,
     "metadata": {},
     "output_type": "execute_result"
    }
   ],
   "source": [
    "full_df.isnull().sum()/len(full_df)"
   ]
  },
  {
   "cell_type": "code",
   "execution_count": 64,
   "id": "11bab2ee-eb33-45ec-a4b6-02fda5dd8e09",
   "metadata": {
    "scrolled": true
   },
   "outputs": [
    {
     "data": {
      "text/plain": [
       "country                                    0.000000\n",
       "year                                       0.000000\n",
       "iso_code                                   0.000000\n",
       "biofuel_electricity                        0.498130\n",
       "hydro_electricity                          0.285002\n",
       "other_renewable_exc_biofuel_electricity    0.845035\n",
       "solar_electricity                          0.630245\n",
       "wind_electricity                           0.637516\n",
       "GDP_per_capita                             0.000000\n",
       "dtype: float64"
      ]
     },
     "execution_count": 64,
     "metadata": {},
     "output_type": "execute_result"
    }
   ],
   "source": [
    "(full_df == 0).sum()/len(full_df)"
   ]
  },
  {
   "cell_type": "code",
   "execution_count": 71,
   "id": "117d41a0-008b-4333-982d-1e26c9a31f2d",
   "metadata": {},
   "outputs": [],
   "source": [
    "full_df.to_csv('/home/pedroabisamara/code/final_project/cleaned_dataset.csv')"
   ]
  }
 ],
 "metadata": {
  "kernelspec": {
   "display_name": "Python 3 (ipykernel)",
   "language": "python",
   "name": "python3"
  },
  "language_info": {
   "codemirror_mode": {
    "name": "ipython",
    "version": 3
   },
   "file_extension": ".py",
   "mimetype": "text/x-python",
   "name": "python",
   "nbconvert_exporter": "python",
   "pygments_lexer": "ipython3",
   "version": "3.10.6"
  }
 },
 "nbformat": 4,
 "nbformat_minor": 5
}
