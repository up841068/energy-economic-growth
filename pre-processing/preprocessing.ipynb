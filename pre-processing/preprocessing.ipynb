{
 "cells": [
  {
   "cell_type": "markdown",
   "id": "fab651ac-1116-4fa2-ae72-1fba3c869f28",
   "metadata": {},
   "source": [
    "# Energy Dataset"
   ]
  },
  {
   "cell_type": "markdown",
   "id": "baf3b09f-4716-4cd0-945d-1357675ef198",
   "metadata": {},
   "source": [
    "## Importing Dataset"
   ]
  },
  {
   "cell_type": "markdown",
   "id": "4ffafd9d-95b7-4336-8c85-6428f9e234ab",
   "metadata": {},
   "source": [
    "Importing the dataset from the Github repository of the project"
   ]
  },
  {
   "cell_type": "code",
   "execution_count": 1,
   "id": "8d9b31c9-bb9c-4b42-9f07-4353377c5fd7",
   "metadata": {},
   "outputs": [],
   "source": [
    "import pandas as pd\n",
    "import numpy as np"
   ]
  },
  {
   "cell_type": "code",
   "execution_count": 2,
   "id": "1e35301a-3edf-4ce0-8e46-28067724f342",
   "metadata": {},
   "outputs": [],
   "source": [
    "url = 'https://github.com/up841068/energy-economic-growth/raw/main/raw_data/renewable-energy-data-scrapping.csv'\n",
    "\n",
    "df_energy = pd.read_csv(url)"
   ]
  },
  {
   "cell_type": "code",
   "execution_count": 3,
   "id": "ae026add-5b8c-4f0a-9070-c9c66ba1f3b2",
   "metadata": {},
   "outputs": [
    {
     "data": {
      "text/html": [
       "<div>\n",
       "<style scoped>\n",
       "    .dataframe tbody tr th:only-of-type {\n",
       "        vertical-align: middle;\n",
       "    }\n",
       "\n",
       "    .dataframe tbody tr th {\n",
       "        vertical-align: top;\n",
       "    }\n",
       "\n",
       "    .dataframe thead th {\n",
       "        text-align: right;\n",
       "    }\n",
       "</style>\n",
       "<table border=\"1\" class=\"dataframe\">\n",
       "  <thead>\n",
       "    <tr style=\"text-align: right;\">\n",
       "      <th></th>\n",
       "      <th>country</th>\n",
       "      <th>year</th>\n",
       "      <th>iso_code</th>\n",
       "      <th>population</th>\n",
       "      <th>gdp</th>\n",
       "      <th>biofuel_cons_change_pct</th>\n",
       "      <th>biofuel_cons_change_twh</th>\n",
       "      <th>biofuel_cons_per_capita</th>\n",
       "      <th>biofuel_consumption</th>\n",
       "      <th>biofuel_elec_per_capita</th>\n",
       "      <th>...</th>\n",
       "      <th>solar_share_elec</th>\n",
       "      <th>solar_share_energy</th>\n",
       "      <th>wind_cons_change_pct</th>\n",
       "      <th>wind_cons_change_twh</th>\n",
       "      <th>wind_consumption</th>\n",
       "      <th>wind_elec_per_capita</th>\n",
       "      <th>wind_electricity</th>\n",
       "      <th>wind_energy_per_capita</th>\n",
       "      <th>wind_share_elec</th>\n",
       "      <th>wind_share_energy</th>\n",
       "    </tr>\n",
       "  </thead>\n",
       "  <tbody>\n",
       "    <tr>\n",
       "      <th>0</th>\n",
       "      <td>Afghanistan</td>\n",
       "      <td>1900</td>\n",
       "      <td>AFG</td>\n",
       "      <td>4832414.0</td>\n",
       "      <td>NaN</td>\n",
       "      <td>NaN</td>\n",
       "      <td>NaN</td>\n",
       "      <td>NaN</td>\n",
       "      <td>NaN</td>\n",
       "      <td>NaN</td>\n",
       "      <td>...</td>\n",
       "      <td>NaN</td>\n",
       "      <td>NaN</td>\n",
       "      <td>NaN</td>\n",
       "      <td>NaN</td>\n",
       "      <td>NaN</td>\n",
       "      <td>NaN</td>\n",
       "      <td>NaN</td>\n",
       "      <td>NaN</td>\n",
       "      <td>NaN</td>\n",
       "      <td>NaN</td>\n",
       "    </tr>\n",
       "    <tr>\n",
       "      <th>1</th>\n",
       "      <td>Afghanistan</td>\n",
       "      <td>1901</td>\n",
       "      <td>AFG</td>\n",
       "      <td>4879685.0</td>\n",
       "      <td>NaN</td>\n",
       "      <td>NaN</td>\n",
       "      <td>NaN</td>\n",
       "      <td>NaN</td>\n",
       "      <td>NaN</td>\n",
       "      <td>NaN</td>\n",
       "      <td>...</td>\n",
       "      <td>NaN</td>\n",
       "      <td>NaN</td>\n",
       "      <td>NaN</td>\n",
       "      <td>NaN</td>\n",
       "      <td>NaN</td>\n",
       "      <td>NaN</td>\n",
       "      <td>NaN</td>\n",
       "      <td>NaN</td>\n",
       "      <td>NaN</td>\n",
       "      <td>NaN</td>\n",
       "    </tr>\n",
       "    <tr>\n",
       "      <th>2</th>\n",
       "      <td>Afghanistan</td>\n",
       "      <td>1902</td>\n",
       "      <td>AFG</td>\n",
       "      <td>4935122.0</td>\n",
       "      <td>NaN</td>\n",
       "      <td>NaN</td>\n",
       "      <td>NaN</td>\n",
       "      <td>NaN</td>\n",
       "      <td>NaN</td>\n",
       "      <td>NaN</td>\n",
       "      <td>...</td>\n",
       "      <td>NaN</td>\n",
       "      <td>NaN</td>\n",
       "      <td>NaN</td>\n",
       "      <td>NaN</td>\n",
       "      <td>NaN</td>\n",
       "      <td>NaN</td>\n",
       "      <td>NaN</td>\n",
       "      <td>NaN</td>\n",
       "      <td>NaN</td>\n",
       "      <td>NaN</td>\n",
       "    </tr>\n",
       "  </tbody>\n",
       "</table>\n",
       "<p>3 rows × 129 columns</p>\n",
       "</div>"
      ],
      "text/plain": [
       "       country  year iso_code  population  gdp  biofuel_cons_change_pct  \\\n",
       "0  Afghanistan  1900      AFG   4832414.0  NaN                      NaN   \n",
       "1  Afghanistan  1901      AFG   4879685.0  NaN                      NaN   \n",
       "2  Afghanistan  1902      AFG   4935122.0  NaN                      NaN   \n",
       "\n",
       "   biofuel_cons_change_twh  biofuel_cons_per_capita  biofuel_consumption  \\\n",
       "0                      NaN                      NaN                  NaN   \n",
       "1                      NaN                      NaN                  NaN   \n",
       "2                      NaN                      NaN                  NaN   \n",
       "\n",
       "   biofuel_elec_per_capita  ...  solar_share_elec  solar_share_energy  \\\n",
       "0                      NaN  ...               NaN                 NaN   \n",
       "1                      NaN  ...               NaN                 NaN   \n",
       "2                      NaN  ...               NaN                 NaN   \n",
       "\n",
       "   wind_cons_change_pct  wind_cons_change_twh  wind_consumption  \\\n",
       "0                   NaN                   NaN               NaN   \n",
       "1                   NaN                   NaN               NaN   \n",
       "2                   NaN                   NaN               NaN   \n",
       "\n",
       "   wind_elec_per_capita  wind_electricity  wind_energy_per_capita  \\\n",
       "0                   NaN               NaN                     NaN   \n",
       "1                   NaN               NaN                     NaN   \n",
       "2                   NaN               NaN                     NaN   \n",
       "\n",
       "   wind_share_elec  wind_share_energy  \n",
       "0              NaN                NaN  \n",
       "1              NaN                NaN  \n",
       "2              NaN                NaN  \n",
       "\n",
       "[3 rows x 129 columns]"
      ]
     },
     "execution_count": 3,
     "metadata": {},
     "output_type": "execute_result"
    }
   ],
   "source": [
    "df_energy.head(3)"
   ]
  },
  {
   "cell_type": "markdown",
   "id": "39952174-9d74-45ed-99c2-983b05ca1b33",
   "metadata": {},
   "source": [
    "## Filtering the rows and columns"
   ]
  },
  {
   "cell_type": "markdown",
   "id": "30e5912f-551a-47e3-9595-623417851de6",
   "metadata": {},
   "source": [
    "Selecting the columns that contain information about renewable energy production "
   ]
  },
  {
   "cell_type": "code",
   "execution_count": 4,
   "id": "ed2ef9a0-febd-4fab-8be8-79a60eaeaa71",
   "metadata": {
    "scrolled": true
   },
   "outputs": [],
   "source": [
    "columns_to_keep = ['country', 'year', 'iso_code', 'biofuel_electricity', 'hydro_electricity', 'other_renewable_exc_biofuel_electricity', 'solar_electricity', 'wind_electricity']\n",
    "columns_to_drop = list(set(df_energy.columns) - set(columns_to_keep))\n",
    "df_energy_filtered = df_energy.drop(columns=columns_to_drop)"
   ]
  },
  {
   "cell_type": "code",
   "execution_count": 5,
   "id": "0107c2d8-3196-476b-bdbf-b952ed07ed2e",
   "metadata": {},
   "outputs": [
    {
     "data": {
      "text/html": [
       "<div>\n",
       "<style scoped>\n",
       "    .dataframe tbody tr th:only-of-type {\n",
       "        vertical-align: middle;\n",
       "    }\n",
       "\n",
       "    .dataframe tbody tr th {\n",
       "        vertical-align: top;\n",
       "    }\n",
       "\n",
       "    .dataframe thead th {\n",
       "        text-align: right;\n",
       "    }\n",
       "</style>\n",
       "<table border=\"1\" class=\"dataframe\">\n",
       "  <thead>\n",
       "    <tr style=\"text-align: right;\">\n",
       "      <th></th>\n",
       "      <th>country</th>\n",
       "      <th>year</th>\n",
       "      <th>iso_code</th>\n",
       "      <th>biofuel_electricity</th>\n",
       "      <th>hydro_electricity</th>\n",
       "      <th>other_renewable_exc_biofuel_electricity</th>\n",
       "      <th>solar_electricity</th>\n",
       "      <th>wind_electricity</th>\n",
       "    </tr>\n",
       "  </thead>\n",
       "  <tbody>\n",
       "    <tr>\n",
       "      <th>0</th>\n",
       "      <td>Afghanistan</td>\n",
       "      <td>1900</td>\n",
       "      <td>AFG</td>\n",
       "      <td>NaN</td>\n",
       "      <td>NaN</td>\n",
       "      <td>NaN</td>\n",
       "      <td>NaN</td>\n",
       "      <td>NaN</td>\n",
       "    </tr>\n",
       "    <tr>\n",
       "      <th>1</th>\n",
       "      <td>Afghanistan</td>\n",
       "      <td>1901</td>\n",
       "      <td>AFG</td>\n",
       "      <td>NaN</td>\n",
       "      <td>NaN</td>\n",
       "      <td>NaN</td>\n",
       "      <td>NaN</td>\n",
       "      <td>NaN</td>\n",
       "    </tr>\n",
       "    <tr>\n",
       "      <th>2</th>\n",
       "      <td>Afghanistan</td>\n",
       "      <td>1902</td>\n",
       "      <td>AFG</td>\n",
       "      <td>NaN</td>\n",
       "      <td>NaN</td>\n",
       "      <td>NaN</td>\n",
       "      <td>NaN</td>\n",
       "      <td>NaN</td>\n",
       "    </tr>\n",
       "  </tbody>\n",
       "</table>\n",
       "</div>"
      ],
      "text/plain": [
       "       country  year iso_code  biofuel_electricity  hydro_electricity  \\\n",
       "0  Afghanistan  1900      AFG                  NaN                NaN   \n",
       "1  Afghanistan  1901      AFG                  NaN                NaN   \n",
       "2  Afghanistan  1902      AFG                  NaN                NaN   \n",
       "\n",
       "   other_renewable_exc_biofuel_electricity  solar_electricity  \\\n",
       "0                                      NaN                NaN   \n",
       "1                                      NaN                NaN   \n",
       "2                                      NaN                NaN   \n",
       "\n",
       "   wind_electricity  \n",
       "0               NaN  \n",
       "1               NaN  \n",
       "2               NaN  "
      ]
     },
     "execution_count": 5,
     "metadata": {},
     "output_type": "execute_result"
    }
   ],
   "source": [
    "df_energy_filtered.head(3)"
   ]
  },
  {
   "cell_type": "markdown",
   "id": "b813711d-6d68-4a41-b6b9-89e27e513fd1",
   "metadata": {},
   "source": [
    "## Cleaning rows from years previous to 2000"
   ]
  },
  {
   "cell_type": "code",
   "execution_count": 6,
   "id": "907916ef-32ac-4886-8a38-d58958c08d7a",
   "metadata": {},
   "outputs": [],
   "source": [
    "df_energy_filtered = df_energy_filtered[df_energy_filtered.year > 1999].reset_index()"
   ]
  },
  {
   "cell_type": "code",
   "execution_count": 7,
   "id": "1c824ae0-850b-44a7-b4b2-149628f695da",
   "metadata": {},
   "outputs": [
    {
     "data": {
      "text/plain": [
       "(6457, 9)"
      ]
     },
     "execution_count": 7,
     "metadata": {},
     "output_type": "execute_result"
    }
   ],
   "source": [
    "df_energy_filtered.shape"
   ]
  },
  {
   "cell_type": "markdown",
   "id": "94cde6c6-5ae3-4ffb-96a6-64f679f7d8ce",
   "metadata": {},
   "source": [
    "## Cleaning rows related to regions (not countries)"
   ]
  },
  {
   "cell_type": "markdown",
   "id": "3e35f458-5a4c-4f1f-a6aa-5cbcc6a256c3",
   "metadata": {},
   "source": [
    "Removing the data points related to regions, as we intend to do the analysis on countries"
   ]
  },
  {
   "cell_type": "code",
   "execution_count": 8,
   "id": "261923e7-baaa-4334-b04c-fd797061e456",
   "metadata": {},
   "outputs": [],
   "source": [
    "# All countries have a respective 'iso_code', so we will remove the ones that do note have one\n",
    "df_energy_filtered_countries_only = df_energy_filtered.dropna(subset=['iso_code'])"
   ]
  },
  {
   "cell_type": "code",
   "execution_count": 9,
   "id": "a6137a03-e82c-4d22-99b5-1e998eab495d",
   "metadata": {},
   "outputs": [
    {
     "data": {
      "text/plain": [
       "(4814, 9)"
      ]
     },
     "execution_count": 9,
     "metadata": {},
     "output_type": "execute_result"
    }
   ],
   "source": [
    "df_energy_filtered_countries_only.shape"
   ]
  },
  {
   "cell_type": "markdown",
   "id": "81695eb3-d11c-4f9d-abc0-fa829df0a33b",
   "metadata": {},
   "source": [
    "## Creating column with total production of energy"
   ]
  },
  {
   "cell_type": "markdown",
   "id": "a0d06ecf-fd5f-4255-8f55-e82bdaf8809b",
   "metadata": {},
   "source": [
    "We are not using this at first!!! (This was supposed to be used if we had a lot of zeros/NaNs using the sources sepparated)"
   ]
  },
  {
   "cell_type": "code",
   "execution_count": null,
   "id": "b57b1637-f2a6-4f16-967d-bd6549e4a922",
   "metadata": {},
   "outputs": [],
   "source": [
    "# df_energy_filtered_countries_only.loc[:, 'total_renewable_electricity'] = df_energy_filtered_countries_only[['biofuel_electricity', 'hydro_electricity', 'other_renewable_exc_biofuel_electricity', 'solar_electricity', 'wind_electricity']].sum(axis=1)"
   ]
  },
  {
   "cell_type": "code",
   "execution_count": null,
   "id": "a1b7b20a-e777-4bf0-9dc4-63dbaa46a7a5",
   "metadata": {},
   "outputs": [],
   "source": [
    "# df_energy_filtered_countries_only.head()"
   ]
  },
  {
   "cell_type": "code",
   "execution_count": null,
   "id": "a04528b3-990d-47c3-86c8-0a8aa1c2a22a",
   "metadata": {},
   "outputs": [],
   "source": [
    "# count_sum_equals_zero = (df_energy_filtered_countries_only.total_renewable_electricity == 0).sum()/len(df_energy_filtered)\n",
    "# count_sum_equals_zero"
   ]
  },
  {
   "cell_type": "markdown",
   "id": "c8a16080-3660-405f-95e5-3dcab2f5bedc",
   "metadata": {},
   "source": [
    "## Analyzing missing values"
   ]
  },
  {
   "cell_type": "markdown",
   "id": "ca7bac1d-d99a-4310-80b3-b1c43ec64196",
   "metadata": {},
   "source": [
    "How many NaNs we have for each feature?"
   ]
  },
  {
   "cell_type": "code",
   "execution_count": 10,
   "id": "813bbd69-0fb0-4819-a2f9-100a26c5161d",
   "metadata": {},
   "outputs": [
    {
     "data": {
      "text/plain": [
       "index                                      0.000000\n",
       "country                                    0.000000\n",
       "year                                       0.000000\n",
       "iso_code                                   0.000000\n",
       "biofuel_electricity                        0.047570\n",
       "hydro_electricity                          0.029290\n",
       "other_renewable_exc_biofuel_electricity    0.052971\n",
       "solar_electricity                          0.027005\n",
       "wind_electricity                           0.029082\n",
       "dtype: float64"
      ]
     },
     "execution_count": 10,
     "metadata": {},
     "output_type": "execute_result"
    }
   ],
   "source": [
    "df_energy_filtered_countries_only.isnull().sum()/len(df_energy_filtered_countries_only)"
   ]
  },
  {
   "cell_type": "code",
   "execution_count": null,
   "id": "6fb41e2f-ad91-409c-8880-4184c13a5515",
   "metadata": {},
   "outputs": [],
   "source": [
    "## creates a dictionary with all features and the respective amount of Zeros for each\n",
    "# countries = df_energy_filtered.country.unique()\n",
    "# missing_values_dict = {}\n",
    "# for country in countries:\n",
    "#     percentage_missing_values = ((df_energy_filtered.country == country) & (df_energy_filtered.total_renewable_electricity == 0)).sum()\\\n",
    "#     /len(df_energy_filtered[df_energy_filtered.country == country])\n",
    "#     missing_values_dict[country] = percentage_missing_values\n",
    "# missing_values_dict"
   ]
  },
  {
   "cell_type": "markdown",
   "id": "e12b56f2-a3fb-4263-999c-1db6a3716826",
   "metadata": {},
   "source": [
    "# Economic Growth Dataset"
   ]
  },
  {
   "cell_type": "markdown",
   "id": "40e757d7-b968-4d9c-bf6c-5817bb000717",
   "metadata": {},
   "source": [
    "## Importing Dataset"
   ]
  },
  {
   "cell_type": "markdown",
   "id": "248803f0-e2aa-4b8c-8599-0f54d65e2601",
   "metadata": {},
   "source": [
    "Importing the dataset from the Github repository of the project"
   ]
  },
  {
   "cell_type": "code",
   "execution_count": 11,
   "id": "ee7981c7-fd07-4f1a-b15e-e4d26c2634a8",
   "metadata": {},
   "outputs": [],
   "source": [
    "url = 'https://github.com/up841068/energy-economic-growth/raw/main/raw_data/World_Development_Indicators.xlsx'\n",
    "\n",
    "df_gdp = pd.read_excel(url)"
   ]
  },
  {
   "cell_type": "code",
   "execution_count": 12,
   "id": "de20e054-4fbb-47e9-b713-85e30750f40c",
   "metadata": {},
   "outputs": [
    {
     "data": {
      "text/html": [
       "<div>\n",
       "<style scoped>\n",
       "    .dataframe tbody tr th:only-of-type {\n",
       "        vertical-align: middle;\n",
       "    }\n",
       "\n",
       "    .dataframe tbody tr th {\n",
       "        vertical-align: top;\n",
       "    }\n",
       "\n",
       "    .dataframe thead th {\n",
       "        text-align: right;\n",
       "    }\n",
       "</style>\n",
       "<table border=\"1\" class=\"dataframe\">\n",
       "  <thead>\n",
       "    <tr style=\"text-align: right;\">\n",
       "      <th></th>\n",
       "      <th>Series Name</th>\n",
       "      <th>Series Code</th>\n",
       "      <th>Country Name</th>\n",
       "      <th>Country Code</th>\n",
       "      <th>1990 [YR1990]</th>\n",
       "      <th>2000 [YR2000]</th>\n",
       "      <th>2013 [YR2013]</th>\n",
       "      <th>2014 [YR2014]</th>\n",
       "      <th>2015 [YR2015]</th>\n",
       "      <th>2016 [YR2016]</th>\n",
       "      <th>...</th>\n",
       "      <th>1969 [YR1969]</th>\n",
       "      <th>1968 [YR1968]</th>\n",
       "      <th>1967 [YR1967]</th>\n",
       "      <th>1966 [YR1966]</th>\n",
       "      <th>1965 [YR1965]</th>\n",
       "      <th>1964 [YR1964]</th>\n",
       "      <th>1963 [YR1963]</th>\n",
       "      <th>1962 [YR1962]</th>\n",
       "      <th>1961 [YR1961]</th>\n",
       "      <th>1960 [YR1960]</th>\n",
       "    </tr>\n",
       "  </thead>\n",
       "  <tbody>\n",
       "    <tr>\n",
       "      <th>0</th>\n",
       "      <td>GDP per capita (constant 2015 US$)</td>\n",
       "      <td>NY.GDP.PCAP.KD</td>\n",
       "      <td>Brazil</td>\n",
       "      <td>BRA</td>\n",
       "      <td>6086.08487</td>\n",
       "      <td>6745.865881</td>\n",
       "      <td>9216.14336</td>\n",
       "      <td>9183.470768</td>\n",
       "      <td>8783.225984</td>\n",
       "      <td>8426.853352</td>\n",
       "      <td>...</td>\n",
       "      <td>3304.860245</td>\n",
       "      <td>3095.225632</td>\n",
       "      <td>2892.687723</td>\n",
       "      <td>2850.904774</td>\n",
       "      <td>2746.261344</td>\n",
       "      <td>2758.866607</td>\n",
       "      <td>2746.517052</td>\n",
       "      <td>2811.630814</td>\n",
       "      <td>2717.004894</td>\n",
       "      <td>2578.432125</td>\n",
       "    </tr>\n",
       "    <tr>\n",
       "      <th>1</th>\n",
       "      <td>GDP per capita (constant 2015 US$)</td>\n",
       "      <td>NY.GDP.PCAP.KD</td>\n",
       "      <td>Afghanistan</td>\n",
       "      <td>AFG</td>\n",
       "      <td>..</td>\n",
       "      <td>..</td>\n",
       "      <td>608.386715</td>\n",
       "      <td>602.516979</td>\n",
       "      <td>592.476537</td>\n",
       "      <td>590.427739</td>\n",
       "      <td>...</td>\n",
       "      <td>..</td>\n",
       "      <td>..</td>\n",
       "      <td>..</td>\n",
       "      <td>..</td>\n",
       "      <td>..</td>\n",
       "      <td>..</td>\n",
       "      <td>..</td>\n",
       "      <td>..</td>\n",
       "      <td>..</td>\n",
       "      <td>..</td>\n",
       "    </tr>\n",
       "    <tr>\n",
       "      <th>2</th>\n",
       "      <td>GDP per capita (constant 2015 US$)</td>\n",
       "      <td>NY.GDP.PCAP.KD</td>\n",
       "      <td>Albania</td>\n",
       "      <td>ALB</td>\n",
       "      <td>1606.296047</td>\n",
       "      <td>1960.881946</td>\n",
       "      <td>3780.698202</td>\n",
       "      <td>3855.759734</td>\n",
       "      <td>3952.802538</td>\n",
       "      <td>4090.371657</td>\n",
       "      <td>...</td>\n",
       "      <td>..</td>\n",
       "      <td>..</td>\n",
       "      <td>..</td>\n",
       "      <td>..</td>\n",
       "      <td>..</td>\n",
       "      <td>..</td>\n",
       "      <td>..</td>\n",
       "      <td>..</td>\n",
       "      <td>..</td>\n",
       "      <td>..</td>\n",
       "    </tr>\n",
       "  </tbody>\n",
       "</table>\n",
       "<p>3 rows × 67 columns</p>\n",
       "</div>"
      ],
      "text/plain": [
       "                          Series Name     Series Code Country Name  \\\n",
       "0  GDP per capita (constant 2015 US$)  NY.GDP.PCAP.KD       Brazil   \n",
       "1  GDP per capita (constant 2015 US$)  NY.GDP.PCAP.KD  Afghanistan   \n",
       "2  GDP per capita (constant 2015 US$)  NY.GDP.PCAP.KD      Albania   \n",
       "\n",
       "  Country Code 1990 [YR1990] 2000 [YR2000] 2013 [YR2013] 2014 [YR2014]  \\\n",
       "0          BRA    6086.08487   6745.865881    9216.14336   9183.470768   \n",
       "1          AFG            ..            ..    608.386715    602.516979   \n",
       "2          ALB   1606.296047   1960.881946   3780.698202   3855.759734   \n",
       "\n",
       "  2015 [YR2015] 2016 [YR2016]  ... 1969 [YR1969] 1968 [YR1968] 1967 [YR1967]  \\\n",
       "0   8783.225984   8426.853352  ...   3304.860245   3095.225632   2892.687723   \n",
       "1    592.476537    590.427739  ...            ..            ..            ..   \n",
       "2   3952.802538   4090.371657  ...            ..            ..            ..   \n",
       "\n",
       "  1966 [YR1966] 1965 [YR1965] 1964 [YR1964] 1963 [YR1963] 1962 [YR1962]  \\\n",
       "0   2850.904774   2746.261344   2758.866607   2746.517052   2811.630814   \n",
       "1            ..            ..            ..            ..            ..   \n",
       "2            ..            ..            ..            ..            ..   \n",
       "\n",
       "  1961 [YR1961] 1960 [YR1960]  \n",
       "0   2717.004894   2578.432125  \n",
       "1            ..            ..  \n",
       "2            ..            ..  \n",
       "\n",
       "[3 rows x 67 columns]"
      ]
     },
     "execution_count": 12,
     "metadata": {},
     "output_type": "execute_result"
    }
   ],
   "source": [
    "df_gdp.head(3)"
   ]
  },
  {
   "cell_type": "markdown",
   "id": "bd5aaa20-f77b-4be3-a020-d19b2e3777c8",
   "metadata": {},
   "source": [
    "## Filtering the rows and columns"
   ]
  },
  {
   "cell_type": "code",
   "execution_count": 13,
   "id": "7bc4b59a-006c-40db-baf9-c103d91bfe05",
   "metadata": {},
   "outputs": [],
   "source": [
    "df_gdp_filtered = df_gdp.drop(columns=['Series Name', 'Series Code'])"
   ]
  },
  {
   "cell_type": "code",
   "execution_count": 14,
   "id": "a427c156-1dd5-466e-9ddf-f81809bad99b",
   "metadata": {},
   "outputs": [
    {
     "data": {
      "text/plain": [
       "(266, 65)"
      ]
     },
     "execution_count": 14,
     "metadata": {},
     "output_type": "execute_result"
    }
   ],
   "source": [
    "df_gdp_filtered.shape"
   ]
  },
  {
   "cell_type": "markdown",
   "id": "69e2a770-c434-45cc-ad99-8556a23de967",
   "metadata": {},
   "source": [
    "## Flattening the years to be in one column (instead of one column per year)"
   ]
  },
  {
   "cell_type": "markdown",
   "id": "defb81e9-7078-4c63-a648-edda29ac3f86",
   "metadata": {},
   "source": [
    "Moving the year columns to become lines respective to their country.<br>\n",
    "We will use this to merge with the Energy dataset"
   ]
  },
  {
   "cell_type": "code",
   "execution_count": 15,
   "id": "0ab5b16b-48f6-4ff0-bc1a-d6cde9c3d0cb",
   "metadata": {},
   "outputs": [],
   "source": [
    "df_gdp_filtered_flattened = pd.melt(df_gdp_filtered, id_vars=['Country Name', 'Country Code'], var_name='Year', value_name='GDP_per_capita')"
   ]
  },
  {
   "cell_type": "code",
   "execution_count": 16,
   "id": "e4c7380c-0404-40e6-be76-5c3119b0739a",
   "metadata": {},
   "outputs": [
    {
     "data": {
      "text/html": [
       "<div>\n",
       "<style scoped>\n",
       "    .dataframe tbody tr th:only-of-type {\n",
       "        vertical-align: middle;\n",
       "    }\n",
       "\n",
       "    .dataframe tbody tr th {\n",
       "        vertical-align: top;\n",
       "    }\n",
       "\n",
       "    .dataframe thead th {\n",
       "        text-align: right;\n",
       "    }\n",
       "</style>\n",
       "<table border=\"1\" class=\"dataframe\">\n",
       "  <thead>\n",
       "    <tr style=\"text-align: right;\">\n",
       "      <th></th>\n",
       "      <th>Country Name</th>\n",
       "      <th>Country Code</th>\n",
       "      <th>Year</th>\n",
       "      <th>GDP_per_capita</th>\n",
       "    </tr>\n",
       "  </thead>\n",
       "  <tbody>\n",
       "    <tr>\n",
       "      <th>0</th>\n",
       "      <td>Brazil</td>\n",
       "      <td>BRA</td>\n",
       "      <td>1990 [YR1990]</td>\n",
       "      <td>6086.08487</td>\n",
       "    </tr>\n",
       "    <tr>\n",
       "      <th>1</th>\n",
       "      <td>Afghanistan</td>\n",
       "      <td>AFG</td>\n",
       "      <td>1990 [YR1990]</td>\n",
       "      <td>..</td>\n",
       "    </tr>\n",
       "    <tr>\n",
       "      <th>2</th>\n",
       "      <td>Albania</td>\n",
       "      <td>ALB</td>\n",
       "      <td>1990 [YR1990]</td>\n",
       "      <td>1606.296047</td>\n",
       "    </tr>\n",
       "  </tbody>\n",
       "</table>\n",
       "</div>"
      ],
      "text/plain": [
       "  Country Name Country Code           Year GDP_per_capita\n",
       "0       Brazil          BRA  1990 [YR1990]     6086.08487\n",
       "1  Afghanistan          AFG  1990 [YR1990]             ..\n",
       "2      Albania          ALB  1990 [YR1990]    1606.296047"
      ]
     },
     "execution_count": 16,
     "metadata": {},
     "output_type": "execute_result"
    }
   ],
   "source": [
    "df_gdp_filtered_flattened.head(3)"
   ]
  },
  {
   "cell_type": "markdown",
   "id": "fcefe3f8-4f35-46ea-a3c6-7c7b4ef347fd",
   "metadata": {},
   "source": [
    "## Turning 'Year' column into an int"
   ]
  },
  {
   "cell_type": "markdown",
   "id": "7e8f54ca-26d1-4ebb-a2e9-2fb8c5d9fb86",
   "metadata": {},
   "source": [
    "Removing the brackets string in the Year column and turning it into an integer"
   ]
  },
  {
   "cell_type": "code",
   "execution_count": 17,
   "id": "e3aa0fa2-ff26-4d50-84ee-f5e46c59d877",
   "metadata": {},
   "outputs": [],
   "source": [
    "df_gdp_filtered_flattened['Year'] = df_gdp_filtered_flattened['Year'].str.extract(r'(\\d{4})').astype(int)"
   ]
  },
  {
   "cell_type": "code",
   "execution_count": 18,
   "id": "480f40d8-0696-4ba5-8dc0-485864deea9e",
   "metadata": {},
   "outputs": [
    {
     "name": "stdout",
     "output_type": "stream",
     "text": [
      "<class 'pandas.core.frame.DataFrame'>\n",
      "RangeIndex: 16758 entries, 0 to 16757\n",
      "Data columns (total 4 columns):\n",
      " #   Column          Non-Null Count  Dtype \n",
      "---  ------          --------------  ----- \n",
      " 0   Country Name    16758 non-null  object\n",
      " 1   Country Code    16758 non-null  object\n",
      " 2   Year            16758 non-null  int64 \n",
      " 3   GDP_per_capita  16758 non-null  object\n",
      "dtypes: int64(1), object(3)\n",
      "memory usage: 523.8+ KB\n"
     ]
    }
   ],
   "source": [
    "df_gdp_filtered_flattened.info()"
   ]
  },
  {
   "cell_type": "markdown",
   "id": "44c4df00-c294-42d5-a90b-bed31f26e2f3",
   "metadata": {},
   "source": [
    "Renaming the columns so they match the ones in the Energy dataset, easing the merge"
   ]
  },
  {
   "cell_type": "code",
   "execution_count": 19,
   "id": "03220b54-48b7-4baa-9642-1cd69443f00b",
   "metadata": {},
   "outputs": [],
   "source": [
    "df_gdp_filtered_flattened.rename(columns={\"Year\": \"year\", \"Country Code\": \"iso_code\"}, inplace=True)"
   ]
  },
  {
   "cell_type": "markdown",
   "id": "d53ded00-135a-4a7a-95e9-ed58e3bda12e",
   "metadata": {},
   "source": [
    "# Merging the features and target datasets"
   ]
  },
  {
   "cell_type": "code",
   "execution_count": 20,
   "id": "adf34c1f-a3af-449a-920b-982f335f587d",
   "metadata": {},
   "outputs": [],
   "source": [
    "full_df = pd.merge(df_energy_filtered_countries_only, df_gdp_filtered_flattened, on=['year', 'iso_code'], how='left')"
   ]
  },
  {
   "cell_type": "code",
   "execution_count": 21,
   "id": "1a6c79c7-d192-4200-b76a-a5a850c4e35c",
   "metadata": {},
   "outputs": [],
   "source": [
    "full_df.drop(columns=['index', 'Country Name'], inplace=True)"
   ]
  },
  {
   "cell_type": "code",
   "execution_count": 22,
   "id": "00364fd0-4110-440b-9f3d-436588c8ff93",
   "metadata": {},
   "outputs": [
    {
     "data": {
      "text/html": [
       "<div>\n",
       "<style scoped>\n",
       "    .dataframe tbody tr th:only-of-type {\n",
       "        vertical-align: middle;\n",
       "    }\n",
       "\n",
       "    .dataframe tbody tr th {\n",
       "        vertical-align: top;\n",
       "    }\n",
       "\n",
       "    .dataframe thead th {\n",
       "        text-align: right;\n",
       "    }\n",
       "</style>\n",
       "<table border=\"1\" class=\"dataframe\">\n",
       "  <thead>\n",
       "    <tr style=\"text-align: right;\">\n",
       "      <th></th>\n",
       "      <th>country</th>\n",
       "      <th>year</th>\n",
       "      <th>iso_code</th>\n",
       "      <th>biofuel_electricity</th>\n",
       "      <th>hydro_electricity</th>\n",
       "      <th>other_renewable_exc_biofuel_electricity</th>\n",
       "      <th>solar_electricity</th>\n",
       "      <th>wind_electricity</th>\n",
       "      <th>GDP_per_capita</th>\n",
       "    </tr>\n",
       "  </thead>\n",
       "  <tbody>\n",
       "    <tr>\n",
       "      <th>1848</th>\n",
       "      <td>Guatemala</td>\n",
       "      <td>2016</td>\n",
       "      <td>GTM</td>\n",
       "      <td>2.54</td>\n",
       "      <td>3.99</td>\n",
       "      <td>0.34</td>\n",
       "      <td>0.19</td>\n",
       "      <td>0.22</td>\n",
       "      <td>4034.158482</td>\n",
       "    </tr>\n",
       "    <tr>\n",
       "      <th>3467</th>\n",
       "      <td>Poland</td>\n",
       "      <td>2010</td>\n",
       "      <td>POL</td>\n",
       "      <td>6.30</td>\n",
       "      <td>2.92</td>\n",
       "      <td>0.00</td>\n",
       "      <td>0.00</td>\n",
       "      <td>1.66</td>\n",
       "      <td>10755.656437</td>\n",
       "    </tr>\n",
       "    <tr>\n",
       "      <th>4695</th>\n",
       "      <td>Venezuela</td>\n",
       "      <td>2013</td>\n",
       "      <td>VEN</td>\n",
       "      <td>0.00</td>\n",
       "      <td>82.71</td>\n",
       "      <td>0.00</td>\n",
       "      <td>0.00</td>\n",
       "      <td>0.09</td>\n",
       "      <td>..</td>\n",
       "    </tr>\n",
       "    <tr>\n",
       "      <th>3844</th>\n",
       "      <td>Serbia</td>\n",
       "      <td>2010</td>\n",
       "      <td>SRB</td>\n",
       "      <td>0.00</td>\n",
       "      <td>11.89</td>\n",
       "      <td>0.00</td>\n",
       "      <td>0.00</td>\n",
       "      <td>0.00</td>\n",
       "      <td>5206.087957</td>\n",
       "    </tr>\n",
       "    <tr>\n",
       "      <th>2481</th>\n",
       "      <td>Libya</td>\n",
       "      <td>2007</td>\n",
       "      <td>LBY</td>\n",
       "      <td>0.00</td>\n",
       "      <td>0.00</td>\n",
       "      <td>0.00</td>\n",
       "      <td>0.00</td>\n",
       "      <td>0.00</td>\n",
       "      <td>13729.259689</td>\n",
       "    </tr>\n",
       "    <tr>\n",
       "      <th>1885</th>\n",
       "      <td>Guinea-Bissau</td>\n",
       "      <td>2009</td>\n",
       "      <td>GNB</td>\n",
       "      <td>0.00</td>\n",
       "      <td>0.00</td>\n",
       "      <td>0.00</td>\n",
       "      <td>0.00</td>\n",
       "      <td>0.00</td>\n",
       "      <td>558.192083</td>\n",
       "    </tr>\n",
       "    <tr>\n",
       "      <th>546</th>\n",
       "      <td>Bosnia and Herzegovina</td>\n",
       "      <td>2019</td>\n",
       "      <td>BIH</td>\n",
       "      <td>0.02</td>\n",
       "      <td>6.02</td>\n",
       "      <td>0.00</td>\n",
       "      <td>0.03</td>\n",
       "      <td>0.25</td>\n",
       "      <td>5476.355762</td>\n",
       "    </tr>\n",
       "    <tr>\n",
       "      <th>3415</th>\n",
       "      <td>Peru</td>\n",
       "      <td>2002</td>\n",
       "      <td>PER</td>\n",
       "      <td>0.07</td>\n",
       "      <td>17.86</td>\n",
       "      <td>0.00</td>\n",
       "      <td>0.00</td>\n",
       "      <td>0.00</td>\n",
       "      <td>3393.036305</td>\n",
       "    </tr>\n",
       "  </tbody>\n",
       "</table>\n",
       "</div>"
      ],
      "text/plain": [
       "                     country  year iso_code  biofuel_electricity  \\\n",
       "1848               Guatemala  2016      GTM                 2.54   \n",
       "3467                  Poland  2010      POL                 6.30   \n",
       "4695               Venezuela  2013      VEN                 0.00   \n",
       "3844                  Serbia  2010      SRB                 0.00   \n",
       "2481                   Libya  2007      LBY                 0.00   \n",
       "1885           Guinea-Bissau  2009      GNB                 0.00   \n",
       "546   Bosnia and Herzegovina  2019      BIH                 0.02   \n",
       "3415                    Peru  2002      PER                 0.07   \n",
       "\n",
       "      hydro_electricity  other_renewable_exc_biofuel_electricity  \\\n",
       "1848               3.99                                     0.34   \n",
       "3467               2.92                                     0.00   \n",
       "4695              82.71                                     0.00   \n",
       "3844              11.89                                     0.00   \n",
       "2481               0.00                                     0.00   \n",
       "1885               0.00                                     0.00   \n",
       "546                6.02                                     0.00   \n",
       "3415              17.86                                     0.00   \n",
       "\n",
       "      solar_electricity  wind_electricity GDP_per_capita  \n",
       "1848               0.19              0.22    4034.158482  \n",
       "3467               0.00              1.66   10755.656437  \n",
       "4695               0.00              0.09             ..  \n",
       "3844               0.00              0.00    5206.087957  \n",
       "2481               0.00              0.00   13729.259689  \n",
       "1885               0.00              0.00     558.192083  \n",
       "546                0.03              0.25    5476.355762  \n",
       "3415               0.00              0.00    3393.036305  "
      ]
     },
     "execution_count": 22,
     "metadata": {},
     "output_type": "execute_result"
    }
   ],
   "source": [
    "full_df.sample(8)"
   ]
  },
  {
   "cell_type": "markdown",
   "id": "b9529a96-35b2-4471-870a-81f17b0f1d86",
   "metadata": {},
   "source": [
    "# Treating the raw dataset"
   ]
  },
  {
   "cell_type": "markdown",
   "id": "be1581be-e7f4-4e03-9093-c9c387c342cc",
   "metadata": {},
   "source": [
    "## Removing the countries with 'NaN's in 'GDP_per_capita' (target)"
   ]
  },
  {
   "cell_type": "code",
   "execution_count": 23,
   "id": "e20f8c95-3472-4eab-822b-c6da6c366108",
   "metadata": {},
   "outputs": [
    {
     "data": {
      "text/plain": [
       "array(['Antarctica', 'Cook Islands', 'Falkland Islands', 'French Guiana',\n",
       "       'Guadeloupe', 'Martinique', 'Montserrat', 'Netherlands Antilles',\n",
       "       'Niue', 'Reunion', 'Saint Helena', 'Saint Pierre and Miquelon',\n",
       "       'Taiwan', 'Western Sahara'], dtype=object)"
      ]
     },
     "execution_count": 23,
     "metadata": {},
     "output_type": "execute_result"
    }
   ],
   "source": [
    "# The countries we remove here do not affect our model\n",
    "regions_to_remove = full_df['country'][full_df.GDP_per_capita.isna()].unique()\n",
    "regions_to_remove"
   ]
  },
  {
   "cell_type": "code",
   "execution_count": 24,
   "id": "85301e86-b75a-49e4-9193-bd351cc7f631",
   "metadata": {},
   "outputs": [
    {
     "data": {
      "text/html": [
       "<div>\n",
       "<style scoped>\n",
       "    .dataframe tbody tr th:only-of-type {\n",
       "        vertical-align: middle;\n",
       "    }\n",
       "\n",
       "    .dataframe tbody tr th {\n",
       "        vertical-align: top;\n",
       "    }\n",
       "\n",
       "    .dataframe thead th {\n",
       "        text-align: right;\n",
       "    }\n",
       "</style>\n",
       "<table border=\"1\" class=\"dataframe\">\n",
       "  <thead>\n",
       "    <tr style=\"text-align: right;\">\n",
       "      <th></th>\n",
       "      <th>country</th>\n",
       "      <th>year</th>\n",
       "      <th>iso_code</th>\n",
       "      <th>biofuel_electricity</th>\n",
       "      <th>hydro_electricity</th>\n",
       "      <th>other_renewable_exc_biofuel_electricity</th>\n",
       "      <th>solar_electricity</th>\n",
       "      <th>wind_electricity</th>\n",
       "      <th>GDP_per_capita</th>\n",
       "    </tr>\n",
       "  </thead>\n",
       "  <tbody>\n",
       "    <tr>\n",
       "      <th>0</th>\n",
       "      <td>Afghanistan</td>\n",
       "      <td>2000</td>\n",
       "      <td>AFG</td>\n",
       "      <td>0.00</td>\n",
       "      <td>0.31</td>\n",
       "      <td>0.0</td>\n",
       "      <td>0.00</td>\n",
       "      <td>0.0</td>\n",
       "      <td>..</td>\n",
       "    </tr>\n",
       "    <tr>\n",
       "      <th>1</th>\n",
       "      <td>Afghanistan</td>\n",
       "      <td>2001</td>\n",
       "      <td>AFG</td>\n",
       "      <td>0.00</td>\n",
       "      <td>0.50</td>\n",
       "      <td>0.0</td>\n",
       "      <td>0.00</td>\n",
       "      <td>0.0</td>\n",
       "      <td>..</td>\n",
       "    </tr>\n",
       "    <tr>\n",
       "      <th>2</th>\n",
       "      <td>Afghanistan</td>\n",
       "      <td>2002</td>\n",
       "      <td>AFG</td>\n",
       "      <td>0.00</td>\n",
       "      <td>0.56</td>\n",
       "      <td>0.0</td>\n",
       "      <td>0.00</td>\n",
       "      <td>0.0</td>\n",
       "      <td>359.766343</td>\n",
       "    </tr>\n",
       "    <tr>\n",
       "      <th>3</th>\n",
       "      <td>Afghanistan</td>\n",
       "      <td>2003</td>\n",
       "      <td>AFG</td>\n",
       "      <td>0.00</td>\n",
       "      <td>0.63</td>\n",
       "      <td>0.0</td>\n",
       "      <td>0.00</td>\n",
       "      <td>0.0</td>\n",
       "      <td>363.101481</td>\n",
       "    </tr>\n",
       "    <tr>\n",
       "      <th>4</th>\n",
       "      <td>Afghanistan</td>\n",
       "      <td>2004</td>\n",
       "      <td>AFG</td>\n",
       "      <td>0.00</td>\n",
       "      <td>0.56</td>\n",
       "      <td>0.0</td>\n",
       "      <td>0.00</td>\n",
       "      <td>0.0</td>\n",
       "      <td>354.033913</td>\n",
       "    </tr>\n",
       "    <tr>\n",
       "      <th>...</th>\n",
       "      <td>...</td>\n",
       "      <td>...</td>\n",
       "      <td>...</td>\n",
       "      <td>...</td>\n",
       "      <td>...</td>\n",
       "      <td>...</td>\n",
       "      <td>...</td>\n",
       "      <td>...</td>\n",
       "      <td>...</td>\n",
       "    </tr>\n",
       "    <tr>\n",
       "      <th>4809</th>\n",
       "      <td>Zimbabwe</td>\n",
       "      <td>2017</td>\n",
       "      <td>ZWE</td>\n",
       "      <td>0.32</td>\n",
       "      <td>3.97</td>\n",
       "      <td>0.0</td>\n",
       "      <td>0.01</td>\n",
       "      <td>0.0</td>\n",
       "      <td>1421.24077</td>\n",
       "    </tr>\n",
       "    <tr>\n",
       "      <th>4810</th>\n",
       "      <td>Zimbabwe</td>\n",
       "      <td>2018</td>\n",
       "      <td>ZWE</td>\n",
       "      <td>0.39</td>\n",
       "      <td>5.05</td>\n",
       "      <td>0.0</td>\n",
       "      <td>0.02</td>\n",
       "      <td>0.0</td>\n",
       "      <td>1462.59028</td>\n",
       "    </tr>\n",
       "    <tr>\n",
       "      <th>4811</th>\n",
       "      <td>Zimbabwe</td>\n",
       "      <td>2019</td>\n",
       "      <td>ZWE</td>\n",
       "      <td>0.38</td>\n",
       "      <td>4.17</td>\n",
       "      <td>0.0</td>\n",
       "      <td>0.03</td>\n",
       "      <td>0.0</td>\n",
       "      <td>1342.989587</td>\n",
       "    </tr>\n",
       "    <tr>\n",
       "      <th>4812</th>\n",
       "      <td>Zimbabwe</td>\n",
       "      <td>2020</td>\n",
       "      <td>ZWE</td>\n",
       "      <td>0.35</td>\n",
       "      <td>3.81</td>\n",
       "      <td>0.0</td>\n",
       "      <td>0.03</td>\n",
       "      <td>0.0</td>\n",
       "      <td>1213.117058</td>\n",
       "    </tr>\n",
       "    <tr>\n",
       "      <th>4813</th>\n",
       "      <td>Zimbabwe</td>\n",
       "      <td>2021</td>\n",
       "      <td>ZWE</td>\n",
       "      <td>0.38</td>\n",
       "      <td>4.00</td>\n",
       "      <td>0.0</td>\n",
       "      <td>0.04</td>\n",
       "      <td>0.0</td>\n",
       "      <td>1289.199068</td>\n",
       "    </tr>\n",
       "  </tbody>\n",
       "</table>\n",
       "<p>4510 rows × 9 columns</p>\n",
       "</div>"
      ],
      "text/plain": [
       "          country  year iso_code  biofuel_electricity  hydro_electricity  \\\n",
       "0     Afghanistan  2000      AFG                 0.00               0.31   \n",
       "1     Afghanistan  2001      AFG                 0.00               0.50   \n",
       "2     Afghanistan  2002      AFG                 0.00               0.56   \n",
       "3     Afghanistan  2003      AFG                 0.00               0.63   \n",
       "4     Afghanistan  2004      AFG                 0.00               0.56   \n",
       "...           ...   ...      ...                  ...                ...   \n",
       "4809     Zimbabwe  2017      ZWE                 0.32               3.97   \n",
       "4810     Zimbabwe  2018      ZWE                 0.39               5.05   \n",
       "4811     Zimbabwe  2019      ZWE                 0.38               4.17   \n",
       "4812     Zimbabwe  2020      ZWE                 0.35               3.81   \n",
       "4813     Zimbabwe  2021      ZWE                 0.38               4.00   \n",
       "\n",
       "      other_renewable_exc_biofuel_electricity  solar_electricity  \\\n",
       "0                                         0.0               0.00   \n",
       "1                                         0.0               0.00   \n",
       "2                                         0.0               0.00   \n",
       "3                                         0.0               0.00   \n",
       "4                                         0.0               0.00   \n",
       "...                                       ...                ...   \n",
       "4809                                      0.0               0.01   \n",
       "4810                                      0.0               0.02   \n",
       "4811                                      0.0               0.03   \n",
       "4812                                      0.0               0.03   \n",
       "4813                                      0.0               0.04   \n",
       "\n",
       "      wind_electricity GDP_per_capita  \n",
       "0                  0.0             ..  \n",
       "1                  0.0             ..  \n",
       "2                  0.0     359.766343  \n",
       "3                  0.0     363.101481  \n",
       "4                  0.0     354.033913  \n",
       "...                ...            ...  \n",
       "4809               0.0     1421.24077  \n",
       "4810               0.0     1462.59028  \n",
       "4811               0.0    1342.989587  \n",
       "4812               0.0    1213.117058  \n",
       "4813               0.0    1289.199068  \n",
       "\n",
       "[4510 rows x 9 columns]"
      ]
     },
     "execution_count": 24,
     "metadata": {},
     "output_type": "execute_result"
    }
   ],
   "source": [
    "full_df_gdpclean1 = full_df.dropna(subset=['GDP_per_capita'])\n",
    "full_df_gdpclean1"
   ]
  },
  {
   "cell_type": "markdown",
   "id": "90911a07-6a66-46fe-847e-41539f9a94ad",
   "metadata": {},
   "source": [
    "## Removing the countries with missing data in 'GDP_per_capita' (target)"
   ]
  },
  {
   "cell_type": "markdown",
   "id": "761206a8-eb0e-4302-abc8-9c5ce621f6c1",
   "metadata": {},
   "source": [
    "Removing the countries that have more than 9 missing data in gdp"
   ]
  },
  {
   "cell_type": "code",
   "execution_count": 25,
   "id": "d4a865ec-68c4-4a9f-8a00-95abb5513fdc",
   "metadata": {},
   "outputs": [
    {
     "data": {
      "text/plain": [
       "['British Virgin Islands',\n",
       " 'Djibouti',\n",
       " 'Eritrea',\n",
       " 'Faroe Islands',\n",
       " 'Gibraltar',\n",
       " 'New Caledonia',\n",
       " 'North Korea',\n",
       " 'Somalia',\n",
       " 'Turks and Caicos Islands',\n",
       " 'Venezuela']"
      ]
     },
     "execution_count": 25,
     "metadata": {},
     "output_type": "execute_result"
    }
   ],
   "source": [
    "total_countries = full_df_gdpclean1['country'].unique()\n",
    "no_gdp_countries = []\n",
    "\n",
    "for i in total_countries:\n",
    "    if full_df_gdpclean1['GDP_per_capita'][(full_df_gdpclean1.GDP_per_capita == '..') & (full_df_gdpclean1.country == i)].count() > 9:\n",
    "        no_gdp_countries.append(i)\n",
    "\n",
    "no_gdp_countries"
   ]
  },
  {
   "cell_type": "code",
   "execution_count": 166,
   "id": "2859ef38-3bba-41ad-a2a6-c6442fc5aa98",
   "metadata": {},
   "outputs": [
    {
     "data": {
      "text/html": [
       "<div>\n",
       "<style scoped>\n",
       "    .dataframe tbody tr th:only-of-type {\n",
       "        vertical-align: middle;\n",
       "    }\n",
       "\n",
       "    .dataframe tbody tr th {\n",
       "        vertical-align: top;\n",
       "    }\n",
       "\n",
       "    .dataframe thead th {\n",
       "        text-align: right;\n",
       "    }\n",
       "</style>\n",
       "<table border=\"1\" class=\"dataframe\">\n",
       "  <thead>\n",
       "    <tr style=\"text-align: right;\">\n",
       "      <th></th>\n",
       "      <th>country</th>\n",
       "      <th>year</th>\n",
       "      <th>iso_code</th>\n",
       "      <th>biofuel_electricity</th>\n",
       "      <th>hydro_electricity</th>\n",
       "      <th>other_renewable_exc_biofuel_electricity</th>\n",
       "      <th>solar_electricity</th>\n",
       "      <th>wind_electricity</th>\n",
       "      <th>GDP_per_capita</th>\n",
       "    </tr>\n",
       "  </thead>\n",
       "  <tbody>\n",
       "    <tr>\n",
       "      <th>0</th>\n",
       "      <td>Afghanistan</td>\n",
       "      <td>2000</td>\n",
       "      <td>AFG</td>\n",
       "      <td>0.00</td>\n",
       "      <td>0.31</td>\n",
       "      <td>0.0</td>\n",
       "      <td>0.00</td>\n",
       "      <td>0.0</td>\n",
       "      <td>..</td>\n",
       "    </tr>\n",
       "    <tr>\n",
       "      <th>1</th>\n",
       "      <td>Afghanistan</td>\n",
       "      <td>2001</td>\n",
       "      <td>AFG</td>\n",
       "      <td>0.00</td>\n",
       "      <td>0.50</td>\n",
       "      <td>0.0</td>\n",
       "      <td>0.00</td>\n",
       "      <td>0.0</td>\n",
       "      <td>..</td>\n",
       "    </tr>\n",
       "    <tr>\n",
       "      <th>2</th>\n",
       "      <td>Afghanistan</td>\n",
       "      <td>2002</td>\n",
       "      <td>AFG</td>\n",
       "      <td>0.00</td>\n",
       "      <td>0.56</td>\n",
       "      <td>0.0</td>\n",
       "      <td>0.00</td>\n",
       "      <td>0.0</td>\n",
       "      <td>359.766343</td>\n",
       "    </tr>\n",
       "    <tr>\n",
       "      <th>3</th>\n",
       "      <td>Afghanistan</td>\n",
       "      <td>2003</td>\n",
       "      <td>AFG</td>\n",
       "      <td>0.00</td>\n",
       "      <td>0.63</td>\n",
       "      <td>0.0</td>\n",
       "      <td>0.00</td>\n",
       "      <td>0.0</td>\n",
       "      <td>363.101481</td>\n",
       "    </tr>\n",
       "    <tr>\n",
       "      <th>4</th>\n",
       "      <td>Afghanistan</td>\n",
       "      <td>2004</td>\n",
       "      <td>AFG</td>\n",
       "      <td>0.00</td>\n",
       "      <td>0.56</td>\n",
       "      <td>0.0</td>\n",
       "      <td>0.00</td>\n",
       "      <td>0.0</td>\n",
       "      <td>354.033913</td>\n",
       "    </tr>\n",
       "    <tr>\n",
       "      <th>...</th>\n",
       "      <td>...</td>\n",
       "      <td>...</td>\n",
       "      <td>...</td>\n",
       "      <td>...</td>\n",
       "      <td>...</td>\n",
       "      <td>...</td>\n",
       "      <td>...</td>\n",
       "      <td>...</td>\n",
       "      <td>...</td>\n",
       "    </tr>\n",
       "    <tr>\n",
       "      <th>4285</th>\n",
       "      <td>Zimbabwe</td>\n",
       "      <td>2017</td>\n",
       "      <td>ZWE</td>\n",
       "      <td>0.32</td>\n",
       "      <td>3.97</td>\n",
       "      <td>0.0</td>\n",
       "      <td>0.01</td>\n",
       "      <td>0.0</td>\n",
       "      <td>1421.24077</td>\n",
       "    </tr>\n",
       "    <tr>\n",
       "      <th>4286</th>\n",
       "      <td>Zimbabwe</td>\n",
       "      <td>2018</td>\n",
       "      <td>ZWE</td>\n",
       "      <td>0.39</td>\n",
       "      <td>5.05</td>\n",
       "      <td>0.0</td>\n",
       "      <td>0.02</td>\n",
       "      <td>0.0</td>\n",
       "      <td>1462.59028</td>\n",
       "    </tr>\n",
       "    <tr>\n",
       "      <th>4287</th>\n",
       "      <td>Zimbabwe</td>\n",
       "      <td>2019</td>\n",
       "      <td>ZWE</td>\n",
       "      <td>0.38</td>\n",
       "      <td>4.17</td>\n",
       "      <td>0.0</td>\n",
       "      <td>0.03</td>\n",
       "      <td>0.0</td>\n",
       "      <td>1342.989587</td>\n",
       "    </tr>\n",
       "    <tr>\n",
       "      <th>4288</th>\n",
       "      <td>Zimbabwe</td>\n",
       "      <td>2020</td>\n",
       "      <td>ZWE</td>\n",
       "      <td>0.35</td>\n",
       "      <td>3.81</td>\n",
       "      <td>0.0</td>\n",
       "      <td>0.03</td>\n",
       "      <td>0.0</td>\n",
       "      <td>1213.117058</td>\n",
       "    </tr>\n",
       "    <tr>\n",
       "      <th>4289</th>\n",
       "      <td>Zimbabwe</td>\n",
       "      <td>2021</td>\n",
       "      <td>ZWE</td>\n",
       "      <td>0.38</td>\n",
       "      <td>4.00</td>\n",
       "      <td>0.0</td>\n",
       "      <td>0.04</td>\n",
       "      <td>0.0</td>\n",
       "      <td>1289.199068</td>\n",
       "    </tr>\n",
       "  </tbody>\n",
       "</table>\n",
       "<p>4290 rows × 9 columns</p>\n",
       "</div>"
      ],
      "text/plain": [
       "          country  year iso_code  biofuel_electricity  hydro_electricity  \\\n",
       "0     Afghanistan  2000      AFG                 0.00               0.31   \n",
       "1     Afghanistan  2001      AFG                 0.00               0.50   \n",
       "2     Afghanistan  2002      AFG                 0.00               0.56   \n",
       "3     Afghanistan  2003      AFG                 0.00               0.63   \n",
       "4     Afghanistan  2004      AFG                 0.00               0.56   \n",
       "...           ...   ...      ...                  ...                ...   \n",
       "4285     Zimbabwe  2017      ZWE                 0.32               3.97   \n",
       "4286     Zimbabwe  2018      ZWE                 0.39               5.05   \n",
       "4287     Zimbabwe  2019      ZWE                 0.38               4.17   \n",
       "4288     Zimbabwe  2020      ZWE                 0.35               3.81   \n",
       "4289     Zimbabwe  2021      ZWE                 0.38               4.00   \n",
       "\n",
       "      other_renewable_exc_biofuel_electricity  solar_electricity  \\\n",
       "0                                         0.0               0.00   \n",
       "1                                         0.0               0.00   \n",
       "2                                         0.0               0.00   \n",
       "3                                         0.0               0.00   \n",
       "4                                         0.0               0.00   \n",
       "...                                       ...                ...   \n",
       "4285                                      0.0               0.01   \n",
       "4286                                      0.0               0.02   \n",
       "4287                                      0.0               0.03   \n",
       "4288                                      0.0               0.03   \n",
       "4289                                      0.0               0.04   \n",
       "\n",
       "      wind_electricity GDP_per_capita  \n",
       "0                  0.0             ..  \n",
       "1                  0.0             ..  \n",
       "2                  0.0     359.766343  \n",
       "3                  0.0     363.101481  \n",
       "4                  0.0     354.033913  \n",
       "...                ...            ...  \n",
       "4285               0.0     1421.24077  \n",
       "4286               0.0     1462.59028  \n",
       "4287               0.0    1342.989587  \n",
       "4288               0.0    1213.117058  \n",
       "4289               0.0    1289.199068  \n",
       "\n",
       "[4290 rows x 9 columns]"
      ]
     },
     "execution_count": 166,
     "metadata": {},
     "output_type": "execute_result"
    }
   ],
   "source": [
    "full_df_gdpclean2 = full_df_gdpclean1[~full_df_gdpclean1['country'].isin(no_gdp_countries)].reset_index(drop=True)\n",
    "full_df_gdpclean2"
   ]
  },
  {
   "cell_type": "markdown",
   "id": "cae96b42-1514-4999-9f7a-af78c5680a64",
   "metadata": {},
   "source": [
    "## Input value in missing data in target column"
   ]
  },
  {
   "cell_type": "markdown",
   "id": "e11c604c-05d9-4e76-b75a-25131d27633b",
   "metadata": {},
   "source": [
    "Inputing in the countries that have less than 10 missing data in gdp"
   ]
  },
  {
   "cell_type": "code",
   "execution_count": 167,
   "id": "bdeac87f-e2fd-4ef6-8da7-54f407706368",
   "metadata": {},
   "outputs": [
    {
     "data": {
      "text/plain": [
       "Index([   0,    1,   65,   66,  241,  396,  617,  750,  751,  752,  753,  754,\n",
       "        755,  992, 1037, 1060, 1105, 1279, 1368, 1391, 1502, 1547, 1569, 1592,\n",
       "       1593, 1790, 1923, 1968, 2122, 2189, 2300, 2323, 2478, 2714, 2715, 2716,\n",
       "       2717, 2780, 2891, 2892, 3131, 3154, 3221, 3354, 3530, 3553, 3624, 3625,\n",
       "       3626, 3627, 3628, 3629, 3652, 3741, 3785, 3982, 3983, 4114, 4115, 4135,\n",
       "       4243, 4244, 4245],\n",
       "      dtype='int64')"
      ]
     },
     "execution_count": 167,
     "metadata": {},
     "output_type": "execute_result"
    }
   ],
   "source": [
    "# All the indexes of rows that have missing data\n",
    "nan_target_indexes = full_df_gdpclean2[full_df_gdpclean2['GDP_per_capita'] == '..'].index\n",
    "nan_target_indexes"
   ]
  },
  {
   "cell_type": "code",
   "execution_count": null,
   "id": "43afbc7a-9a1b-426c-b75d-f4328c4f0ebf",
   "metadata": {},
   "outputs": [],
   "source": [
    "# Getting the parameters for calculating the average GDP to be inputed (MANUAL CALCULATION FOR THE 'get_parameters_input_gdp_mean' FUNCTION\n",
    "\n",
    "# index = item.index[0]\n",
    "# country = item.loc[index, 'country'] # Country of the input row\n",
    "# year = item.loc[index, 'year'] # Year of the input row\n",
    "# years = np.arange(year-5, year+6, 1) # Range of years used to calculate the mean\n",
    "# years = np.delete(years, np.where(years == year))\n",
    "# index, country, year, years"
   ]
  },
  {
   "cell_type": "code",
   "execution_count": 168,
   "id": "c0385987-902f-4d90-aa69-638defb2c007",
   "metadata": {},
   "outputs": [],
   "source": [
    "# Function for getting the parameters for calculating the average GDP to be inputed\n",
    "\n",
    "def get_parameters_input_gdp_mean(nan_index):\n",
    "    country = full_df_gdpclean2.loc[nan_index, 'country'] # Country of the input row\n",
    "    year = full_df_gdpclean2.loc[nan_index, 'year'] # Year of the input row\n",
    "    years = np.arange(year-6, year+7, 1) # Range of years used to calculate the mean\n",
    "    years = np.delete(years, np.where(years == year))\n",
    "    # index, country, year, years\n",
    "    return country, years"
   ]
  },
  {
   "cell_type": "code",
   "execution_count": 169,
   "id": "21257292-48f5-4f2a-8e28-eff6fba61549",
   "metadata": {},
   "outputs": [],
   "source": [
    "# Function for calculating the mean value to be inputed\n",
    "\n",
    "def calculate_input_gdp_mean(country, years):\n",
    "    gdp_values = []\n",
    "    for i in years:\n",
    "        gdp = full_df_gdpclean2.loc[(full_df_gdpclean2['country'] == country) & (full_df_gdpclean2['year'] == i), 'GDP_per_capita']\n",
    "        if not gdp.empty:\n",
    "            gdp_value = pd.to_numeric(gdp.item(), errors='coerce')\n",
    "            if type(gdp_value) == float:\n",
    "                gdp_values.append(gdp_value)\n",
    "                # print(gdp_values)\n",
    "    \n",
    "    input_gdp_mean = np.mean(gdp_values)\n",
    "    # print(gdp_input)\n",
    "    return input_gdp_mean"
   ]
  },
  {
   "cell_type": "code",
   "execution_count": 170,
   "id": "3110fcfb-1f94-4c40-840e-eb2ba2268b64",
   "metadata": {},
   "outputs": [
    {
     "name": "stdout",
     "output_type": "stream",
     "text": [
      "Inputed 368 GDP mean for Afghanistan in 2000\n",
      "Inputed 378 GDP mean for Afghanistan in 2001\n",
      "Inputed 12943 GDP mean for American Samoa in 2000\n",
      "Inputed 12958 GDP mean for American Samoa in 2001\n",
      "Inputed 45228 GDP mean for Austria in 2022\n",
      "Inputed 42023 GDP mean for Belgium in 2022\n",
      "Inputed 7938 GDP mean for Bulgaria in 2022\n",
      "Inputed 96180 GDP mean for Cayman Islands in 2000\n",
      "Inputed 96232 GDP mean for Cayman Islands in 2001\n",
      "Inputed 95211 GDP mean for Cayman Islands in 2002\n",
      "Inputed 92416 GDP mean for Cayman Islands in 2003\n",
      "Inputed 89837 GDP mean for Cayman Islands in 2004\n",
      "Inputed 87930 GDP mean for Cayman Islands in 2005\n",
      "Inputed 13533 GDP mean for Croatia in 2022\n",
      "Inputed 26960 GDP mean for Cyprus in 2022\n",
      "Inputed 19402 GDP mean for Czechia in 2022\n",
      "Inputed 56386 GDP mean for Denmark in 2022\n",
      "Inputed 19769 GDP mean for Estonia in 2022\n",
      "Inputed 45361 GDP mean for Finland in 2022\n",
      "Inputed 37583 GDP mean for France in 2022\n",
      "Inputed 42485 GDP mean for Germany in 2022\n",
      "Inputed 18382 GDP mean for Greece in 2022\n",
      "Inputed 46763 GDP mean for Greenland in 2021\n",
      "Inputed 30880 GDP mean for Guam in 2000\n",
      "Inputed 30980 GDP mean for Guam in 2001\n",
      "Inputed 14345 GDP mean for Hungary in 2022\n",
      "Inputed 74282 GDP mean for Ireland in 2022\n",
      "Inputed 31083 GDP mean for Italy in 2022\n",
      "Inputed 27007 GDP mean for Kuwait in 2021\n",
      "Inputed 15525 GDP mean for Latvia in 2022\n",
      "Inputed 16607 GDP mean for Lithuania in 2022\n",
      "Inputed 106753 GDP mean for Luxembourg in 2022\n",
      "Inputed 26989 GDP mean for Malta in 2022\n",
      "Inputed 3329 GDP mean for Nauru in 2000\n",
      "Inputed 3174 GDP mean for Nauru in 2001\n",
      "Inputed 3203 GDP mean for Nauru in 2002\n",
      "Inputed 3273 GDP mean for Nauru in 2003\n",
      "Inputed 47302 GDP mean for Netherlands in 2022\n",
      "Inputed 20636 GDP mean for Northern Mariana Islands in 2000\n",
      "Inputed 20331 GDP mean for Northern Mariana Islands in 2001\n",
      "Inputed 14437 GDP mean for Poland in 2022\n",
      "Inputed 20575 GDP mean for Portugal in 2022\n",
      "Inputed 10644 GDP mean for Romania in 2022\n",
      "Inputed 1150 GDP mean for Sao Tome and Principe in 2000\n",
      "Inputed 17616 GDP mean for Slovakia in 2022\n",
      "Inputed 23231 GDP mean for Slovenia in 2022\n",
      "Inputed 1129 GDP mean for South Sudan in 2016\n",
      "Inputed 1129 GDP mean for South Sudan in 2017\n",
      "Inputed 1129 GDP mean for South Sudan in 2018\n",
      "Inputed 1148 GDP mean for South Sudan in 2019\n",
      "Inputed 1136 GDP mean for South Sudan in 2020\n",
      "Inputed 1072 GDP mean for South Sudan in 2021\n",
      "Inputed 26749 GDP mean for Spain in 2022\n",
      "Inputed 52870 GDP mean for Sweden in 2022\n",
      "Inputed 798 GDP mean for Syria in 2021\n",
      "Inputed 6653 GDP mean for Turkmenistan in 2020\n",
      "Inputed 6797 GDP mean for Turkmenistan in 2021\n",
      "Inputed 44880 GDP mean for United States Virgin Islands in 2000\n",
      "Inputed 45667 GDP mean for United States Virgin Islands in 2001\n",
      "Inputed 35022 GDP mean for United States Virgin Islands in 2021\n",
      "Inputed 1588 GDP mean for Yemen in 2019\n",
      "Inputed 1467 GDP mean for Yemen in 2020\n",
      "Inputed 1303 GDP mean for Yemen in 2021\n"
     ]
    }
   ],
   "source": [
    "# Interating over the rows that have missing values in the target and inputing the calculated meand from +/- 6 years\n",
    "for nan_target_indexe in nan_target_indexes:\n",
    "    country, years = get_parameters_input_gdp_mean(nan_target_indexe)\n",
    "    input_gdp_mean = calculate_input_gdp_mean(country, years)\n",
    "    print(f'Inputed {round(input_gdp_mean)} GDP mean for {country} in {years[5] + 1}')\n",
    "    full_df_gdpclean2.at[nan_target_indexe, 'GDP_per_capita'] = input_gdp_mean"
   ]
  },
  {
   "cell_type": "code",
   "execution_count": 171,
   "id": "01189e2d-2aa2-46f3-a8a0-1affa7832bea",
   "metadata": {},
   "outputs": [
    {
     "name": "stdout",
     "output_type": "stream",
     "text": [
      "Inputing succeded!\n"
     ]
    }
   ],
   "source": [
    "# Check if there are no more missing values in the target\n",
    "check_nan_target_indexes = full_df_gdpclean2[full_df_gdpclean2['GDP_per_capita'] == '..'].index\n",
    "if check_nan_target_indexes.empty == True:\n",
    "    print('Inputing succeded!')"
   ]
  },
  {
   "cell_type": "code",
   "execution_count": 172,
   "id": "3ce449f8-86e8-4a13-b8b1-88a8ba820d73",
   "metadata": {},
   "outputs": [
    {
     "data": {
      "text/html": [
       "<div>\n",
       "<style scoped>\n",
       "    .dataframe tbody tr th:only-of-type {\n",
       "        vertical-align: middle;\n",
       "    }\n",
       "\n",
       "    .dataframe tbody tr th {\n",
       "        vertical-align: top;\n",
       "    }\n",
       "\n",
       "    .dataframe thead th {\n",
       "        text-align: right;\n",
       "    }\n",
       "</style>\n",
       "<table border=\"1\" class=\"dataframe\">\n",
       "  <thead>\n",
       "    <tr style=\"text-align: right;\">\n",
       "      <th></th>\n",
       "      <th>country</th>\n",
       "      <th>year</th>\n",
       "      <th>iso_code</th>\n",
       "      <th>biofuel_electricity</th>\n",
       "      <th>hydro_electricity</th>\n",
       "      <th>other_renewable_exc_biofuel_electricity</th>\n",
       "      <th>solar_electricity</th>\n",
       "      <th>wind_electricity</th>\n",
       "      <th>GDP_per_capita</th>\n",
       "    </tr>\n",
       "  </thead>\n",
       "  <tbody>\n",
       "    <tr>\n",
       "      <th>0</th>\n",
       "      <td>Afghanistan</td>\n",
       "      <td>2000</td>\n",
       "      <td>AFG</td>\n",
       "      <td>0.00</td>\n",
       "      <td>0.31</td>\n",
       "      <td>0.0</td>\n",
       "      <td>0.00</td>\n",
       "      <td>0.0</td>\n",
       "      <td>368.187174</td>\n",
       "    </tr>\n",
       "    <tr>\n",
       "      <th>1</th>\n",
       "      <td>Afghanistan</td>\n",
       "      <td>2001</td>\n",
       "      <td>AFG</td>\n",
       "      <td>0.00</td>\n",
       "      <td>0.50</td>\n",
       "      <td>0.0</td>\n",
       "      <td>0.00</td>\n",
       "      <td>0.0</td>\n",
       "      <td>378.391401</td>\n",
       "    </tr>\n",
       "    <tr>\n",
       "      <th>2</th>\n",
       "      <td>Afghanistan</td>\n",
       "      <td>2002</td>\n",
       "      <td>AFG</td>\n",
       "      <td>0.00</td>\n",
       "      <td>0.56</td>\n",
       "      <td>0.0</td>\n",
       "      <td>0.00</td>\n",
       "      <td>0.0</td>\n",
       "      <td>359.766343</td>\n",
       "    </tr>\n",
       "    <tr>\n",
       "      <th>3</th>\n",
       "      <td>Afghanistan</td>\n",
       "      <td>2003</td>\n",
       "      <td>AFG</td>\n",
       "      <td>0.00</td>\n",
       "      <td>0.63</td>\n",
       "      <td>0.0</td>\n",
       "      <td>0.00</td>\n",
       "      <td>0.0</td>\n",
       "      <td>363.101481</td>\n",
       "    </tr>\n",
       "    <tr>\n",
       "      <th>4</th>\n",
       "      <td>Afghanistan</td>\n",
       "      <td>2004</td>\n",
       "      <td>AFG</td>\n",
       "      <td>0.00</td>\n",
       "      <td>0.56</td>\n",
       "      <td>0.0</td>\n",
       "      <td>0.00</td>\n",
       "      <td>0.0</td>\n",
       "      <td>354.033913</td>\n",
       "    </tr>\n",
       "    <tr>\n",
       "      <th>...</th>\n",
       "      <td>...</td>\n",
       "      <td>...</td>\n",
       "      <td>...</td>\n",
       "      <td>...</td>\n",
       "      <td>...</td>\n",
       "      <td>...</td>\n",
       "      <td>...</td>\n",
       "      <td>...</td>\n",
       "      <td>...</td>\n",
       "    </tr>\n",
       "    <tr>\n",
       "      <th>4285</th>\n",
       "      <td>Zimbabwe</td>\n",
       "      <td>2017</td>\n",
       "      <td>ZWE</td>\n",
       "      <td>0.32</td>\n",
       "      <td>3.97</td>\n",
       "      <td>0.0</td>\n",
       "      <td>0.01</td>\n",
       "      <td>0.0</td>\n",
       "      <td>1421.24077</td>\n",
       "    </tr>\n",
       "    <tr>\n",
       "      <th>4286</th>\n",
       "      <td>Zimbabwe</td>\n",
       "      <td>2018</td>\n",
       "      <td>ZWE</td>\n",
       "      <td>0.39</td>\n",
       "      <td>5.05</td>\n",
       "      <td>0.0</td>\n",
       "      <td>0.02</td>\n",
       "      <td>0.0</td>\n",
       "      <td>1462.59028</td>\n",
       "    </tr>\n",
       "    <tr>\n",
       "      <th>4287</th>\n",
       "      <td>Zimbabwe</td>\n",
       "      <td>2019</td>\n",
       "      <td>ZWE</td>\n",
       "      <td>0.38</td>\n",
       "      <td>4.17</td>\n",
       "      <td>0.0</td>\n",
       "      <td>0.03</td>\n",
       "      <td>0.0</td>\n",
       "      <td>1342.989587</td>\n",
       "    </tr>\n",
       "    <tr>\n",
       "      <th>4288</th>\n",
       "      <td>Zimbabwe</td>\n",
       "      <td>2020</td>\n",
       "      <td>ZWE</td>\n",
       "      <td>0.35</td>\n",
       "      <td>3.81</td>\n",
       "      <td>0.0</td>\n",
       "      <td>0.03</td>\n",
       "      <td>0.0</td>\n",
       "      <td>1213.117058</td>\n",
       "    </tr>\n",
       "    <tr>\n",
       "      <th>4289</th>\n",
       "      <td>Zimbabwe</td>\n",
       "      <td>2021</td>\n",
       "      <td>ZWE</td>\n",
       "      <td>0.38</td>\n",
       "      <td>4.00</td>\n",
       "      <td>0.0</td>\n",
       "      <td>0.04</td>\n",
       "      <td>0.0</td>\n",
       "      <td>1289.199068</td>\n",
       "    </tr>\n",
       "  </tbody>\n",
       "</table>\n",
       "<p>4290 rows × 9 columns</p>\n",
       "</div>"
      ],
      "text/plain": [
       "          country  year iso_code  biofuel_electricity  hydro_electricity  \\\n",
       "0     Afghanistan  2000      AFG                 0.00               0.31   \n",
       "1     Afghanistan  2001      AFG                 0.00               0.50   \n",
       "2     Afghanistan  2002      AFG                 0.00               0.56   \n",
       "3     Afghanistan  2003      AFG                 0.00               0.63   \n",
       "4     Afghanistan  2004      AFG                 0.00               0.56   \n",
       "...           ...   ...      ...                  ...                ...   \n",
       "4285     Zimbabwe  2017      ZWE                 0.32               3.97   \n",
       "4286     Zimbabwe  2018      ZWE                 0.39               5.05   \n",
       "4287     Zimbabwe  2019      ZWE                 0.38               4.17   \n",
       "4288     Zimbabwe  2020      ZWE                 0.35               3.81   \n",
       "4289     Zimbabwe  2021      ZWE                 0.38               4.00   \n",
       "\n",
       "      other_renewable_exc_biofuel_electricity  solar_electricity  \\\n",
       "0                                         0.0               0.00   \n",
       "1                                         0.0               0.00   \n",
       "2                                         0.0               0.00   \n",
       "3                                         0.0               0.00   \n",
       "4                                         0.0               0.00   \n",
       "...                                       ...                ...   \n",
       "4285                                      0.0               0.01   \n",
       "4286                                      0.0               0.02   \n",
       "4287                                      0.0               0.03   \n",
       "4288                                      0.0               0.03   \n",
       "4289                                      0.0               0.04   \n",
       "\n",
       "      wind_electricity GDP_per_capita  \n",
       "0                  0.0     368.187174  \n",
       "1                  0.0     378.391401  \n",
       "2                  0.0     359.766343  \n",
       "3                  0.0     363.101481  \n",
       "4                  0.0     354.033913  \n",
       "...                ...            ...  \n",
       "4285               0.0     1421.24077  \n",
       "4286               0.0     1462.59028  \n",
       "4287               0.0    1342.989587  \n",
       "4288               0.0    1213.117058  \n",
       "4289               0.0    1289.199068  \n",
       "\n",
       "[4290 rows x 9 columns]"
      ]
     },
     "execution_count": 172,
     "metadata": {},
     "output_type": "execute_result"
    }
   ],
   "source": [
    "full_df_gdpclean2"
   ]
  },
  {
   "cell_type": "markdown",
   "id": "9e9a5f04-bec5-46b8-95bd-006f95a0fae8",
   "metadata": {},
   "source": [
    "At this point, we have the full dataset with with all target values filled"
   ]
  },
  {
   "cell_type": "markdown",
   "id": "d064767d-e0b2-457e-b06b-46460c6534b9",
   "metadata": {},
   "source": [
    "XXXXXXXXXXXXXXXXXXXXXXX"
   ]
  },
  {
   "cell_type": "markdown",
   "id": "e830dc57-ed9c-440b-abb3-f405cd01b5af",
   "metadata": {},
   "source": [
    "## "
   ]
  },
  {
   "cell_type": "code",
   "execution_count": 190,
   "id": "2d65da7c-5086-4e13-827b-cf82ae3ff069",
   "metadata": {},
   "outputs": [
    {
     "data": {
      "text/html": [
       "<div>\n",
       "<style scoped>\n",
       "    .dataframe tbody tr th:only-of-type {\n",
       "        vertical-align: middle;\n",
       "    }\n",
       "\n",
       "    .dataframe tbody tr th {\n",
       "        vertical-align: top;\n",
       "    }\n",
       "\n",
       "    .dataframe thead th {\n",
       "        text-align: right;\n",
       "    }\n",
       "</style>\n",
       "<table border=\"1\" class=\"dataframe\">\n",
       "  <thead>\n",
       "    <tr style=\"text-align: right;\">\n",
       "      <th></th>\n",
       "      <th>country</th>\n",
       "      <th>year</th>\n",
       "      <th>iso_code</th>\n",
       "      <th>biofuel_electricity</th>\n",
       "      <th>hydro_electricity</th>\n",
       "      <th>other_renewable_exc_biofuel_electricity</th>\n",
       "      <th>solar_electricity</th>\n",
       "      <th>wind_electricity</th>\n",
       "      <th>GDP_per_capita</th>\n",
       "    </tr>\n",
       "  </thead>\n",
       "  <tbody>\n",
       "    <tr>\n",
       "      <th>2408</th>\n",
       "      <td>Malaysia</td>\n",
       "      <td>2018</td>\n",
       "      <td>MYS</td>\n",
       "      <td>1.35</td>\n",
       "      <td>26.33</td>\n",
       "      <td>NaN</td>\n",
       "      <td>0.63</td>\n",
       "      <td>0.0</td>\n",
       "      <td>10777.748251</td>\n",
       "    </tr>\n",
       "  </tbody>\n",
       "</table>\n",
       "</div>"
      ],
      "text/plain": [
       "       country  year iso_code  biofuel_electricity  hydro_electricity  \\\n",
       "2408  Malaysia  2018      MYS                 1.35              26.33   \n",
       "\n",
       "      other_renewable_exc_biofuel_electricity  solar_electricity  \\\n",
       "2408                                      NaN               0.63   \n",
       "\n",
       "      wind_electricity GDP_per_capita  \n",
       "2408               0.0   10777.748251  "
      ]
     },
     "execution_count": 190,
     "metadata": {},
     "output_type": "execute_result"
    }
   ],
   "source": [
    "# selecting a random sample for testing; later should select all rows in '..' in target\n",
    "item = full_df_gdpclean2.sample()\n",
    "item"
   ]
  },
  {
   "cell_type": "code",
   "execution_count": null,
   "id": "3caf6f1a-09a6-4dbf-abfd-8ada8481dd03",
   "metadata": {},
   "outputs": [],
   "source": []
  },
  {
   "cell_type": "code",
   "execution_count": null,
   "id": "b7b9f15b-f6a3-45fe-ae80-3fdde68e4626",
   "metadata": {},
   "outputs": [],
   "source": []
  },
  {
   "cell_type": "code",
   "execution_count": null,
   "id": "11c7322e-b1c9-4271-9aa5-4bc80b732c0a",
   "metadata": {},
   "outputs": [],
   "source": []
  },
  {
   "cell_type": "code",
   "execution_count": null,
   "id": "0d062868-26a0-4f75-8ae5-2052ad146291",
   "metadata": {},
   "outputs": [],
   "source": []
  },
  {
   "cell_type": "code",
   "execution_count": null,
   "id": "c12d88ce-5e19-4393-9213-a18249e07dc5",
   "metadata": {},
   "outputs": [],
   "source": []
  },
  {
   "cell_type": "code",
   "execution_count": null,
   "id": "b933610b-8904-4416-8c91-652b53d5996d",
   "metadata": {},
   "outputs": [],
   "source": []
  },
  {
   "cell_type": "code",
   "execution_count": 153,
   "id": "8579457c-3f61-4dc9-b7dd-d175f1c2bb19",
   "metadata": {
    "scrolled": true
   },
   "outputs": [
    {
     "data": {
      "text/plain": [
       "country                                    0.000000\n",
       "year                                       0.000000\n",
       "iso_code                                   0.000000\n",
       "biofuel_electricity                        0.047570\n",
       "hydro_electricity                          0.029290\n",
       "other_renewable_exc_biofuel_electricity    0.052971\n",
       "solar_electricity                          0.027005\n",
       "wind_electricity                           0.029082\n",
       "GDP_per_capita                             0.063149\n",
       "dtype: float64"
      ]
     },
     "execution_count": 153,
     "metadata": {},
     "output_type": "execute_result"
    }
   ],
   "source": [
    "full_df.isnull().sum()/len(full_df)"
   ]
  },
  {
   "cell_type": "code",
   "execution_count": 154,
   "id": "11bab2ee-eb33-45ec-a4b6-02fda5dd8e09",
   "metadata": {
    "scrolled": true
   },
   "outputs": [
    {
     "data": {
      "text/plain": [
       "country                                    0.000000\n",
       "year                                       0.000000\n",
       "iso_code                                   0.000000\n",
       "biofuel_electricity                        0.498130\n",
       "hydro_electricity                          0.285002\n",
       "other_renewable_exc_biofuel_electricity    0.845035\n",
       "solar_electricity                          0.630245\n",
       "wind_electricity                           0.637516\n",
       "GDP_per_capita                             0.000000\n",
       "dtype: float64"
      ]
     },
     "execution_count": 154,
     "metadata": {},
     "output_type": "execute_result"
    }
   ],
   "source": [
    "(full_df == 0).sum()/len(full_df)"
   ]
  },
  {
   "cell_type": "code",
   "execution_count": null,
   "id": "117d41a0-008b-4333-982d-1e26c9a31f2d",
   "metadata": {},
   "outputs": [],
   "source": [
    "# full_df.to_csv('/home/pedroabisamara/code/final_project/cleaned_dataset.csv')"
   ]
  },
  {
   "cell_type": "code",
   "execution_count": null,
   "id": "a581f759-8f1d-49e6-9f8e-62f6ac69ac2a",
   "metadata": {},
   "outputs": [],
   "source": []
  }
 ],
 "metadata": {
  "kernelspec": {
   "display_name": "Python 3 (ipykernel)",
   "language": "python",
   "name": "python3"
  },
  "language_info": {
   "codemirror_mode": {
    "name": "ipython",
    "version": 3
   },
   "file_extension": ".py",
   "mimetype": "text/x-python",
   "name": "python",
   "nbconvert_exporter": "python",
   "pygments_lexer": "ipython3",
   "version": "3.10.6"
  }
 },
 "nbformat": 4,
 "nbformat_minor": 5
}
