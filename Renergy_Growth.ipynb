{
 "cells": [
  {
   "cell_type": "code",
   "execution_count": 1,
   "id": "ead4aac9",
   "metadata": {},
   "outputs": [],
   "source": [
    "import pandas as pd\n",
    "import numpy as np\n",
    "import matplotlib.pyplot as plt\n",
    "import seaborn as sns\n",
    "from sklearn.preprocessing import RobustScaler\n",
    "from sklearn.model_selection import cross_validate\n",
    "from sklearn.model_selection import cross_val_predict\n",
    "from sklearn.metrics import precision_recall_curve\n",
    "from sklearn.linear_model import LinearRegression\n",
    "import statsmodels.formula.api as smf\n",
    "import statsmodels.api as sm\n",
    "from sklearn.preprocessing import MinMaxScaler\n"
   ]
  },
  {
   "cell_type": "markdown",
   "id": "5b07d960",
   "metadata": {},
   "source": [
    "## Loading the final preprocessed dataset\n"
   ]
  },
  {
   "cell_type": "code",
   "execution_count": 2,
   "id": "b74c3af6",
   "metadata": {},
   "outputs": [
    {
     "data": {
      "text/html": [
       "<div>\n",
       "<style scoped>\n",
       "    .dataframe tbody tr th:only-of-type {\n",
       "        vertical-align: middle;\n",
       "    }\n",
       "\n",
       "    .dataframe tbody tr th {\n",
       "        vertical-align: top;\n",
       "    }\n",
       "\n",
       "    .dataframe thead th {\n",
       "        text-align: right;\n",
       "    }\n",
       "</style>\n",
       "<table border=\"1\" class=\"dataframe\">\n",
       "  <thead>\n",
       "    <tr style=\"text-align: right;\">\n",
       "      <th></th>\n",
       "      <th>Unnamed: 0</th>\n",
       "      <th>scale__biofuel_electricity</th>\n",
       "      <th>scale__hydro_electricity</th>\n",
       "      <th>scale__solar_electricity</th>\n",
       "      <th>scale__wind_electricity</th>\n",
       "      <th>scale__coal_electricity</th>\n",
       "      <th>scale__fossil_electricity</th>\n",
       "      <th>scale__gas_production</th>\n",
       "      <th>scale__greenhouse_gas_emissions</th>\n",
       "      <th>scale__low_carbon_electricity</th>\n",
       "      <th>scale__net_elec_imports</th>\n",
       "      <th>scale__nuclear_electricity</th>\n",
       "      <th>scale__oil_production</th>\n",
       "      <th>remainder__country</th>\n",
       "      <th>remainder__year</th>\n",
       "      <th>remainder__iso_code</th>\n",
       "      <th>remainder__GDP_per_capita</th>\n",
       "    </tr>\n",
       "  </thead>\n",
       "  <tbody>\n",
       "    <tr>\n",
       "      <th>0</th>\n",
       "      <td>2173</td>\n",
       "      <td>-0.235608</td>\n",
       "      <td>-0.178775</td>\n",
       "      <td>-0.114166</td>\n",
       "      <td>-0.139167</td>\n",
       "      <td>-0.149637</td>\n",
       "      <td>-0.207758</td>\n",
       "      <td>-0.242276</td>\n",
       "      <td>-0.192084</td>\n",
       "      <td>-0.218176</td>\n",
       "      <td>0.014103</td>\n",
       "      <td>-0.196458</td>\n",
       "      <td>-0.228896</td>\n",
       "      <td>Cameroon</td>\n",
       "      <td>2000</td>\n",
       "      <td>CMR</td>\n",
       "      <td>1137.624523</td>\n",
       "    </tr>\n",
       "    <tr>\n",
       "      <th>1</th>\n",
       "      <td>2203</td>\n",
       "      <td>-0.191263</td>\n",
       "      <td>0.135897</td>\n",
       "      <td>-0.114166</td>\n",
       "      <td>-0.137506</td>\n",
       "      <td>-0.144183</td>\n",
       "      <td>-0.068775</td>\n",
       "      <td>0.278992</td>\n",
       "      <td>-0.098054</td>\n",
       "      <td>-0.023312</td>\n",
       "      <td>0.150959</td>\n",
       "      <td>-0.113018</td>\n",
       "      <td>0.289962</td>\n",
       "      <td>Argentina</td>\n",
       "      <td>2000</td>\n",
       "      <td>ARG</td>\n",
       "      <td>10672.722035</td>\n",
       "    </tr>\n",
       "    <tr>\n",
       "      <th>2</th>\n",
       "      <td>1545</td>\n",
       "      <td>-0.226995</td>\n",
       "      <td>1.837108</td>\n",
       "      <td>-0.114166</td>\n",
       "      <td>-0.139167</td>\n",
       "      <td>0.388650</td>\n",
       "      <td>1.302087</td>\n",
       "      <td>7.452639</td>\n",
       "      <td>0.993620</td>\n",
       "      <td>1.535788</td>\n",
       "      <td>-1.562116</td>\n",
       "      <td>1.509430</td>\n",
       "      <td>4.324612</td>\n",
       "      <td>Russia</td>\n",
       "      <td>2000</td>\n",
       "      <td>RUS</td>\n",
       "      <td>5323.662598</td>\n",
       "    </tr>\n",
       "    <tr>\n",
       "      <th>3</th>\n",
       "      <td>2199</td>\n",
       "      <td>-0.235608</td>\n",
       "      <td>-0.221558</td>\n",
       "      <td>-0.114166</td>\n",
       "      <td>-0.139167</td>\n",
       "      <td>-0.149637</td>\n",
       "      <td>-0.207786</td>\n",
       "      <td>-0.242276</td>\n",
       "      <td>-0.192403</td>\n",
       "      <td>-0.239290</td>\n",
       "      <td>0.014103</td>\n",
       "      <td>-0.196458</td>\n",
       "      <td>-0.294758</td>\n",
       "      <td>Guinea-Bissau</td>\n",
       "      <td>2000</td>\n",
       "      <td>GNB</td>\n",
       "      <td>563.624309</td>\n",
       "    </tr>\n",
       "    <tr>\n",
       "      <th>4</th>\n",
       "      <td>906</td>\n",
       "      <td>-0.214674</td>\n",
       "      <td>0.165884</td>\n",
       "      <td>-0.114166</td>\n",
       "      <td>-0.137922</td>\n",
       "      <td>-0.028456</td>\n",
       "      <td>0.049415</td>\n",
       "      <td>-0.232526</td>\n",
       "      <td>0.022664</td>\n",
       "      <td>-0.046346</td>\n",
       "      <td>0.389914</td>\n",
       "      <td>-0.196458</td>\n",
       "      <td>-0.253664</td>\n",
       "      <td>Turkey</td>\n",
       "      <td>2000</td>\n",
       "      <td>TUR</td>\n",
       "      <td>6454.593119</td>\n",
       "    </tr>\n",
       "    <tr>\n",
       "      <th>...</th>\n",
       "      <td>...</td>\n",
       "      <td>...</td>\n",
       "      <td>...</td>\n",
       "      <td>...</td>\n",
       "      <td>...</td>\n",
       "      <td>...</td>\n",
       "      <td>...</td>\n",
       "      <td>...</td>\n",
       "      <td>...</td>\n",
       "      <td>...</td>\n",
       "      <td>...</td>\n",
       "      <td>...</td>\n",
       "      <td>...</td>\n",
       "      <td>...</td>\n",
       "      <td>...</td>\n",
       "      <td>...</td>\n",
       "      <td>...</td>\n",
       "    </tr>\n",
       "    <tr>\n",
       "      <th>3343</th>\n",
       "      <td>856</td>\n",
       "      <td>0.743929</td>\n",
       "      <td>-0.221308</td>\n",
       "      <td>0.066370</td>\n",
       "      <td>0.649338</td>\n",
       "      <td>-0.137886</td>\n",
       "      <td>-0.192625</td>\n",
       "      <td>-0.242276</td>\n",
       "      <td>-0.170429</td>\n",
       "      <td>-0.060340</td>\n",
       "      <td>0.211539</td>\n",
       "      <td>-0.196458</td>\n",
       "      <td>-0.294758</td>\n",
       "      <td>Denmark</td>\n",
       "      <td>2022</td>\n",
       "      <td>DNK</td>\n",
       "      <td>56386.120691</td>\n",
       "    </tr>\n",
       "    <tr>\n",
       "      <th>3344</th>\n",
       "      <td>2052</td>\n",
       "      <td>0.975571</td>\n",
       "      <td>-0.220681</td>\n",
       "      <td>1.459014</td>\n",
       "      <td>0.715117</td>\n",
       "      <td>-0.098379</td>\n",
       "      <td>-0.017660</td>\n",
       "      <td>-0.242276</td>\n",
       "      <td>-0.037908</td>\n",
       "      <td>0.082511</td>\n",
       "      <td>-0.464941</td>\n",
       "      <td>-0.138092</td>\n",
       "      <td>-0.294758</td>\n",
       "      <td>Netherlands</td>\n",
       "      <td>2022</td>\n",
       "      <td>NLD</td>\n",
       "      <td>47301.904915</td>\n",
       "    </tr>\n",
       "    <tr>\n",
       "      <th>3345</th>\n",
       "      <td>728</td>\n",
       "      <td>1.488140</td>\n",
       "      <td>-0.045654</td>\n",
       "      <td>-0.086957</td>\n",
       "      <td>0.326691</td>\n",
       "      <td>-0.139996</td>\n",
       "      <td>-0.186495</td>\n",
       "      <td>-0.242276</td>\n",
       "      <td>-0.158732</td>\n",
       "      <td>0.160469</td>\n",
       "      <td>1.425388</td>\n",
       "      <td>0.152631</td>\n",
       "      <td>-0.294758</td>\n",
       "      <td>Finland</td>\n",
       "      <td>2022</td>\n",
       "      <td>FIN</td>\n",
       "      <td>45361.232992</td>\n",
       "    </tr>\n",
       "    <tr>\n",
       "      <th>3346</th>\n",
       "      <td>1954</td>\n",
       "      <td>0.604697</td>\n",
       "      <td>0.014319</td>\n",
       "      <td>2.858916</td>\n",
       "      <td>2.435765</td>\n",
       "      <td>-0.124901</td>\n",
       "      <td>0.085231</td>\n",
       "      <td>-0.242276</td>\n",
       "      <td>0.026952</td>\n",
       "      <td>0.867045</td>\n",
       "      <td>-2.202697</td>\n",
       "      <td>0.617481</td>\n",
       "      <td>-0.294758</td>\n",
       "      <td>Spain</td>\n",
       "      <td>2022</td>\n",
       "      <td>ESP</td>\n",
       "      <td>26748.793053</td>\n",
       "    </tr>\n",
       "    <tr>\n",
       "      <th>3347</th>\n",
       "      <td>1372</td>\n",
       "      <td>0.254770</td>\n",
       "      <td>-0.126329</td>\n",
       "      <td>0.164354</td>\n",
       "      <td>0.413285</td>\n",
       "      <td>-0.149442</td>\n",
       "      <td>-0.155760</td>\n",
       "      <td>-0.242276</td>\n",
       "      <td>-0.153522</td>\n",
       "      <td>-0.065356</td>\n",
       "      <td>1.051810</td>\n",
       "      <td>-0.196458</td>\n",
       "      <td>-0.294758</td>\n",
       "      <td>Portugal</td>\n",
       "      <td>2022</td>\n",
       "      <td>PRT</td>\n",
       "      <td>20575.123491</td>\n",
       "    </tr>\n",
       "  </tbody>\n",
       "</table>\n",
       "<p>3348 rows × 17 columns</p>\n",
       "</div>"
      ],
      "text/plain": [
       "      Unnamed: 0  scale__biofuel_electricity  scale__hydro_electricity  \\\n",
       "0           2173                   -0.235608                 -0.178775   \n",
       "1           2203                   -0.191263                  0.135897   \n",
       "2           1545                   -0.226995                  1.837108   \n",
       "3           2199                   -0.235608                 -0.221558   \n",
       "4            906                   -0.214674                  0.165884   \n",
       "...          ...                         ...                       ...   \n",
       "3343         856                    0.743929                 -0.221308   \n",
       "3344        2052                    0.975571                 -0.220681   \n",
       "3345         728                    1.488140                 -0.045654   \n",
       "3346        1954                    0.604697                  0.014319   \n",
       "3347        1372                    0.254770                 -0.126329   \n",
       "\n",
       "      scale__solar_electricity  scale__wind_electricity  \\\n",
       "0                    -0.114166                -0.139167   \n",
       "1                    -0.114166                -0.137506   \n",
       "2                    -0.114166                -0.139167   \n",
       "3                    -0.114166                -0.139167   \n",
       "4                    -0.114166                -0.137922   \n",
       "...                        ...                      ...   \n",
       "3343                  0.066370                 0.649338   \n",
       "3344                  1.459014                 0.715117   \n",
       "3345                 -0.086957                 0.326691   \n",
       "3346                  2.858916                 2.435765   \n",
       "3347                  0.164354                 0.413285   \n",
       "\n",
       "      scale__coal_electricity  scale__fossil_electricity  \\\n",
       "0                   -0.149637                  -0.207758   \n",
       "1                   -0.144183                  -0.068775   \n",
       "2                    0.388650                   1.302087   \n",
       "3                   -0.149637                  -0.207786   \n",
       "4                   -0.028456                   0.049415   \n",
       "...                       ...                        ...   \n",
       "3343                -0.137886                  -0.192625   \n",
       "3344                -0.098379                  -0.017660   \n",
       "3345                -0.139996                  -0.186495   \n",
       "3346                -0.124901                   0.085231   \n",
       "3347                -0.149442                  -0.155760   \n",
       "\n",
       "      scale__gas_production  scale__greenhouse_gas_emissions  \\\n",
       "0                 -0.242276                        -0.192084   \n",
       "1                  0.278992                        -0.098054   \n",
       "2                  7.452639                         0.993620   \n",
       "3                 -0.242276                        -0.192403   \n",
       "4                 -0.232526                         0.022664   \n",
       "...                     ...                              ...   \n",
       "3343              -0.242276                        -0.170429   \n",
       "3344              -0.242276                        -0.037908   \n",
       "3345              -0.242276                        -0.158732   \n",
       "3346              -0.242276                         0.026952   \n",
       "3347              -0.242276                        -0.153522   \n",
       "\n",
       "      scale__low_carbon_electricity  scale__net_elec_imports  \\\n",
       "0                         -0.218176                 0.014103   \n",
       "1                         -0.023312                 0.150959   \n",
       "2                          1.535788                -1.562116   \n",
       "3                         -0.239290                 0.014103   \n",
       "4                         -0.046346                 0.389914   \n",
       "...                             ...                      ...   \n",
       "3343                      -0.060340                 0.211539   \n",
       "3344                       0.082511                -0.464941   \n",
       "3345                       0.160469                 1.425388   \n",
       "3346                       0.867045                -2.202697   \n",
       "3347                      -0.065356                 1.051810   \n",
       "\n",
       "      scale__nuclear_electricity  scale__oil_production remainder__country  \\\n",
       "0                      -0.196458              -0.228896           Cameroon   \n",
       "1                      -0.113018               0.289962          Argentina   \n",
       "2                       1.509430               4.324612             Russia   \n",
       "3                      -0.196458              -0.294758      Guinea-Bissau   \n",
       "4                      -0.196458              -0.253664             Turkey   \n",
       "...                          ...                    ...                ...   \n",
       "3343                   -0.196458              -0.294758            Denmark   \n",
       "3344                   -0.138092              -0.294758        Netherlands   \n",
       "3345                    0.152631              -0.294758            Finland   \n",
       "3346                    0.617481              -0.294758              Spain   \n",
       "3347                   -0.196458              -0.294758           Portugal   \n",
       "\n",
       "      remainder__year remainder__iso_code  remainder__GDP_per_capita  \n",
       "0                2000                 CMR                1137.624523  \n",
       "1                2000                 ARG               10672.722035  \n",
       "2                2000                 RUS                5323.662598  \n",
       "3                2000                 GNB                 563.624309  \n",
       "4                2000                 TUR                6454.593119  \n",
       "...               ...                 ...                        ...  \n",
       "3343             2022                 DNK               56386.120691  \n",
       "3344             2022                 NLD               47301.904915  \n",
       "3345             2022                 FIN               45361.232992  \n",
       "3346             2022                 ESP               26748.793053  \n",
       "3347             2022                 PRT               20575.123491  \n",
       "\n",
       "[3348 rows x 17 columns]"
      ]
     },
     "execution_count": 2,
     "metadata": {},
     "output_type": "execute_result"
    }
   ],
   "source": [
    "full_cleaned_final=pd.read_csv('full_cleaned_final.csv')\n",
    "full_cleaned_final"
   ]
  },
  {
   "cell_type": "code",
   "execution_count": 3,
   "id": "3a59f16d",
   "metadata": {},
   "outputs": [],
   "source": [
    "full_cleaned_final1 = full_cleaned_final[[ 'scale__biofuel_electricity', 'scale__hydro_electricity',\n",
    "       'scale__solar_electricity', 'scale__wind_electricity',\n",
    "       'scale__coal_electricity', 'scale__fossil_electricity',\n",
    "       'scale__gas_production', 'scale__greenhouse_gas_emissions',\n",
    "       'scale__low_carbon_electricity', 'scale__net_elec_imports',\n",
    "       'scale__nuclear_electricity', 'scale__oil_production'\n",
    "       ,'remainder__GDP_per_capita']]\n"
   ]
  },
  {
   "cell_type": "code",
   "execution_count": 4,
   "id": "c3ce9021",
   "metadata": {},
   "outputs": [
    {
     "name": "stdout",
     "output_type": "stream",
     "text": [
      "<class 'pandas.core.frame.DataFrame'>\n",
      "RangeIndex: 3348 entries, 0 to 3347\n",
      "Data columns (total 13 columns):\n",
      " #   Column                           Non-Null Count  Dtype  \n",
      "---  ------                           --------------  -----  \n",
      " 0   scale__biofuel_electricity       3348 non-null   float64\n",
      " 1   scale__hydro_electricity         3348 non-null   float64\n",
      " 2   scale__solar_electricity         3348 non-null   float64\n",
      " 3   scale__wind_electricity          3348 non-null   float64\n",
      " 4   scale__coal_electricity          3348 non-null   float64\n",
      " 5   scale__fossil_electricity        3348 non-null   float64\n",
      " 6   scale__gas_production            3348 non-null   float64\n",
      " 7   scale__greenhouse_gas_emissions  3348 non-null   float64\n",
      " 8   scale__low_carbon_electricity    3348 non-null   float64\n",
      " 9   scale__net_elec_imports          3348 non-null   float64\n",
      " 10  scale__nuclear_electricity       3348 non-null   float64\n",
      " 11  scale__oil_production            3348 non-null   float64\n",
      " 12  remainder__GDP_per_capita        3348 non-null   float64\n",
      "dtypes: float64(13)\n",
      "memory usage: 340.2 KB\n"
     ]
    }
   ],
   "source": [
    "full_cleaned_final1.info()"
   ]
  },
  {
   "cell_type": "code",
   "execution_count": 5,
   "id": "9ff46f40",
   "metadata": {},
   "outputs": [
    {
     "data": {
      "text/plain": [
       "0        1137.624523\n",
       "1       10672.722035\n",
       "2        5323.662598\n",
       "3         563.624309\n",
       "4        6454.593119\n",
       "            ...     \n",
       "3343    56386.120691\n",
       "3344    47301.904915\n",
       "3345    45361.232992\n",
       "3346    26748.793053\n",
       "3347    20575.123491\n",
       "Name: remainder__GDP_per_capita, Length: 3348, dtype: float64"
      ]
     },
     "execution_count": 5,
     "metadata": {},
     "output_type": "execute_result"
    }
   ],
   "source": [
    "full_cleaned_final1['remainder__GDP_per_capita']"
   ]
  },
  {
   "cell_type": "code",
   "execution_count": 6,
   "id": "b0ec288c",
   "metadata": {},
   "outputs": [
    {
     "data": {
      "text/plain": [
       "Index(['Unnamed: 0', 'scale__biofuel_electricity', 'scale__hydro_electricity',\n",
       "       'scale__solar_electricity', 'scale__wind_electricity',\n",
       "       'scale__coal_electricity', 'scale__fossil_electricity',\n",
       "       'scale__gas_production', 'scale__greenhouse_gas_emissions',\n",
       "       'scale__low_carbon_electricity', 'scale__net_elec_imports',\n",
       "       'scale__nuclear_electricity', 'scale__oil_production',\n",
       "       'remainder__country', 'remainder__year', 'remainder__iso_code',\n",
       "       'remainder__GDP_per_capita'],\n",
       "      dtype='object')"
      ]
     },
     "execution_count": 6,
     "metadata": {},
     "output_type": "execute_result"
    }
   ],
   "source": [
    "full_cleaned_final.columns"
   ]
  },
  {
   "cell_type": "markdown",
   "id": "27c81247",
   "metadata": {},
   "source": [
    "## Statistical inference"
   ]
  },
  {
   "cell_type": "markdown",
   "id": "cec84ab5",
   "metadata": {},
   "source": [
    "### Impact of Biofuel in GDP_Per_capita"
   ]
  },
  {
   "cell_type": "code",
   "execution_count": 7,
   "id": "a921bb2b",
   "metadata": {},
   "outputs": [
    {
     "name": "stdout",
     "output_type": "stream",
     "text": [
      "Intercept                     13695.008547\n",
      "scale__biofuel_electricity     3711.928630\n",
      "dtype: float64\n"
     ]
    }
   ],
   "source": [
    "model1 = smf.ols(formula = 'remainder__GDP_per_capita ~ scale__biofuel_electricity', data=full_cleaned_final1).fit()\n",
    "\n",
    "print(model1.params)"
   ]
  },
  {
   "cell_type": "code",
   "execution_count": 8,
   "id": "33d27662",
   "metadata": {},
   "outputs": [
    {
     "data": {
      "text/plain": [
       "0.0390978955237834"
      ]
     },
     "execution_count": 8,
     "metadata": {},
     "output_type": "execute_result"
    }
   ],
   "source": [
    "# Checking the R-sqaured\n",
    "model1.rsquared"
   ]
  },
  {
   "cell_type": "code",
   "execution_count": 9,
   "id": "49fc5b80",
   "metadata": {},
   "outputs": [
    {
     "data": {
      "text/html": [
       "<table class=\"simpletable\">\n",
       "<caption>OLS Regression Results</caption>\n",
       "<tr>\n",
       "  <th>Dep. Variable:</th>    <td>remainder__GDP_per_capita</td> <th>  R-squared:         </th> <td>   0.039</td> \n",
       "</tr>\n",
       "<tr>\n",
       "  <th>Model:</th>                       <td>OLS</td>            <th>  Adj. R-squared:    </th> <td>   0.039</td> \n",
       "</tr>\n",
       "<tr>\n",
       "  <th>Method:</th>                 <td>Least Squares</td>       <th>  F-statistic:       </th> <td>   136.1</td> \n",
       "</tr>\n",
       "<tr>\n",
       "  <th>Date:</th>                 <td>Thu, 08 Jun 2023</td>      <th>  Prob (F-statistic):</th> <td>7.29e-31</td> \n",
       "</tr>\n",
       "<tr>\n",
       "  <th>Time:</th>                     <td>16:57:06</td>          <th>  Log-Likelihood:    </th> <td> -37629.</td> \n",
       "</tr>\n",
       "<tr>\n",
       "  <th>No. Observations:</th>          <td>  3348</td>           <th>  AIC:               </th> <td>7.526e+04</td>\n",
       "</tr>\n",
       "<tr>\n",
       "  <th>Df Residuals:</th>              <td>  3346</td>           <th>  BIC:               </th> <td>7.527e+04</td>\n",
       "</tr>\n",
       "<tr>\n",
       "  <th>Df Model:</th>                  <td>     1</td>           <th>                     </th>     <td> </td>    \n",
       "</tr>\n",
       "<tr>\n",
       "  <th>Covariance Type:</th>          <td>nonrobust</td>         <th>                     </th>     <td> </td>    \n",
       "</tr>\n",
       "</table>\n",
       "<table class=\"simpletable\">\n",
       "<tr>\n",
       "               <td></td>                 <th>coef</th>     <th>std err</th>      <th>t</th>      <th>P>|t|</th>  <th>[0.025</th>    <th>0.975]</th>  \n",
       "</tr>\n",
       "<tr>\n",
       "  <th>Intercept</th>                  <td>  1.37e+04</td> <td>  318.126</td> <td>   43.049</td> <td> 0.000</td> <td> 1.31e+04</td> <td> 1.43e+04</td>\n",
       "</tr>\n",
       "<tr>\n",
       "  <th>scale__biofuel_electricity</th> <td> 3711.9286</td> <td>  318.126</td> <td>   11.668</td> <td> 0.000</td> <td> 3088.187</td> <td> 4335.670</td>\n",
       "</tr>\n",
       "</table>\n",
       "<table class=\"simpletable\">\n",
       "<tr>\n",
       "  <th>Omnibus:</th>       <td>1471.421</td> <th>  Durbin-Watson:     </th> <td>   2.032</td>\n",
       "</tr>\n",
       "<tr>\n",
       "  <th>Prob(Omnibus):</th>  <td> 0.000</td>  <th>  Jarque-Bera (JB):  </th> <td>6866.555</td>\n",
       "</tr>\n",
       "<tr>\n",
       "  <th>Skew:</th>           <td> 2.127</td>  <th>  Prob(JB):          </th> <td>    0.00</td>\n",
       "</tr>\n",
       "<tr>\n",
       "  <th>Kurtosis:</th>       <td> 8.579</td>  <th>  Cond. No.          </th> <td>    1.00</td>\n",
       "</tr>\n",
       "</table><br/><br/>Notes:<br/>[1] Standard Errors assume that the covariance matrix of the errors is correctly specified."
      ],
      "text/plain": [
       "<class 'statsmodels.iolib.summary.Summary'>\n",
       "\"\"\"\n",
       "                                OLS Regression Results                               \n",
       "=====================================================================================\n",
       "Dep. Variable:     remainder__GDP_per_capita   R-squared:                       0.039\n",
       "Model:                                   OLS   Adj. R-squared:                  0.039\n",
       "Method:                        Least Squares   F-statistic:                     136.1\n",
       "Date:                       Thu, 08 Jun 2023   Prob (F-statistic):           7.29e-31\n",
       "Time:                               16:57:06   Log-Likelihood:                -37629.\n",
       "No. Observations:                       3348   AIC:                         7.526e+04\n",
       "Df Residuals:                           3346   BIC:                         7.527e+04\n",
       "Df Model:                                  1                                         \n",
       "Covariance Type:                   nonrobust                                         \n",
       "==============================================================================================\n",
       "                                 coef    std err          t      P>|t|      [0.025      0.975]\n",
       "----------------------------------------------------------------------------------------------\n",
       "Intercept                    1.37e+04    318.126     43.049      0.000    1.31e+04    1.43e+04\n",
       "scale__biofuel_electricity  3711.9286    318.126     11.668      0.000    3088.187    4335.670\n",
       "==============================================================================\n",
       "Omnibus:                     1471.421   Durbin-Watson:                   2.032\n",
       "Prob(Omnibus):                  0.000   Jarque-Bera (JB):             6866.555\n",
       "Skew:                           2.127   Prob(JB):                         0.00\n",
       "Kurtosis:                       8.579   Cond. No.                         1.00\n",
       "==============================================================================\n",
       "\n",
       "Notes:\n",
       "[1] Standard Errors assume that the covariance matrix of the errors is correctly specified.\n",
       "\"\"\""
      ]
     },
     "execution_count": 9,
     "metadata": {},
     "output_type": "execute_result"
    }
   ],
   "source": [
    "model1.summary()"
   ]
  },
  {
   "cell_type": "code",
   "execution_count": 10,
   "id": "d28cc0f2",
   "metadata": {},
   "outputs": [
    {
     "name": "stdout",
     "output_type": "stream",
     "text": [
      "Intercept                13695.008547\n",
      "scale__oil_production     2496.822658\n",
      "dtype: float64\n"
     ]
    },
    {
     "data": {
      "text/plain": [
       "0.01769006956057384"
      ]
     },
     "execution_count": 10,
     "metadata": {},
     "output_type": "execute_result"
    }
   ],
   "source": [
    "model_oil = smf.ols(formula = 'remainder__GDP_per_capita ~ scale__oil_production', data=full_cleaned_final1).fit()\n",
    "\n",
    "print(model_oil.params)\n",
    "model_oil.rsquared"
   ]
  },
  {
   "cell_type": "markdown",
   "id": "7d13820f",
   "metadata": {},
   "source": [
    "###  Net imports"
   ]
  },
  {
   "cell_type": "code",
   "execution_count": 11,
   "id": "75d8f368",
   "metadata": {},
   "outputs": [
    {
     "name": "stdout",
     "output_type": "stream",
     "text": [
      "Intercept                  13695.008547\n",
      "scale__net_elec_imports      468.729796\n",
      "dtype: float64\n"
     ]
    },
    {
     "data": {
      "text/plain": [
       "0.0006234466133160366"
      ]
     },
     "execution_count": 11,
     "metadata": {},
     "output_type": "execute_result"
    }
   ],
   "source": [
    "model_elec_imports = smf.ols(formula = 'remainder__GDP_per_capita ~ scale__net_elec_imports', data=full_cleaned_final1).fit()\n",
    "\n",
    "print(model_elec_imports.params)\n",
    "model_elec_imports.rsquared\n"
   ]
  },
  {
   "cell_type": "markdown",
   "id": "400302b5",
   "metadata": {},
   "source": [
    "### Fossil"
   ]
  },
  {
   "cell_type": "code",
   "execution_count": 12,
   "id": "640cd852",
   "metadata": {},
   "outputs": [
    {
     "name": "stdout",
     "output_type": "stream",
     "text": [
      "Intercept                    13695.008547\n",
      "scale__fossil_electricity     1841.430855\n",
      "dtype: float64\n"
     ]
    },
    {
     "data": {
      "text/plain": [
       "0.009621991721835088"
      ]
     },
     "execution_count": 12,
     "metadata": {},
     "output_type": "execute_result"
    }
   ],
   "source": [
    "scale__fossil_electricity = smf.ols(formula = 'remainder__GDP_per_capita ~ scale__fossil_electricity', data=full_cleaned_final1).fit()\n",
    "\n",
    "print(scale__fossil_electricity.params)\n",
    "scale__fossil_electricity.rsquared"
   ]
  },
  {
   "cell_type": "markdown",
   "id": "8c574b86",
   "metadata": {},
   "source": [
    "### Gas production"
   ]
  },
  {
   "cell_type": "code",
   "execution_count": 13,
   "id": "f6449108",
   "metadata": {},
   "outputs": [
    {
     "name": "stdout",
     "output_type": "stream",
     "text": [
      "Intercept                13695.008547\n",
      "scale__gas_production     3246.948527\n",
      "dtype: float64\n"
     ]
    },
    {
     "data": {
      "text/plain": [
       "0.029916098521096446"
      ]
     },
     "execution_count": 13,
     "metadata": {},
     "output_type": "execute_result"
    }
   ],
   "source": [
    "scale__gas_production = smf.ols(formula = 'remainder__GDP_per_capita ~ scale__gas_production', data=full_cleaned_final1).fit()\n",
    "\n",
    "print(scale__gas_production.params)\n",
    "scale__gas_production.rsquared\n"
   ]
  },
  {
   "cell_type": "markdown",
   "id": "bc92138d",
   "metadata": {},
   "source": [
    "### Impact of hydro_electricity on GDP"
   ]
  },
  {
   "cell_type": "code",
   "execution_count": 14,
   "id": "7114f2db",
   "metadata": {},
   "outputs": [
    {
     "name": "stdout",
     "output_type": "stream",
     "text": [
      "Intercept                   13695.008547\n",
      "scale__hydro_electricity     1802.635707\n",
      "dtype: float64\n"
     ]
    }
   ],
   "source": [
    "model2 = smf.ols(formula = 'remainder__GDP_per_capita ~ scale__hydro_electricity', data=full_cleaned_final).fit()\n",
    "\n",
    "print(model2.params)"
   ]
  },
  {
   "cell_type": "code",
   "execution_count": 15,
   "id": "1fd781e7",
   "metadata": {},
   "outputs": [
    {
     "data": {
      "text/plain": [
       "0.00922083149812769"
      ]
     },
     "execution_count": 15,
     "metadata": {},
     "output_type": "execute_result"
    }
   ],
   "source": [
    "model2.rsquared"
   ]
  },
  {
   "cell_type": "code",
   "execution_count": 16,
   "id": "62a28abf",
   "metadata": {},
   "outputs": [
    {
     "data": {
      "text/html": [
       "<table class=\"simpletable\">\n",
       "<caption>OLS Regression Results</caption>\n",
       "<tr>\n",
       "  <th>Dep. Variable:</th>    <td>remainder__GDP_per_capita</td> <th>  R-squared:         </th> <td>   0.009</td> \n",
       "</tr>\n",
       "<tr>\n",
       "  <th>Model:</th>                       <td>OLS</td>            <th>  Adj. R-squared:    </th> <td>   0.009</td> \n",
       "</tr>\n",
       "<tr>\n",
       "  <th>Method:</th>                 <td>Least Squares</td>       <th>  F-statistic:       </th> <td>   31.14</td> \n",
       "</tr>\n",
       "<tr>\n",
       "  <th>Date:</th>                 <td>Thu, 08 Jun 2023</td>      <th>  Prob (F-statistic):</th> <td>2.59e-08</td> \n",
       "</tr>\n",
       "<tr>\n",
       "  <th>Time:</th>                     <td>16:57:06</td>          <th>  Log-Likelihood:    </th> <td> -37680.</td> \n",
       "</tr>\n",
       "<tr>\n",
       "  <th>No. Observations:</th>          <td>  3348</td>           <th>  AIC:               </th> <td>7.536e+04</td>\n",
       "</tr>\n",
       "<tr>\n",
       "  <th>Df Residuals:</th>              <td>  3346</td>           <th>  BIC:               </th> <td>7.538e+04</td>\n",
       "</tr>\n",
       "<tr>\n",
       "  <th>Df Model:</th>                  <td>     1</td>           <th>                     </th>     <td> </td>    \n",
       "</tr>\n",
       "<tr>\n",
       "  <th>Covariance Type:</th>          <td>nonrobust</td>         <th>                     </th>     <td> </td>    \n",
       "</tr>\n",
       "</table>\n",
       "<table class=\"simpletable\">\n",
       "<tr>\n",
       "              <td></td>                <th>coef</th>     <th>std err</th>      <th>t</th>      <th>P>|t|</th>  <th>[0.025</th>    <th>0.975]</th>  \n",
       "</tr>\n",
       "<tr>\n",
       "  <th>Intercept</th>                <td>  1.37e+04</td> <td>  323.034</td> <td>   42.395</td> <td> 0.000</td> <td> 1.31e+04</td> <td> 1.43e+04</td>\n",
       "</tr>\n",
       "<tr>\n",
       "  <th>scale__hydro_electricity</th> <td> 1802.6357</td> <td>  323.034</td> <td>    5.580</td> <td> 0.000</td> <td> 1169.271</td> <td> 2436.000</td>\n",
       "</tr>\n",
       "</table>\n",
       "<table class=\"simpletable\">\n",
       "<tr>\n",
       "  <th>Omnibus:</th>       <td>1400.266</td> <th>  Durbin-Watson:     </th> <td>   2.020</td>\n",
       "</tr>\n",
       "<tr>\n",
       "  <th>Prob(Omnibus):</th>  <td> 0.000</td>  <th>  Jarque-Bera (JB):  </th> <td>5583.524</td>\n",
       "</tr>\n",
       "<tr>\n",
       "  <th>Skew:</th>           <td> 2.082</td>  <th>  Prob(JB):          </th> <td>    0.00</td>\n",
       "</tr>\n",
       "<tr>\n",
       "  <th>Kurtosis:</th>       <td> 7.763</td>  <th>  Cond. No.          </th> <td>    1.00</td>\n",
       "</tr>\n",
       "</table><br/><br/>Notes:<br/>[1] Standard Errors assume that the covariance matrix of the errors is correctly specified."
      ],
      "text/plain": [
       "<class 'statsmodels.iolib.summary.Summary'>\n",
       "\"\"\"\n",
       "                                OLS Regression Results                               \n",
       "=====================================================================================\n",
       "Dep. Variable:     remainder__GDP_per_capita   R-squared:                       0.009\n",
       "Model:                                   OLS   Adj. R-squared:                  0.009\n",
       "Method:                        Least Squares   F-statistic:                     31.14\n",
       "Date:                       Thu, 08 Jun 2023   Prob (F-statistic):           2.59e-08\n",
       "Time:                               16:57:06   Log-Likelihood:                -37680.\n",
       "No. Observations:                       3348   AIC:                         7.536e+04\n",
       "Df Residuals:                           3346   BIC:                         7.538e+04\n",
       "Df Model:                                  1                                         \n",
       "Covariance Type:                   nonrobust                                         \n",
       "============================================================================================\n",
       "                               coef    std err          t      P>|t|      [0.025      0.975]\n",
       "--------------------------------------------------------------------------------------------\n",
       "Intercept                  1.37e+04    323.034     42.395      0.000    1.31e+04    1.43e+04\n",
       "scale__hydro_electricity  1802.6357    323.034      5.580      0.000    1169.271    2436.000\n",
       "==============================================================================\n",
       "Omnibus:                     1400.266   Durbin-Watson:                   2.020\n",
       "Prob(Omnibus):                  0.000   Jarque-Bera (JB):             5583.524\n",
       "Skew:                           2.082   Prob(JB):                         0.00\n",
       "Kurtosis:                       7.763   Cond. No.                         1.00\n",
       "==============================================================================\n",
       "\n",
       "Notes:\n",
       "[1] Standard Errors assume that the covariance matrix of the errors is correctly specified.\n",
       "\"\"\""
      ]
     },
     "execution_count": 16,
     "metadata": {},
     "output_type": "execute_result"
    }
   ],
   "source": [
    "model2.summary()"
   ]
  },
  {
   "cell_type": "markdown",
   "id": "e20816a6",
   "metadata": {},
   "source": [
    "### Impact of Solar_electricity on GDP"
   ]
  },
  {
   "cell_type": "code",
   "execution_count": 17,
   "id": "5555a836",
   "metadata": {},
   "outputs": [
    {
     "name": "stdout",
     "output_type": "stream",
     "text": [
      "Intercept                   13695.008547\n",
      "scale__solar_electricity     1614.230401\n",
      "dtype: float64\n"
     ]
    }
   ],
   "source": [
    "model3 = smf.ols(formula = 'remainder__GDP_per_capita ~ scale__solar_electricity', data=full_cleaned_final).fit()\n",
    "\n",
    "print(model3.params)"
   ]
  },
  {
   "cell_type": "code",
   "execution_count": 18,
   "id": "a60cbbd2",
   "metadata": {},
   "outputs": [
    {
     "data": {
      "text/plain": [
       "0.007394097813170797"
      ]
     },
     "execution_count": 18,
     "metadata": {},
     "output_type": "execute_result"
    }
   ],
   "source": [
    "model3.rsquared"
   ]
  },
  {
   "cell_type": "code",
   "execution_count": 19,
   "id": "5fa4db0a",
   "metadata": {},
   "outputs": [
    {
     "data": {
      "text/html": [
       "<table class=\"simpletable\">\n",
       "<caption>OLS Regression Results</caption>\n",
       "<tr>\n",
       "  <th>Dep. Variable:</th>    <td>remainder__GDP_per_capita</td> <th>  R-squared:         </th> <td>   0.007</td> \n",
       "</tr>\n",
       "<tr>\n",
       "  <th>Model:</th>                       <td>OLS</td>            <th>  Adj. R-squared:    </th> <td>   0.007</td> \n",
       "</tr>\n",
       "<tr>\n",
       "  <th>Method:</th>                 <td>Least Squares</td>       <th>  F-statistic:       </th> <td>   24.92</td> \n",
       "</tr>\n",
       "<tr>\n",
       "  <th>Date:</th>                 <td>Thu, 08 Jun 2023</td>      <th>  Prob (F-statistic):</th> <td>6.27e-07</td> \n",
       "</tr>\n",
       "<tr>\n",
       "  <th>Time:</th>                     <td>16:57:06</td>          <th>  Log-Likelihood:    </th> <td> -37683.</td> \n",
       "</tr>\n",
       "<tr>\n",
       "  <th>No. Observations:</th>          <td>  3348</td>           <th>  AIC:               </th> <td>7.537e+04</td>\n",
       "</tr>\n",
       "<tr>\n",
       "  <th>Df Residuals:</th>              <td>  3346</td>           <th>  BIC:               </th> <td>7.538e+04</td>\n",
       "</tr>\n",
       "<tr>\n",
       "  <th>Df Model:</th>                  <td>     1</td>           <th>                     </th>     <td> </td>    \n",
       "</tr>\n",
       "<tr>\n",
       "  <th>Covariance Type:</th>          <td>nonrobust</td>         <th>                     </th>     <td> </td>    \n",
       "</tr>\n",
       "</table>\n",
       "<table class=\"simpletable\">\n",
       "<tr>\n",
       "              <td></td>                <th>coef</th>     <th>std err</th>      <th>t</th>      <th>P>|t|</th>  <th>[0.025</th>    <th>0.975]</th>  \n",
       "</tr>\n",
       "<tr>\n",
       "  <th>Intercept</th>                <td>  1.37e+04</td> <td>  323.332</td> <td>   42.356</td> <td> 0.000</td> <td> 1.31e+04</td> <td> 1.43e+04</td>\n",
       "</tr>\n",
       "<tr>\n",
       "  <th>scale__solar_electricity</th> <td> 1614.2304</td> <td>  323.332</td> <td>    4.992</td> <td> 0.000</td> <td>  980.282</td> <td> 2248.178</td>\n",
       "</tr>\n",
       "</table>\n",
       "<table class=\"simpletable\">\n",
       "<tr>\n",
       "  <th>Omnibus:</th>       <td>1410.390</td> <th>  Durbin-Watson:     </th> <td>   2.028</td>\n",
       "</tr>\n",
       "<tr>\n",
       "  <th>Prob(Omnibus):</th>  <td> 0.000</td>  <th>  Jarque-Bera (JB):  </th> <td>5675.126</td>\n",
       "</tr>\n",
       "<tr>\n",
       "  <th>Skew:</th>           <td> 2.096</td>  <th>  Prob(JB):          </th> <td>    0.00</td>\n",
       "</tr>\n",
       "<tr>\n",
       "  <th>Kurtosis:</th>       <td> 7.808</td>  <th>  Cond. No.          </th> <td>    1.00</td>\n",
       "</tr>\n",
       "</table><br/><br/>Notes:<br/>[1] Standard Errors assume that the covariance matrix of the errors is correctly specified."
      ],
      "text/plain": [
       "<class 'statsmodels.iolib.summary.Summary'>\n",
       "\"\"\"\n",
       "                                OLS Regression Results                               \n",
       "=====================================================================================\n",
       "Dep. Variable:     remainder__GDP_per_capita   R-squared:                       0.007\n",
       "Model:                                   OLS   Adj. R-squared:                  0.007\n",
       "Method:                        Least Squares   F-statistic:                     24.92\n",
       "Date:                       Thu, 08 Jun 2023   Prob (F-statistic):           6.27e-07\n",
       "Time:                               16:57:06   Log-Likelihood:                -37683.\n",
       "No. Observations:                       3348   AIC:                         7.537e+04\n",
       "Df Residuals:                           3346   BIC:                         7.538e+04\n",
       "Df Model:                                  1                                         \n",
       "Covariance Type:                   nonrobust                                         \n",
       "============================================================================================\n",
       "                               coef    std err          t      P>|t|      [0.025      0.975]\n",
       "--------------------------------------------------------------------------------------------\n",
       "Intercept                  1.37e+04    323.332     42.356      0.000    1.31e+04    1.43e+04\n",
       "scale__solar_electricity  1614.2304    323.332      4.992      0.000     980.282    2248.178\n",
       "==============================================================================\n",
       "Omnibus:                     1410.390   Durbin-Watson:                   2.028\n",
       "Prob(Omnibus):                  0.000   Jarque-Bera (JB):             5675.126\n",
       "Skew:                           2.096   Prob(JB):                         0.00\n",
       "Kurtosis:                       7.808   Cond. No.                         1.00\n",
       "==============================================================================\n",
       "\n",
       "Notes:\n",
       "[1] Standard Errors assume that the covariance matrix of the errors is correctly specified.\n",
       "\"\"\""
      ]
     },
     "execution_count": 19,
     "metadata": {},
     "output_type": "execute_result"
    }
   ],
   "source": [
    "model3.summary()"
   ]
  },
  {
   "cell_type": "markdown",
   "id": "4229c400",
   "metadata": {},
   "source": [
    "### Impact of Wind_electricity on GDP"
   ]
  },
  {
   "cell_type": "code",
   "execution_count": 20,
   "id": "b77a3d20",
   "metadata": {},
   "outputs": [
    {
     "name": "stdout",
     "output_type": "stream",
     "text": [
      "Intercept                  13695.008547\n",
      "scale__wind_electricity     2325.753447\n",
      "dtype: float64\n"
     ]
    }
   ],
   "source": [
    "model4 = smf.ols(formula = 'remainder__GDP_per_capita ~ scale__wind_electricity', data=full_cleaned_final).fit()\n",
    "\n",
    "print(model4.params)"
   ]
  },
  {
   "cell_type": "code",
   "execution_count": 21,
   "id": "87821e12",
   "metadata": {},
   "outputs": [
    {
     "data": {
      "text/plain": [
       "0.015349049745716603"
      ]
     },
     "execution_count": 21,
     "metadata": {},
     "output_type": "execute_result"
    }
   ],
   "source": [
    "model4.rsquared"
   ]
  },
  {
   "cell_type": "code",
   "execution_count": 22,
   "id": "1527476a",
   "metadata": {},
   "outputs": [
    {
     "data": {
      "text/html": [
       "<table class=\"simpletable\">\n",
       "<caption>OLS Regression Results</caption>\n",
       "<tr>\n",
       "  <th>Dep. Variable:</th>    <td>remainder__GDP_per_capita</td> <th>  R-squared:         </th> <td>   0.015</td> \n",
       "</tr>\n",
       "<tr>\n",
       "  <th>Model:</th>                       <td>OLS</td>            <th>  Adj. R-squared:    </th> <td>   0.015</td> \n",
       "</tr>\n",
       "<tr>\n",
       "  <th>Method:</th>                 <td>Least Squares</td>       <th>  F-statistic:       </th> <td>   52.16</td> \n",
       "</tr>\n",
       "<tr>\n",
       "  <th>Date:</th>                 <td>Thu, 08 Jun 2023</td>      <th>  Prob (F-statistic):</th> <td>6.31e-13</td> \n",
       "</tr>\n",
       "<tr>\n",
       "  <th>Time:</th>                     <td>16:57:06</td>          <th>  Log-Likelihood:    </th> <td> -37670.</td> \n",
       "</tr>\n",
       "<tr>\n",
       "  <th>No. Observations:</th>          <td>  3348</td>           <th>  AIC:               </th> <td>7.534e+04</td>\n",
       "</tr>\n",
       "<tr>\n",
       "  <th>Df Residuals:</th>              <td>  3346</td>           <th>  BIC:               </th> <td>7.536e+04</td>\n",
       "</tr>\n",
       "<tr>\n",
       "  <th>Df Model:</th>                  <td>     1</td>           <th>                     </th>     <td> </td>    \n",
       "</tr>\n",
       "<tr>\n",
       "  <th>Covariance Type:</th>          <td>nonrobust</td>         <th>                     </th>     <td> </td>    \n",
       "</tr>\n",
       "</table>\n",
       "<table class=\"simpletable\">\n",
       "<tr>\n",
       "             <td></td>                <th>coef</th>     <th>std err</th>      <th>t</th>      <th>P>|t|</th>  <th>[0.025</th>    <th>0.975]</th>  \n",
       "</tr>\n",
       "<tr>\n",
       "  <th>Intercept</th>               <td>  1.37e+04</td> <td>  322.034</td> <td>   42.527</td> <td> 0.000</td> <td> 1.31e+04</td> <td> 1.43e+04</td>\n",
       "</tr>\n",
       "<tr>\n",
       "  <th>scale__wind_electricity</th> <td> 2325.7534</td> <td>  322.034</td> <td>    7.222</td> <td> 0.000</td> <td> 1694.351</td> <td> 2957.156</td>\n",
       "</tr>\n",
       "</table>\n",
       "<table class=\"simpletable\">\n",
       "<tr>\n",
       "  <th>Omnibus:</th>       <td>1416.002</td> <th>  Durbin-Watson:     </th> <td>   2.030</td>\n",
       "</tr>\n",
       "<tr>\n",
       "  <th>Prob(Omnibus):</th>  <td> 0.000</td>  <th>  Jarque-Bera (JB):  </th> <td>5865.141</td>\n",
       "</tr>\n",
       "<tr>\n",
       "  <th>Skew:</th>           <td> 2.090</td>  <th>  Prob(JB):          </th> <td>    0.00</td>\n",
       "</tr>\n",
       "<tr>\n",
       "  <th>Kurtosis:</th>       <td> 7.957</td>  <th>  Cond. No.          </th> <td>    1.00</td>\n",
       "</tr>\n",
       "</table><br/><br/>Notes:<br/>[1] Standard Errors assume that the covariance matrix of the errors is correctly specified."
      ],
      "text/plain": [
       "<class 'statsmodels.iolib.summary.Summary'>\n",
       "\"\"\"\n",
       "                                OLS Regression Results                               \n",
       "=====================================================================================\n",
       "Dep. Variable:     remainder__GDP_per_capita   R-squared:                       0.015\n",
       "Model:                                   OLS   Adj. R-squared:                  0.015\n",
       "Method:                        Least Squares   F-statistic:                     52.16\n",
       "Date:                       Thu, 08 Jun 2023   Prob (F-statistic):           6.31e-13\n",
       "Time:                               16:57:06   Log-Likelihood:                -37670.\n",
       "No. Observations:                       3348   AIC:                         7.534e+04\n",
       "Df Residuals:                           3346   BIC:                         7.536e+04\n",
       "Df Model:                                  1                                         \n",
       "Covariance Type:                   nonrobust                                         \n",
       "===========================================================================================\n",
       "                              coef    std err          t      P>|t|      [0.025      0.975]\n",
       "-------------------------------------------------------------------------------------------\n",
       "Intercept                 1.37e+04    322.034     42.527      0.000    1.31e+04    1.43e+04\n",
       "scale__wind_electricity  2325.7534    322.034      7.222      0.000    1694.351    2957.156\n",
       "==============================================================================\n",
       "Omnibus:                     1416.002   Durbin-Watson:                   2.030\n",
       "Prob(Omnibus):                  0.000   Jarque-Bera (JB):             5865.141\n",
       "Skew:                           2.090   Prob(JB):                         0.00\n",
       "Kurtosis:                       7.957   Cond. No.                         1.00\n",
       "==============================================================================\n",
       "\n",
       "Notes:\n",
       "[1] Standard Errors assume that the covariance matrix of the errors is correctly specified.\n",
       "\"\"\""
      ]
     },
     "execution_count": 22,
     "metadata": {},
     "output_type": "execute_result"
    }
   ],
   "source": [
    "model4.summary()"
   ]
  },
  {
   "cell_type": "markdown",
   "id": "e27b7742",
   "metadata": {},
   "source": [
    "### Impact of biofuel and wind_electricity on GDP"
   ]
  },
  {
   "cell_type": "code",
   "execution_count": 23,
   "id": "f7246217",
   "metadata": {},
   "outputs": [
    {
     "name": "stdout",
     "output_type": "stream",
     "text": [
      "Intercept                     13695.008547\n",
      "scale__biofuel_electricity     5823.575107\n",
      "scale__wind_electricity       -2531.661695\n",
      "dtype: float64\n"
     ]
    }
   ],
   "source": [
    "model5 = smf.ols(formula = 'remainder__GDP_per_capita ~ scale__biofuel_electricity + scale__wind_electricity', data=full_cleaned_final).fit()\n",
    "\n",
    "print(model5.params)"
   ]
  },
  {
   "cell_type": "code",
   "execution_count": 24,
   "id": "3a835944",
   "metadata": {},
   "outputs": [
    {
     "data": {
      "text/plain": [
       "0.04463199144447405"
      ]
     },
     "execution_count": 24,
     "metadata": {},
     "output_type": "execute_result"
    }
   ],
   "source": [
    "model5.rsquared"
   ]
  },
  {
   "cell_type": "markdown",
   "id": "3e5856d4",
   "metadata": {},
   "source": [
    "## Training an OLS model"
   ]
  },
  {
   "cell_type": "code",
   "execution_count": 124,
   "id": "919506bd",
   "metadata": {},
   "outputs": [],
   "source": [
    "X_train = full_cleaned_final[['scale__biofuel_electricity','scale__hydro_electricity','scale__solar_electricity','scale__wind_electricity']]\n",
    "y_train = full_cleaned_final[['remainder__GDP_per_capita']]"
   ]
  },
  {
   "cell_type": "code",
   "execution_count": 125,
   "id": "f3883b56",
   "metadata": {},
   "outputs": [
    {
     "data": {
      "text/html": [
       "<div>\n",
       "<style scoped>\n",
       "    .dataframe tbody tr th:only-of-type {\n",
       "        vertical-align: middle;\n",
       "    }\n",
       "\n",
       "    .dataframe tbody tr th {\n",
       "        vertical-align: top;\n",
       "    }\n",
       "\n",
       "    .dataframe thead th {\n",
       "        text-align: right;\n",
       "    }\n",
       "</style>\n",
       "<table border=\"1\" class=\"dataframe\">\n",
       "  <thead>\n",
       "    <tr style=\"text-align: right;\">\n",
       "      <th></th>\n",
       "      <th>scale__biofuel_electricity</th>\n",
       "      <th>scale__hydro_electricity</th>\n",
       "      <th>scale__solar_electricity</th>\n",
       "      <th>scale__wind_electricity</th>\n",
       "    </tr>\n",
       "  </thead>\n",
       "  <tbody>\n",
       "    <tr>\n",
       "      <th>0</th>\n",
       "      <td>-0.235608</td>\n",
       "      <td>-0.178775</td>\n",
       "      <td>-0.114166</td>\n",
       "      <td>-0.139167</td>\n",
       "    </tr>\n",
       "    <tr>\n",
       "      <th>1</th>\n",
       "      <td>-0.191263</td>\n",
       "      <td>0.135897</td>\n",
       "      <td>-0.114166</td>\n",
       "      <td>-0.137506</td>\n",
       "    </tr>\n",
       "    <tr>\n",
       "      <th>2</th>\n",
       "      <td>-0.226995</td>\n",
       "      <td>1.837108</td>\n",
       "      <td>-0.114166</td>\n",
       "      <td>-0.139167</td>\n",
       "    </tr>\n",
       "    <tr>\n",
       "      <th>3</th>\n",
       "      <td>-0.235608</td>\n",
       "      <td>-0.221558</td>\n",
       "      <td>-0.114166</td>\n",
       "      <td>-0.139167</td>\n",
       "    </tr>\n",
       "    <tr>\n",
       "      <th>4</th>\n",
       "      <td>-0.214674</td>\n",
       "      <td>0.165884</td>\n",
       "      <td>-0.114166</td>\n",
       "      <td>-0.137922</td>\n",
       "    </tr>\n",
       "    <tr>\n",
       "      <th>...</th>\n",
       "      <td>...</td>\n",
       "      <td>...</td>\n",
       "      <td>...</td>\n",
       "      <td>...</td>\n",
       "    </tr>\n",
       "    <tr>\n",
       "      <th>3343</th>\n",
       "      <td>0.743929</td>\n",
       "      <td>-0.221308</td>\n",
       "      <td>0.066370</td>\n",
       "      <td>0.649338</td>\n",
       "    </tr>\n",
       "    <tr>\n",
       "      <th>3344</th>\n",
       "      <td>0.975571</td>\n",
       "      <td>-0.220681</td>\n",
       "      <td>1.459014</td>\n",
       "      <td>0.715117</td>\n",
       "    </tr>\n",
       "    <tr>\n",
       "      <th>3345</th>\n",
       "      <td>1.488140</td>\n",
       "      <td>-0.045654</td>\n",
       "      <td>-0.086957</td>\n",
       "      <td>0.326691</td>\n",
       "    </tr>\n",
       "    <tr>\n",
       "      <th>3346</th>\n",
       "      <td>0.604697</td>\n",
       "      <td>0.014319</td>\n",
       "      <td>2.858916</td>\n",
       "      <td>2.435765</td>\n",
       "    </tr>\n",
       "    <tr>\n",
       "      <th>3347</th>\n",
       "      <td>0.254770</td>\n",
       "      <td>-0.126329</td>\n",
       "      <td>0.164354</td>\n",
       "      <td>0.413285</td>\n",
       "    </tr>\n",
       "  </tbody>\n",
       "</table>\n",
       "<p>3348 rows × 4 columns</p>\n",
       "</div>"
      ],
      "text/plain": [
       "      scale__biofuel_electricity  scale__hydro_electricity  \\\n",
       "0                      -0.235608                 -0.178775   \n",
       "1                      -0.191263                  0.135897   \n",
       "2                      -0.226995                  1.837108   \n",
       "3                      -0.235608                 -0.221558   \n",
       "4                      -0.214674                  0.165884   \n",
       "...                          ...                       ...   \n",
       "3343                    0.743929                 -0.221308   \n",
       "3344                    0.975571                 -0.220681   \n",
       "3345                    1.488140                 -0.045654   \n",
       "3346                    0.604697                  0.014319   \n",
       "3347                    0.254770                 -0.126329   \n",
       "\n",
       "      scale__solar_electricity  scale__wind_electricity  \n",
       "0                    -0.114166                -0.139167  \n",
       "1                    -0.114166                -0.137506  \n",
       "2                    -0.114166                -0.139167  \n",
       "3                    -0.114166                -0.139167  \n",
       "4                    -0.114166                -0.137922  \n",
       "...                        ...                      ...  \n",
       "3343                  0.066370                 0.649338  \n",
       "3344                  1.459014                 0.715117  \n",
       "3345                 -0.086957                 0.326691  \n",
       "3346                  2.858916                 2.435765  \n",
       "3347                  0.164354                 0.413285  \n",
       "\n",
       "[3348 rows x 4 columns]"
      ]
     },
     "execution_count": 125,
     "metadata": {},
     "output_type": "execute_result"
    }
   ],
   "source": [
    "X_train"
   ]
  },
  {
   "cell_type": "markdown",
   "id": "2af362d6",
   "metadata": {},
   "source": [
    "### Loading the test set"
   ]
  },
  {
   "cell_type": "code",
   "execution_count": 126,
   "id": "3b6980b3",
   "metadata": {},
   "outputs": [
    {
     "data": {
      "text/html": [
       "<div>\n",
       "<style scoped>\n",
       "    .dataframe tbody tr th:only-of-type {\n",
       "        vertical-align: middle;\n",
       "    }\n",
       "\n",
       "    .dataframe tbody tr th {\n",
       "        vertical-align: top;\n",
       "    }\n",
       "\n",
       "    .dataframe thead th {\n",
       "        text-align: right;\n",
       "    }\n",
       "</style>\n",
       "<table border=\"1\" class=\"dataframe\">\n",
       "  <thead>\n",
       "    <tr style=\"text-align: right;\">\n",
       "      <th></th>\n",
       "      <th>Unnamed: 0</th>\n",
       "      <th>scale__biofuel_electricity</th>\n",
       "      <th>scale__hydro_electricity</th>\n",
       "      <th>scale__solar_electricity</th>\n",
       "      <th>scale__wind_electricity</th>\n",
       "      <th>scale__coal_electricity</th>\n",
       "      <th>scale__fossil_electricity</th>\n",
       "      <th>scale__gas_production</th>\n",
       "      <th>scale__greenhouse_gas_emissions</th>\n",
       "      <th>scale__low_carbon_electricity</th>\n",
       "      <th>scale__net_elec_imports</th>\n",
       "      <th>scale__nuclear_electricity</th>\n",
       "      <th>scale__oil_production</th>\n",
       "      <th>remainder__country</th>\n",
       "      <th>remainder__year</th>\n",
       "      <th>remainder__iso_code</th>\n",
       "      <th>remainder__GDP_per_capita</th>\n",
       "    </tr>\n",
       "  </thead>\n",
       "  <tbody>\n",
       "    <tr>\n",
       "      <th>744</th>\n",
       "      <td>744</td>\n",
       "      <td>-0.235608</td>\n",
       "      <td>-0.221558</td>\n",
       "      <td>-0.114166</td>\n",
       "      <td>-0.139167</td>\n",
       "      <td>-0.149637</td>\n",
       "      <td>-0.123976</td>\n",
       "      <td>-0.111605</td>\n",
       "      <td>-0.139700</td>\n",
       "      <td>-0.239290</td>\n",
       "      <td>0.014103</td>\n",
       "      <td>-0.196458</td>\n",
       "      <td>1.259242</td>\n",
       "      <td>Kuwait</td>\n",
       "      <td>2000</td>\n",
       "      <td>KWT</td>\n",
       "      <td>31657.763247</td>\n",
       "    </tr>\n",
       "    <tr>\n",
       "      <th>106</th>\n",
       "      <td>106</td>\n",
       "      <td>-0.235608</td>\n",
       "      <td>-0.098350</td>\n",
       "      <td>-0.114166</td>\n",
       "      <td>-0.139167</td>\n",
       "      <td>-0.080071</td>\n",
       "      <td>-0.146758</td>\n",
       "      <td>-0.233838</td>\n",
       "      <td>-0.127897</td>\n",
       "      <td>-0.178485</td>\n",
       "      <td>0.351771</td>\n",
       "      <td>-0.196458</td>\n",
       "      <td>-0.281461</td>\n",
       "      <td>Serbia</td>\n",
       "      <td>2000</td>\n",
       "      <td>SRB</td>\n",
       "      <td>3193.259737</td>\n",
       "    </tr>\n",
       "    <tr>\n",
       "      <th>504</th>\n",
       "      <td>504</td>\n",
       "      <td>-0.235608</td>\n",
       "      <td>-0.221558</td>\n",
       "      <td>-0.114166</td>\n",
       "      <td>-0.139167</td>\n",
       "      <td>-0.149637</td>\n",
       "      <td>-0.171914</td>\n",
       "      <td>-0.110818</td>\n",
       "      <td>-0.169826</td>\n",
       "      <td>-0.239290</td>\n",
       "      <td>0.014103</td>\n",
       "      <td>-0.196458</td>\n",
       "      <td>-0.259791</td>\n",
       "      <td>Bahrain</td>\n",
       "      <td>2000</td>\n",
       "      <td>BHR</td>\n",
       "      <td>21713.538050</td>\n",
       "    </tr>\n",
       "    <tr>\n",
       "      <th>394</th>\n",
       "      <td>394</td>\n",
       "      <td>-0.235608</td>\n",
       "      <td>-0.221558</td>\n",
       "      <td>-0.114166</td>\n",
       "      <td>-0.139167</td>\n",
       "      <td>-0.149637</td>\n",
       "      <td>-0.182325</td>\n",
       "      <td>0.365754</td>\n",
       "      <td>-0.173016</td>\n",
       "      <td>-0.239290</td>\n",
       "      <td>-0.098093</td>\n",
       "      <td>-0.196458</td>\n",
       "      <td>-0.191808</td>\n",
       "      <td>Turkmenistan</td>\n",
       "      <td>2000</td>\n",
       "      <td>TKM</td>\n",
       "      <td>2261.699865</td>\n",
       "    </tr>\n",
       "    <tr>\n",
       "      <th>26</th>\n",
       "      <td>26</td>\n",
       "      <td>-0.218370</td>\n",
       "      <td>-0.197093</td>\n",
       "      <td>-0.114166</td>\n",
       "      <td>-0.139167</td>\n",
       "      <td>-0.149637</td>\n",
       "      <td>-0.203229</td>\n",
       "      <td>-0.197538</td>\n",
       "      <td>-0.189284</td>\n",
       "      <td>-0.226349</td>\n",
       "      <td>0.016336</td>\n",
       "      <td>-0.196458</td>\n",
       "      <td>-0.268652</td>\n",
       "      <td>Bolivia</td>\n",
       "      <td>2000</td>\n",
       "      <td>BOL</td>\n",
       "      <td>2017.394606</td>\n",
       "    </tr>\n",
       "    <tr>\n",
       "      <th>...</th>\n",
       "      <td>...</td>\n",
       "      <td>...</td>\n",
       "      <td>...</td>\n",
       "      <td>...</td>\n",
       "      <td>...</td>\n",
       "      <td>...</td>\n",
       "      <td>...</td>\n",
       "      <td>...</td>\n",
       "      <td>...</td>\n",
       "      <td>...</td>\n",
       "      <td>...</td>\n",
       "      <td>...</td>\n",
       "      <td>...</td>\n",
       "      <td>...</td>\n",
       "      <td>...</td>\n",
       "      <td>...</td>\n",
       "      <td>...</td>\n",
       "    </tr>\n",
       "    <tr>\n",
       "      <th>685</th>\n",
       "      <td>685</td>\n",
       "      <td>-0.214674</td>\n",
       "      <td>-0.220555</td>\n",
       "      <td>-0.113268</td>\n",
       "      <td>-0.139167</td>\n",
       "      <td>-0.149637</td>\n",
       "      <td>-0.206819</td>\n",
       "      <td>-0.242276</td>\n",
       "      <td>-0.191375</td>\n",
       "      <td>-0.237681</td>\n",
       "      <td>0.053357</td>\n",
       "      <td>-0.196458</td>\n",
       "      <td>-0.294758</td>\n",
       "      <td>Belize</td>\n",
       "      <td>2021</td>\n",
       "      <td>BLZ</td>\n",
       "      <td>5733.352611</td>\n",
       "    </tr>\n",
       "    <tr>\n",
       "      <th>683</th>\n",
       "      <td>683</td>\n",
       "      <td>0.720518</td>\n",
       "      <td>-0.195713</td>\n",
       "      <td>0.611633</td>\n",
       "      <td>0.683476</td>\n",
       "      <td>0.253218</td>\n",
       "      <td>0.183069</td>\n",
       "      <td>-0.242276</td>\n",
       "      <td>0.210759</td>\n",
       "      <td>-0.006593</td>\n",
       "      <td>-0.101459</td>\n",
       "      <td>-0.196458</td>\n",
       "      <td>-0.294758</td>\n",
       "      <td>Poland</td>\n",
       "      <td>2022</td>\n",
       "      <td>POL</td>\n",
       "      <td>14437.213791</td>\n",
       "    </tr>\n",
       "    <tr>\n",
       "      <th>128</th>\n",
       "      <td>128</td>\n",
       "      <td>-0.174013</td>\n",
       "      <td>-0.162213</td>\n",
       "      <td>0.486431</td>\n",
       "      <td>0.312952</td>\n",
       "      <td>-0.131913</td>\n",
       "      <td>-0.125771</td>\n",
       "      <td>-0.242276</td>\n",
       "      <td>-0.128571</td>\n",
       "      <td>-0.098669</td>\n",
       "      <td>0.403376</td>\n",
       "      <td>-0.196458</td>\n",
       "      <td>-0.294758</td>\n",
       "      <td>Greece</td>\n",
       "      <td>2022</td>\n",
       "      <td>GRC</td>\n",
       "      <td>18382.157564</td>\n",
       "    </tr>\n",
       "    <tr>\n",
       "      <th>510</th>\n",
       "      <td>510</td>\n",
       "      <td>-0.234388</td>\n",
       "      <td>-0.221558</td>\n",
       "      <td>-0.090586</td>\n",
       "      <td>-0.139167</td>\n",
       "      <td>-0.149637</td>\n",
       "      <td>-0.202622</td>\n",
       "      <td>-0.242276</td>\n",
       "      <td>-0.189071</td>\n",
       "      <td>-0.237619</td>\n",
       "      <td>0.085891</td>\n",
       "      <td>-0.196458</td>\n",
       "      <td>-0.294758</td>\n",
       "      <td>Malta</td>\n",
       "      <td>2022</td>\n",
       "      <td>MLT</td>\n",
       "      <td>26988.999838</td>\n",
       "    </tr>\n",
       "    <tr>\n",
       "      <th>172</th>\n",
       "      <td>172</td>\n",
       "      <td>0.071182</td>\n",
       "      <td>-0.221308</td>\n",
       "      <td>-0.066090</td>\n",
       "      <td>-0.112943</td>\n",
       "      <td>-0.149637</td>\n",
       "      <td>-0.194972</td>\n",
       "      <td>-0.242276</td>\n",
       "      <td>-0.178758</td>\n",
       "      <td>-0.216566</td>\n",
       "      <td>0.120669</td>\n",
       "      <td>-0.196458</td>\n",
       "      <td>-0.294758</td>\n",
       "      <td>Estonia</td>\n",
       "      <td>2022</td>\n",
       "      <td>EST</td>\n",
       "      <td>19769.147870</td>\n",
       "    </tr>\n",
       "  </tbody>\n",
       "</table>\n",
       "<p>838 rows × 17 columns</p>\n",
       "</div>"
      ],
      "text/plain": [
       "     Unnamed: 0  scale__biofuel_electricity  scale__hydro_electricity  \\\n",
       "744         744                   -0.235608                 -0.221558   \n",
       "106         106                   -0.235608                 -0.098350   \n",
       "504         504                   -0.235608                 -0.221558   \n",
       "394         394                   -0.235608                 -0.221558   \n",
       "26           26                   -0.218370                 -0.197093   \n",
       "..          ...                         ...                       ...   \n",
       "685         685                   -0.214674                 -0.220555   \n",
       "683         683                    0.720518                 -0.195713   \n",
       "128         128                   -0.174013                 -0.162213   \n",
       "510         510                   -0.234388                 -0.221558   \n",
       "172         172                    0.071182                 -0.221308   \n",
       "\n",
       "     scale__solar_electricity  scale__wind_electricity  \\\n",
       "744                 -0.114166                -0.139167   \n",
       "106                 -0.114166                -0.139167   \n",
       "504                 -0.114166                -0.139167   \n",
       "394                 -0.114166                -0.139167   \n",
       "26                  -0.114166                -0.139167   \n",
       "..                        ...                      ...   \n",
       "685                 -0.113268                -0.139167   \n",
       "683                  0.611633                 0.683476   \n",
       "128                  0.486431                 0.312952   \n",
       "510                 -0.090586                -0.139167   \n",
       "172                 -0.066090                -0.112943   \n",
       "\n",
       "     scale__coal_electricity  scale__fossil_electricity  \\\n",
       "744                -0.149637                  -0.123976   \n",
       "106                -0.080071                  -0.146758   \n",
       "504                -0.149637                  -0.171914   \n",
       "394                -0.149637                  -0.182325   \n",
       "26                 -0.149637                  -0.203229   \n",
       "..                       ...                        ...   \n",
       "685                -0.149637                  -0.206819   \n",
       "683                 0.253218                   0.183069   \n",
       "128                -0.131913                  -0.125771   \n",
       "510                -0.149637                  -0.202622   \n",
       "172                -0.149637                  -0.194972   \n",
       "\n",
       "     scale__gas_production  scale__greenhouse_gas_emissions  \\\n",
       "744              -0.111605                        -0.139700   \n",
       "106              -0.233838                        -0.127897   \n",
       "504              -0.110818                        -0.169826   \n",
       "394               0.365754                        -0.173016   \n",
       "26               -0.197538                        -0.189284   \n",
       "..                     ...                              ...   \n",
       "685              -0.242276                        -0.191375   \n",
       "683              -0.242276                         0.210759   \n",
       "128              -0.242276                        -0.128571   \n",
       "510              -0.242276                        -0.189071   \n",
       "172              -0.242276                        -0.178758   \n",
       "\n",
       "     scale__low_carbon_electricity  scale__net_elec_imports  \\\n",
       "744                      -0.239290                 0.014103   \n",
       "106                      -0.178485                 0.351771   \n",
       "504                      -0.239290                 0.014103   \n",
       "394                      -0.239290                -0.098093   \n",
       "26                       -0.226349                 0.016336   \n",
       "..                             ...                      ...   \n",
       "685                      -0.237681                 0.053357   \n",
       "683                      -0.006593                -0.101459   \n",
       "128                      -0.098669                 0.403376   \n",
       "510                      -0.237619                 0.085891   \n",
       "172                      -0.216566                 0.120669   \n",
       "\n",
       "     scale__nuclear_electricity  scale__oil_production remainder__country  \\\n",
       "744                   -0.196458               1.259242             Kuwait   \n",
       "106                   -0.196458              -0.281461             Serbia   \n",
       "504                   -0.196458              -0.259791            Bahrain   \n",
       "394                   -0.196458              -0.191808       Turkmenistan   \n",
       "26                    -0.196458              -0.268652            Bolivia   \n",
       "..                          ...                    ...                ...   \n",
       "685                   -0.196458              -0.294758             Belize   \n",
       "683                   -0.196458              -0.294758             Poland   \n",
       "128                   -0.196458              -0.294758             Greece   \n",
       "510                   -0.196458              -0.294758              Malta   \n",
       "172                   -0.196458              -0.294758            Estonia   \n",
       "\n",
       "     remainder__year remainder__iso_code  remainder__GDP_per_capita  \n",
       "744             2000                 KWT               31657.763247  \n",
       "106             2000                 SRB                3193.259737  \n",
       "504             2000                 BHR               21713.538050  \n",
       "394             2000                 TKM                2261.699865  \n",
       "26              2000                 BOL                2017.394606  \n",
       "..               ...                 ...                        ...  \n",
       "685             2021                 BLZ                5733.352611  \n",
       "683             2022                 POL               14437.213791  \n",
       "128             2022                 GRC               18382.157564  \n",
       "510             2022                 MLT               26988.999838  \n",
       "172             2022                 EST               19769.147870  \n",
       "\n",
       "[838 rows x 17 columns]"
      ]
     },
     "execution_count": 126,
     "metadata": {},
     "output_type": "execute_result"
    }
   ],
   "source": [
    "full_cleaned_final_test = pd.read_csv('full_cleaned_final_test.csv').sort_values('remainder__year', ascending=True)\n",
    "full_cleaned_final_test"
   ]
  },
  {
   "cell_type": "code",
   "execution_count": 127,
   "id": "acbe3b49",
   "metadata": {},
   "outputs": [],
   "source": [
    "X_test = full_cleaned_final_test[['scale__biofuel_electricity','scale__hydro_electricity','scale__solar_electricity','scale__wind_electricity']]\n",
    "y_test = full_cleaned_final_test[['remainder__GDP_per_capita']]"
   ]
  },
  {
   "cell_type": "code",
   "execution_count": 128,
   "id": "812927be",
   "metadata": {},
   "outputs": [
    {
     "data": {
      "text/html": [
       "<div>\n",
       "<style scoped>\n",
       "    .dataframe tbody tr th:only-of-type {\n",
       "        vertical-align: middle;\n",
       "    }\n",
       "\n",
       "    .dataframe tbody tr th {\n",
       "        vertical-align: top;\n",
       "    }\n",
       "\n",
       "    .dataframe thead th {\n",
       "        text-align: right;\n",
       "    }\n",
       "</style>\n",
       "<table border=\"1\" class=\"dataframe\">\n",
       "  <thead>\n",
       "    <tr style=\"text-align: right;\">\n",
       "      <th></th>\n",
       "      <th>scale__biofuel_electricity</th>\n",
       "      <th>scale__hydro_electricity</th>\n",
       "      <th>scale__solar_electricity</th>\n",
       "      <th>scale__wind_electricity</th>\n",
       "    </tr>\n",
       "  </thead>\n",
       "  <tbody>\n",
       "    <tr>\n",
       "      <th>744</th>\n",
       "      <td>-0.235608</td>\n",
       "      <td>-0.221558</td>\n",
       "      <td>-0.114166</td>\n",
       "      <td>-0.139167</td>\n",
       "    </tr>\n",
       "    <tr>\n",
       "      <th>106</th>\n",
       "      <td>-0.235608</td>\n",
       "      <td>-0.098350</td>\n",
       "      <td>-0.114166</td>\n",
       "      <td>-0.139167</td>\n",
       "    </tr>\n",
       "    <tr>\n",
       "      <th>504</th>\n",
       "      <td>-0.235608</td>\n",
       "      <td>-0.221558</td>\n",
       "      <td>-0.114166</td>\n",
       "      <td>-0.139167</td>\n",
       "    </tr>\n",
       "    <tr>\n",
       "      <th>394</th>\n",
       "      <td>-0.235608</td>\n",
       "      <td>-0.221558</td>\n",
       "      <td>-0.114166</td>\n",
       "      <td>-0.139167</td>\n",
       "    </tr>\n",
       "    <tr>\n",
       "      <th>26</th>\n",
       "      <td>-0.218370</td>\n",
       "      <td>-0.197093</td>\n",
       "      <td>-0.114166</td>\n",
       "      <td>-0.139167</td>\n",
       "    </tr>\n",
       "    <tr>\n",
       "      <th>...</th>\n",
       "      <td>...</td>\n",
       "      <td>...</td>\n",
       "      <td>...</td>\n",
       "      <td>...</td>\n",
       "    </tr>\n",
       "    <tr>\n",
       "      <th>685</th>\n",
       "      <td>-0.214674</td>\n",
       "      <td>-0.220555</td>\n",
       "      <td>-0.113268</td>\n",
       "      <td>-0.139167</td>\n",
       "    </tr>\n",
       "    <tr>\n",
       "      <th>683</th>\n",
       "      <td>0.720518</td>\n",
       "      <td>-0.195713</td>\n",
       "      <td>0.611633</td>\n",
       "      <td>0.683476</td>\n",
       "    </tr>\n",
       "    <tr>\n",
       "      <th>128</th>\n",
       "      <td>-0.174013</td>\n",
       "      <td>-0.162213</td>\n",
       "      <td>0.486431</td>\n",
       "      <td>0.312952</td>\n",
       "    </tr>\n",
       "    <tr>\n",
       "      <th>510</th>\n",
       "      <td>-0.234388</td>\n",
       "      <td>-0.221558</td>\n",
       "      <td>-0.090586</td>\n",
       "      <td>-0.139167</td>\n",
       "    </tr>\n",
       "    <tr>\n",
       "      <th>172</th>\n",
       "      <td>0.071182</td>\n",
       "      <td>-0.221308</td>\n",
       "      <td>-0.066090</td>\n",
       "      <td>-0.112943</td>\n",
       "    </tr>\n",
       "  </tbody>\n",
       "</table>\n",
       "<p>838 rows × 4 columns</p>\n",
       "</div>"
      ],
      "text/plain": [
       "     scale__biofuel_electricity  scale__hydro_electricity  \\\n",
       "744                   -0.235608                 -0.221558   \n",
       "106                   -0.235608                 -0.098350   \n",
       "504                   -0.235608                 -0.221558   \n",
       "394                   -0.235608                 -0.221558   \n",
       "26                    -0.218370                 -0.197093   \n",
       "..                          ...                       ...   \n",
       "685                   -0.214674                 -0.220555   \n",
       "683                    0.720518                 -0.195713   \n",
       "128                   -0.174013                 -0.162213   \n",
       "510                   -0.234388                 -0.221558   \n",
       "172                    0.071182                 -0.221308   \n",
       "\n",
       "     scale__solar_electricity  scale__wind_electricity  \n",
       "744                 -0.114166                -0.139167  \n",
       "106                 -0.114166                -0.139167  \n",
       "504                 -0.114166                -0.139167  \n",
       "394                 -0.114166                -0.139167  \n",
       "26                  -0.114166                -0.139167  \n",
       "..                        ...                      ...  \n",
       "685                 -0.113268                -0.139167  \n",
       "683                  0.611633                 0.683476  \n",
       "128                  0.486431                 0.312952  \n",
       "510                 -0.090586                -0.139167  \n",
       "172                 -0.066090                -0.112943  \n",
       "\n",
       "[838 rows x 4 columns]"
      ]
     },
     "execution_count": 128,
     "metadata": {},
     "output_type": "execute_result"
    }
   ],
   "source": [
    "X_test"
   ]
  },
  {
   "cell_type": "code",
   "execution_count": 129,
   "id": "d8b95633",
   "metadata": {},
   "outputs": [
    {
     "data": {
      "text/html": [
       "<div>\n",
       "<style scoped>\n",
       "    .dataframe tbody tr th:only-of-type {\n",
       "        vertical-align: middle;\n",
       "    }\n",
       "\n",
       "    .dataframe tbody tr th {\n",
       "        vertical-align: top;\n",
       "    }\n",
       "\n",
       "    .dataframe thead th {\n",
       "        text-align: right;\n",
       "    }\n",
       "</style>\n",
       "<table border=\"1\" class=\"dataframe\">\n",
       "  <thead>\n",
       "    <tr style=\"text-align: right;\">\n",
       "      <th></th>\n",
       "      <th>remainder__GDP_per_capita</th>\n",
       "    </tr>\n",
       "  </thead>\n",
       "  <tbody>\n",
       "    <tr>\n",
       "      <th>744</th>\n",
       "      <td>31657.763247</td>\n",
       "    </tr>\n",
       "    <tr>\n",
       "      <th>106</th>\n",
       "      <td>3193.259737</td>\n",
       "    </tr>\n",
       "    <tr>\n",
       "      <th>504</th>\n",
       "      <td>21713.538050</td>\n",
       "    </tr>\n",
       "    <tr>\n",
       "      <th>394</th>\n",
       "      <td>2261.699865</td>\n",
       "    </tr>\n",
       "    <tr>\n",
       "      <th>26</th>\n",
       "      <td>2017.394606</td>\n",
       "    </tr>\n",
       "    <tr>\n",
       "      <th>...</th>\n",
       "      <td>...</td>\n",
       "    </tr>\n",
       "    <tr>\n",
       "      <th>685</th>\n",
       "      <td>5733.352611</td>\n",
       "    </tr>\n",
       "    <tr>\n",
       "      <th>683</th>\n",
       "      <td>14437.213791</td>\n",
       "    </tr>\n",
       "    <tr>\n",
       "      <th>128</th>\n",
       "      <td>18382.157564</td>\n",
       "    </tr>\n",
       "    <tr>\n",
       "      <th>510</th>\n",
       "      <td>26988.999838</td>\n",
       "    </tr>\n",
       "    <tr>\n",
       "      <th>172</th>\n",
       "      <td>19769.147870</td>\n",
       "    </tr>\n",
       "  </tbody>\n",
       "</table>\n",
       "<p>838 rows × 1 columns</p>\n",
       "</div>"
      ],
      "text/plain": [
       "     remainder__GDP_per_capita\n",
       "744               31657.763247\n",
       "106                3193.259737\n",
       "504               21713.538050\n",
       "394                2261.699865\n",
       "26                 2017.394606\n",
       "..                         ...\n",
       "685                5733.352611\n",
       "683               14437.213791\n",
       "128               18382.157564\n",
       "510               26988.999838\n",
       "172               19769.147870\n",
       "\n",
       "[838 rows x 1 columns]"
      ]
     },
     "execution_count": 129,
     "metadata": {},
     "output_type": "execute_result"
    }
   ],
   "source": [
    "y_test\n"
   ]
  },
  {
   "cell_type": "code",
   "execution_count": 130,
   "id": "89e906ea",
   "metadata": {},
   "outputs": [],
   "source": [
    "model = sm.OLS(y_train,X_train).fit()"
   ]
  },
  {
   "cell_type": "code",
   "execution_count": 131,
   "id": "d7bcb062",
   "metadata": {},
   "outputs": [],
   "source": [
    "# Your predictions\n",
    "y_pred = model.predict(X_test)"
   ]
  },
  {
   "cell_type": "code",
   "execution_count": 132,
   "id": "3ec60dd6",
   "metadata": {},
   "outputs": [
    {
     "data": {
      "text/html": [
       "<div>\n",
       "<style scoped>\n",
       "    .dataframe tbody tr th:only-of-type {\n",
       "        vertical-align: middle;\n",
       "    }\n",
       "\n",
       "    .dataframe tbody tr th {\n",
       "        vertical-align: top;\n",
       "    }\n",
       "\n",
       "    .dataframe thead th {\n",
       "        text-align: right;\n",
       "    }\n",
       "</style>\n",
       "<table border=\"1\" class=\"dataframe\">\n",
       "  <thead>\n",
       "    <tr style=\"text-align: right;\">\n",
       "      <th></th>\n",
       "      <th>0</th>\n",
       "    </tr>\n",
       "  </thead>\n",
       "  <tbody>\n",
       "    <tr>\n",
       "      <th>744</th>\n",
       "      <td>-955.407821</td>\n",
       "    </tr>\n",
       "    <tr>\n",
       "      <th>106</th>\n",
       "      <td>-1147.114714</td>\n",
       "    </tr>\n",
       "    <tr>\n",
       "      <th>504</th>\n",
       "      <td>-955.407821</td>\n",
       "    </tr>\n",
       "    <tr>\n",
       "      <th>394</th>\n",
       "      <td>-955.407821</td>\n",
       "    </tr>\n",
       "    <tr>\n",
       "      <th>26</th>\n",
       "      <td>-881.061065</td>\n",
       "    </tr>\n",
       "    <tr>\n",
       "      <th>...</th>\n",
       "      <td>...</td>\n",
       "    </tr>\n",
       "    <tr>\n",
       "      <th>685</th>\n",
       "      <td>-823.606594</td>\n",
       "    </tr>\n",
       "    <tr>\n",
       "      <th>683</th>\n",
       "      <td>3663.448498</td>\n",
       "    </tr>\n",
       "    <tr>\n",
       "      <th>128</th>\n",
       "      <td>-2221.514437</td>\n",
       "    </tr>\n",
       "    <tr>\n",
       "      <th>510</th>\n",
       "      <td>-1030.357797</td>\n",
       "    </tr>\n",
       "    <tr>\n",
       "      <th>172</th>\n",
       "      <td>906.972839</td>\n",
       "    </tr>\n",
       "  </tbody>\n",
       "</table>\n",
       "<p>838 rows × 1 columns</p>\n",
       "</div>"
      ],
      "text/plain": [
       "               0\n",
       "744  -955.407821\n",
       "106 -1147.114714\n",
       "504  -955.407821\n",
       "394  -955.407821\n",
       "26   -881.061065\n",
       "..           ...\n",
       "685  -823.606594\n",
       "683  3663.448498\n",
       "128 -2221.514437\n",
       "510 -1030.357797\n",
       "172   906.972839\n",
       "\n",
       "[838 rows x 1 columns]"
      ]
     },
     "execution_count": 132,
     "metadata": {},
     "output_type": "execute_result"
    }
   ],
   "source": [
    "y_pred=pd.DataFrame(y_pred)\n",
    "y_pred"
   ]
  },
  {
   "cell_type": "code",
   "execution_count": 133,
   "id": "fd6f43fa",
   "metadata": {},
   "outputs": [
    {
     "data": {
      "text/html": [
       "<div>\n",
       "<style scoped>\n",
       "    .dataframe tbody tr th:only-of-type {\n",
       "        vertical-align: middle;\n",
       "    }\n",
       "\n",
       "    .dataframe tbody tr th {\n",
       "        vertical-align: top;\n",
       "    }\n",
       "\n",
       "    .dataframe thead th {\n",
       "        text-align: right;\n",
       "    }\n",
       "</style>\n",
       "<table border=\"1\" class=\"dataframe\">\n",
       "  <thead>\n",
       "    <tr style=\"text-align: right;\">\n",
       "      <th></th>\n",
       "      <th>remainder__GDP_per_capita</th>\n",
       "    </tr>\n",
       "  </thead>\n",
       "  <tbody>\n",
       "    <tr>\n",
       "      <th>744</th>\n",
       "      <td>31657.763247</td>\n",
       "    </tr>\n",
       "    <tr>\n",
       "      <th>106</th>\n",
       "      <td>3193.259737</td>\n",
       "    </tr>\n",
       "    <tr>\n",
       "      <th>504</th>\n",
       "      <td>21713.538050</td>\n",
       "    </tr>\n",
       "    <tr>\n",
       "      <th>394</th>\n",
       "      <td>2261.699865</td>\n",
       "    </tr>\n",
       "    <tr>\n",
       "      <th>26</th>\n",
       "      <td>2017.394606</td>\n",
       "    </tr>\n",
       "    <tr>\n",
       "      <th>...</th>\n",
       "      <td>...</td>\n",
       "    </tr>\n",
       "    <tr>\n",
       "      <th>685</th>\n",
       "      <td>5733.352611</td>\n",
       "    </tr>\n",
       "    <tr>\n",
       "      <th>683</th>\n",
       "      <td>14437.213791</td>\n",
       "    </tr>\n",
       "    <tr>\n",
       "      <th>128</th>\n",
       "      <td>18382.157564</td>\n",
       "    </tr>\n",
       "    <tr>\n",
       "      <th>510</th>\n",
       "      <td>26988.999838</td>\n",
       "    </tr>\n",
       "    <tr>\n",
       "      <th>172</th>\n",
       "      <td>19769.147870</td>\n",
       "    </tr>\n",
       "  </tbody>\n",
       "</table>\n",
       "<p>838 rows × 1 columns</p>\n",
       "</div>"
      ],
      "text/plain": [
       "     remainder__GDP_per_capita\n",
       "744               31657.763247\n",
       "106                3193.259737\n",
       "504               21713.538050\n",
       "394                2261.699865\n",
       "26                 2017.394606\n",
       "..                         ...\n",
       "685                5733.352611\n",
       "683               14437.213791\n",
       "128               18382.157564\n",
       "510               26988.999838\n",
       "172               19769.147870\n",
       "\n",
       "[838 rows x 1 columns]"
      ]
     },
     "execution_count": 133,
     "metadata": {},
     "output_type": "execute_result"
    }
   ],
   "source": [
    "y_test"
   ]
  },
  {
   "cell_type": "code",
   "execution_count": 134,
   "id": "0f630c3b",
   "metadata": {},
   "outputs": [
    {
     "data": {
      "text/plain": [
       "<matplotlib.legend.Legend at 0x7f70a9bb1f00>"
      ]
     },
     "execution_count": 134,
     "metadata": {},
     "output_type": "execute_result"
    },
    {
     "data": {
      "image/png": "[encoded data removed]",
      "text/plain": [
       "<Figure size 1000x500 with 1 Axes>"
      ]
     },
     "metadata": {},
     "output_type": "display_data"
    }
   ],
   "source": [
    "plt.figure(figsize = (10,5))\n",
    "sns.kdeplot(y_test['remainder__GDP_per_capita'], label = 'true')\n",
    "sns.kdeplot(y_pred[0], label = 'pred')\n",
    "plt.xlim(xmax=10e4)\n",
    "plt.legend()"
   ]
  },
  {
   "cell_type": "markdown",
   "id": "41f9d408",
   "metadata": {},
   "source": [
    "## Train with a linear regression model"
   ]
  },
  {
   "cell_type": "code",
   "execution_count": 135,
   "id": "aa5fc1b5",
   "metadata": {},
   "outputs": [
    {
     "data": {
      "text/html": [
       "<style>#sk-container-id-14 {color: black;background-color: white;}#sk-container-id-14 pre{padding: 0;}#sk-container-id-14 div.sk-toggleable {background-color: white;}#sk-container-id-14 label.sk-toggleable__label {cursor: pointer;display: block;width: 100%;margin-bottom: 0;padding: 0.3em;box-sizing: border-box;text-align: center;}#sk-container-id-14 label.sk-toggleable__label-arrow:before {content: \"▸\";float: left;margin-right: 0.25em;color: #696969;}#sk-container-id-14 label.sk-toggleable__label-arrow:hover:before {color: black;}#sk-container-id-14 div.sk-estimator:hover label.sk-toggleable__label-arrow:before {color: black;}#sk-container-id-14 div.sk-toggleable__content {max-height: 0;max-width: 0;overflow: hidden;text-align: left;background-color: #f0f8ff;}#sk-container-id-14 div.sk-toggleable__content pre {margin: 0.2em;color: black;border-radius: 0.25em;background-color: #f0f8ff;}#sk-container-id-14 input.sk-toggleable__control:checked~div.sk-toggleable__content {max-height: 200px;max-width: 100%;overflow: auto;}#sk-container-id-14 input.sk-toggleable__control:checked~label.sk-toggleable__label-arrow:before {content: \"▾\";}#sk-container-id-14 div.sk-estimator input.sk-toggleable__control:checked~label.sk-toggleable__label {background-color: #d4ebff;}#sk-container-id-14 div.sk-label input.sk-toggleable__control:checked~label.sk-toggleable__label {background-color: #d4ebff;}#sk-container-id-14 input.sk-hidden--visually {border: 0;clip: rect(1px 1px 1px 1px);clip: rect(1px, 1px, 1px, 1px);height: 1px;margin: -1px;overflow: hidden;padding: 0;position: absolute;width: 1px;}#sk-container-id-14 div.sk-estimator {font-family: monospace;background-color: #f0f8ff;border: 1px dotted black;border-radius: 0.25em;box-sizing: border-box;margin-bottom: 0.5em;}#sk-container-id-14 div.sk-estimator:hover {background-color: #d4ebff;}#sk-container-id-14 div.sk-parallel-item::after {content: \"\";width: 100%;border-bottom: 1px solid gray;flex-grow: 1;}#sk-container-id-14 div.sk-label:hover label.sk-toggleable__label {background-color: #d4ebff;}#sk-container-id-14 div.sk-serial::before {content: \"\";position: absolute;border-left: 1px solid gray;box-sizing: border-box;top: 0;bottom: 0;left: 50%;z-index: 0;}#sk-container-id-14 div.sk-serial {display: flex;flex-direction: column;align-items: center;background-color: white;padding-right: 0.2em;padding-left: 0.2em;position: relative;}#sk-container-id-14 div.sk-item {position: relative;z-index: 1;}#sk-container-id-14 div.sk-parallel {display: flex;align-items: stretch;justify-content: center;background-color: white;position: relative;}#sk-container-id-14 div.sk-item::before, #sk-container-id-14 div.sk-parallel-item::before {content: \"\";position: absolute;border-left: 1px solid gray;box-sizing: border-box;top: 0;bottom: 0;left: 50%;z-index: -1;}#sk-container-id-14 div.sk-parallel-item {display: flex;flex-direction: column;z-index: 1;position: relative;background-color: white;}#sk-container-id-14 div.sk-parallel-item:first-child::after {align-self: flex-end;width: 50%;}#sk-container-id-14 div.sk-parallel-item:last-child::after {align-self: flex-start;width: 50%;}#sk-container-id-14 div.sk-parallel-item:only-child::after {width: 0;}#sk-container-id-14 div.sk-dashed-wrapped {border: 1px dashed gray;margin: 0 0.4em 0.5em 0.4em;box-sizing: border-box;padding-bottom: 0.4em;background-color: white;}#sk-container-id-14 div.sk-label label {font-family: monospace;font-weight: bold;display: inline-block;line-height: 1.2em;}#sk-container-id-14 div.sk-label-container {text-align: center;}#sk-container-id-14 div.sk-container {/* jupyter's `normalize.less` sets `[hidden] { display: none; }` but bootstrap.min.css set `[hidden] { display: none !important; }` so we also need the `!important` here to be able to override the default hidden behavior on the sphinx rendered scikit-learn.org. See: https://github.com/scikit-learn/scikit-learn/issues/21755 */display: inline-block !important;position: relative;}#sk-container-id-14 div.sk-text-repr-fallback {display: none;}</style><div id=\"sk-container-id-14\" class=\"sk-top-container\"><div class=\"sk-text-repr-fallback\"><pre>LinearRegression()</pre><b>In a Jupyter environment, please rerun this cell to show the HTML representation or trust the notebook. <br />On GitHub, the HTML representation is unable to render, please try loading this page with nbviewer.org.</b></div><div class=\"sk-container\" hidden><div class=\"sk-item\"><div class=\"sk-estimator sk-toggleable\"><input class=\"sk-toggleable__control sk-hidden--visually\" id=\"sk-estimator-id-14\" type=\"checkbox\" checked><label for=\"sk-estimator-id-14\" class=\"sk-toggleable__label sk-toggleable__label-arrow\">LinearRegression</label><div class=\"sk-toggleable__content\"><pre>LinearRegression()</pre></div></div></div></div></div>"
      ],
      "text/plain": [
       "LinearRegression()"
      ]
     },
     "execution_count": 135,
     "metadata": {},
     "output_type": "execute_result"
    }
   ],
   "source": [
    "model = LinearRegression()\n",
    "\n",
    "X_train = full_cleaned_final[['scale__biofuel_electricity','scale__hydro_electricity','scale__solar_electricity','scale__wind_electricity']]\n",
    "y_train = full_cleaned_final[['remainder__GDP_per_capita']]\n",
    "\n",
    "# Train the model on the data\n",
    "model.fit(X_train, y_train)"
   ]
  },
  {
   "cell_type": "code",
   "execution_count": 136,
   "id": "c5f045e5",
   "metadata": {},
   "outputs": [
    {
     "data": {
      "text/plain": [
       "0.04599587650470627"
      ]
     },
     "execution_count": 136,
     "metadata": {},
     "output_type": "execute_result"
    }
   ],
   "source": [
    "model.score(X_test,y_test)"
   ]
  },
  {
   "cell_type": "code",
   "execution_count": 161,
   "id": "d92f6a28",
   "metadata": {},
   "outputs": [
    {
     "data": {
      "text/html": [
       "<style>#sk-container-id-19 {color: black;background-color: white;}#sk-container-id-19 pre{padding: 0;}#sk-container-id-19 div.sk-toggleable {background-color: white;}#sk-container-id-19 label.sk-toggleable__label {cursor: pointer;display: block;width: 100%;margin-bottom: 0;padding: 0.3em;box-sizing: border-box;text-align: center;}#sk-container-id-19 label.sk-toggleable__label-arrow:before {content: \"▸\";float: left;margin-right: 0.25em;color: #696969;}#sk-container-id-19 label.sk-toggleable__label-arrow:hover:before {color: black;}#sk-container-id-19 div.sk-estimator:hover label.sk-toggleable__label-arrow:before {color: black;}#sk-container-id-19 div.sk-toggleable__content {max-height: 0;max-width: 0;overflow: hidden;text-align: left;background-color: #f0f8ff;}#sk-container-id-19 div.sk-toggleable__content pre {margin: 0.2em;color: black;border-radius: 0.25em;background-color: #f0f8ff;}#sk-container-id-19 input.sk-toggleable__control:checked~div.sk-toggleable__content {max-height: 200px;max-width: 100%;overflow: auto;}#sk-container-id-19 input.sk-toggleable__control:checked~label.sk-toggleable__label-arrow:before {content: \"▾\";}#sk-container-id-19 div.sk-estimator input.sk-toggleable__control:checked~label.sk-toggleable__label {background-color: #d4ebff;}#sk-container-id-19 div.sk-label input.sk-toggleable__control:checked~label.sk-toggleable__label {background-color: #d4ebff;}#sk-container-id-19 input.sk-hidden--visually {border: 0;clip: rect(1px 1px 1px 1px);clip: rect(1px, 1px, 1px, 1px);height: 1px;margin: -1px;overflow: hidden;padding: 0;position: absolute;width: 1px;}#sk-container-id-19 div.sk-estimator {font-family: monospace;background-color: #f0f8ff;border: 1px dotted black;border-radius: 0.25em;box-sizing: border-box;margin-bottom: 0.5em;}#sk-container-id-19 div.sk-estimator:hover {background-color: #d4ebff;}#sk-container-id-19 div.sk-parallel-item::after {content: \"\";width: 100%;border-bottom: 1px solid gray;flex-grow: 1;}#sk-container-id-19 div.sk-label:hover label.sk-toggleable__label {background-color: #d4ebff;}#sk-container-id-19 div.sk-serial::before {content: \"\";position: absolute;border-left: 1px solid gray;box-sizing: border-box;top: 0;bottom: 0;left: 50%;z-index: 0;}#sk-container-id-19 div.sk-serial {display: flex;flex-direction: column;align-items: center;background-color: white;padding-right: 0.2em;padding-left: 0.2em;position: relative;}#sk-container-id-19 div.sk-item {position: relative;z-index: 1;}#sk-container-id-19 div.sk-parallel {display: flex;align-items: stretch;justify-content: center;background-color: white;position: relative;}#sk-container-id-19 div.sk-item::before, #sk-container-id-19 div.sk-parallel-item::before {content: \"\";position: absolute;border-left: 1px solid gray;box-sizing: border-box;top: 0;bottom: 0;left: 50%;z-index: -1;}#sk-container-id-19 div.sk-parallel-item {display: flex;flex-direction: column;z-index: 1;position: relative;background-color: white;}#sk-container-id-19 div.sk-parallel-item:first-child::after {align-self: flex-end;width: 50%;}#sk-container-id-19 div.sk-parallel-item:last-child::after {align-self: flex-start;width: 50%;}#sk-container-id-19 div.sk-parallel-item:only-child::after {width: 0;}#sk-container-id-19 div.sk-dashed-wrapped {border: 1px dashed gray;margin: 0 0.4em 0.5em 0.4em;box-sizing: border-box;padding-bottom: 0.4em;background-color: white;}#sk-container-id-19 div.sk-label label {font-family: monospace;font-weight: bold;display: inline-block;line-height: 1.2em;}#sk-container-id-19 div.sk-label-container {text-align: center;}#sk-container-id-19 div.sk-container {/* jupyter's `normalize.less` sets `[hidden] { display: none; }` but bootstrap.min.css set `[hidden] { display: none !important; }` so we also need the `!important` here to be able to override the default hidden behavior on the sphinx rendered scikit-learn.org. See: https://github.com/scikit-learn/scikit-learn/issues/21755 */display: inline-block !important;position: relative;}#sk-container-id-19 div.sk-text-repr-fallback {display: none;}</style><div id=\"sk-container-id-19\" class=\"sk-top-container\"><div class=\"sk-text-repr-fallback\"><pre>LinearRegression()</pre><b>In a Jupyter environment, please rerun this cell to show the HTML representation or trust the notebook. <br />On GitHub, the HTML representation is unable to render, please try loading this page with nbviewer.org.</b></div><div class=\"sk-container\" hidden><div class=\"sk-item\"><div class=\"sk-estimator sk-toggleable\"><input class=\"sk-toggleable__control sk-hidden--visually\" id=\"sk-estimator-id-19\" type=\"checkbox\" checked><label for=\"sk-estimator-id-19\" class=\"sk-toggleable__label sk-toggleable__label-arrow\">LinearRegression</label><div class=\"sk-toggleable__content\"><pre>LinearRegression()</pre></div></div></div></div></div>"
      ],
      "text/plain": [
       "LinearRegression()"
      ]
     },
     "execution_count": 161,
     "metadata": {},
     "output_type": "execute_result"
    }
   ],
   "source": [
    "from sklearn.preprocessing import PolynomialFeatures\n",
    "Poly_model = PolynomialFeatures(degree=3)\n",
    "X_poly = Poly_model.fit_transform(X_train)\n",
    "model = LinearRegression()\n",
    "model.fit(X_poly,y_train)\n"
   ]
  },
  {
   "cell_type": "code",
   "execution_count": 162,
   "id": "1388afed",
   "metadata": {},
   "outputs": [],
   "source": [
    "y_pred = model.predict(X_poly)"
   ]
  },
  {
   "cell_type": "code",
   "execution_count": 163,
   "id": "956ccb4b",
   "metadata": {},
   "outputs": [
    {
     "data": {
      "text/plain": [
       "0.14159036349727994"
      ]
     },
     "execution_count": 163,
     "metadata": {},
     "output_type": "execute_result"
    }
   ],
   "source": [
    "from sklearn.metrics import r2_score\n",
    "r2_score(y_train,y_pred)\n"
   ]
  },
  {
   "cell_type": "code",
   "execution_count": 164,
   "id": "47427b5f",
   "metadata": {},
   "outputs": [],
   "source": [
    "X_test_poly = Poly_model.transform(X_test)"
   ]
  },
  {
   "cell_type": "code",
   "execution_count": 165,
   "id": "c4e4338b",
   "metadata": {},
   "outputs": [
    {
     "data": {
      "text/plain": [
       "0.1279389677945486"
      ]
     },
     "execution_count": 165,
     "metadata": {},
     "output_type": "execute_result"
    }
   ],
   "source": [
    "y_test_pred = model.predict(X_test_poly)\n",
    "r2_score(y_test,y_test_pred)"
   ]
  },
  {
   "cell_type": "code",
   "execution_count": 166,
   "id": "bdef2ccb",
   "metadata": {},
   "outputs": [],
   "source": [
    "from statsmodels.stats.outliers_influence import variance_inflation_factor"
   ]
  },
  {
   "cell_type": "code",
   "execution_count": 167,
   "id": "f3ec76b0",
   "metadata": {},
   "outputs": [
    {
     "name": "stdout",
     "output_type": "stream",
     "text": [
      "                    variables       VIF\n",
      "0  scale__biofuel_electricity  3.658673\n",
      "1    scale__hydro_electricity  2.276375\n",
      "2    scale__solar_electricity  5.924429\n",
      "3     scale__wind_electricity  8.687902\n"
     ]
    }
   ],
   "source": [
    "vif = pd.DataFrame()\n",
    "vif[\"variables\"] = X_train.columns\n",
    "vif[\"VIF\"] = [variance_inflation_factor(X_train.values, i) for i in range(X_train.shape[1])]\n",
    "\n",
    "# Print the VIF scores\n",
    "print(vif)"
   ]
  },
  {
   "cell_type": "markdown",
   "id": "ec534cb4",
   "metadata": {},
   "source": [
    "## Same process with the base model"
   ]
  },
  {
   "cell_type": "code",
   "execution_count": null,
   "id": "ec36b7b1",
   "metadata": {},
   "outputs": [],
   "source": [
    "full_cleaned_base=pd.read_csv('full_cleaned_final.csv')"
   ]
  },
  {
   "cell_type": "code",
   "execution_count": null,
   "id": "7fc2b230",
   "metadata": {},
   "outputs": [],
   "source": [
    "modelb1 = smf.ols(formula = 'remainder__GDP_per_capita ~ scale__biofuel_electricity', data=full_cleaned_base).fit()\n",
    "\n",
    "print(modelb1.params)"
   ]
  },
  {
   "cell_type": "code",
   "execution_count": null,
   "id": "504304df",
   "metadata": {},
   "outputs": [],
   "source": [
    "modelb2 = smf.ols(formula = 'remainder__GDP_per_capita ~ scale__hydro_electricity', data=full_cleaned_base).fit()\n",
    "\n",
    "print(modelb2.params)"
   ]
  },
  {
   "cell_type": "code",
   "execution_count": null,
   "id": "be8ba89c",
   "metadata": {},
   "outputs": [],
   "source": []
  }
 ],
 "metadata": {
  "kernelspec": {
   "display_name": "Python 3 (ipykernel)",
   "language": "python",
   "name": "python3"
  },
  "language_info": {
   "codemirror_mode": {
    "name": "ipython",
    "version": 3
   },
   "file_extension": ".py",
   "mimetype": "text/x-python",
   "name": "python",
   "nbconvert_exporter": "python",
   "pygments_lexer": "ipython3",
   "version": "3.10.6"
  },
  "toc": {
   "base_numbering": 1,
   "nav_menu": {},
   "number_sections": true,
   "sideBar": true,
   "skip_h1_title": false,
   "title_cell": "Table of Contents",
   "title_sidebar": "Contents",
   "toc_cell": false,
   "toc_position": {},
   "toc_section_display": true,
   "toc_window_display": false
  }
 },
 "nbformat": 4,
 "nbformat_minor": 5
}
